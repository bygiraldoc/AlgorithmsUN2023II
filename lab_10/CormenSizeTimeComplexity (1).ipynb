{
  "nbformat": 4,
  "nbformat_minor": 0,
  "metadata": {
    "colab": {
      "provenance": []
    },
    "kernelspec": {
      "name": "python3",
      "display_name": "Python 3"
    },
    "language_info": {
      "name": "python"
    }
  },
  "cells": [
    {
      "cell_type": "markdown",
      "metadata": {
        "id": "yCCsCOW2OQbQ"
      },
      "source": [
        "# 1.(10  nanoseconds by instruction)\n",
        "\n",
        "Asuuming that you can execute a 100 million instructions $100 \\times 10^6$ every second, i.e. each instrcution takes 10 nanoseconds, 10 $\\eta s  = 10^{-8} s $. If you have algorithms take $\\bf{ Time\\ Complexity}$ steps to solve a poblem of size $n$ as specified in column one. What is the size of the largest porblem that you can solve in the time specified in row one?\n",
        "$$\n",
        "\\begin{array}{|c|c|c|c|c|c|c|c|}\n",
        " \\hline\n",
        " \\bf{ Time\\ Complexity} & Second  & Minute  & Hour & Day & Year & Century & Mileniun  \\\\\n",
        "  \\hline\\\\\n",
        "\\lg(n) &  1.5499*10^{43429448}  &  10^{10^{7.637784329081833}} & 10^{10^{7.637784346863344}} & 10^{10^{7.637784360665457}} & 10^{10^{7.637784386288381}} & 10^{10^{7.637784406288376}} & 10^{10^{7.637784416288373}} \\\\\n",
        "   \\hline\\\\\n",
        "\\lg^2(n) &  8.8068*10^{4342}  & 5.28408*10^{4344} & 3.170448*10^{4346} & 7.6090752*10^4347 & 2.777312*10^{4350} & 2.777312*10^{4352} & 2.777312*10^{4351} \\\\\n",
        "   \\hline\\\\\n",
        "\\sqrt{n} &  10^{16}  &  6*10^{17} & 3.6*10^{19} & 8.64*10^{20} & 3.153610^{23} & 3.153610^{25} & 3.153610^{26} \\\\\n",
        " \\hline\n",
        " n &  10^8  & 6*10^9 & 3.6*10^{11} & 8.64*10^{12} & 3.1536*10^{15} & 3.1536*10^{17} & 3.1536*10^{18} \\\\\n",
        " \\hline\n",
        " n\\lg(n) &  6.38203*10^6  &  3.829210*10^8 & 2.2975308*10^{10} & 5.51407392* 10^{11} & 2.0126369808*10^{14} & 2.0126369808*10^{16} & 2.0126369808*10^{17} \\\\\n",
        " \\hline\n",
        " n^2 &  10^4  &  6*10^5 & 3.6*10^7 & 8.64*10^8 & 3.1536*10^{11} & 3.1536*10^{13} & 3.1536*10^{14} \\\\\n",
        " \\hline\n",
        "  n^3 &  464  &  27840 & 1670400 & 4.00896*10^7 & 1.4632704*10^{10} & 1.4632704*10^{12} & 1.4632704*10^{13} \\\\\n",
        " \\hline\n",
        "  n^4 &  100  &  6000 & 360000 & 8640000 & 3.1536*10^9 & 3.1536*10^{11} & 3.1536*10^{12} \\\\\n",
        " \\hline\n",
        "  2^n &   27 &  1620 & 97200 & 2332800 & 8.51472*10^8 & 8.51472*10^{10} & 8.51472*10^{11} \\\\\n",
        " \\hline\n",
        " n! &   11 & 660  & 39600 & 950400 & 3.46896*10^8 & 3.46896*10^{10} & 3.46896*10^{11} \\\\\n",
        " \\hline\n",
        " n^n &  8 &  480 & 28800 & 691200 & 2.52288*10^8 & 2.52288*10^{10} & 2.52288*10^{11} \\\\\n",
        " \\hline\n",
        "\\end{array}\n",
        "$$"
      ]
    },
    {
      "cell_type": "markdown",
      "source": [],
      "metadata": {
        "id": "NBE2Cc9Bztkn"
      }
    }
  ]
}