{
  "cells": [
    {
      "cell_type": "code",
      "execution_count": null,
      "metadata": {
        "id": "im-VVd1__7VU",
        "colab": {
          "base_uri": "https://localhost:8080/"
        },
        "outputId": "0110dffc-dbe0-4cbb-a257-a4e1afc79373"
      },
      "outputs": [
        {
          "output_type": "stream",
          "name": "stdout",
          "text": [
            "processor\t: 0\n",
            "vendor_id\t: GenuineIntel\n",
            "cpu family\t: 6\n",
            "model\t\t: 79\n",
            "model name\t: Intel(R) Xeon(R) CPU @ 2.20GHz\n",
            "stepping\t: 0\n",
            "microcode\t: 0xffffffff\n",
            "cpu MHz\t\t: 2199.998\n",
            "cache size\t: 56320 KB\n",
            "physical id\t: 0\n",
            "siblings\t: 2\n",
            "core id\t\t: 0\n",
            "cpu cores\t: 1\n",
            "apicid\t\t: 0\n",
            "initial apicid\t: 0\n",
            "fpu\t\t: yes\n",
            "fpu_exception\t: yes\n",
            "cpuid level\t: 13\n",
            "wp\t\t: yes\n",
            "flags\t\t: fpu vme de pse tsc msr pae mce cx8 apic sep mtrr pge mca cmov pat pse36 clflush mmx fxsr sse sse2 ss ht syscall nx pdpe1gb rdtscp lm constant_tsc rep_good nopl xtopology nonstop_tsc cpuid tsc_known_freq pni pclmulqdq ssse3 fma cx16 pcid sse4_1 sse4_2 x2apic movbe popcnt aes xsave avx f16c rdrand hypervisor lahf_lm abm 3dnowprefetch invpcid_single ssbd ibrs ibpb stibp fsgsbase tsc_adjust bmi1 hle avx2 smep bmi2 erms invpcid rtm rdseed adx smap xsaveopt arat md_clear arch_capabilities\n",
            "bugs\t\t: cpu_meltdown spectre_v1 spectre_v2 spec_store_bypass l1tf mds swapgs taa mmio_stale_data retbleed\n",
            "bogomips\t: 4399.99\n",
            "clflush size\t: 64\n",
            "cache_alignment\t: 64\n",
            "address sizes\t: 46 bits physical, 48 bits virtual\n",
            "power management:\n",
            "\n",
            "processor\t: 1\n",
            "vendor_id\t: GenuineIntel\n",
            "cpu family\t: 6\n",
            "model\t\t: 79\n",
            "model name\t: Intel(R) Xeon(R) CPU @ 2.20GHz\n",
            "stepping\t: 0\n",
            "microcode\t: 0xffffffff\n",
            "cpu MHz\t\t: 2199.998\n",
            "cache size\t: 56320 KB\n",
            "physical id\t: 0\n",
            "siblings\t: 2\n",
            "core id\t\t: 0\n",
            "cpu cores\t: 1\n",
            "apicid\t\t: 1\n",
            "initial apicid\t: 1\n",
            "fpu\t\t: yes\n",
            "fpu_exception\t: yes\n",
            "cpuid level\t: 13\n",
            "wp\t\t: yes\n",
            "flags\t\t: fpu vme de pse tsc msr pae mce cx8 apic sep mtrr pge mca cmov pat pse36 clflush mmx fxsr sse sse2 ss ht syscall nx pdpe1gb rdtscp lm constant_tsc rep_good nopl xtopology nonstop_tsc cpuid tsc_known_freq pni pclmulqdq ssse3 fma cx16 pcid sse4_1 sse4_2 x2apic movbe popcnt aes xsave avx f16c rdrand hypervisor lahf_lm abm 3dnowprefetch invpcid_single ssbd ibrs ibpb stibp fsgsbase tsc_adjust bmi1 hle avx2 smep bmi2 erms invpcid rtm rdseed adx smap xsaveopt arat md_clear arch_capabilities\n",
            "bugs\t\t: cpu_meltdown spectre_v1 spectre_v2 spec_store_bypass l1tf mds swapgs taa mmio_stale_data retbleed\n",
            "bogomips\t: 4399.99\n",
            "clflush size\t: 64\n",
            "cache_alignment\t: 64\n",
            "address sizes\t: 46 bits physical, 48 bits virtual\n",
            "power management:\n",
            "\n"
          ]
        }
      ],
      "source": [
        "!cat /proc/cpuinfo"
      ]
    },
    {
      "cell_type": "markdown",
      "metadata": {
        "id": "N1ok_-56OjB1"
      },
      "source": [
        "# I Solving the Sum of Two Digits Programming Challenge"
      ]
    },
    {
      "cell_type": "markdown",
      "metadata": {
        "id": "MMY7kmDSO0KM"
      },
      "source": [
        "## C++"
      ]
    },
    {
      "cell_type": "code",
      "execution_count": null,
      "metadata": {
        "colab": {
          "base_uri": "https://localhost:8080/"
        },
        "id": "2pGGf9BkPNIk",
        "outputId": "9da56a56-5077-4333-c5c3-9da649a9ef6b"
      },
      "outputs": [
        {
          "output_type": "stream",
          "name": "stdout",
          "text": [
            "Writing APlusB.cpp\n"
          ]
        }
      ],
      "source": [
        "%%writefile APlusB.cpp\n",
        "#include <iostream>\n",
        "\n",
        "int sum_of_two_digits(int first_digit, int second_digit) {\n",
        "    return first_digit + second_digit;\n",
        "}\n",
        "\n",
        "int main() {\n",
        "    int a = 0;\n",
        "    int b = 0;\n",
        "    std::cin >> a;\n",
        "    std::cin >> b;\n",
        "    std::cout << sum_of_two_digits(a, b);\n",
        "    return 0;\n",
        "}"
      ]
    },
    {
      "cell_type": "code",
      "execution_count": null,
      "metadata": {
        "colab": {
          "base_uri": "https://localhost:8080/"
        },
        "id": "0G3ZKOYAPXSU",
        "outputId": "ad31d107-c68c-4352-96b9-d1b4e8c211a9"
      },
      "outputs": [
        {
          "output_type": "stream",
          "name": "stdout",
          "text": [
            "2\n",
            "3\n",
            "5"
          ]
        }
      ],
      "source": [
        "!g++ APlusB.cpp -o APlusB -std=c++11\n",
        "!./APlusB"
      ]
    },
    {
      "cell_type": "markdown",
      "metadata": {
        "id": "iNkG2HqfTl9c"
      },
      "source": [
        "### Test input output files"
      ]
    },
    {
      "cell_type": "code",
      "execution_count": null,
      "metadata": {
        "colab": {
          "base_uri": "https://localhost:8080/"
        },
        "id": "aTzU2efzMxly",
        "outputId": "b0ce0a32-9dfa-4cee-f8d8-c088c55061cd"
      },
      "outputs": [
        {
          "output_type": "stream",
          "name": "stdout",
          "text": [
            "Writing input1.txt\n"
          ]
        }
      ],
      "source": [
        "%%writefile input1.txt\n",
        "4 8"
      ]
    },
    {
      "cell_type": "code",
      "execution_count": null,
      "metadata": {
        "colab": {
          "base_uri": "https://localhost:8080/"
        },
        "id": "zBJ0Gc0NQRet",
        "outputId": "5f5454f6-de50-48ea-ef7a-ecf52ef75439"
      },
      "outputs": [
        {
          "output_type": "stream",
          "name": "stdout",
          "text": [
            "Writing output1.txt\n"
          ]
        }
      ],
      "source": [
        "%%writefile output1.txt\n",
        "12"
      ]
    },
    {
      "cell_type": "code",
      "execution_count": null,
      "metadata": {
        "colab": {
          "base_uri": "https://localhost:8080/"
        },
        "id": "IjEcIx63PJAN",
        "outputId": "7381ecad-2a14-4ad5-b846-0233a2a777bf"
      },
      "outputs": [
        {
          "output_type": "stream",
          "name": "stdout",
          "text": [
            "Writing input2.txt\n"
          ]
        }
      ],
      "source": [
        "%%writefile input2.txt\n",
        "0 9"
      ]
    },
    {
      "cell_type": "code",
      "execution_count": null,
      "metadata": {
        "colab": {
          "base_uri": "https://localhost:8080/"
        },
        "id": "Up9gOrxURTmd",
        "outputId": "dcf56c16-30c7-4dc8-cfa7-ba5d2235e8c9"
      },
      "outputs": [
        {
          "output_type": "stream",
          "name": "stdout",
          "text": [
            "Writing output2.txt\n"
          ]
        }
      ],
      "source": [
        "%%writefile output2.txt\n",
        "9"
      ]
    },
    {
      "cell_type": "code",
      "execution_count": null,
      "metadata": {
        "colab": {
          "base_uri": "https://localhost:8080/"
        },
        "id": "PST6G-s-Pwgc",
        "outputId": "d5cba0a8-5f17-4f03-8a61-a0827c2707d1"
      },
      "outputs": [
        {
          "output_type": "stream",
          "name": "stdout",
          "text": [
            "12"
          ]
        }
      ],
      "source": [
        "!./APlusB < input1.txt"
      ]
    },
    {
      "cell_type": "code",
      "execution_count": null,
      "metadata": {
        "colab": {
          "base_uri": "https://localhost:8080/"
        },
        "id": "cKxZOjSlRfIN",
        "outputId": "956dc7af-6066-473e-d658-3953ddaea694"
      },
      "outputs": [
        {
          "output_type": "stream",
          "name": "stdout",
          "text": [
            "9"
          ]
        }
      ],
      "source": [
        "!./APlusB < input2.txt"
      ]
    },
    {
      "cell_type": "markdown",
      "metadata": {
        "id": "Qw2TQWCCUwqk"
      },
      "source": [
        "### Comparing files with grep\n",
        "\n",
        "https://askubuntu.com/questions/546796/comparing-two-text-files"
      ]
    },
    {
      "cell_type": "code",
      "execution_count": null,
      "metadata": {
        "id": "WVIaAmMKU4QM"
      },
      "outputs": [],
      "source": [
        "!grep -xvFf output1.txt output1.txt"
      ]
    },
    {
      "cell_type": "code",
      "execution_count": null,
      "metadata": {
        "id": "MQU8gPPjQuYO",
        "colab": {
          "base_uri": "https://localhost:8080/"
        },
        "outputId": "bc4dc769-6e4b-4df4-8253-d044a474d67b"
      },
      "outputs": [
        {
          "output_type": "stream",
          "name": "stdout",
          "text": [
            "9\n"
          ]
        }
      ],
      "source": [
        "!grep -xvFf output1.txt output2.txt"
      ]
    },
    {
      "cell_type": "code",
      "execution_count": null,
      "metadata": {
        "colab": {
          "base_uri": "https://localhost:8080/"
        },
        "id": "jYL9OuYBTD_l",
        "outputId": "27e2e8e0-8a4e-423a-ef24-1fd1ab5a88dc"
      },
      "outputs": [
        {
          "output_type": "stream",
          "name": "stdout",
          "text": [
            "12\n"
          ]
        }
      ],
      "source": [
        "!grep -xvFf output2.txt output1.txt"
      ]
    },
    {
      "cell_type": "code",
      "execution_count": null,
      "metadata": {
        "id": "Jlja0Xm4TX9M"
      },
      "outputs": [],
      "source": [
        "!./APlusB < input1.txt> ctest1.txt\n",
        "!grep -xvFf output1.txt ctest1.txt"
      ]
    },
    {
      "cell_type": "code",
      "execution_count": null,
      "metadata": {
        "id": "g9OIUZA_QLCQ"
      },
      "outputs": [],
      "source": [
        "!./APlusB < input2.txt > ctest2.txt\n",
        "!grep -xvFf output2.txt ctest2.txt"
      ]
    },
    {
      "cell_type": "markdown",
      "metadata": {
        "id": "3BgOaDjUVJk6"
      },
      "source": [
        "## Python"
      ]
    },
    {
      "cell_type": "code",
      "execution_count": null,
      "metadata": {
        "colab": {
          "base_uri": "https://localhost:8080/"
        },
        "id": "DBvl-T0CTN_8",
        "outputId": "bfae2bf0-96c9-4266-9a27-06876f4ee319"
      },
      "outputs": [
        {
          "output_type": "stream",
          "name": "stdout",
          "text": [
            "Writing sum.py\n"
          ]
        }
      ],
      "source": [
        "%%writefile sum.py\n",
        "# python3\n",
        "\n",
        "def sum_of_two_digits(first_digit, second_digit):\n",
        "    return first_digit + second_digit\n",
        "\n",
        "if __name__ == '__main__':\n",
        "    a, b = map(int, input().split())\n",
        "    print(sum_of_two_digits(a, b))"
      ]
    },
    {
      "cell_type": "code",
      "execution_count": null,
      "metadata": {
        "colab": {
          "base_uri": "https://localhost:8080/"
        },
        "id": "QKoKM11_WGyF",
        "outputId": "9a715dd4-f9f3-49cb-aa27-3e4740c619e3"
      },
      "outputs": [
        {
          "output_type": "stream",
          "name": "stdout",
          "text": [
            "3 6\n",
            "9\n"
          ]
        }
      ],
      "source": [
        "!python sum.py"
      ]
    },
    {
      "cell_type": "code",
      "execution_count": null,
      "metadata": {
        "id": "cocFbPRTWrqt"
      },
      "outputs": [],
      "source": [
        "!python sum.py  < input1.txt> ptest1.txt\n",
        "!grep -xvFf output1.txt ptest1.txt"
      ]
    },
    {
      "cell_type": "code",
      "execution_count": null,
      "metadata": {
        "id": "MorKTa-XXASN"
      },
      "outputs": [],
      "source": [
        "!python sum.py  < input2.txt> ptest2.txt\n",
        "!grep -xvFf output2.txt ptest2.txt"
      ]
    },
    {
      "cell_type": "markdown",
      "metadata": {
        "id": "uvP-mOubW_5F"
      },
      "source": [
        "# II Solving The Maximum Pairwise Product Programming Challenge in C++"
      ]
    },
    {
      "cell_type": "markdown",
      "metadata": {
        "id": "C12yoFR6Xonl"
      },
      "source": [
        "## C++"
      ]
    },
    {
      "cell_type": "markdown",
      "source": [
        "ALGORITMO 1"
      ],
      "metadata": {
        "id": "WgtjIHe5xGJb"
      }
    },
    {
      "cell_type": "code",
      "source": [
        "%%writefile max_pairwise_product_full.cpp\n",
        "#include <iostream>\n",
        "#include <vector>\n",
        "#include <algorithm>\n",
        "\n",
        "int MaxPairwiseProduct(const std::vector<int>& numbers) {\n",
        "    int max_product = 0;\n",
        "    int aux_product = 0;\n",
        "    int n = numbers.size();\n",
        "\n",
        "    for (int first = 0; first < n; ++first) {\n",
        "        for (int second = 0; second < n; ++second) {\n",
        "          if ( first != second ){\n",
        "                aux_product = numbers[first] * numbers[second];\n",
        "                if (aux_product > max_product)  max_product = aux_product;\n",
        "          }\n",
        "        }\n",
        "    }\n",
        "\n",
        "    return max_product;\n",
        "}\n",
        "\n",
        "int main() {\n",
        "    int n;\n",
        "    std::cin >> n;\n",
        "    std::vector<int> numbers(n);\n",
        "    for (int i = 0; i < n; ++i) {\n",
        "        std::cin >> numbers[i];\n",
        "    }\n",
        "\n",
        "    std::cout << MaxPairwiseProduct(numbers) << \"\\n\";\n",
        "    return 0;\n",
        "}"
      ],
      "metadata": {
        "colab": {
          "base_uri": "https://localhost:8080/"
        },
        "id": "3LpfoGv2Ae81",
        "outputId": "0ec20fc7-af63-40f4-b59b-d02c3a4f2b4e"
      },
      "execution_count": null,
      "outputs": [
        {
          "output_type": "stream",
          "name": "stdout",
          "text": [
            "Writing max_pairwise_product_full.cpp\n"
          ]
        }
      ]
    },
    {
      "cell_type": "code",
      "source": [
        "!g++ max_pairwise_product_full.cpp -o max_pairwise_product_full\n",
        "!./max_pairwise_product_full"
      ],
      "metadata": {
        "id": "PCVo1h6nCF9k",
        "colab": {
          "base_uri": "https://localhost:8080/"
        },
        "outputId": "d80e0ed6-7b85-4c57-b8c9-b2ec54f7fb02"
      },
      "execution_count": null,
      "outputs": [
        {
          "output_type": "stream",
          "name": "stdout",
          "text": [
            "4\n",
            "3 4 5 6\n",
            "30\n"
          ]
        }
      ]
    },
    {
      "cell_type": "markdown",
      "metadata": {
        "id": "m75IQQPbEHBS"
      },
      "source": [
        "$$n^2 \\ \\text{first != second  comparisons},  n^2 - n \\ \\ \\text{numbers[first] * numbers[second] products},  O(n^2)$$"
      ]
    },
    {
      "cell_type": "markdown",
      "metadata": {
        "id": "e7KhxHGNS3i0"
      },
      "source": [
        "### Test 1: Small numbers"
      ]
    },
    {
      "cell_type": "code",
      "execution_count": null,
      "metadata": {
        "colab": {
          "base_uri": "https://localhost:8080/"
        },
        "id": "e1mmTzBgShT-",
        "outputId": "5f1d6df3-e464-445a-b152-8686f07389e8"
      },
      "outputs": [
        {
          "output_type": "stream",
          "name": "stdout",
          "text": [
            "Overwriting input1.txt\n"
          ]
        }
      ],
      "source": [
        "%%writefile input1.txt\n",
        "10\n",
        "1 2 3 4 5 6 7 8 9 10"
      ]
    },
    {
      "cell_type": "code",
      "execution_count": null,
      "metadata": {
        "colab": {
          "base_uri": "https://localhost:8080/"
        },
        "id": "vy_uI0x7TCId",
        "outputId": "c3a58b00-6ff4-4515-8505-4be6ebb3611a"
      },
      "outputs": [
        {
          "output_type": "stream",
          "name": "stdout",
          "text": [
            "90\n"
          ]
        }
      ],
      "source": [
        "!./max_pairwise_product_full < input1.txt"
      ]
    },
    {
      "cell_type": "code",
      "execution_count": null,
      "metadata": {
        "colab": {
          "base_uri": "https://localhost:8080/"
        },
        "id": "xaj6f9bxC6D6",
        "outputId": "32f17b99-5d40-4837-e71a-6601c451fd37"
      },
      "outputs": [
        {
          "output_type": "stream",
          "name": "stdout",
          "text": [
            "Overwriting output1.txt\n"
          ]
        }
      ],
      "source": [
        "%%writefile output1.txt\n",
        "90"
      ]
    },
    {
      "cell_type": "code",
      "execution_count": null,
      "metadata": {
        "id": "fYCjAdA_C-wy"
      },
      "outputs": [],
      "source": [
        "!./max_pairwise_product_full< input1.txt > ctest1.txt\n",
        "!grep -xvFf output1.txt ctest1.txt"
      ]
    },
    {
      "cell_type": "code",
      "source": [
        "%%writefile input2.txt\n",
        "10\n",
        "10 9 8 7 6 5 4 3 2 1"
      ],
      "metadata": {
        "colab": {
          "base_uri": "https://localhost:8080/"
        },
        "id": "ZPe40LY14_6f",
        "outputId": "dc9cfe2e-80da-4d7b-dc34-fa5e6966c5b4"
      },
      "execution_count": null,
      "outputs": [
        {
          "output_type": "stream",
          "name": "stdout",
          "text": [
            "Overwriting input2.txt\n"
          ]
        }
      ]
    },
    {
      "cell_type": "code",
      "source": [
        "%%writefile output2.txt\n",
        "90"
      ],
      "metadata": {
        "colab": {
          "base_uri": "https://localhost:8080/"
        },
        "id": "xiHmF7HA5Faa",
        "outputId": "143c35fa-d167-4ad5-b00e-5f7f6e206da3"
      },
      "execution_count": null,
      "outputs": [
        {
          "output_type": "stream",
          "name": "stdout",
          "text": [
            "Overwriting output2.txt\n"
          ]
        }
      ]
    },
    {
      "cell_type": "code",
      "source": [
        "!./max_pairwise_product_full< input2.txt > ctest2.txt\n",
        "!grep -xvFf output2.txt ctest2.txt"
      ],
      "metadata": {
        "id": "jjwc9kwb5t_k"
      },
      "execution_count": null,
      "outputs": []
    },
    {
      "cell_type": "markdown",
      "metadata": {
        "id": "IeZ3kTjpYmR9"
      },
      "source": [
        "### Test 2: largest input numbers 200000 200000 in the input"
      ]
    },
    {
      "cell_type": "code",
      "execution_count": null,
      "metadata": {
        "colab": {
          "base_uri": "https://localhost:8080/"
        },
        "id": "LQNlZqaqYt7U",
        "outputId": "b011f7d3-ce36-42e1-8592-1a5c4df4873f"
      },
      "outputs": [
        {
          "output_type": "stream",
          "name": "stdout",
          "text": [
            "Writing input3.txt\n"
          ]
        }
      ],
      "source": [
        "%%writefile input3.txt\n",
        "6\n",
        "1 3 200000 9 200000 23"
      ]
    },
    {
      "cell_type": "code",
      "execution_count": null,
      "metadata": {
        "colab": {
          "base_uri": "https://localhost:8080/"
        },
        "id": "GjQq7QOUCw-9",
        "outputId": "fb44662d-5a76-420d-b0a3-7940132c8063"
      },
      "outputs": [
        {
          "output_type": "execute_result",
          "data": {
            "text/plain": [
              "40000000000"
            ]
          },
          "metadata": {},
          "execution_count": 29
        }
      ],
      "source": [
        "200000*200000"
      ]
    },
    {
      "cell_type": "code",
      "execution_count": null,
      "metadata": {
        "colab": {
          "base_uri": "https://localhost:8080/"
        },
        "id": "EuS6n3jtDK5C",
        "outputId": "5ee0e168-dc12-48d3-c9d4-5b02b26322bd"
      },
      "outputs": [
        {
          "output_type": "stream",
          "name": "stdout",
          "text": [
            "Writing output3.txt\n"
          ]
        }
      ],
      "source": [
        "%%writefile output3.txt\n",
        "40000000000"
      ]
    },
    {
      "cell_type": "code",
      "execution_count": null,
      "metadata": {
        "colab": {
          "base_uri": "https://localhost:8080/"
        },
        "id": "2Wad2VZUZDxR",
        "outputId": "91180b5e-5339-4c57-f0dc-f10c9e09ac12"
      },
      "outputs": [
        {
          "output_type": "stream",
          "name": "stdout",
          "text": [
            "1345294336\n"
          ]
        }
      ],
      "source": [
        "!./max_pairwise_product_full < input3.txt"
      ]
    },
    {
      "cell_type": "code",
      "execution_count": null,
      "metadata": {
        "colab": {
          "base_uri": "https://localhost:8080/"
        },
        "id": "pEvp1ieyDJGq",
        "outputId": "036c213a-6271-4ee8-f7a7-bb9866a060dd"
      },
      "outputs": [
        {
          "output_type": "stream",
          "name": "stdout",
          "text": [
            "1345294336\n"
          ]
        }
      ],
      "source": [
        "!./max_pairwise_product_full < input3.txt > ctest3.txt\n",
        "!grep -xvFf output3.txt ctest3.txt"
      ]
    },
    {
      "cell_type": "code",
      "source": [
        " %%writefile run_all_test.sh\n",
        "#!/bin/bash\n",
        "g++ max_pairwise_product_full.cpp -o max_pairwise_product_full\n",
        "for i in {1..3}\n",
        "do\n",
        "    ./max_pairwise_product_full < input$i.txt > ctest$i.txt\n",
        "    grep -xvFf output$i.txt ctest$i.txt\n",
        "done"
      ],
      "metadata": {
        "colab": {
          "base_uri": "https://localhost:8080/"
        },
        "id": "SrtJrKqM-God",
        "outputId": "e692a92e-7224-4ca7-a0d9-c771ce215aca"
      },
      "execution_count": null,
      "outputs": [
        {
          "output_type": "stream",
          "name": "stdout",
          "text": [
            "Writing run_all_test.sh\n"
          ]
        }
      ]
    },
    {
      "cell_type": "code",
      "source": [
        "!chmod u+x run_all_test.sh\n",
        "!./run_all_test.sh"
      ],
      "metadata": {
        "colab": {
          "base_uri": "https://localhost:8080/"
        },
        "id": "wGWMHtzS-QnA",
        "outputId": "0c51d2e8-f9f7-4d7d-835c-fe32e77fc2f6"
      },
      "execution_count": null,
      "outputs": [
        {
          "output_type": "stream",
          "name": "stdout",
          "text": [
            "1345294336\n"
          ]
        }
      ]
    },
    {
      "cell_type": "markdown",
      "metadata": {
        "id": "H2SC0Qt5HCzz"
      },
      "source": [
        "Changing the variables to long long"
      ]
    },
    {
      "cell_type": "code",
      "execution_count": null,
      "metadata": {
        "colab": {
          "base_uri": "https://localhost:8080/"
        },
        "id": "MPcmsxiQZSfE",
        "outputId": "e16cb569-c5ce-4566-f07b-2ab3e658531f"
      },
      "outputs": [
        {
          "output_type": "stream",
          "name": "stdout",
          "text": [
            "Writing max_pairwise_product_long_full.cpp\n"
          ]
        }
      ],
      "source": [
        "%%writefile max_pairwise_product_long_full.cpp\n",
        "#include <iostream>\n",
        "#include <vector>\n",
        "#include <algorithm>\n",
        "\n",
        "long long MaxPairwiseProduct(const std::vector<int>& numbers) {\n",
        "    long long max_product = 0LL;\n",
        "\t  long long aux_product = 0LL;\n",
        "    int n = numbers.size();\n",
        "\n",
        "    for (int first = 0; first < n; ++first) {\n",
        "        for (int second = 0; second < n; ++second) {\n",
        "          if ( first != second){\n",
        "                aux_product = (long long) numbers[first] * numbers[second];\n",
        "                if (aux_product > max_product)  max_product = aux_product;\n",
        "          }\n",
        "        }\n",
        "    }\n",
        "\n",
        "\n",
        "    return max_product;\n",
        "}\n",
        "\n",
        "int main() {\n",
        "    int n;\n",
        "    std::cin >> n;\n",
        "    std::vector<int> numbers(n);\n",
        "    for (int i = 0; i < n; ++i) {\n",
        "        std::cin >> numbers[i];\n",
        "    }\n",
        "\n",
        "    std::cout << MaxPairwiseProduct(numbers) << \"\\n\";\n",
        "    return 0;\n",
        "}\n"
      ]
    },
    {
      "cell_type": "code",
      "source": [
        "!g++ max_pairwise_product_long_full.cpp -o max_pairwise_product_long_full"
      ],
      "metadata": {
        "id": "W3xQpFXL6wjO"
      },
      "execution_count": null,
      "outputs": []
    },
    {
      "cell_type": "code",
      "source": [
        "!./max_pairwise_product_long_full < input3.txt"
      ],
      "metadata": {
        "colab": {
          "base_uri": "https://localhost:8080/"
        },
        "id": "H5dvN9M3R9sV",
        "outputId": "3af91d1e-4ec5-481c-c01b-00432288100e"
      },
      "execution_count": null,
      "outputs": [
        {
          "output_type": "stream",
          "name": "stdout",
          "text": [
            "40000000000\n"
          ]
        }
      ]
    },
    {
      "cell_type": "markdown",
      "source": [
        "### Runing multuple test with a bash shell"
      ],
      "metadata": {
        "id": "gx-sEYdfQ8f8"
      }
    },
    {
      "cell_type": "code",
      "source": [
        " %%writefile run_all_test.sh\n",
        "#!/bin/bash\n",
        "g++ max_pairwise_product_long_full.cpp -o max_pairwise_product_long_full\n",
        "for i in {1..3}\n",
        "do\n",
        "    ./max_pairwise_product_long_full < input$i.txt > ctest$i.txt\n",
        "    grep -xvFf output$i.txt ctest$i.txt\n",
        "done"
      ],
      "metadata": {
        "colab": {
          "base_uri": "https://localhost:8080/"
        },
        "id": "O9qsq2nn7elw",
        "outputId": "133f5812-dc18-46d7-cc6d-be2101778711"
      },
      "execution_count": null,
      "outputs": [
        {
          "output_type": "stream",
          "name": "stdout",
          "text": [
            "Overwriting run_all_test.sh\n"
          ]
        }
      ]
    },
    {
      "cell_type": "code",
      "source": [
        "!chmod u+x run_all_test.sh\n",
        "!./run_all_test.sh"
      ],
      "metadata": {
        "id": "0g5kKVph7xIA"
      },
      "execution_count": null,
      "outputs": []
    },
    {
      "cell_type": "markdown",
      "metadata": {
        "id": "XPVHkHxH6_7s"
      },
      "source": [
        "### Test 3  stress tests 6 testing cases files input4.txt/output4.txt .. input10.txt/output10.txt\n",
        "\n",
        "---\n",
        "\n"
      ]
    },
    {
      "cell_type": "code",
      "execution_count": null,
      "metadata": {
        "id": "PwqpBmYr69fu",
        "colab": {
          "base_uri": "https://localhost:8080/"
        },
        "outputId": "832877c2-a245-4b5a-e5ec-6f9405cb2b57"
      },
      "outputs": [
        {
          "output_type": "stream",
          "name": "stdout",
          "text": [
            "Writing input4.txt\n"
          ]
        }
      ],
      "source": [
        "%%writefile input4.txt\n",
        "4\n",
        "7 12 23 34"
      ]
    },
    {
      "cell_type": "code",
      "source": [
        "%%writefile output4.txt\n",
        "782"
      ],
      "metadata": {
        "colab": {
          "base_uri": "https://localhost:8080/"
        },
        "id": "dZ1VAWH-IU0B",
        "outputId": "38640acb-0f7d-489e-cf03-aa81c67fcc82"
      },
      "execution_count": null,
      "outputs": [
        {
          "output_type": "stream",
          "name": "stdout",
          "text": [
            "Writing output4.txt\n"
          ]
        }
      ]
    },
    {
      "cell_type": "code",
      "execution_count": null,
      "metadata": {
        "id": "jBCkMeR6Fw4y",
        "colab": {
          "base_uri": "https://localhost:8080/"
        },
        "outputId": "0cfce8b6-804b-4095-8cf4-ce92fae7ccc5"
      },
      "outputs": [
        {
          "output_type": "stream",
          "name": "stdout",
          "text": [
            "Writing input5.txt\n"
          ]
        }
      ],
      "source": [
        "%%writefile input5.txt\n",
        "5\n",
        "2 4 6 8 10"
      ]
    },
    {
      "cell_type": "code",
      "source": [
        "%%writefile output5.txt\n",
        "80"
      ],
      "metadata": {
        "colab": {
          "base_uri": "https://localhost:8080/"
        },
        "id": "H7Q1nO8nIrpI",
        "outputId": "aacf3405-5cd3-446c-f83f-4b2a0b5fd968"
      },
      "execution_count": null,
      "outputs": [
        {
          "output_type": "stream",
          "name": "stdout",
          "text": [
            "Writing output5.txt\n"
          ]
        }
      ]
    },
    {
      "cell_type": "code",
      "source": [
        "%%writefile input6.txt\n",
        "6\n",
        "15 30 45 60 75 90"
      ],
      "metadata": {
        "id": "zED8V8wu-eoM",
        "colab": {
          "base_uri": "https://localhost:8080/"
        },
        "outputId": "21a66d0e-c512-4079-941b-c15111a90341"
      },
      "execution_count": null,
      "outputs": [
        {
          "output_type": "stream",
          "name": "stdout",
          "text": [
            "Writing input6.txt\n"
          ]
        }
      ]
    },
    {
      "cell_type": "code",
      "source": [
        "%%writefile output6.txt\n",
        "6750"
      ],
      "metadata": {
        "colab": {
          "base_uri": "https://localhost:8080/"
        },
        "id": "rwK019xfIt_B",
        "outputId": "162c4700-bc87-4799-dcb8-ca1c77ed7ff8"
      },
      "execution_count": null,
      "outputs": [
        {
          "output_type": "stream",
          "name": "stdout",
          "text": [
            "Writing output6.txt\n"
          ]
        }
      ]
    },
    {
      "cell_type": "code",
      "source": [
        "%%writefile input7.txt\n",
        "7\n",
        "3 6 9 12 15 18 21"
      ],
      "metadata": {
        "colab": {
          "base_uri": "https://localhost:8080/"
        },
        "id": "Xc4t_bQRIL4C",
        "outputId": "51025d53-78d5-40bb-e9c2-90fa905546c5"
      },
      "execution_count": null,
      "outputs": [
        {
          "output_type": "stream",
          "name": "stdout",
          "text": [
            "Writing input7.txt\n"
          ]
        }
      ]
    },
    {
      "cell_type": "code",
      "source": [
        "%%writefile output7.txt\n",
        "378"
      ],
      "metadata": {
        "colab": {
          "base_uri": "https://localhost:8080/"
        },
        "id": "3Hv_fAscIwiM",
        "outputId": "22c28ded-2b1c-43ac-a99c-b76e650b200b"
      },
      "execution_count": null,
      "outputs": [
        {
          "output_type": "stream",
          "name": "stdout",
          "text": [
            "Writing output7.txt\n"
          ]
        }
      ]
    },
    {
      "cell_type": "code",
      "source": [
        "%%writefile input8.txt\n",
        "8\n",
        "11 22 33 44 55 66 77 88"
      ],
      "metadata": {
        "colab": {
          "base_uri": "https://localhost:8080/"
        },
        "id": "rxRvNMW6IMxK",
        "outputId": "9cd76e5d-b322-416e-a582-87226fc35355"
      },
      "execution_count": null,
      "outputs": [
        {
          "output_type": "stream",
          "name": "stdout",
          "text": [
            "Writing input8.txt\n"
          ]
        }
      ]
    },
    {
      "cell_type": "code",
      "source": [
        "%%writefile output8.txt\n",
        "6776"
      ],
      "metadata": {
        "colab": {
          "base_uri": "https://localhost:8080/"
        },
        "id": "zxiBibZhIyPD",
        "outputId": "378a07bf-042d-4c26-bf41-75325429a599"
      },
      "execution_count": null,
      "outputs": [
        {
          "output_type": "stream",
          "name": "stdout",
          "text": [
            "Writing output8.txt\n"
          ]
        }
      ]
    },
    {
      "cell_type": "code",
      "source": [
        "%%writefile input9.txt\n",
        "9\n",
        "5 10 15 20 25 30 35 40 45"
      ],
      "metadata": {
        "colab": {
          "base_uri": "https://localhost:8080/"
        },
        "id": "gNyylwnbINay",
        "outputId": "6c1e79a6-8c93-48a7-af0a-b3fd174cf2ed"
      },
      "execution_count": null,
      "outputs": [
        {
          "output_type": "stream",
          "name": "stdout",
          "text": [
            "Writing input9.txt\n"
          ]
        }
      ]
    },
    {
      "cell_type": "code",
      "source": [
        "%%writefile output9.txt\n",
        "1800"
      ],
      "metadata": {
        "colab": {
          "base_uri": "https://localhost:8080/"
        },
        "id": "GRQbR0TTIzfz",
        "outputId": "1cf10b58-6a92-4dd2-ae03-d905c60a2625"
      },
      "execution_count": null,
      "outputs": [
        {
          "output_type": "stream",
          "name": "stdout",
          "text": [
            "Writing output9.txt\n"
          ]
        }
      ]
    },
    {
      "cell_type": "code",
      "source": [
        "%%writefile input10.txt\n",
        "10\n",
        "1 2 3 4 5 6 7 8 9 10"
      ],
      "metadata": {
        "colab": {
          "base_uri": "https://localhost:8080/"
        },
        "id": "UTamt_w8IMY5",
        "outputId": "c65bffe0-0364-4f55-b178-a7beec27df59"
      },
      "execution_count": null,
      "outputs": [
        {
          "output_type": "stream",
          "name": "stdout",
          "text": [
            "Writing input10.txt\n"
          ]
        }
      ]
    },
    {
      "cell_type": "code",
      "source": [
        "%%writefile output10.txt\n",
        "90"
      ],
      "metadata": {
        "colab": {
          "base_uri": "https://localhost:8080/"
        },
        "id": "7sgaUPc_I0rv",
        "outputId": "14ddc405-6d31-44ba-d8ce-31ca9f5bc5fe"
      },
      "execution_count": null,
      "outputs": [
        {
          "output_type": "stream",
          "name": "stdout",
          "text": [
            "Writing output10.txt\n"
          ]
        }
      ]
    },
    {
      "cell_type": "code",
      "source": [
        "%%writefile stress_test.sh\n",
        "#!/bin/bash\n",
        "g++ max_pairwise_product_long_full.cpp -o max_pairwise_product_long_full\n",
        "\n",
        "for i in {4..10}\n",
        "do\n",
        "    ./max_pairwise_product_long_full < input$i.txt > output$i.txt\n",
        "done"
      ],
      "metadata": {
        "id": "XLDKibHXJTo2",
        "colab": {
          "base_uri": "https://localhost:8080/"
        },
        "outputId": "29962129-355a-4cc8-e06c-3a91de3096ac"
      },
      "execution_count": null,
      "outputs": [
        {
          "output_type": "stream",
          "name": "stdout",
          "text": [
            "Writing stress_test.sh\n"
          ]
        }
      ]
    },
    {
      "cell_type": "markdown",
      "metadata": {
        "id": "9z9yr5QkeyJF"
      },
      "source": [
        "### Test 4  time test  measure the execution time running with the the largest worst cases input11.txt  (200000 increasing numbers) and inoput12.txt (199998 increasing numbers and  200000, 200000 at the end)"
      ]
    },
    {
      "cell_type": "code",
      "source": [
        "# input11.txt 200000 increasing numbers:  1 2 .. 200000\n",
        "\n",
        "%%writefile WriteTest.cpp\n",
        "\n",
        "#include <iostream>\n",
        "#include <fstream>\n",
        "#include <cstdlib>\n",
        "\n",
        "using namespace std;\n",
        "\n",
        "int main() {\n",
        "  // Create and open a text file\n",
        "  ofstream MyFile(\"input11.txt\");\n",
        "\n",
        " MyFile << 200000 <<\"\\n\";  // n\n",
        " for (int i=1; i <200001; i++){\n",
        "     MyFile << i <<\" \";\n",
        " }\n",
        "\n",
        "  // Close the file\n",
        "  MyFile.close();\n",
        "}"
      ],
      "metadata": {
        "colab": {
          "base_uri": "https://localhost:8080/"
        },
        "id": "UmB1ipWM_nSk",
        "outputId": "964a1980-5c82-444c-87e3-3c77362003d1"
      },
      "execution_count": null,
      "outputs": [
        {
          "output_type": "stream",
          "name": "stdout",
          "text": [
            "Overwriting WriteTest.cpp\n"
          ]
        }
      ]
    },
    {
      "cell_type": "code",
      "execution_count": null,
      "metadata": {
        "id": "EH25TkOkZfD9"
      },
      "outputs": [],
      "source": [
        "!g++ WriteTest.cpp -o WriteTest\n",
        "!./WriteTest"
      ]
    },
    {
      "cell_type": "code",
      "source": [
        "199999 * 200000"
      ],
      "metadata": {
        "colab": {
          "base_uri": "https://localhost:8080/"
        },
        "id": "j0mokSOnCCtZ",
        "outputId": "f2b316af-a5c1-4007-dcd0-5c490b0d257c"
      },
      "execution_count": null,
      "outputs": [
        {
          "output_type": "execute_result",
          "data": {
            "text/plain": [
              "39999800000"
            ]
          },
          "metadata": {},
          "execution_count": 57
        }
      ]
    },
    {
      "cell_type": "code",
      "source": [
        "%%writefile output11.txt\n",
        "39999800000"
      ],
      "metadata": {
        "id": "VoDhDV73B5Mo",
        "colab": {
          "base_uri": "https://localhost:8080/"
        },
        "outputId": "42b013df-6ebf-45a7-b767-9c6a78841180"
      },
      "execution_count": null,
      "outputs": [
        {
          "output_type": "stream",
          "name": "stdout",
          "text": [
            "Writing output11.txt\n"
          ]
        }
      ]
    },
    {
      "cell_type": "code",
      "execution_count": null,
      "metadata": {
        "colab": {
          "base_uri": "https://localhost:8080/"
        },
        "id": "oLiMjbAIfPlX",
        "outputId": "a59b5888-4b77-4863-f2db-e2e8669f1d26"
      },
      "outputs": [
        {
          "output_type": "stream",
          "name": "stdout",
          "text": [
            "Overwriting WriteTest.cpp\n"
          ]
        }
      ],
      "source": [
        "# input12.txt 200000 decreasing numbers and 200000, 199999 ...  2 1\n",
        "\n",
        "%%writefile WriteTest.cpp\n",
        "\n",
        "#include <iostream>\n",
        "#include <fstream>\n",
        "#include <cstdlib>\n",
        "\n",
        "using namespace std;\n",
        "\n",
        "int main() {\n",
        "  // Create and open a text file\n",
        "  ofstream MyFile(\"input12.txt\");\n",
        "\n",
        " MyFile << 200000 <<\"\\n\";  // n\n",
        " for (int i=1; i <200001; i++){\n",
        "     MyFile << 200001-i <<\" \";\n",
        " }\n",
        "\n",
        "  // Close the file\n",
        "  MyFile.close();\n",
        "}"
      ]
    },
    {
      "cell_type": "code",
      "source": [
        "!g++ WriteTest.cpp -o WriteTest\n",
        "!./WriteTest"
      ],
      "metadata": {
        "id": "oULNBr_zAd9c"
      },
      "execution_count": null,
      "outputs": []
    },
    {
      "cell_type": "code",
      "source": [
        "%%writefile output12.txt\n",
        "39999800000"
      ],
      "metadata": {
        "colab": {
          "base_uri": "https://localhost:8080/"
        },
        "id": "PQLyocaFB-y4",
        "outputId": "daa798e6-0c6d-42ad-8b7d-13e652c4dacd"
      },
      "execution_count": null,
      "outputs": [
        {
          "output_type": "stream",
          "name": "stdout",
          "text": [
            "Writing output12.txt\n"
          ]
        }
      ]
    },
    {
      "cell_type": "markdown",
      "metadata": {
        "id": "JB6f03qO-lj9"
      },
      "source": [
        "Measure time\n",
        "\n",
        "https://askubuntu.com/questions/53444/how-can-i-measure-the-execution-time-of-a-terminal-process"
      ]
    },
    {
      "cell_type": "code",
      "execution_count": null,
      "metadata": {
        "colab": {
          "base_uri": "https://localhost:8080/"
        },
        "id": "6p2QLEr576zk",
        "outputId": "cecf9a16-dd5b-4d0d-992b-c8410405fdc7"
      },
      "outputs": [
        {
          "output_type": "stream",
          "name": "stdout",
          "text": [
            "2147483646\n",
            "\n",
            "real\t5m4.933s\n",
            "user\t5m2.523s\n",
            "sys\t0m0.116s\n"
          ]
        }
      ],
      "source": [
        "!g++ max_pairwise_product_long_full.cpp -o max_pairwise_product_long_full\n",
        "!time ./max_pairwise_product_long_full< input11.txt"
      ]
    },
    {
      "cell_type": "code",
      "source": [
        "!g++ max_pairwise_product_long_full.cpp -o max_pairwise_product_long_full\n",
        "!time ./max_pairwise_product_long_full< input12.txt"
      ],
      "metadata": {
        "colab": {
          "base_uri": "https://localhost:8080/"
        },
        "id": "cnjCyeUdAnZj",
        "outputId": "096892fd-a9aa-47d7-a09e-276cb343c9e1"
      },
      "execution_count": null,
      "outputs": [
        {
          "output_type": "stream",
          "name": "stdout",
          "text": [
            "2147483646\n",
            "\n",
            "real\t5m5.841s\n",
            "user\t5m3.407s\n",
            "sys\t0m0.131s\n"
          ]
        }
      ]
    },
    {
      "cell_type": "markdown",
      "metadata": {
        "id": "FXClpBsUJuXC"
      },
      "source": [
        "##### Calculate the number or and upper bound to the number of instructions executed by the algorithm as a function of n, add in each line a comment with the number of instructions that are executed in that line."
      ]
    },
    {
      "cell_type": "code",
      "execution_count": null,
      "metadata": {
        "colab": {
          "base_uri": "https://localhost:8080/"
        },
        "id": "uG6Mv-Pwlkii",
        "outputId": "bf8fe1af-ab5f-4d91-ecfd-beae773f2404"
      },
      "outputs": [
        {
          "output_type": "stream",
          "name": "stdout",
          "text": [
            "Overwriting max_pairwise_product_long_full.cpp\n"
          ]
        }
      ],
      "source": [
        "%%writefile max_pairwise_product_long_full.cpp\n",
        "#include <iostream>\n",
        "#include <vector>\n",
        "#include <algorithm>\n",
        "\n",
        "long long MaxPairwiseProduct(const std::vector<int>& numbers) {              //N inst exec by line executed\n",
        "    long long max_product = 0LL;                                             //1\n",
        "\t  long long aux_product = 0LL;                                             //1\n",
        "    int n = numbers.size();                                                  //1\n",
        "\n",
        "    for (int first = 0; first < n; ++first) {                                //1+2n\n",
        "        for (int second = 0; second < n; ++second) {                         //n + 2n**2\n",
        "          if ( first != second ){                                            //n**2\n",
        "                aux_product = numbers[first] * numbers[second];              //n**2 -n\n",
        "                if (aux_product > max_product)                               //n**2 -n\n",
        "                    max_product = aux_product;                               //[1, n**2/2 - n/2] upper bound\n",
        "          }\n",
        "        }\n",
        "    }\n",
        "\n",
        "                                                                             // --------------\n",
        "    return max_product;                                                      // 4 + n + [5*n**2+1, 11*n**2/2  - n/2]  upper bound\n",
        "}\n",
        "\n",
        "int main() {                                              //N inst exec by line executed\n",
        "    int n;                                                //1\n",
        "    std::cin >> n;                                        //1\n",
        "    std::vector<int> numbers(n);                          //n\n",
        "    for (int i = 0; i < n; ++i) {                         //1 + 2n\n",
        "        std::cin >> numbers[i];                           //n\n",
        "    }\n",
        "\n",
        "    std::cout << MaxPairwiseProduct(numbers) << \"\\n\";     //1 + 1  + 4 + n + [5*n**2+1, 11*n**2/2  - n/2]\n",
        "\n",
        "    return 0;                                             // --------------\n",
        "}                                                         //  9 + 5*n + [5*n**2+1, 11*n**2/2  - n/2]  upper bound\n"
      ]
    },
    {
      "cell_type": "markdown",
      "metadata": {
        "id": "0vTsUg8OwcHs"
      },
      "source": [
        "Count executed intructions in code"
      ]
    },
    {
      "cell_type": "code",
      "execution_count": null,
      "metadata": {
        "colab": {
          "base_uri": "https://localhost:8080/"
        },
        "id": "CuRKkqQc137V",
        "outputId": "f364fc25-7711-49c6-fb84-a3abc35f231a"
      },
      "outputs": [
        {
          "output_type": "stream",
          "name": "stdout",
          "text": [
            "Writing max_pairwise_product_long_full_execints.cpp\n"
          ]
        }
      ],
      "source": [
        "%%writefile max_pairwise_product_long_full_execints.cpp\n",
        "#include <iostream>\n",
        "#include <vector>\n",
        "#include <algorithm>\n",
        "\n",
        "long long MaxPairwiseProduct(const std::vector<int>& numbers, long long &execints) {              //N inst exec by line executed\n",
        "\n",
        "    long long max_product = 0LL;                                             //1\n",
        "    execints++;\n",
        "\n",
        "\t  long long aux_product = 0LL;                                             //1\n",
        "    execints++;\n",
        "\n",
        "    int n = numbers.size();                                                  //1\n",
        "    execints++;\n",
        "\n",
        "    execints++;\n",
        "    for (int first = 0; first < n; ++first) {                                //1+2n\n",
        "        execints += 2;\n",
        "\n",
        "        execints++;\n",
        "        for (int second = 0; second < n; ++second) {                         //n + 2n**2\n",
        "          execints += 2;\n",
        "\n",
        "          execints++;\n",
        "          if ( first != second ){                                            //n**2\n",
        "                aux_product = numbers[first] * numbers[second];              //n**2 -n\n",
        "                execints++;\n",
        "\n",
        "                execints++;\n",
        "                if (aux_product > max_product){                               //n**2 -n\n",
        "                    max_product = aux_product;                               //[1,n**2/2 - n/2]  upper bound\n",
        "                    execints++;\n",
        "\n",
        "                }\n",
        "        }\n",
        "      }\n",
        "    }\n",
        "                                                                            // --------------\n",
        "    return max_product;                                                     // 4 + n + [5*n**2+1, 11*n**2/2  - n/2] upper bound\n",
        "}\n",
        "\n",
        "int main() {                                                 //N inst exec by line executed\n",
        "\n",
        "    long long execints =0LL;\n",
        "\n",
        "    int n;                                                   //1\n",
        "    execints++;\n",
        "\n",
        "    std::cin >> n;                                           //1\n",
        "    execints++;\n",
        "\n",
        "    std::vector<int> numbers(n);                             //n\n",
        "    execints += n;\n",
        "\n",
        "    execints++;\n",
        "    for (int i = 0; i < n; ++i) {                            //1 + 2n\n",
        "        execints += 2;\n",
        "\n",
        "        std::cin >> numbers[i];\n",
        "        execints++;                                          //n\n",
        "\n",
        "    }\n",
        "\n",
        "\n",
        "\n",
        "    //std::cout << MaxPairwiseProduct(numbers) << \"\\n\";      //1 + 1  + 4 + n + [5*n**2+1, 11*n**2/2  - n/2] upper bound\n",
        "\n",
        "\n",
        "    execints++;\n",
        "    int M = MaxPairwiseProduct(numbers,execints);\n",
        "\n",
        "    execints++;\n",
        "    std::cout <<  execints << \"\\n\";\n",
        "    return 0;                                                // --------------\n",
        "}                                                            // 9 + 5*n + [5*n**2+1, 11*n**2/2  - n/2]"
      ]
    },
    {
      "cell_type": "markdown",
      "source": [
        "The number of instructions executed by the algooirithm with a list of size $n$ is  \n",
        "\n",
        "$$T (n) = 9 + 5n + \\left[5n^2+1, 11\\frac{n^2}{2}  - \\frac{n}{2}\\right] \\ \\  \\text{upper bound}$$\n",
        "\n",
        "It depends on the size of the lists and  the order of the list.\n",
        "\n",
        "For the input1.txt\n",
        "```\n",
        "10\n",
        "1 2 3 4 5 6 7 8 9 10\n",
        "```\n",
        "$$T = 9 + 5(10) + 5(10)(10) +  9 + 5 + 4 + 3 + 2 + 2 + 2 + 2 + 1 + 0  = 589 $$\n",
        "\n",
        "$$T(10) \\in [560, 604]  $$\n"
      ],
      "metadata": {
        "id": "cUjHtvtdDsmr"
      }
    },
    {
      "cell_type": "code",
      "source": [
        "#The number of times that  max_product = aux_product; in the worst case is less than (n**2 -n)/2 -  upper bound\n",
        "\n",
        "   1  2  3  4  5  6  7  8  9  10\n",
        "1  x  2  3  4  5  6  7  8  9  10         9\n",
        "2  2  x  6  8  10 12 14 16 18 20         5 14\n",
        "3  3  6  x  12 15 18 21 24 27 30         4 18\n",
        "4  4  8  12 x  20 24 28 32 36 40         3 21\n",
        "5  5  10 15 20 x  30 35 40 45 50         2 23\n",
        "6  6  12 18 24 30 x  42 48 54 60         2 25\n",
        "7  7  14 21 28 35 42 x  56 63 70         2 27\n",
        "8  8  18 27 36 45 54 63 72 x  90         1 30\n",
        "10 10 20 30 40 50 60 70 60 90 x          0"
      ],
      "metadata": {
        "id": "K59xQMWiBNFj",
        "colab": {
          "base_uri": "https://localhost:8080/",
          "height": 140
        },
        "outputId": "39747b04-e265-4dbe-fac9-8738ac1620c9"
      },
      "execution_count": null,
      "outputs": [
        {
          "output_type": "error",
          "ename": "IndentationError",
          "evalue": "ignored",
          "traceback": [
            "\u001b[0;36m  File \u001b[0;32m\"<ipython-input-66-f6ebb1ba87e9>\"\u001b[0;36m, line \u001b[0;32m3\u001b[0m\n\u001b[0;31m    1  2  3  4  5  6  7  8  9  10\u001b[0m\n\u001b[0m    ^\u001b[0m\n\u001b[0;31mIndentationError\u001b[0m\u001b[0;31m:\u001b[0m unexpected indent\n"
          ]
        }
      ]
    },
    {
      "cell_type": "code",
      "source": [
        "9 + 5*(10) + 5*(10)*(10) +  9 + 5 + 4 + 3 + 2 + 2 + 2 + 2 + 1 + 0"
      ],
      "metadata": {
        "colab": {
          "base_uri": "https://localhost:8080/"
        },
        "id": "E3O8dzFfEgir",
        "outputId": "82db452c-8aee-4250-e011-4e55457e42fe"
      },
      "execution_count": null,
      "outputs": [
        {
          "output_type": "execute_result",
          "data": {
            "text/plain": [
              "589"
            ]
          },
          "metadata": {},
          "execution_count": 67
        }
      ]
    },
    {
      "cell_type": "code",
      "source": [
        "n = 10\n",
        "print( 9 + 5*n + 5*n**2+1,  9 + 5*n + 11*n**2/2  - n/2)"
      ],
      "metadata": {
        "colab": {
          "base_uri": "https://localhost:8080/"
        },
        "id": "TCpdl5u_Gq1a",
        "outputId": "54f05b0d-ae33-4257-baf4-98274cf0be6a"
      },
      "execution_count": null,
      "outputs": [
        {
          "output_type": "stream",
          "name": "stdout",
          "text": [
            "560 604.0\n"
          ]
        }
      ]
    },
    {
      "cell_type": "code",
      "execution_count": null,
      "metadata": {
        "colab": {
          "base_uri": "https://localhost:8080/"
        },
        "id": "Kuvm1C05ly2a",
        "outputId": "7aff1a1a-d261-4748-a95a-dffd51c5e4b0"
      },
      "outputs": [
        {
          "output_type": "stream",
          "name": "stdout",
          "text": [
            "589\n"
          ]
        }
      ],
      "source": [
        "!g++ max_pairwise_product_long_full_execints.cpp -o max_pairwise_product_long_full_execints\n",
        "!./max_pairwise_product_long_full_execints < input1.txt"
      ]
    },
    {
      "cell_type": "markdown",
      "source": [
        "\n",
        "For the input2.txt\n",
        "```\n",
        "10\n",
        "10 9 8 7 6 5 4 3 2 1\n",
        "```\n",
        "$$T = 9 + 5*(10) + 5*(10)**2 +  1  = 560 $$"
      ],
      "metadata": {
        "id": "Yr_Lb7CaHfxB"
      }
    },
    {
      "cell_type": "code",
      "source": [
        "9 + 5*(10) + 5*(10)**2 +  1"
      ],
      "metadata": {
        "colab": {
          "base_uri": "https://localhost:8080/"
        },
        "id": "HOdqlwJiZUIp",
        "outputId": "8eb5e7bb-135e-4660-ee0e-361d9829c392"
      },
      "execution_count": null,
      "outputs": [
        {
          "output_type": "execute_result",
          "data": {
            "text/plain": [
              "560"
            ]
          },
          "metadata": {},
          "execution_count": 70
        }
      ]
    },
    {
      "cell_type": "code",
      "source": [
        "!g++ max_pairwise_product_long_full_execints.cpp -o max_pairwise_product_long_full_execints\n",
        "!./max_pairwise_product_long_full_execints < input4.txt\n",
        "n= 10"
      ],
      "metadata": {
        "id": "_znzLectjFSe",
        "colab": {
          "base_uri": "https://localhost:8080/"
        },
        "outputId": "34e985b7-da16-4e99-c361-457e165f6fa8"
      },
      "execution_count": null,
      "outputs": [
        {
          "output_type": "stream",
          "name": "stdout",
          "text": [
            "115\n"
          ]
        }
      ]
    },
    {
      "cell_type": "markdown",
      "metadata": {
        "id": "L_uaamxeAHK7"
      },
      "source": [
        "\n",
        "For the input12.txt\n",
        "```\n",
        "200000\n",
        "200000  199999 ... 2 1\n",
        "```\n",
        "$$T = 9 + 5*(200000) + 5*(200000)**2 +1  = 200001000010 $$\n",
        "\n"
      ]
    },
    {
      "cell_type": "code",
      "source": [
        "9 + 5*(200000) + 5*(200000)**2 +1"
      ],
      "metadata": {
        "colab": {
          "base_uri": "https://localhost:8080/"
        },
        "id": "c7X-ewmeXe-h",
        "outputId": "a47aff0e-6d55-495f-d3fa-8bf27c6e67ac"
      },
      "execution_count": null,
      "outputs": [
        {
          "output_type": "execute_result",
          "data": {
            "text/plain": [
              "200001000010"
            ]
          },
          "metadata": {},
          "execution_count": 72
        }
      ]
    },
    {
      "cell_type": "markdown",
      "metadata": {
        "id": "NXW7QkoBL6xH"
      },
      "source": [
        "Calculate estimated time by instruction and number of instructions by second"
      ]
    },
    {
      "cell_type": "code",
      "source": [
        "!g++ max_pairwise_product_long_full_execints.cpp -o max_pairwise_product_long_full_execints\n",
        "!./max_pairwise_product_long_full_execints < input12.txt\n"
      ],
      "metadata": {
        "colab": {
          "base_uri": "https://localhost:8080/"
        },
        "id": "BMH8mF3EKn2w",
        "outputId": "067c8308-abcf-4908-e844-3c8a2e725631"
      },
      "execution_count": null,
      "outputs": [
        {
          "output_type": "stream",
          "name": "stdout",
          "text": [
            "115\n",
            "200000 200000  199999 ... 2 1\n",
            "^C\n"
          ]
        }
      ]
    },
    {
      "cell_type": "code",
      "execution_count": null,
      "metadata": {
        "colab": {
          "base_uri": "https://localhost:8080/"
        },
        "id": "pKqB3i7dIxnc",
        "outputId": "d32f8a8c-cc53-4fcc-a7ff-79d6cd9d2339"
      },
      "outputs": [
        {
          "output_type": "execute_result",
          "data": {
            "text/plain": [
              "1.5299923499617505e-09"
            ]
          },
          "metadata": {},
          "execution_count": 74
        }
      ],
      "source": [
        "# Estimated time by instruction\n",
        "\n",
        "306/200001000010\n"
      ]
    },
    {
      "cell_type": "code",
      "execution_count": null,
      "metadata": {
        "colab": {
          "base_uri": "https://localhost:8080/"
        },
        "id": "18N1ouqeMhE1",
        "outputId": "0b6d2400-a5c5-4f1f-b970-572caaba3c8d"
      },
      "outputs": [
        {
          "output_type": "execute_result",
          "data": {
            "text/plain": [
              "653598039.248366"
            ]
          },
          "metadata": {},
          "execution_count": 75
        }
      ],
      "source": [
        "# Estimated number of instructions by second\n",
        "\n",
        "1/(306/200001000010)"
      ]
    },
    {
      "cell_type": "markdown",
      "source": [
        "# Estimate the maximun n that can be solved in 1 second\n",
        "\n",
        "$$5n^2 \\times 1.53*10^{-9} s = 1s$$\n",
        "\n",
        "$$ n \\approx 11000$$\n"
      ],
      "metadata": {
        "id": "KyuxejFkL5X_"
      }
    },
    {
      "cell_type": "code",
      "source": [
        "# Verify input13.txt\n",
        "%%writefile WriteTest.cpp\n",
        "\n",
        "#include <iostream>\n",
        "#include <fstream>\n",
        "#include <cstdlib>\n",
        "\n",
        "using namespace std;\n",
        "\n",
        "int main() {\n",
        "  // Create and open a text file\n",
        "  ofstream MyFile(\"input13.txt\");\n",
        "\n",
        " MyFile << 11000 <<\"\\n\";  // n\n",
        " for (int i=1; i <11001; i++){\n",
        "     MyFile << i <<\" \";\n",
        " }\n",
        "\n",
        "  // Close the file\n",
        "  MyFile.close();\n",
        "}"
      ],
      "metadata": {
        "colab": {
          "base_uri": "https://localhost:8080/"
        },
        "id": "WXu5jp-DLTOI",
        "outputId": "a2248c71-99bd-4f33-c24f-ed6039ba157e"
      },
      "execution_count": null,
      "outputs": [
        {
          "output_type": "stream",
          "name": "stdout",
          "text": [
            "Overwriting WriteTest.cpp\n"
          ]
        }
      ]
    },
    {
      "cell_type": "code",
      "source": [
        "!g++ WriteTest.cpp -o WriteTest\n",
        "!./WriteTest"
      ],
      "metadata": {
        "id": "AQ8N52pUMCeT"
      },
      "execution_count": null,
      "outputs": []
    },
    {
      "cell_type": "code",
      "source": [
        "!g++ max_pairwise_product_long_full.cpp -o max_pairwise_product_long_full\n",
        "!time ./max_pairwise_product_long_full< input13.txt"
      ],
      "metadata": {
        "colab": {
          "base_uri": "https://localhost:8080/"
        },
        "id": "ussuAokfM2du",
        "outputId": "a85a076d-21be-4233-caae-0db3d19115f8"
      },
      "execution_count": null,
      "outputs": [
        {
          "output_type": "stream",
          "name": "stdout",
          "text": [
            "120989000\n",
            "\n",
            "real\t0m0.869s\n",
            "user\t0m0.857s\n",
            "sys\t0m0.001s\n"
          ]
        }
      ]
    },
    {
      "cell_type": "markdown",
      "metadata": {
        "id": "Tm_AVmt-QQH4"
      },
      "source": [
        "## Python"
      ]
    },
    {
      "cell_type": "code",
      "execution_count": null,
      "metadata": {
        "id": "gRCCcd7IQTKZ",
        "colab": {
          "base_uri": "https://localhost:8080/"
        },
        "outputId": "d2b5ebdf-c967-4449-da49-fdadaa4b8db9"
      },
      "outputs": [
        {
          "output_type": "stream",
          "name": "stdout",
          "text": [
            "Writing WriteTestPython.py\n"
          ]
        }
      ],
      "source": [
        "%%writefile WriteTestPython.py\n",
        "#Python3\n",
        "if __name__ == \"__main__\":\n",
        "    with open(\"input14.txt\", \"w\") as f:\n",
        "        f.write(\"11000\\n\")\n",
        "        for i in range(1, 11001):\n",
        "            f.write(f\"{i} \")"
      ]
    },
    {
      "cell_type": "code",
      "execution_count": null,
      "metadata": {
        "id": "kAEAoNZEQTCw"
      },
      "outputs": [],
      "source": [
        "!python WriteTestPython.py"
      ]
    },
    {
      "cell_type": "code",
      "execution_count": null,
      "metadata": {
        "id": "hjw7TJrDL0d-",
        "colab": {
          "base_uri": "https://localhost:8080/"
        },
        "outputId": "a99b91a9-8a23-4aa8-a3d5-948eaa520c7c"
      },
      "outputs": [
        {
          "output_type": "stream",
          "name": "stdout",
          "text": [
            "120989000\n",
            "\n",
            "real\t0m1.531s\n",
            "user\t0m1.460s\n",
            "sys\t0m0.002s\n"
          ]
        }
      ],
      "source": [
        "# Verify\n",
        "!g++ max_pairwise_product_long_full.cpp -o max_pairwise_product_long_full\n",
        "!time ./max_pairwise_product_long_full < input14.txt"
      ]
    },
    {
      "cell_type": "markdown",
      "metadata": {
        "id": "MKQKSC-vKePK"
      },
      "source": [
        "## Perform the same analysis for an algorithm in C++ and Python that uses\n",
        "$$\\frac{n^2 - n}{2} = O(n^2)\\ \\ \\text{products}$$"
      ]
    },
    {
      "cell_type": "markdown",
      "source": [
        "ALGORITMO 2"
      ],
      "metadata": {
        "id": "JYdnS4Kv01X-"
      }
    },
    {
      "cell_type": "code",
      "execution_count": null,
      "metadata": {
        "id": "jkkHHoxSK65p",
        "colab": {
          "base_uri": "https://localhost:8080/"
        },
        "outputId": "34afa215-c61d-4359-f926-6583965c233e"
      },
      "outputs": [
        {
          "output_type": "stream",
          "name": "stdout",
          "text": [
            "Writing max_pairwise_product.cpp\n"
          ]
        }
      ],
      "source": [
        "%%writefile max_pairwise_product.cpp\n",
        "#include <iostream>\n",
        "#include <vector>\n",
        "#include <algorithm>\n",
        "\n",
        "int MaxPairwiseProduct(const std::vector<int>& numbers) {\n",
        "    int max_product = 0;\n",
        "    int n = numbers.size();\n",
        "\n",
        "    for (int first = 0; first < n; ++first) {\n",
        "        for (int second = first + 1; second < n; ++second) {\n",
        "            max_product = std::max(max_product,\n",
        "                numbers[first] * numbers[second]);\n",
        "        }\n",
        "    }\n",
        "\n",
        "    return max_product;\n",
        "}\n",
        "\n",
        "int main() {\n",
        "    int n;\n",
        "    std::cin >> n;\n",
        "    std::vector<int> numbers(n);\n",
        "    for (int i = 0; i < n; ++i) {\n",
        "        std::cin >> numbers[i];\n",
        "    }\n",
        "\n",
        "    std::cout << MaxPairwiseProduct(numbers) << \"\\n\";\n",
        "    return 0;\n",
        "}"
      ]
    },
    {
      "cell_type": "code",
      "execution_count": null,
      "metadata": {
        "id": "sU8-Ote7K8vz",
        "colab": {
          "base_uri": "https://localhost:8080/"
        },
        "outputId": "c125be7e-5fa2-46f2-9acd-6a5f0867aa29"
      },
      "outputs": [
        {
          "output_type": "stream",
          "name": "stdout",
          "text": [
            "Writing max_pairwise_product_long.cpp\n"
          ]
        }
      ],
      "source": [
        "%%writefile max_pairwise_product_long.cpp\n",
        "#include <iostream>\n",
        "#include <vector>\n",
        "#include <algorithm>\n",
        "\n",
        "long long MaxPairwiseProduct(const std::vector<int>& numbers) {              //N inst exec by line executed\n",
        "    long long max_product = 0LL;                                             //1\n",
        "\t  long long aux_product = 0LL;                                             //1\n",
        "    int n = numbers.size();                                                  //1\n",
        "\n",
        "    for (int first = 0; first < n; ++first) {                                //1+2n\n",
        "        for (int second = first + 1; second < n; ++second) {                 //n + (n-1)n\n",
        "\t\t\t       aux_product =  (long long) numbers[first] * numbers[second];    //(n-1)n/2\n",
        "            if (max_product < aux_product)  {                                //(n-1)n/2\n",
        "\t\t\t\t        max_product = aux_product;                                   //[0, (n-1)n/2]\n",
        "             }\n",
        "        }\n",
        "    }\n",
        "                                                                             // --------------\n",
        "    return max_product;                                                      // 4 + 3n + [2(n-1)n, 2.5 (n-1)n] upper bound\n",
        "}\n",
        "\n",
        "int main() {                                              //N inst exec by line executed\n",
        "    int n;                                                //1\n",
        "    std::cin >> n;                                        //1\n",
        "    std::vector<int> numbers(n);                          //n\n",
        "    for (int i = 0; i < n; ++i) {                         //1 + 2n\n",
        "        std::cin >> numbers[i];                           //n\n",
        "    }\n",
        "\n",
        "    std::cout << MaxPairwiseProduct(numbers) << \"\\n\";     //1 + 1  + 4 + 3n + [2(n-1)n, 2.5 (n-1)n]\n",
        "    return 0;                                             // --------------\n",
        "}                                                         // 9 + 7n + [2(n-1)n, 2.5 (n-1)n] upper bound\n"
      ]
    },
    {
      "cell_type": "code",
      "execution_count": null,
      "metadata": {
        "id": "5QWT3fneK8nw",
        "colab": {
          "base_uri": "https://localhost:8080/"
        },
        "outputId": "34de2cf0-8a0a-4b77-ead8-a24ebebec2c4"
      },
      "outputs": [
        {
          "output_type": "stream",
          "name": "stdout",
          "text": [
            "39999800000\n",
            "\n",
            "real\t2m20.733s\n",
            "user\t2m19.427s\n",
            "sys\t0m0.084s\n"
          ]
        }
      ],
      "source": [
        "!g++ max_pairwise_product_long.cpp -o max_pairwise_product_long\n",
        "!time ./max_pairwise_product_long < input11.txt"
      ]
    },
    {
      "cell_type": "code",
      "source": [
        "%%writefile stress_test.sh\n",
        "#!/bin/bash\n",
        "g++ max_pairwise_product_long_full.cpp -o max_pairwise_product_long_full\n",
        "\n",
        "for i in {1..10}\n",
        "do\n",
        "    ./max_pairwise_product_long_full < input$i.txt > output$i.txt\n",
        "done"
      ],
      "metadata": {
        "colab": {
          "base_uri": "https://localhost:8080/"
        },
        "id": "PPXZf85O1_v8",
        "outputId": "930947b6-8d33-44a9-dc00-bb09969c4551"
      },
      "execution_count": null,
      "outputs": [
        {
          "output_type": "stream",
          "name": "stdout",
          "text": [
            "Overwriting stress_test.sh\n"
          ]
        }
      ]
    },
    {
      "cell_type": "code",
      "source": [
        "print(11 + 7*(200000) + 2*(200000)*(199999) + 1, 11 + 7*(200000) + 2.5*(200000)*(199999))"
      ],
      "metadata": {
        "colab": {
          "base_uri": "https://localhost:8080/"
        },
        "id": "nSQ-NYxw2JVZ",
        "outputId": "7c73b479-9be6-43f8-e5b4-e3e1af93efd2"
      },
      "execution_count": null,
      "outputs": [
        {
          "output_type": "stream",
          "name": "stdout",
          "text": [
            "80001000012 100000900011.0\n"
          ]
        }
      ]
    },
    {
      "cell_type": "code",
      "source": [
        "# Estimated time by instruction\n",
        "\n",
        "141/200001000010"
      ],
      "metadata": {
        "colab": {
          "base_uri": "https://localhost:8080/"
        },
        "id": "cphLeX5D3NE4",
        "outputId": "dd4d032e-5d79-4e09-9b1d-04b168ec882e"
      },
      "execution_count": null,
      "outputs": [
        {
          "output_type": "execute_result",
          "data": {
            "text/plain": [
              "7.049964749823752e-10"
            ]
          },
          "metadata": {},
          "execution_count": 87
        }
      ]
    },
    {
      "cell_type": "code",
      "source": [
        "# Estimated number of instructions by second\n",
        "\n",
        "1/(141/200001000010)"
      ],
      "metadata": {
        "colab": {
          "base_uri": "https://localhost:8080/"
        },
        "id": "aZROvLbV3BDz",
        "outputId": "e212d384-3eb2-43a3-ac78-44559c3d3a77"
      },
      "execution_count": null,
      "outputs": [
        {
          "output_type": "execute_result",
          "data": {
            "text/plain": [
              "1418446808.5815604"
            ]
          },
          "metadata": {},
          "execution_count": 88
        }
      ]
    },
    {
      "cell_type": "code",
      "execution_count": null,
      "metadata": {
        "id": "mxIVvm1RK8dB",
        "colab": {
          "base_uri": "https://localhost:8080/"
        },
        "outputId": "4c38fd5c-90ae-4a53-c067-257b427b2a61"
      },
      "outputs": [
        {
          "output_type": "stream",
          "name": "stdout",
          "text": [
            "Writing max_pairwise_product_n2_py.py\n"
          ]
        }
      ],
      "source": [
        "%%writefile max_pairwise_product_n2_py.py\n",
        "#Python3\n",
        "def max_pairwise_product(l):\n",
        "    max_product = 0\n",
        "    aux_product = 0\n",
        "    n = len(l)\n",
        "    for i in range(n):\n",
        "        for j in range(i + 1, n):\n",
        "            max_product = max(max_product, l[i] * l[j])\n",
        "\n",
        "    return max_product\n",
        "\n",
        "if __name__ == \"__main__\":\n",
        "    n = int(input())\n",
        "    l = list(map(int, input().split()))\n",
        "    print(max_pairwise_product(l))"
      ]
    },
    {
      "cell_type": "markdown",
      "metadata": {
        "id": "1Hsbd-uHOb_j"
      },
      "source": [
        "### Sort solution in C++ and Python\n",
        "\n",
        "$$ O(n \\lg n)$$\n",
        "\n",
        "**Which sorting algorithm is used in GCC?**\n",
        "https://stackoverflow.com/questions/7221257/which-sorting-algorithm-is-used-in-gcc\n",
        "\n",
        "* ...  the algorithm is called introsort, a combination between Insertionsort, Quicksort & Heapsort. ...\n",
        "\n",
        "**Introsort**\n",
        "https://en.wikipedia.org/wiki/Introsort\n",
        "\n",
        "Introsort or introspective sort is a hybrid sorting algorithm that provides both fast average performance and (asymptotically) optimal worst-case performance. It begins with quicksort, it switches to heapsort when the recursion depth exceeds a level based on (the logarithm of) the number of elements being sorted and it switches to insertion sort when the number of elements is below some threshold\n",
        "\n",
        "*   Class\tSorting algorithm\n",
        "*   Data structure\tArray\n",
        "*   Worst-case performance\t$O(n \\lg n)$\n",
        "*   Average performance\t$O(n \\lg n)$\n",
        "\n",
        "**Tinsort**\n",
        "https://en.wikipedia.org/wiki/Timsort\n",
        "\n",
        "Timsort is a hybrid, stable sorting algorithm, derived from merge sort and insertion sort, designed to perform well on many kinds of real-world data. It was implemented by Tim Peters in 2002 for use in the Python programming language.\n",
        "\n",
        "*   Class\tSorting algorithm\n",
        "*   Data structure\tArray\n",
        "*   Worst-case performance\t$O(n \\lg n)$\n",
        "*   Best-case performance $O(n)$\n",
        "*   Average performance\t$O(n \\lg n)$\n",
        "*   Worst-case space complexity $O(n)$"
      ]
    },
    {
      "cell_type": "markdown",
      "metadata": {
        "id": "WMUthAXjOb_k"
      },
      "source": [
        "Add in each line a coment with the number of intstrcution that are executed in that line"
      ]
    },
    {
      "cell_type": "markdown",
      "source": [
        "ALGORITMO 3"
      ],
      "metadata": {
        "id": "SNXRTbcJBLj1"
      }
    },
    {
      "cell_type": "code",
      "source": [
        "%%writefile max_pairwise_product_sort.cpp\n",
        "#include <iostream>\n",
        "#include <vector>\n",
        "#include <algorithm>\n",
        "\n",
        "int main(int argc, char* argv[]){\n",
        "    int n;                                                   //1\n",
        "    std::cin >> n;                                           //1\n",
        "    std::vector<int> v(n);                                   //n\n",
        "    for(int i = 0; i < n; i++){                              //1 + 2n\n",
        "        std::cin >> v[i];                                    //n\n",
        "    }\n",
        "\n",
        "    std::sort(v.begin(), v.end());                          //nlogn\n",
        "    std::cout << (long long) v[n - 1] * v[n - 2] << '\\n';   //2\n",
        "    return 0;\n",
        "}"
      ],
      "metadata": {
        "id": "DoclpTby9pdW",
        "colab": {
          "base_uri": "https://localhost:8080/"
        },
        "outputId": "8e0a28bf-b4ee-40ed-ba5f-2314704a74f1"
      },
      "execution_count": null,
      "outputs": [
        {
          "output_type": "stream",
          "name": "stdout",
          "text": [
            "Writing max_pairwise_product_sort.cpp\n"
          ]
        }
      ]
    },
    {
      "cell_type": "code",
      "source": [
        "%%writefile max_pairwise_product_sort.py\n",
        "#Python3\n",
        "if __name__ == \"__main__\":\n",
        "    n = int(input())                                        #1\n",
        "    l = list(map(int, input().split()))                     #5n\n",
        "    l.sort()                                                #nlogn at least\n",
        "    print(l[n - 1] * l[n - 2])                              #2"
      ],
      "metadata": {
        "id": "EL1aHzDk9vBi",
        "colab": {
          "base_uri": "https://localhost:8080/"
        },
        "outputId": "28008228-2260-4cfa-8920-a77276710fa1"
      },
      "execution_count": null,
      "outputs": [
        {
          "output_type": "stream",
          "name": "stdout",
          "text": [
            "Writing max_pairwise_product_sort.py\n"
          ]
        }
      ]
    },
    {
      "cell_type": "markdown",
      "metadata": {
        "id": "v8pdV9ABOb_k"
      },
      "source": [
        "Test with inputs 1 and 2\n",
        "\n"
      ]
    },
    {
      "cell_type": "code",
      "execution_count": null,
      "metadata": {
        "id": "kdXAyLG4Ob_k",
        "colab": {
          "base_uri": "https://localhost:8080/"
        },
        "outputId": "74445412-0a09-498a-eb35-40263b8f9c92"
      },
      "outputs": [
        {
          "output_type": "stream",
          "name": "stdout",
          "text": [
            "90\n",
            "90\n"
          ]
        }
      ],
      "source": [
        "!g++ max_pairwise_product_sort.cpp -o max_pairwise_product_sort\n",
        "!./max_pairwise_product_sort < input1.txt   #Original array in input1.txt increasing order [1, 2, 3, 4, 5, 6, 7, 8, 9, 10]\n",
        "!./max_pairwise_product_sort < input2.txt   #Original array in input2.txt decreasing order [10, 9, 8, 7, 6, 5, 4, 3, 2, 1]"
      ]
    },
    {
      "cell_type": "code",
      "source": [
        "!python max_pairwise_product_sort.py < input1.txt\n",
        "!python max_pairwise_product_sort.py < input2.txt"
      ],
      "metadata": {
        "id": "MV5t4Wel9z8O",
        "colab": {
          "base_uri": "https://localhost:8080/"
        },
        "outputId": "43f13535-f396-4246-8f64-2c9ecde3f791"
      },
      "execution_count": null,
      "outputs": [
        {
          "output_type": "stream",
          "name": "stdout",
          "text": [
            "90\n",
            "90\n"
          ]
        }
      ]
    },
    {
      "cell_type": "markdown",
      "metadata": {
        "id": "Sw-5X1q1Ob_k"
      },
      "source": [
        "Test and time it with input 3"
      ]
    },
    {
      "cell_type": "code",
      "execution_count": null,
      "metadata": {
        "id": "ryHJ30WIOb_k",
        "colab": {
          "base_uri": "https://localhost:8080/"
        },
        "outputId": "3b0a12d7-f203-4566-d2d0-6e68a954cf7f"
      },
      "outputs": [
        {
          "output_type": "stream",
          "name": "stdout",
          "text": [
            "40000000000\n",
            "\n",
            "real\t0m0.004s\n",
            "user\t0m0.001s\n",
            "sys\t0m0.002s\n"
          ]
        }
      ],
      "source": [
        "!g++ max_pairwise_product_sort.cpp -o max_pairwise_product_sort\n",
        "!time ./max_pairwise_product_sort < input3.txt"
      ]
    },
    {
      "cell_type": "code",
      "source": [
        "%%time\n",
        " #Given in secs. *10^-3 ms\n",
        "!python max_pairwise_product_sort.py < input3.txt"
      ],
      "metadata": {
        "id": "COWpduIR938m",
        "colab": {
          "base_uri": "https://localhost:8080/"
        },
        "outputId": "6a38952f-468b-4c42-95af-8ed4ba5d38f5"
      },
      "execution_count": null,
      "outputs": [
        {
          "output_type": "stream",
          "name": "stdout",
          "text": [
            "40000000000\n",
            "CPU times: user 4.49 ms, sys: 1.24 ms, total: 5.73 ms\n",
            "Wall time: 104 ms\n"
          ]
        }
      ]
    },
    {
      "cell_type": "markdown",
      "metadata": {
        "id": "oJGdPl1HOb_k"
      },
      "source": [
        "20 stress tests"
      ]
    },
    {
      "cell_type": "code",
      "execution_count": null,
      "metadata": {
        "id": "pXHtO1dEOb_k",
        "colab": {
          "base_uri": "https://localhost:8080/"
        },
        "outputId": "6579439a-dac2-41f6-bf23-8b50721927a4"
      },
      "outputs": [
        {
          "output_type": "stream",
          "name": "stdout",
          "text": [
            "Writing stress_test_cpp.cpp\n"
          ]
        }
      ],
      "source": [
        "%%writefile stress_test_cpp.cpp\n",
        "#include <iostream>\n",
        "#include <vector>\n",
        "#include <algorithm>\n",
        "\n",
        "int main(int argc, char* argv[]){\n",
        "    for(int i = 0; i < 20; i++){\n",
        "        int n = rand() % 49 + 2;\n",
        "        std::vector<int> v(n);\n",
        "        for(int i = 0; i < n; i++){\n",
        "            v[i] = rand() % 1000 + 2;\n",
        "        }\n",
        "        std::sort(v.begin(), v.end());\n",
        "        std::cout << \"n: \" << n << \" Product: \" << (long long) v[n - 1] * v[n - 2] << '\\n';\n",
        "    }\n",
        "    return 0;\n",
        "}"
      ]
    },
    {
      "cell_type": "code",
      "source": [
        "!g++ stress_test_cpp.cpp -o stress_test_cpp\n",
        "!./stress_test_cpp"
      ],
      "metadata": {
        "id": "K_CXySz0996I",
        "colab": {
          "base_uri": "https://localhost:8080/"
        },
        "outputId": "e124f098-06d7-49c3-b26a-ab4b3fde4cc7"
      },
      "execution_count": null,
      "outputs": [
        {
          "output_type": "stream",
          "name": "stdout",
          "text": [
            "n: 17 Product: 850976\n",
            "n: 25 Product: 857451\n",
            "n: 43 Product: 980036\n",
            "n: 10 Product: 692094\n",
            "n: 30 Product: 839816\n",
            "n: 48 Product: 956363\n",
            "n: 9 Product: 475580\n",
            "n: 46 Product: 954088\n",
            "n: 44 Product: 902850\n",
            "n: 17 Product: 981034\n",
            "n: 40 Product: 928812\n",
            "n: 7 Product: 267968\n",
            "n: 42 Product: 991020\n",
            "n: 27 Product: 908160\n",
            "n: 23 Product: 990016\n",
            "n: 2 Product: 141372\n",
            "n: 4 Product: 418500\n",
            "n: 11 Product: 557996\n",
            "n: 42 Product: 963270\n",
            "n: 17 Product: 690616\n"
          ]
        }
      ]
    },
    {
      "cell_type": "markdown",
      "metadata": {
        "id": "2beTmWFPOb_k"
      },
      "source": [
        "Count executed instructions in code and verify with inputs 1,2 and 3\n"
      ]
    },
    {
      "cell_type": "code",
      "execution_count": null,
      "metadata": {
        "id": "iuByv4x1Ob_k",
        "colab": {
          "base_uri": "https://localhost:8080/"
        },
        "outputId": "14b6a6b1-54e2-4880-f8ea-23d4e1d8d550"
      },
      "outputs": [
        {
          "output_type": "stream",
          "name": "stdout",
          "text": [
            "Writing max_pairwise_product_sort_ins.cpp\n"
          ]
        }
      ],
      "source": [
        "%%writefile max_pairwise_product_sort_ins.cpp\n",
        "#include <iostream>\n",
        "#include <vector>\n",
        "#include <algorithm>\n",
        "#include <cmath>\n",
        "\n",
        "int main(int argc, char* argv[]){\n",
        "    uint64_t ins = 0;\n",
        "    int n;                                                   //1\n",
        "    ins++;\n",
        "    std::cin >> n;                                           //1\n",
        "    ins++;\n",
        "    std::vector<int> v(n);                                   //n\n",
        "    ins += n;\n",
        "    ins++;\n",
        "    for(int i = 0; i < n; i++){                              //1 + 2n\n",
        "        ins += 2;\n",
        "        std::cin >> v[i];                                    //n\n",
        "        ins++;\n",
        "    }\n",
        "\n",
        "    std::sort(v.begin(), v.end());                           //nlogn at least (nlogn time complexity)\n",
        "    ins += n * log2(n);\n",
        "    std::cout << (long long) v[n - 1] * v[n - 2] << '\\n';    //3\n",
        "    ins += 3;\n",
        "    std::cout << \"Executed instructions: \" << ins << '\\n';   // 7 + 4n + ins(nlogn sort). Where ins(nlogn sort) are, at least, nlogn.\n",
        "    return 0;\n",
        "}"
      ]
    },
    {
      "cell_type": "code",
      "source": [
        "!g++ max_pairwise_product_sort_ins.cpp -o max_pairwise_product_sort_ins\n",
        "!./max_pairwise_product_sort_ins < input1.txt\n",
        "!./max_pairwise_product_sort_ins < input2.txt\n",
        "!./max_pairwise_product_sort_ins < input3.txt"
      ],
      "metadata": {
        "id": "S6jjo4ng-Gwe",
        "colab": {
          "base_uri": "https://localhost:8080/"
        },
        "outputId": "3a9a3623-a30b-4c89-d991-2d11e6ecaecc"
      },
      "execution_count": null,
      "outputs": [
        {
          "output_type": "stream",
          "name": "stdout",
          "text": [
            "90\n",
            "Executed instructions: 79\n",
            "90\n",
            "Executed instructions: 79\n",
            "40000000000\n",
            "Executed instructions: 45\n"
          ]
        }
      ]
    },
    {
      "cell_type": "code",
      "source": [
        "!time ./max_pairwise_product_sort_ins < input11.txt"
      ],
      "metadata": {
        "id": "hBVymtzM-Jvc",
        "colab": {
          "base_uri": "https://localhost:8080/"
        },
        "outputId": "35ffaf50-9286-4bf3-9d99-016b4320ce45"
      },
      "execution_count": null,
      "outputs": [
        {
          "output_type": "stream",
          "name": "stdout",
          "text": [
            "39999800000\n",
            "Executed instructions: 4321934\n",
            "\n",
            "real\t0m0.133s\n",
            "user\t0m0.126s\n",
            "sys\t0m0.005s\n"
          ]
        }
      ]
    },
    {
      "cell_type": "code",
      "source": [
        "%%writefile max_pairwise_product_sort_ins.py\n",
        "#Python3\n",
        "import math\n",
        "\n",
        "if __name__ == \"__main__\":\n",
        "    ins = 0\n",
        "    n = int(input())                       #1\n",
        "    ins += 1\n",
        "    l = list(map(int, input().split()))    #5n (n input read, n mappings to int, n iterable to list, n comparisons, n splits through input)\n",
        "    ins += 5 * n\n",
        "    l.sort()                               #nlogn at least\n",
        "    ins += n * math.log2(n)\n",
        "    print(l[n - 1] * l[n - 2])             #2\n",
        "    ins += 2\n",
        "    print(f\"Executed instructions: {int(ins)}\\n\")                             #3 + 5n + ins(nlogn timsort) where ins(nlogn sort) are, at least, nlogn."
      ],
      "metadata": {
        "id": "4FOx_YXx-MWj",
        "colab": {
          "base_uri": "https://localhost:8080/"
        },
        "outputId": "ad9fe8e1-ba87-4983-ea79-912df892d86b"
      },
      "execution_count": null,
      "outputs": [
        {
          "output_type": "stream",
          "name": "stdout",
          "text": [
            "Writing max_pairwise_product_sort_ins.py\n"
          ]
        }
      ]
    },
    {
      "cell_type": "code",
      "source": [
        "!python max_pairwise_product_sort_ins.py < input1.txt\n",
        "!python max_pairwise_product_sort_ins.py < input2.txt\n",
        "!python max_pairwise_product_sort_ins.py < input3.txt"
      ],
      "metadata": {
        "id": "jlpl477e-Okx",
        "colab": {
          "base_uri": "https://localhost:8080/"
        },
        "outputId": "14dde531-dddd-4dbc-f089-ec88903a30d8"
      },
      "execution_count": null,
      "outputs": [
        {
          "output_type": "stream",
          "name": "stdout",
          "text": [
            "90\n",
            "Executed instructions: 86\n",
            "\n",
            "90\n",
            "Executed instructions: 86\n",
            "\n",
            "40000000000\n",
            "Executed instructions: 48\n",
            "\n"
          ]
        }
      ]
    },
    {
      "cell_type": "code",
      "source": [
        "%%time\n",
        "!python max_pairwise_product_sort_ins.py < input11.txt"
      ],
      "metadata": {
        "id": "EEHuoQPu-Q3r",
        "colab": {
          "base_uri": "https://localhost:8080/"
        },
        "outputId": "9d3cd405-c053-4e27-cfe7-0714a48599a6"
      },
      "execution_count": null,
      "outputs": [
        {
          "output_type": "stream",
          "name": "stdout",
          "text": [
            "39999800000\n",
            "Executed instructions: 4521931\n",
            "\n",
            "CPU times: user 7.79 ms, sys: 1.73 ms, total: 9.52 ms\n",
            "Wall time: 203 ms\n"
          ]
        }
      ]
    },
    {
      "cell_type": "code",
      "source": [
        "%%time\n",
        "!python max_pairwise_product_sort_ins.py < input11.txt"
      ],
      "metadata": {
        "colab": {
          "base_uri": "https://localhost:8080/"
        },
        "id": "m8oeAR6V3-NU",
        "outputId": "150a6e1d-9009-451a-df6d-e7fc4d4d510b"
      },
      "execution_count": null,
      "outputs": [
        {
          "output_type": "stream",
          "name": "stdout",
          "text": [
            "39999800000\n",
            "Executed instructions: 4521931\n",
            "\n",
            "CPU times: user 7.81 ms, sys: 0 ns, total: 7.81 ms\n",
            "Wall time: 207 ms\n"
          ]
        }
      ]
    },
    {
      "cell_type": "markdown",
      "metadata": {
        "id": "x2CXhkwTOb_l"
      },
      "source": [
        "Calculate estimated time by instruction and number of instructions by second"
      ]
    },
    {
      "cell_type": "code",
      "execution_count": null,
      "metadata": {
        "id": "nTjxyTMtOb_l",
        "colab": {
          "base_uri": "https://localhost:8080/"
        },
        "outputId": "08530b2c-6a17-4dca-94d6-2fc877e648b6"
      },
      "outputs": [
        {
          "output_type": "stream",
          "name": "stdout",
          "text": [
            "1.5104166781846075e-09\n",
            "662068960.4685212\n"
          ]
        }
      ],
      "source": [
        "estimated_time = 0.00683 / 4521931\n",
        "number_of_ins_per_second = 1 / estimated_time\n",
        "print(estimated_time)\n",
        "print(number_of_ins_per_second)"
      ]
    },
    {
      "cell_type": "markdown",
      "metadata": {
        "id": "VMKC5duEOQfk"
      },
      "source": [
        "### Efficient solution largest and second-largest in an list, array or vector in C++ and Python\n",
        " $$2.5 n = O(n)$$\n",
        "\n",
        "\n",
        "\n"
      ]
    },
    {
      "cell_type": "markdown",
      "metadata": {
        "id": "nLcKBwbU0QsE"
      },
      "source": [
        "Add in each line a coment with the number of intstrcution that are executed in that line"
      ]
    },
    {
      "cell_type": "markdown",
      "source": [
        "ALGORITMO 4"
      ],
      "metadata": {
        "id": "8TW0v46fA84q"
      }
    },
    {
      "cell_type": "code",
      "execution_count": null,
      "metadata": {
        "id": "knls5Fh3NSt_",
        "colab": {
          "base_uri": "https://localhost:8080/"
        },
        "outputId": "f533cc20-830e-4206-8dff-80b1d33f2c4d"
      },
      "outputs": [
        {
          "output_type": "stream",
          "name": "stdout",
          "text": [
            "Writing max_pairwise_product_ef.cpp\n"
          ]
        }
      ],
      "source": [
        "%%writefile max_pairwise_product_ef.cpp\n",
        "#include <iostream>\n",
        "#include <vector>\n",
        "#include <algorithm>\n",
        "\n",
        "long long max_pairwise_product_f(std::vector<int>& v){\n",
        "    int n = v.size();                        //1\n",
        "    long long p_max = 0;                     //1\n",
        "    long long s_max = 0;                     //1\n",
        "    for(int i = 0; i < n; ++i) {             //1 + 2n\n",
        "        if (v[i] > s_max){                    //n\n",
        "            s_max = v[i];                    //[0, n]\n",
        "        }\n",
        "        if (v[i] > p_max){                   //n\n",
        "            s_max = p_max;                   //[0, n]\n",
        "            p_max = v[i];                    //[0, n]\n",
        "        }\n",
        "    }\n",
        "    return (long long) p_max * s_max;       //2 -> 9 + 4n + 3[0, n]           //[0, n] means that, in the worst case, executes n times.\n",
        "}\n",
        "\n",
        "int main(int argc, char* argv[]){\n",
        "    int n;                                  //1\n",
        "    std::cin >> n;                          //1\n",
        "    std::vector<int> v(n);                  //n\n",
        "    for(int i = 0; i < n; i++){             //1 + 2n\n",
        "        std::cin >> v[i];                   //n\n",
        "    }\n",
        "    std::cout << max_pairwise_product_f(v) << '\\n'; //1 -> 4 + 4n\n",
        "    return 0;\n",
        "}"
      ]
    },
    {
      "cell_type": "code",
      "source": [
        "%%writefile max_pairwise_product_ef.py\n",
        "#Python3\n",
        "def max_pairwise_product_f(l):\n",
        "    p_max = 0\n",
        "    s_max = 0\n",
        "    for i in l:\n",
        "        if i > s_max:\n",
        "            s_max = i\n",
        "        if i > p_max:\n",
        "            s_max = p_max\n",
        "            p_max = i\n",
        "\n",
        "    return p_max * s_max\n",
        "\n",
        "if __name__ == \"__main__\":\n",
        "    n = int(input())\n",
        "    l = list(map(int, input().split()))\n",
        "    print(max_pairwise_product_f(l))"
      ],
      "metadata": {
        "id": "aTLy1Jo8-YXz",
        "colab": {
          "base_uri": "https://localhost:8080/"
        },
        "outputId": "aab79d2f-d48b-4f0d-c5e2-e8dc685336c6"
      },
      "execution_count": null,
      "outputs": [
        {
          "output_type": "stream",
          "name": "stdout",
          "text": [
            "Writing max_pairwise_product_ef.py\n"
          ]
        }
      ]
    },
    {
      "cell_type": "markdown",
      "metadata": {
        "id": "-JCijbWxNSii"
      },
      "source": [
        "Test with inputs 1 and 2\n",
        "\n"
      ]
    },
    {
      "cell_type": "code",
      "execution_count": null,
      "metadata": {
        "id": "TrTGAfqlNVXT",
        "colab": {
          "base_uri": "https://localhost:8080/"
        },
        "outputId": "b4a1af88-0a2e-4f5f-beee-cedd8f3a0ad4"
      },
      "outputs": [
        {
          "output_type": "stream",
          "name": "stdout",
          "text": [
            "90\n",
            "90\n"
          ]
        }
      ],
      "source": [
        "!g++ max_pairwise_product_ef.cpp -o max_pairwise_product_ef\n",
        "!./max_pairwise_product_ef < input1.txt\n",
        "!./max_pairwise_product_ef < input2.txt"
      ]
    },
    {
      "cell_type": "code",
      "source": [
        "!python max_pairwise_product_ef.py < input1.txt\n",
        "!python max_pairwise_product_ef.py < input2.txt"
      ],
      "metadata": {
        "id": "2CXkNc-z-dAK",
        "colab": {
          "base_uri": "https://localhost:8080/"
        },
        "outputId": "dc3f2a2b-a7e8-4392-f5eb-50fb96b48ebb"
      },
      "execution_count": null,
      "outputs": [
        {
          "output_type": "stream",
          "name": "stdout",
          "text": [
            "90\n",
            "90\n"
          ]
        }
      ]
    },
    {
      "cell_type": "markdown",
      "metadata": {
        "id": "PRX51wADNR8b"
      },
      "source": [
        "Test and time it with input 3"
      ]
    },
    {
      "cell_type": "code",
      "execution_count": null,
      "metadata": {
        "id": "v4z7-Is_NRt7",
        "colab": {
          "base_uri": "https://localhost:8080/"
        },
        "outputId": "d28ff0b8-114f-4dc6-8589-85d7fb37ed96"
      },
      "outputs": [
        {
          "output_type": "stream",
          "name": "stdout",
          "text": [
            "40000000000\n",
            "\n",
            "real\t0m0.003s\n",
            "user\t0m0.001s\n",
            "sys\t0m0.002s\n"
          ]
        }
      ],
      "source": [
        "!g++ max_pairwise_product_ef.cpp -o max_pairwise_product_ef\n",
        "!time ./max_pairwise_product_ef < input3.txt"
      ]
    },
    {
      "cell_type": "code",
      "source": [
        "!g++ max_pairwise_product_ef.cpp -o max_pairwise_product_ef\n",
        "!time ./max_pairwise_product_ef < input11.txt"
      ],
      "metadata": {
        "id": "FeF9vZjj-jgB",
        "colab": {
          "base_uri": "https://localhost:8080/"
        },
        "outputId": "9f570b15-04cc-4d76-fa22-6dde7f92f593"
      },
      "execution_count": null,
      "outputs": [
        {
          "output_type": "stream",
          "name": "stdout",
          "text": [
            "39999800000\n",
            "\n",
            "real\t0m0.070s\n",
            "user\t0m0.069s\n",
            "sys\t0m0.000s\n"
          ]
        }
      ]
    },
    {
      "cell_type": "code",
      "source": [
        "%%time\n",
        "!python max_pairwise_product_ef.py < input3.txt"
      ],
      "metadata": {
        "id": "Bgbx1BB5-l_X",
        "colab": {
          "base_uri": "https://localhost:8080/"
        },
        "outputId": "5ee4169c-d2f2-4248-9218-3f38ca7a0aa6"
      },
      "execution_count": null,
      "outputs": [
        {
          "output_type": "stream",
          "name": "stdout",
          "text": [
            "40000000000\n",
            "CPU times: user 5.55 ms, sys: 1.09 ms, total: 6.64 ms\n",
            "Wall time: 105 ms\n"
          ]
        }
      ]
    },
    {
      "cell_type": "code",
      "source": [
        "%%time\n",
        "!python max_pairwise_product_ef.py < input11.txt"
      ],
      "metadata": {
        "id": "MTifClHk-nrY",
        "colab": {
          "base_uri": "https://localhost:8080/"
        },
        "outputId": "8a90640a-69a1-402d-fbdc-c982fda2f300"
      },
      "execution_count": null,
      "outputs": [
        {
          "output_type": "stream",
          "name": "stdout",
          "text": [
            "39999800000\n",
            "CPU times: user 9.53 ms, sys: 459 µs, total: 9.99 ms\n",
            "Wall time: 211 ms\n"
          ]
        }
      ]
    },
    {
      "cell_type": "markdown",
      "metadata": {
        "id": "rpdfs0_TNZJf"
      },
      "source": [
        "20 stress tests"
      ]
    },
    {
      "cell_type": "code",
      "execution_count": null,
      "metadata": {
        "id": "Lu4tYcKzNcTT",
        "colab": {
          "base_uri": "https://localhost:8080/"
        },
        "outputId": "64fa8d30-69d5-484a-ad17-1c41aaede056"
      },
      "outputs": [
        {
          "output_type": "stream",
          "name": "stdout",
          "text": [
            "Writing stress_tests_ef_cpp.cpp\n"
          ]
        }
      ],
      "source": [
        "%%writefile stress_tests_ef_cpp.cpp\n",
        "#include <iostream>\n",
        "#include <vector>\n",
        "#include <algorithm>\n",
        "\n",
        "long long ins = 0;\n",
        "\n",
        "long long max_pairwise_product_f(std::vector<int>& v){\n",
        "    int n = v.size();\n",
        "    ins++;\n",
        "    long long p_max = 0;\n",
        "    ins++;\n",
        "    long long s_max = 0;\n",
        "    ins++;\n",
        "    ins++;\n",
        "    for(int i = 0; i < n; ++i) {\n",
        "        ins += 2;\n",
        "        ins++;\n",
        "        if (v[i] > s_max){\n",
        "            s_max = v[i];\n",
        "            ins++;\n",
        "        }\n",
        "        ins++;\n",
        "        if (v[i] > p_max){\n",
        "            s_max = p_max;\n",
        "            ins++;\n",
        "            p_max = v[i];\n",
        "            ins++;\n",
        "        }\n",
        "    }\n",
        "\n",
        "    return (long long) p_max * s_max;\n",
        "}\n",
        "\n",
        "int main(int argc, char* argv[]){\n",
        "    for(int i = 0; i < 20; i++){\n",
        "        int n = rand() % 69 + 2;\n",
        "        std::vector<int> v(n);\n",
        "        for(int i = 0; i < n; i++){\n",
        "            v[i] = rand() % 1000 + 2;\n",
        "        }\n",
        "        std::cout << \"n: \" << n << \" Product: \" << max_pairwise_product_f(v) << '\\n';\n",
        "    }\n",
        "    return 0;\n",
        "}"
      ]
    },
    {
      "cell_type": "code",
      "source": [
        "%%writefile stress_tests_ef_py.py\n",
        "#Python3\n",
        "import random\n",
        "def max_pairwise_product_f(l):\n",
        "    p_max = 0\n",
        "    s_max = 0\n",
        "    for i in l:\n",
        "        if i > s_max:\n",
        "            s_max = i\n",
        "        if i > p_max:\n",
        "            s_max = p_max\n",
        "            p_max = i\n",
        "\n",
        "    return p_max * s_max\n",
        "\n",
        "if __name__ == \"__main__\":\n",
        "    for i in range(20):\n",
        "        n = random.randint(2, 99)\n",
        "        l = [random.randint(17, 24531) for i in range(n)]\n",
        "        print(f\"n: {n} Product: {max_pairwise_product_f(l)}\")"
      ],
      "metadata": {
        "id": "3wzoUp1F-s6q",
        "colab": {
          "base_uri": "https://localhost:8080/"
        },
        "outputId": "bf00eb43-d02f-46cb-ff7e-114950ba0d8c"
      },
      "execution_count": null,
      "outputs": [
        {
          "output_type": "stream",
          "name": "stdout",
          "text": [
            "Writing stress_tests_ef_py.py\n"
          ]
        }
      ]
    },
    {
      "cell_type": "code",
      "source": [
        "!g++ stress_tests_ef_cpp.cpp -o stress_tests_ef_cpp\n",
        "!./stress_tests_ef_cpp"
      ],
      "metadata": {
        "id": "gwmlvB7o-wv8",
        "colab": {
          "base_uri": "https://localhost:8080/"
        },
        "outputId": "0393fb93-e1f7-4def-b934-626ee48df81f"
      },
      "execution_count": null,
      "outputs": [
        {
          "output_type": "stream",
          "name": "stdout",
          "text": [
            "n: 36 Product: 863968\n",
            "n: 57 Product: 980036\n",
            "n: 60 Product: 898343\n",
            "n: 31 Product: 927682\n",
            "n: 13 Product: 762600\n",
            "n: 51 Product: 954088\n",
            "n: 12 Product: 683388\n",
            "n: 26 Product: 981034\n",
            "n: 70 Product: 960364\n",
            "n: 14 Product: 858552\n",
            "n: 61 Product: 993010\n",
            "n: 52 Product: 963270\n",
            "n: 10 Product: 631764\n",
            "n: 32 Product: 994008\n",
            "n: 21 Product: 960319\n",
            "n: 24 Product: 828625\n",
            "n: 2 Product: 74562\n",
            "n: 54 Product: 904397\n",
            "n: 8 Product: 886974\n",
            "n: 23 Product: 911064\n"
          ]
        }
      ]
    },
    {
      "cell_type": "code",
      "source": [
        "!python stress_tests_ef_py.py"
      ],
      "metadata": {
        "id": "4jNrPAG7-y_9",
        "colab": {
          "base_uri": "https://localhost:8080/"
        },
        "outputId": "45d71f3a-4bd8-4f4f-b852-9ba0d0c3573c"
      },
      "execution_count": null,
      "outputs": [
        {
          "output_type": "stream",
          "name": "stdout",
          "text": [
            "n: 16 Product: 365308852\n",
            "n: 8 Product: 491973152\n",
            "n: 75 Product: 582468033\n",
            "n: 59 Product: 572477246\n",
            "n: 21 Product: 491749830\n",
            "n: 42 Product: 576935120\n",
            "n: 24 Product: 430366608\n",
            "n: 65 Product: 587932136\n",
            "n: 88 Product: 588691800\n",
            "n: 73 Product: 594578880\n",
            "n: 38 Product: 599441700\n",
            "n: 40 Product: 515825940\n",
            "n: 35 Product: 571676974\n",
            "n: 47 Product: 579124216\n",
            "n: 62 Product: 577536183\n",
            "n: 86 Product: 578715162\n",
            "n: 45 Product: 560760676\n",
            "n: 31 Product: 550244214\n",
            "n: 57 Product: 584985970\n",
            "n: 85 Product: 585610416\n"
          ]
        }
      ]
    },
    {
      "cell_type": "markdown",
      "metadata": {
        "id": "L8U4151JNbxk"
      },
      "source": [
        "Count executed instructions in code and verify with inputs 1,2 and 3\n"
      ]
    },
    {
      "cell_type": "code",
      "execution_count": null,
      "metadata": {
        "id": "dh85RM8vNhFz",
        "colab": {
          "base_uri": "https://localhost:8080/"
        },
        "outputId": "c74b04b2-9dc0-4c90-95bd-46e7190e9e31"
      },
      "outputs": [
        {
          "output_type": "stream",
          "name": "stdout",
          "text": [
            "Writing max_pairwise_product_ef_ins.cpp\n"
          ]
        }
      ],
      "source": [
        "%%writefile max_pairwise_product_ef_ins.cpp\n",
        "#include <iostream>\n",
        "#include <vector>\n",
        "#include <algorithm>\n",
        "\n",
        "long long ins = 0;\n",
        "\n",
        "long long max_pairwise_product_f(std::vector<int>& v){\n",
        "    int n = v.size();                        //1\n",
        "    ins++;\n",
        "    long long p_max = 0;                     //1\n",
        "    ins++;\n",
        "    long long s_max = 0;                     //1\n",
        "    ins++;\n",
        "    ins++;\n",
        "    for(int i = 0; i < n; ++i) {             //1 + 2n\n",
        "        ins += 2;\n",
        "        ins++;\n",
        "        if (v[i] > s_max){                    //n\n",
        "            s_max = v[i];                     //[0, n]\n",
        "            ins++;\n",
        "        }\n",
        "        ins++;\n",
        "        if (v[i] > p_max){                   //n\n",
        "            s_max = p_max;                   //[0, n]\n",
        "            ins++;\n",
        "            p_max = v[i];                    //[0, n]\n",
        "            ins++;\n",
        "        }\n",
        "    }\n",
        "    ins += 2;\n",
        "    return (long long) p_max * s_max;       //2 -> 6 + 4n + 3[0, n]          //[0, n] means that, in the worst case, executes n times.\n",
        "}\n",
        "\n",
        "int main(int argc, char* argv[]){\n",
        "    int n;                                  //1\n",
        "    ins++;\n",
        "    std::cin >> n;                          //1\n",
        "    ins++;\n",
        "    std::vector<int> v(n);                  //n\n",
        "    ins += n;\n",
        "    ins++;\n",
        "    for(int i = 0; i < n; i++){             //1 + 2n\n",
        "        ins += 2;\n",
        "        std::cin >> v[i];                   //n\n",
        "        ins++;\n",
        "    }\n",
        "\n",
        "    std::cout << max_pairwise_product_f(v) << '\\n'; //1 -> 4 + 4n + 6 + 4n + 3[0, n] -> 10 +8n + 3[0, n] -> 10 + 11n worst case.\n",
        "    std::cout << \"Executed instructions: \" << ins << '\\n';\n",
        "    return 0;\n",
        "}"
      ]
    },
    {
      "cell_type": "code",
      "source": [
        "%%writefile max_pairwise_product_ef_ins_py.py\n",
        "#Python3\n",
        "ins = 0\n",
        "def max_pairwise_product_f(l):\n",
        "    global ins\n",
        "    p_max = 0                               #1\n",
        "    ins += 1\n",
        "    s_max = 0                               #1\n",
        "    ins += 1\n",
        "    ins += 1\n",
        "    for i in l:                             #1 + 2n\n",
        "        ins += 2\n",
        "        if i > s_max:                       #n\n",
        "            s_max = i                       #[0, n]           #[0, n] means that, in the worst case, executes n times\n",
        "            ins += 1\n",
        "        if i > p_max:                       #n\n",
        "            s_max = p_max                   #[0, n]\n",
        "            ins += 1\n",
        "            p_max = i                       #[0, n]\n",
        "            ins += 1\n",
        "\n",
        "    ins += 2\n",
        "    return p_max * s_max                    #2       #5 + 4n + 3[0, n] -> 5 + 7n worst\n",
        "\n",
        "if __name__ == \"__main__\":\n",
        "        n = int(input())                                 #1\n",
        "        ins += 1\n",
        "        l = list(map(int, input().split()))              #5n\n",
        "        ins += 5 * n\n",
        "        ins += 1\n",
        "        print(max_pairwise_product_f(l))                 #1\n",
        "        print(f\"Executed instructions: {ins}\")           #-> 2 + 5n + 5 + 7n -> 7 + 12n"
      ],
      "metadata": {
        "id": "ENzuq1pK---q",
        "colab": {
          "base_uri": "https://localhost:8080/"
        },
        "outputId": "f1a6ce9f-18cb-4a75-f4c7-786cea22f69f"
      },
      "execution_count": null,
      "outputs": [
        {
          "output_type": "stream",
          "name": "stdout",
          "text": [
            "Writing max_pairwise_product_ef_ins_py.py\n"
          ]
        }
      ]
    },
    {
      "cell_type": "code",
      "source": [
        "!g++ max_pairwise_product_ef_ins.cpp -o max_pairwise_product_ef_ins\n",
        "!./max_pairwise_product_ef_ins < input1.txt\n",
        "!./max_pairwise_product_ef_ins < input2.txt\n",
        "!./max_pairwise_product_ef_ins < input3.txt"
      ],
      "metadata": {
        "id": "t8RL1Rd0_BOT",
        "colab": {
          "base_uri": "https://localhost:8080/"
        },
        "outputId": "a4f3ca5c-9c75-4edf-f582-5c8bb1aa82a0"
      },
      "execution_count": null,
      "outputs": [
        {
          "output_type": "stream",
          "name": "stdout",
          "text": [
            "90\n",
            "Executed instructions: 119\n",
            "90\n",
            "Executed instructions: 93\n",
            "40000000000\n",
            "Executed instructions: 68\n"
          ]
        }
      ]
    },
    {
      "cell_type": "code",
      "source": [
        "!time ./max_pairwise_product_ef_ins < input11.txt"
      ],
      "metadata": {
        "id": "p8mBWJpF_DTC",
        "colab": {
          "base_uri": "https://localhost:8080/"
        },
        "outputId": "8684cbce-7512-4ecb-a31a-efdd0da4139a"
      },
      "execution_count": null,
      "outputs": [
        {
          "output_type": "stream",
          "name": "stdout",
          "text": [
            "39999800000\n",
            "Executed instructions: 2200009\n",
            "\n",
            "real\t0m0.075s\n",
            "user\t0m0.067s\n",
            "sys\t0m0.002s\n"
          ]
        }
      ]
    },
    {
      "cell_type": "code",
      "source": [
        "!python max_pairwise_product_ef_ins_py.py < input1.txt\n",
        "!python max_pairwise_product_ef_ins_py.py < input2.txt"
      ],
      "metadata": {
        "id": "nJeR7IPX_E1S",
        "colab": {
          "base_uri": "https://localhost:8080/"
        },
        "outputId": "be992f33-16a5-4d76-d1a3-b6b052930d0b"
      },
      "execution_count": null,
      "outputs": [
        {
          "output_type": "stream",
          "name": "stdout",
          "text": [
            "90\n",
            "Executed instructions: 107\n",
            "90\n",
            "Executed instructions: 81\n"
          ]
        }
      ]
    },
    {
      "cell_type": "code",
      "source": [
        "%%time\n",
        "!python max_pairwise_product_ef_ins_py.py < input3.txt"
      ],
      "metadata": {
        "id": "gHiJMZEI_GfK",
        "colab": {
          "base_uri": "https://localhost:8080/"
        },
        "outputId": "67f55971-0991-43fa-a8a1-528901fb14e4"
      },
      "execution_count": null,
      "outputs": [
        {
          "output_type": "stream",
          "name": "stdout",
          "text": [
            "40000000000\n",
            "Executed instructions: 60\n",
            "CPU times: user 8.9 ms, sys: 0 ns, total: 8.9 ms\n",
            "Wall time: 109 ms\n"
          ]
        }
      ]
    },
    {
      "cell_type": "code",
      "source": [
        "%%time\n",
        "!python max_pairwise_product_ef_ins_py.py < input11.txt"
      ],
      "metadata": {
        "id": "JKvYLkhO_G9X",
        "colab": {
          "base_uri": "https://localhost:8080/"
        },
        "outputId": "ca37f220-8c20-455c-fcfc-564153abf203"
      },
      "execution_count": null,
      "outputs": [
        {
          "output_type": "stream",
          "name": "stdout",
          "text": [
            "39999800000\n",
            "Executed instructions: 2000007\n",
            "CPU times: user 4.97 ms, sys: 1.95 ms, total: 6.92 ms\n",
            "Wall time: 206 ms\n"
          ]
        }
      ]
    },
    {
      "cell_type": "markdown",
      "metadata": {
        "id": "K6ybgCmpNygr"
      },
      "source": [
        "Calculate estimated time by instruction and number of instructions by second"
      ]
    },
    {
      "cell_type": "code",
      "execution_count": null,
      "metadata": {
        "id": "kwe3G1O3Nz1w",
        "colab": {
          "base_uri": "https://localhost:8080/"
        },
        "outputId": "6630f243-aa5f-4ab2-f9dd-0567cdd1a21c"
      },
      "outputs": [
        {
          "output_type": "stream",
          "name": "stdout",
          "text": [
            "2.3136268987990502e-09\n",
            "432221807.4656189\n"
          ]
        }
      ],
      "source": [
        "estimated_time = 0.00509/ 2200009\n",
        "number_of_ins_per_second = 1 / estimated_time\n",
        "print(estimated_time)\n",
        "print(number_of_ins_per_second)"
      ]
    },
    {
      "cell_type": "markdown",
      "metadata": {
        "id": "sUpIWcykOGpT"
      },
      "source": [
        "### Super efficient solution\n",
        "\n",
        "Whitout storing the list in memory, only stpring the largest and second largest and whitout calling a function, add in each line a coment with the number of instructions that are executed in that line\n",
        "\n",
        "in C++ and Python\n",
        " $$2 n = O(n)$$"
      ]
    },
    {
      "cell_type": "markdown",
      "source": [
        "ALGORITMO 5"
      ],
      "metadata": {
        "id": "lDTLg-yzA3-E"
      }
    },
    {
      "cell_type": "code",
      "execution_count": null,
      "metadata": {
        "id": "hBLt_xBQLy8E",
        "colab": {
          "base_uri": "https://localhost:8080/"
        },
        "outputId": "84c1fe80-8e25-4d52-e6be-0018ee1abef1"
      },
      "outputs": [
        {
          "output_type": "stream",
          "name": "stdout",
          "text": [
            "Writing max_pairwise_product_gef_cpp.cpp\n"
          ]
        }
      ],
      "source": [
        "%%writefile max_pairwise_product_gef_cpp.cpp\n",
        "#include <iostream>\n",
        "#include <vector>\n",
        "#include <algorithm>\n",
        "#include <climits>\n",
        "\n",
        "int main(int argc, char* argv[]){\n",
        "    int n;\n",
        "    std::cin >> n;\n",
        "    int p_max = INT_MIN;\n",
        "    int s_max = INT_MIN;\n",
        "\n",
        "    for (int i = 0; i < n; i++){\n",
        "        int x;\n",
        "        std::cin >> x;\n",
        "        if(x > p_max){\n",
        "            s_max = p_max;\n",
        "            p_max = x;\n",
        "        }\n",
        "        else if(x > s_max){\n",
        "            s_max = x;\n",
        "        }\n",
        "    }\n",
        "\n",
        "    std::cout << (long long) p_max * s_max << \"\\n\";\n",
        "    return 0;\n",
        "}"
      ]
    },
    {
      "cell_type": "markdown",
      "metadata": {
        "id": "683gc3roHqzb"
      },
      "source": [
        "Test with inputs 1 and 2\n",
        "\n",
        "\n"
      ]
    },
    {
      "cell_type": "code",
      "execution_count": null,
      "metadata": {
        "id": "b7d4LA8OIc2_",
        "colab": {
          "base_uri": "https://localhost:8080/"
        },
        "outputId": "976e339e-1ef7-4f68-d968-30dc6edbeb45"
      },
      "outputs": [
        {
          "output_type": "stream",
          "name": "stdout",
          "text": [
            "90\n",
            "90\n"
          ]
        }
      ],
      "source": [
        "!g++ max_pairwise_product_gef_cpp.cpp -o max_pairwise_product_gef_cpp\n",
        "!./max_pairwise_product_gef_cpp < input1.txt\n",
        "!./max_pairwise_product_gef_cpp < input2.txt"
      ]
    },
    {
      "cell_type": "markdown",
      "metadata": {
        "id": "36Ugn1odIeJz"
      },
      "source": [
        "Test and time it with input 3"
      ]
    },
    {
      "cell_type": "code",
      "execution_count": null,
      "metadata": {
        "id": "jDyMbCnxHqSN",
        "colab": {
          "base_uri": "https://localhost:8080/"
        },
        "outputId": "4c19e88f-37ab-4990-e449-8c3297de61b2"
      },
      "outputs": [
        {
          "output_type": "stream",
          "name": "stdout",
          "text": [
            "40000000000\n",
            "\n",
            "real\t0m0.003s\n",
            "user\t0m0.000s\n",
            "sys\t0m0.003s\n"
          ]
        }
      ],
      "source": [
        "!g++ max_pairwise_product_gef_cpp.cpp -o max_pairwise_product_gef_cpp\n",
        "!time ./max_pairwise_product_gef_cpp < input3.txt"
      ]
    },
    {
      "cell_type": "markdown",
      "metadata": {
        "id": "bhqiKQG6fjKM"
      },
      "source": [
        "20 stress tests"
      ]
    },
    {
      "cell_type": "code",
      "execution_count": null,
      "metadata": {
        "id": "2KsiXKhALzwm",
        "colab": {
          "base_uri": "https://localhost:8080/"
        },
        "outputId": "deff046c-31e6-4649-d64f-6f8bbd8c0426"
      },
      "outputs": [
        {
          "output_type": "stream",
          "name": "stdout",
          "text": [
            "Writing stress_tests_gef_cpp.cpp\n"
          ]
        }
      ],
      "source": [
        "%%writefile stress_tests_gef_cpp.cpp\n",
        "#include <iostream>\n",
        "#include <vector>\n",
        "#include <algorithm>\n",
        "#include <climits>\n",
        "\n",
        "int main(int argc, char* argv[]){\n",
        "    for(int i = 0; i < 20; i++){\n",
        "        int n = rand() % 77 + 2;\n",
        "        int p_max = INT_MIN;\n",
        "        int s_max = INT_MIN;\n",
        "\n",
        "        for (int i = 0; i < n; i++){\n",
        "            int x = rand() % 1000 + 2;\n",
        "            if(x > p_max){\n",
        "                s_max = p_max;\n",
        "                p_max = x;\n",
        "            }\n",
        "            else if(x > s_max){\n",
        "                s_max = x;\n",
        "            }\n",
        "        }\n",
        "\n",
        "        std::cout << \"n: \" << n << \" Product: \" << (long long) p_max * s_max << \"\\n\";\n",
        "    }\n",
        "    return 0;\n",
        "}"
      ]
    },
    {
      "cell_type": "code",
      "source": [
        "!g++ stress_tests_gef_cpp.cpp -o stress_tests_gef_cpp\n",
        "!./stress_tests_gef_cpp"
      ],
      "metadata": {
        "id": "9wee-cWx_VkI",
        "colab": {
          "base_uri": "https://localhost:8080/"
        },
        "outputId": "29c20f0f-e865-423c-b942-4e45b5b68ef9"
      },
      "execution_count": null,
      "outputs": [
        {
          "output_type": "stream",
          "name": "stdout",
          "text": [
            "n: 52 Product: 863968\n",
            "n: 59 Product: 956084\n",
            "n: 53 Product: 898343\n",
            "n: 22 Product: 927682\n",
            "n: 2 Product: 56643\n",
            "n: 32 Product: 928140\n",
            "n: 48 Product: 885256\n",
            "n: 26 Product: 981034\n",
            "n: 40 Product: 928812\n",
            "n: 23 Product: 876600\n",
            "n: 55 Product: 991020\n",
            "n: 27 Product: 990016\n",
            "n: 11 Product: 557996\n",
            "n: 70 Product: 994008\n",
            "n: 53 Product: 961308\n",
            "n: 58 Product: 926316\n",
            "n: 39 Product: 979080\n",
            "n: 3 Product: 290360\n",
            "n: 23 Product: 876015\n",
            "n: 26 Product: 874290\n"
          ]
        }
      ]
    },
    {
      "cell_type": "markdown",
      "metadata": {
        "id": "fEXj8GHJH5p1"
      },
      "source": [
        "Count executed instructions in code and verify with inputs 1,2 and 3"
      ]
    },
    {
      "cell_type": "code",
      "execution_count": null,
      "metadata": {
        "id": "LF1DHjKXIAsF",
        "colab": {
          "base_uri": "https://localhost:8080/"
        },
        "outputId": "3bbe61a9-dfbf-4081-a318-084d9571dae6"
      },
      "outputs": [
        {
          "output_type": "stream",
          "name": "stdout",
          "text": [
            "Writing max_pairwise_product_gef_ins_cpp.cpp\n"
          ]
        }
      ],
      "source": [
        "%%writefile max_pairwise_product_gef_ins_cpp.cpp\n",
        "#include <iostream>\n",
        "#include <vector>\n",
        "#include <algorithm>\n",
        "#include <climits>\n",
        "\n",
        "int main(int argc, char* argv[]){\n",
        "    uint64_t ins = 0;\n",
        "    int n;                          //1\n",
        "    ins++;\n",
        "    std::cin >> n;                  //1\n",
        "    ins++;\n",
        "    int p_max = INT_MIN;            //1\n",
        "    ins++;\n",
        "    int s_max = INT_MIN;            //1\n",
        "    ins++;\n",
        "    ins++;\n",
        "    for (int i = 0; i < n; i++){    //1 + 2n\n",
        "        ins += 2;\n",
        "        int x;                      //n\n",
        "        ins++;\n",
        "        std::cin >> x;              //n\n",
        "        ins++;\n",
        "        ins += 2; //both ifs\n",
        "        if(x > p_max){              //[0, n]           //[0, n] means that, in the worst case, executes n times.\n",
        "            s_max = p_max;          //[0, n]\n",
        "            ins++;\n",
        "            p_max = x;              //[0, n]\n",
        "            ins++;\n",
        "        }\n",
        "        else if(x > s_max){         //[0, n]\n",
        "            s_max = x;              //[0, n]\n",
        "            ins++;\n",
        "        }\n",
        "    }\n",
        "\n",
        "    ins += 3;\n",
        "    std::cout << (long long) p_max * s_max << \"\\n\"; //3 -> 8 + 4n + 5[0, n] -> 8 + 9n worst case.\n",
        "    std::cout << \"Executed instructions: \" << ins << '\\n';\n",
        "    return 0;\n",
        "}"
      ]
    },
    {
      "cell_type": "code",
      "source": [
        "!g++ max_pairwise_product_gef_ins_cpp.cpp -o max_pairwise_product_gef_ins_cpp\n",
        "!./max_pairwise_product_gef_ins_cpp < input1.txt\n",
        "!./max_pairwise_product_gef_ins_cpp < input2.txt\n",
        "!./max_pairwise_product_gef_ins_cpp < input3.txt"
      ],
      "metadata": {
        "id": "4V0HKHZm_bRg",
        "colab": {
          "base_uri": "https://localhost:8080/"
        },
        "outputId": "ae890567-8d7c-4fcc-eb53-e484987da605"
      },
      "execution_count": null,
      "outputs": [
        {
          "output_type": "stream",
          "name": "stdout",
          "text": [
            "90\n",
            "Executed instructions: 88\n",
            "90\n",
            "Executed instructions: 71\n",
            "40000000000\n",
            "Executed instructions: 52\n"
          ]
        }
      ]
    },
    {
      "cell_type": "code",
      "source": [
        "!time ./max_pairwise_product_gef_ins_cpp < input11.txt"
      ],
      "metadata": {
        "id": "St1BDulT_dPg",
        "colab": {
          "base_uri": "https://localhost:8080/"
        },
        "outputId": "45cf3faf-8c0c-4cb2-fb39-36c3f57a2e5b"
      },
      "execution_count": null,
      "outputs": [
        {
          "output_type": "stream",
          "name": "stdout",
          "text": [
            "39999800000\n",
            "Executed instructions: 1600008\n",
            "\n",
            "real\t0m0.079s\n",
            "user\t0m0.074s\n",
            "sys\t0m0.000s\n"
          ]
        }
      ]
    },
    {
      "cell_type": "markdown",
      "metadata": {
        "id": "yae7sSm2IG9U"
      },
      "source": [
        "Calculate estimated time by instruction and number of instructions by second"
      ]
    },
    {
      "cell_type": "code",
      "execution_count": null,
      "metadata": {
        "id": "suouY7BYL2dz",
        "colab": {
          "base_uri": "https://localhost:8080/"
        },
        "outputId": "8a52525c-4131-44e1-afdb-b428f2e2ec2b"
      },
      "outputs": [
        {
          "output_type": "stream",
          "name": "stdout",
          "text": [
            "4.5624771876140615e-08\n",
            "21917917.80821918\n"
          ]
        }
      ],
      "source": [
        "estimated_time = 0.073 / 1600008\n",
        "number_of_ins_per_second = 1 / estimated_time\n",
        "print(estimated_time)\n",
        "print(number_of_ins_per_second)"
      ]
    },
    {
      "cell_type": "markdown",
      "metadata": {
        "id": "sy33CNNfPxcE"
      },
      "source": [
        "### Super efficient solution in Python\n",
        "\n",
        "Whitout storing the list in memory and whitout calling a function, add in each line a coment with the number of intstrcution that are executed in that line"
      ]
    },
    {
      "cell_type": "code",
      "execution_count": null,
      "metadata": {
        "id": "_mOjJwKrPxcJ",
        "colab": {
          "base_uri": "https://localhost:8080/"
        },
        "outputId": "7493995f-e5d8-4cf9-d342-0a99706d6500"
      },
      "outputs": [
        {
          "output_type": "stream",
          "name": "stdout",
          "text": [
            "Writing max_pairwise_product_gef_py.py\n"
          ]
        }
      ],
      "source": [
        "%%writefile max_pairwise_product_gef_py.py\n",
        "#Python3\n",
        "if __name__ == \"__main__\":\n",
        "    n = int(input())\n",
        "    p_max = -1\n",
        "    s_max = -1\n",
        "    for i in input().split():\n",
        "        i = int(i)\n",
        "        if(i > p_max):\n",
        "            s_max = p_max\n",
        "            p_max = i\n",
        "        elif i > s_max:\n",
        "            s_max = i\n",
        "    print(p_max * s_max)"
      ]
    },
    {
      "cell_type": "markdown",
      "metadata": {
        "id": "K08Eow0hPxcJ"
      },
      "source": [
        "Test with inputs 1 and 2\n",
        "\n",
        "\n"
      ]
    },
    {
      "cell_type": "code",
      "execution_count": null,
      "metadata": {
        "id": "1_mUee2cPxcJ",
        "colab": {
          "base_uri": "https://localhost:8080/"
        },
        "outputId": "43cfea36-a398-460b-f96f-35cf40002418"
      },
      "outputs": [
        {
          "output_type": "stream",
          "name": "stdout",
          "text": [
            "90\n",
            "90\n"
          ]
        }
      ],
      "source": [
        "!python max_pairwise_product_gef_py.py < input1.txt\n",
        "!python max_pairwise_product_gef_py.py < input2.txt"
      ]
    },
    {
      "cell_type": "markdown",
      "metadata": {
        "id": "CE5DB3CmPxcJ"
      },
      "source": [
        "Test and time it with input 3"
      ]
    },
    {
      "cell_type": "code",
      "execution_count": null,
      "metadata": {
        "id": "lyLhFOoePxcJ",
        "colab": {
          "base_uri": "https://localhost:8080/"
        },
        "outputId": "dec52e0e-3df7-41f3-85bb-8ce5a07e9407"
      },
      "outputs": [
        {
          "output_type": "stream",
          "name": "stdout",
          "text": [
            "40000000000\n",
            "CPU times: user 6.77 ms, sys: 0 ns, total: 6.77 ms\n",
            "Wall time: 105 ms\n"
          ]
        }
      ],
      "source": [
        "%%time\n",
        "!python max_pairwise_product_gef_py.py < input3.txt"
      ]
    },
    {
      "cell_type": "markdown",
      "metadata": {
        "id": "HZEI236lPxcK"
      },
      "source": [
        "20 stress tests"
      ]
    },
    {
      "cell_type": "code",
      "execution_count": null,
      "metadata": {
        "id": "_LoV-p4zPxcK",
        "colab": {
          "base_uri": "https://localhost:8080/"
        },
        "outputId": "2ad9ac70-512d-4ab1-e559-20cf8c7902d2"
      },
      "outputs": [
        {
          "output_type": "stream",
          "name": "stdout",
          "text": [
            "Writing stress_tests_gef_py.py\n"
          ]
        }
      ],
      "source": [
        "%%writefile stress_tests_gef_py.py\n",
        "import random\n",
        "#Python3\n",
        "if __name__ == \"__main__\":\n",
        "    for i in range(20):\n",
        "        n = random.randint(2, 99)\n",
        "        p_max = -1\n",
        "        s_max = -1\n",
        "        for x in range(n):\n",
        "            i = random.randint(19, 133700)\n",
        "            if(i > p_max):\n",
        "                s_max = p_max\n",
        "                p_max = i\n",
        "            elif i > s_max:\n",
        "                s_max = i\n",
        "        print(f\"n: {n} Product: {p_max * s_max}\")"
      ]
    },
    {
      "cell_type": "code",
      "source": [
        "!python stress_tests_gef_py.py"
      ],
      "metadata": {
        "id": "K3xh6XH2_tao",
        "colab": {
          "base_uri": "https://localhost:8080/"
        },
        "outputId": "567bbe0e-dc36-43e2-8bd8-60456366c0d9"
      },
      "execution_count": null,
      "outputs": [
        {
          "output_type": "stream",
          "name": "stdout",
          "text": [
            "n: 93 Product: 17435678260\n",
            "n: 75 Product: 17729028801\n",
            "n: 61 Product: 16762952646\n",
            "n: 99 Product: 17487704500\n",
            "n: 76 Product: 17019787523\n",
            "n: 6 Product: 6454362695\n",
            "n: 56 Product: 17503503186\n",
            "n: 19 Product: 13787546006\n",
            "n: 70 Product: 16370434745\n",
            "n: 28 Product: 17288105470\n",
            "n: 81 Product: 17602861440\n",
            "n: 9 Product: 14125847988\n",
            "n: 75 Product: 16993152000\n",
            "n: 38 Product: 17283964554\n",
            "n: 89 Product: 17392834200\n",
            "n: 61 Product: 17410842338\n",
            "n: 72 Product: 17206721031\n",
            "n: 22 Product: 17547691504\n",
            "n: 67 Product: 17451213821\n",
            "n: 95 Product: 17175539254\n"
          ]
        }
      ]
    },
    {
      "cell_type": "markdown",
      "metadata": {
        "id": "IRVdP3iuPxcK"
      },
      "source": [
        "Count executed instructions in code and verify with inputs 1,2 and 3"
      ]
    },
    {
      "cell_type": "code",
      "execution_count": null,
      "metadata": {
        "id": "RghJOg78PxcK",
        "colab": {
          "base_uri": "https://localhost:8080/"
        },
        "outputId": "32518aad-238b-4e21-ca03-4616abb003a0"
      },
      "outputs": [
        {
          "output_type": "stream",
          "name": "stdout",
          "text": [
            "Writing max_pairwise_product_gef_ins_py.py\n"
          ]
        }
      ],
      "source": [
        "%%writefile max_pairwise_product_gef_ins_py.py\n",
        "import random\n",
        "#Python3\n",
        "if __name__ == \"__main__\":\n",
        "        ins = 0\n",
        "        n = int(input())                 #1\n",
        "        ins += 1\n",
        "        p_max = -1                       #1\n",
        "        ins += 1\n",
        "        s_max = -1                       #1\n",
        "        ins += 1\n",
        "        ins += 1\n",
        "        for i in input().split():        #1 + 3n (n reads, 2n comparisons unitl end of input)\n",
        "            ins += 2\n",
        "            i = int(i)                   #n\n",
        "            ins += 1\n",
        "            ins += 2\n",
        "            if(i > p_max):               #[0, n]\n",
        "                s_max = p_max            #[0, n]\n",
        "                ins += 1\n",
        "                p_max = i                #[0, n]\n",
        "                ins += 1\n",
        "            elif i > s_max:              #[0, n]\n",
        "                s_max = i                #[0, n]\n",
        "                ins += 1\n",
        "        print(p_max * s_max)             #2\n",
        "        print(f\"Executed instructions: {ins}\") #->6 + 4n + 5[0, n] -> 6 + 9n worst case"
      ]
    },
    {
      "cell_type": "code",
      "source": [
        "!python max_pairwise_product_gef_ins_py.py < input1.txt\n",
        "!python max_pairwise_product_gef_ins_py.py < input2.txt\n",
        "!python max_pairwise_product_gef_ins_py.py < input3.txt"
      ],
      "metadata": {
        "id": "q_RMNaZZ_0Zj",
        "colab": {
          "base_uri": "https://localhost:8080/"
        },
        "outputId": "182b5c72-70e5-4cdd-d65c-080ef84df7f9"
      },
      "execution_count": null,
      "outputs": [
        {
          "output_type": "stream",
          "name": "stdout",
          "text": [
            "90\n",
            "Executed instructions: 74\n",
            "90\n",
            "Executed instructions: 57\n",
            "40000000000\n",
            "Executed instructions: 42\n"
          ]
        }
      ]
    },
    {
      "cell_type": "code",
      "source": [
        "%%time\n",
        "!python max_pairwise_product_gef_ins_py.py < input11.txt"
      ],
      "metadata": {
        "id": "Xw9Nh1mp_2G8",
        "colab": {
          "base_uri": "https://localhost:8080/"
        },
        "outputId": "20870b7b-fa47-481b-81ae-9ae08542216e"
      },
      "execution_count": null,
      "outputs": [
        {
          "output_type": "stream",
          "name": "stdout",
          "text": [
            "39999800000\n",
            "Executed instructions: 1400004\n",
            "CPU times: user 7.21 ms, sys: 1.03 ms, total: 8.24 ms\n",
            "Wall time: 306 ms\n"
          ]
        }
      ]
    },
    {
      "cell_type": "markdown",
      "metadata": {
        "id": "R6qeUjPaPxcK"
      },
      "source": [
        "Calculate estimated time by instruction and number of instructions by second"
      ]
    },
    {
      "cell_type": "code",
      "execution_count": null,
      "metadata": {
        "id": "iLdXYvn3PxcK",
        "colab": {
          "base_uri": "https://localhost:8080/"
        },
        "outputId": "d4065b12-8ec9-4b8f-b904-2b5b1bd504b2"
      },
      "outputs": [
        {
          "output_type": "stream",
          "name": "stdout",
          "text": [
            "3.871417510235685e-09\n",
            "258303321.0332103\n"
          ]
        }
      ],
      "source": [
        "estimated_time = 0.00542 / 1400004\n",
        "number_of_ins_per_second = 1 / estimated_time\n",
        "print(estimated_time)\n",
        "print(number_of_ins_per_second)"
      ]
    },
    {
      "cell_type": "markdown",
      "source": [
        "Super eficent Solution Py (T(n)<10n=O(n)))"
      ],
      "metadata": {
        "id": "0t_JRRT_o7OL"
      }
    },
    {
      "cell_type": "code",
      "source": [
        "%%writefile max_pairwise_product_gef_py.py\n",
        "if __name__ == \"__main__\":\n",
        "    n = int(input())\n",
        "    p_max = -1\n",
        "    s_max = -1\n",
        "    for i in input().split():\n",
        "        i = int(i)\n",
        "        if(i > p_max):\n",
        "            s_max = p_max\n",
        "            p_max = i\n",
        "        elif i > s_max:\n",
        "            s_max = i\n",
        "    print(p_max * s_max)"
      ],
      "metadata": {
        "colab": {
          "base_uri": "https://localhost:8080/"
        },
        "id": "PyCAitbnpD36",
        "outputId": "d49f03fb-3fec-42cf-c7ad-54feb287288f"
      },
      "execution_count": null,
      "outputs": [
        {
          "output_type": "stream",
          "name": "stdout",
          "text": [
            "Overwriting max_pairwise_product_gef_py.py\n"
          ]
        }
      ]
    },
    {
      "cell_type": "code",
      "source": [
        "\n",
        "!python max_pairwise_product_gef_py.py\n",
        "!python max_pairwise_product_gef_py.py < input_2.txt"
      ],
      "metadata": {
        "colab": {
          "base_uri": "https://localhost:8080/"
        },
        "id": "L8Ww8GOopZLc",
        "outputId": "e587a95b-e29a-4397-cf1f-eb5c5b11e795"
      },
      "execution_count": null,
      "outputs": [
        {
          "output_type": "stream",
          "name": "stdout",
          "text": [
            "2\n",
            "8 5\n",
            "40\n",
            "9300\n"
          ]
        }
      ]
    },
    {
      "cell_type": "code",
      "source": [
        "%%writefile gen_input.sh\n",
        "#!/bin/bash\n",
        "\n",
        "# Número de conjuntos de números aleatorios que deseas generar\n",
        "numero_conjuntos=100\n",
        "\n",
        "for ((j=1; j<=$numero_conjuntos; j++)); do\n",
        "  # Generar un número aleatorio entre 1 y 100\n",
        "  numero_aleatorio=$((RANDOM % 100 + 1))\n",
        "\n",
        "  # Crear una cadena con la secuencia de números aleatorios\n",
        "  numeros_aleatorios=\"\"\n",
        "  for ((i=1; i<=$numero_aleatorio; i++)); do\n",
        "    numeros_aleatorios=\"$numeros_aleatorios $((RANDOM % 100 + 1))\"\n",
        "  done\n",
        "\n",
        "  # Escribir los datos en un archivo de texto con un nombre único\n",
        "  archivo_salida=\"input_$j.txt\"\n",
        "  echo \"$numero_aleatorio\" > \"$archivo_salida\"\n",
        "  echo \"$numeros_aleatorios\" >> \"$archivo_salida\"\n",
        "\n",
        "  echo \"Archivo '$archivo_salida' generado con éxito.\"\n",
        "done\n"
      ],
      "metadata": {
        "colab": {
          "base_uri": "https://localhost:8080/"
        },
        "id": "yfH1ptsiuKee",
        "outputId": "bc596322-3769-496c-cd1d-e48fb165dcce"
      },
      "execution_count": null,
      "outputs": [
        {
          "output_type": "stream",
          "name": "stdout",
          "text": [
            "Overwriting gen_input.sh\n"
          ]
        }
      ]
    },
    {
      "cell_type": "code",
      "source": [
        "!bash gen_input.sh"
      ],
      "metadata": {
        "colab": {
          "base_uri": "https://localhost:8080/"
        },
        "id": "iVY1W-zYxTvc",
        "outputId": "dfbc24a9-8e3e-4b90-fe81-6f9f99704d7a"
      },
      "execution_count": null,
      "outputs": [
        {
          "output_type": "stream",
          "name": "stdout",
          "text": [
            "Archivo 'input_1.txt' generado con éxito.\n",
            "Archivo 'input_2.txt' generado con éxito.\n",
            "Archivo 'input_3.txt' generado con éxito.\n",
            "Archivo 'input_4.txt' generado con éxito.\n",
            "Archivo 'input_5.txt' generado con éxito.\n",
            "Archivo 'input_6.txt' generado con éxito.\n",
            "Archivo 'input_7.txt' generado con éxito.\n",
            "Archivo 'input_8.txt' generado con éxito.\n",
            "Archivo 'input_9.txt' generado con éxito.\n",
            "Archivo 'input_10.txt' generado con éxito.\n",
            "Archivo 'input_11.txt' generado con éxito.\n",
            "Archivo 'input_12.txt' generado con éxito.\n",
            "Archivo 'input_13.txt' generado con éxito.\n",
            "Archivo 'input_14.txt' generado con éxito.\n",
            "Archivo 'input_15.txt' generado con éxito.\n",
            "Archivo 'input_16.txt' generado con éxito.\n",
            "Archivo 'input_17.txt' generado con éxito.\n",
            "Archivo 'input_18.txt' generado con éxito.\n",
            "Archivo 'input_19.txt' generado con éxito.\n",
            "Archivo 'input_20.txt' generado con éxito.\n",
            "Archivo 'input_21.txt' generado con éxito.\n",
            "Archivo 'input_22.txt' generado con éxito.\n",
            "Archivo 'input_23.txt' generado con éxito.\n",
            "Archivo 'input_24.txt' generado con éxito.\n",
            "Archivo 'input_25.txt' generado con éxito.\n",
            "Archivo 'input_26.txt' generado con éxito.\n",
            "Archivo 'input_27.txt' generado con éxito.\n",
            "Archivo 'input_28.txt' generado con éxito.\n",
            "Archivo 'input_29.txt' generado con éxito.\n",
            "Archivo 'input_30.txt' generado con éxito.\n",
            "Archivo 'input_31.txt' generado con éxito.\n",
            "Archivo 'input_32.txt' generado con éxito.\n",
            "Archivo 'input_33.txt' generado con éxito.\n",
            "Archivo 'input_34.txt' generado con éxito.\n",
            "Archivo 'input_35.txt' generado con éxito.\n",
            "Archivo 'input_36.txt' generado con éxito.\n",
            "Archivo 'input_37.txt' generado con éxito.\n",
            "Archivo 'input_38.txt' generado con éxito.\n",
            "Archivo 'input_39.txt' generado con éxito.\n",
            "Archivo 'input_40.txt' generado con éxito.\n",
            "Archivo 'input_41.txt' generado con éxito.\n",
            "Archivo 'input_42.txt' generado con éxito.\n",
            "Archivo 'input_43.txt' generado con éxito.\n",
            "Archivo 'input_44.txt' generado con éxito.\n",
            "Archivo 'input_45.txt' generado con éxito.\n",
            "Archivo 'input_46.txt' generado con éxito.\n",
            "Archivo 'input_47.txt' generado con éxito.\n",
            "Archivo 'input_48.txt' generado con éxito.\n",
            "Archivo 'input_49.txt' generado con éxito.\n",
            "Archivo 'input_50.txt' generado con éxito.\n",
            "Archivo 'input_51.txt' generado con éxito.\n",
            "Archivo 'input_52.txt' generado con éxito.\n",
            "Archivo 'input_53.txt' generado con éxito.\n",
            "Archivo 'input_54.txt' generado con éxito.\n",
            "Archivo 'input_55.txt' generado con éxito.\n",
            "Archivo 'input_56.txt' generado con éxito.\n",
            "Archivo 'input_57.txt' generado con éxito.\n",
            "Archivo 'input_58.txt' generado con éxito.\n",
            "Archivo 'input_59.txt' generado con éxito.\n",
            "Archivo 'input_60.txt' generado con éxito.\n",
            "Archivo 'input_61.txt' generado con éxito.\n",
            "Archivo 'input_62.txt' generado con éxito.\n",
            "Archivo 'input_63.txt' generado con éxito.\n",
            "Archivo 'input_64.txt' generado con éxito.\n",
            "Archivo 'input_65.txt' generado con éxito.\n",
            "Archivo 'input_66.txt' generado con éxito.\n",
            "Archivo 'input_67.txt' generado con éxito.\n",
            "Archivo 'input_68.txt' generado con éxito.\n",
            "Archivo 'input_69.txt' generado con éxito.\n",
            "Archivo 'input_70.txt' generado con éxito.\n",
            "Archivo 'input_71.txt' generado con éxito.\n",
            "Archivo 'input_72.txt' generado con éxito.\n",
            "Archivo 'input_73.txt' generado con éxito.\n",
            "Archivo 'input_74.txt' generado con éxito.\n",
            "Archivo 'input_75.txt' generado con éxito.\n",
            "Archivo 'input_76.txt' generado con éxito.\n",
            "Archivo 'input_77.txt' generado con éxito.\n",
            "Archivo 'input_78.txt' generado con éxito.\n",
            "Archivo 'input_79.txt' generado con éxito.\n",
            "Archivo 'input_80.txt' generado con éxito.\n",
            "Archivo 'input_81.txt' generado con éxito.\n",
            "Archivo 'input_82.txt' generado con éxito.\n",
            "Archivo 'input_83.txt' generado con éxito.\n",
            "Archivo 'input_84.txt' generado con éxito.\n",
            "Archivo 'input_85.txt' generado con éxito.\n",
            "Archivo 'input_86.txt' generado con éxito.\n",
            "Archivo 'input_87.txt' generado con éxito.\n",
            "Archivo 'input_88.txt' generado con éxito.\n",
            "Archivo 'input_89.txt' generado con éxito.\n",
            "Archivo 'input_90.txt' generado con éxito.\n",
            "Archivo 'input_91.txt' generado con éxito.\n",
            "Archivo 'input_92.txt' generado con éxito.\n",
            "Archivo 'input_93.txt' generado con éxito.\n",
            "Archivo 'input_94.txt' generado con éxito.\n",
            "Archivo 'input_95.txt' generado con éxito.\n",
            "Archivo 'input_96.txt' generado con éxito.\n",
            "Archivo 'input_97.txt' generado con éxito.\n",
            "Archivo 'input_98.txt' generado con éxito.\n",
            "Archivo 'input_99.txt' generado con éxito.\n",
            "Archivo 'input_100.txt' generado con éxito.\n"
          ]
        }
      ]
    },
    {
      "cell_type": "code",
      "source": [
        " %%writefile torture_max_pairwise_sort_super_efficient_python.sh\n",
        "#!/bin/bash\n",
        "\n",
        "for i in {0..100}\n",
        "do\n",
        "    echo \"-----------------------------------\"\n",
        "    echo \"Running with input$i.txt\"\n",
        "    python max_pairwise_product_gef_py.py < input_$i.txt\n",
        "\n",
        "done"
      ],
      "metadata": {
        "colab": {
          "base_uri": "https://localhost:8080/"
        },
        "id": "uZH0Sz-GyKVs",
        "outputId": "5e59bca9-5c49-4589-bafc-cf92f1f4b185"
      },
      "execution_count": null,
      "outputs": [
        {
          "output_type": "stream",
          "name": "stdout",
          "text": [
            "Overwriting torture_max_pairwise_sort_super_efficient_python.sh\n"
          ]
        }
      ]
    },
    {
      "cell_type": "code",
      "source": [
        "%%time\n",
        "!chmod u+x torture_max_pairwise_sort_super_efficient_python.sh\n",
        "!./torture_max_pairwise_sort_super_efficient_python.sh"
      ],
      "metadata": {
        "colab": {
          "base_uri": "https://localhost:8080/"
        },
        "id": "FIfxNaC1zxnj",
        "outputId": "693733e3-d570-47d7-e5e2-ddd987037a2f"
      },
      "execution_count": null,
      "outputs": [
        {
          "output_type": "stream",
          "name": "stdout",
          "text": [
            "-----------------------------------\n",
            "Running with input0.txt\n",
            "./torture_max_pairwise_sort_super_efficient_python.sh: line 7: input_0.txt: No such file or directory\n",
            "-----------------------------------\n",
            "Running with input1.txt\n",
            "5929\n",
            "-----------------------------------\n",
            "Running with input2.txt\n",
            "8835\n",
            "-----------------------------------\n",
            "Running with input3.txt\n",
            "9702\n",
            "-----------------------------------\n",
            "Running with input4.txt\n",
            "4416\n",
            "-----------------------------------\n",
            "Running with input5.txt\n",
            "10000\n",
            "-----------------------------------\n",
            "Running with input6.txt\n",
            "9504\n",
            "-----------------------------------\n",
            "Running with input7.txt\n",
            "-97\n",
            "-----------------------------------\n",
            "Running with input8.txt\n",
            "8280\n",
            "-----------------------------------\n",
            "Running with input9.txt\n",
            "8835\n",
            "-----------------------------------\n",
            "Running with input10.txt\n",
            "7921\n",
            "-----------------------------------\n",
            "Running with input11.txt\n",
            "9408\n",
            "-----------------------------------\n",
            "Running with input12.txt\n",
            "8736\n",
            "-----------------------------------\n",
            "Running with input13.txt\n",
            "10000\n",
            "-----------------------------------\n",
            "Running with input14.txt\n",
            "9506\n",
            "-----------------------------------\n",
            "Running with input15.txt\n",
            "5643\n",
            "-----------------------------------\n",
            "Running with input16.txt\n",
            "9800\n",
            "-----------------------------------\n",
            "Running with input17.txt\n",
            "9700\n",
            "-----------------------------------\n",
            "Running with input18.txt\n",
            "9604\n",
            "-----------------------------------\n",
            "Running with input19.txt\n",
            "8190\n",
            "-----------------------------------\n",
            "Running with input20.txt\n",
            "9021\n",
            "-----------------------------------\n",
            "Running with input21.txt\n",
            "9312\n",
            "-----------------------------------\n",
            "Running with input22.txt\n",
            "9024\n",
            "-----------------------------------\n",
            "Running with input23.txt\n",
            "9400\n",
            "-----------------------------------\n",
            "Running with input24.txt\n",
            "9504\n",
            "-----------------------------------\n",
            "Running with input25.txt\n",
            "8835\n",
            "-----------------------------------\n",
            "Running with input26.txt\n",
            "9900\n",
            "-----------------------------------\n",
            "Running with input27.txt\n",
            "9702\n",
            "-----------------------------------\n",
            "Running with input28.txt\n",
            "9114\n",
            "-----------------------------------\n",
            "Running with input29.txt\n",
            "9900\n",
            "-----------------------------------\n",
            "Running with input30.txt\n",
            "9900\n",
            "-----------------------------------\n",
            "Running with input31.txt\n",
            "9702\n",
            "-----------------------------------\n",
            "Running with input32.txt\n",
            "9900\n",
            "-----------------------------------\n",
            "Running with input33.txt\n",
            "8736\n",
            "-----------------------------------\n",
            "Running with input34.txt\n",
            "7100\n",
            "-----------------------------------\n",
            "Running with input35.txt\n",
            "9604\n",
            "-----------------------------------\n",
            "Running with input36.txt\n",
            "9310\n",
            "-----------------------------------\n",
            "Running with input37.txt\n",
            "9800\n",
            "-----------------------------------\n",
            "Running with input38.txt\n",
            "9408\n",
            "-----------------------------------\n",
            "Running with input39.txt\n",
            "9800\n",
            "-----------------------------------\n",
            "Running with input40.txt\n",
            "9800\n",
            "-----------------------------------\n",
            "Running with input41.txt\n",
            "9801\n",
            "-----------------------------------\n",
            "Running with input42.txt\n",
            "10000\n",
            "-----------------------------------\n",
            "Running with input43.txt\n",
            "9702\n",
            "-----------------------------------\n",
            "Running with input44.txt\n",
            "1088\n",
            "-----------------------------------\n",
            "Running with input45.txt\n",
            "9504\n",
            "-----------------------------------\n",
            "Running with input46.txt\n",
            "10000\n",
            "-----------------------------------\n",
            "Running with input47.txt\n",
            "9800\n",
            "-----------------------------------\n",
            "Running with input48.txt\n",
            "9408\n",
            "-----------------------------------\n",
            "Running with input49.txt\n",
            "9409\n",
            "-----------------------------------\n",
            "Running with input50.txt\n",
            "9207\n",
            "-----------------------------------\n",
            "Running with input51.txt\n",
            "9800\n",
            "-----------------------------------\n",
            "Running with input52.txt\n",
            "8170\n",
            "-----------------------------------\n",
            "Running with input53.txt\n",
            "4980\n",
            "-----------------------------------\n",
            "Running with input54.txt\n",
            "10000\n",
            "-----------------------------------\n",
            "Running with input55.txt\n",
            "10000\n",
            "-----------------------------------\n",
            "Running with input56.txt\n",
            "9212\n",
            "-----------------------------------\n",
            "Running with input57.txt\n",
            "9504\n",
            "-----------------------------------\n",
            "Running with input58.txt\n",
            "9702\n",
            "-----------------------------------\n",
            "Running with input59.txt\n",
            "7332\n",
            "-----------------------------------\n",
            "Running with input60.txt\n",
            "9900\n",
            "-----------------------------------\n",
            "Running with input61.txt\n",
            "9100\n",
            "-----------------------------------\n",
            "Running with input62.txt\n",
            "9900\n",
            "-----------------------------------\n",
            "Running with input63.txt\n",
            "9506\n",
            "-----------------------------------\n",
            "Running with input64.txt\n",
            "9900\n",
            "-----------------------------------\n",
            "Running with input65.txt\n",
            "9506\n",
            "-----------------------------------\n",
            "Running with input66.txt\n",
            "8648\n",
            "-----------------------------------\n",
            "Running with input67.txt\n",
            "9506\n",
            "-----------------------------------\n",
            "Running with input68.txt\n",
            "4312\n",
            "-----------------------------------\n",
            "Running with input69.txt\n",
            "9409\n",
            "-----------------------------------\n",
            "Running with input70.txt\n",
            "9900\n",
            "-----------------------------------\n",
            "Running with input71.txt\n",
            "10000\n",
            "-----------------------------------\n",
            "Running with input72.txt\n",
            "8556\n",
            "-----------------------------------\n",
            "Running with input73.txt\n",
            "9216\n",
            "-----------------------------------\n",
            "Running with input74.txt\n",
            "9604\n",
            "-----------------------------------\n",
            "Running with input75.txt\n",
            "9700\n",
            "-----------------------------------\n",
            "Running with input76.txt\n",
            "9700\n",
            "-----------------------------------\n",
            "Running with input77.txt\n",
            "8928\n",
            "-----------------------------------\n",
            "Running with input78.txt\n",
            "9900\n",
            "-----------------------------------\n",
            "Running with input79.txt\n",
            "10000\n",
            "-----------------------------------\n",
            "Running with input80.txt\n",
            "8439\n",
            "-----------------------------------\n",
            "Running with input81.txt\n",
            "8835\n",
            "-----------------------------------\n",
            "Running with input82.txt\n",
            "7990\n",
            "-----------------------------------\n",
            "Running with input83.txt\n",
            "9600\n",
            "-----------------------------------\n",
            "Running with input84.txt\n",
            "9108\n",
            "-----------------------------------\n",
            "Running with input85.txt\n",
            "9120\n",
            "-----------------------------------\n",
            "Running with input86.txt\n",
            "9702\n",
            "-----------------------------------\n",
            "Running with input87.txt\n",
            "9800\n",
            "-----------------------------------\n",
            "Running with input88.txt\n",
            "7744\n",
            "-----------------------------------\n",
            "Running with input89.txt\n",
            "10000\n",
            "-----------------------------------\n",
            "Running with input90.txt\n",
            "9801\n",
            "-----------------------------------\n",
            "Running with input91.txt\n",
            "10000\n",
            "-----------------------------------\n",
            "Running with input92.txt\n",
            "9504\n",
            "-----------------------------------\n",
            "Running with input93.txt\n",
            "10000\n",
            "-----------------------------------\n",
            "Running with input94.txt\n",
            "10000\n",
            "-----------------------------------\n",
            "Running with input95.txt\n",
            "8918\n",
            "-----------------------------------\n",
            "Running with input96.txt\n",
            "10000\n",
            "-----------------------------------\n",
            "Running with input97.txt\n",
            "9801\n",
            "-----------------------------------\n",
            "Running with input98.txt\n",
            "9120\n",
            "-----------------------------------\n",
            "Running with input99.txt\n",
            "9900\n",
            "-----------------------------------\n",
            "Running with input100.txt\n",
            "9900\n",
            "CPU times: user 48.4 ms, sys: 2.96 ms, total: 51.3 ms\n",
            "Wall time: 3.42 s\n"
          ]
        }
      ]
    },
    {
      "cell_type": "markdown",
      "source": [
        "#100 stress tests sorting solution in C++ $$(T(n)=O(n \\ln g))$$"
      ],
      "metadata": {
        "id": "C64YorDmOs96"
      }
    },
    {
      "cell_type": "code",
      "source": [
        "%%writefile stress_tests_hundredcases_sort_cpp.cpp\n",
        "\n",
        "#include <iostream>\n",
        "#include <vector>\n",
        "#include <cstdlib>\n",
        "#include <ctime>\n",
        "#include <algorithm>\n",
        "\n",
        "int main() {\n",
        "\n",
        "    std::srand(std::time(nullptr));\n",
        "\n",
        "    for (int i = 0; i < 100; i++) {\n",
        "        int n = rand() % 100 + 1;\n",
        "        std::vector<int> v(n);\n",
        "\n",
        "        for (int j = 0; j < n; j++) {\n",
        "            v[j] = rand() % 20000 + 1;\n",
        "        }\n",
        "\n",
        "        std::sort(v.begin(), v.end());\n",
        "\n",
        "        long long product = static_cast<long long>(v[n - 1]) * v[n - 2];\n",
        "\n",
        "        std::cout << \"Input: \" << i + 1 << \" n: \" << n << \" Resultado: \" << product << '\\n';\n",
        "    }\n",
        "\n",
        "    return 0;\n",
        "\n",
        "}\n",
        "\n"
      ],
      "metadata": {
        "colab": {
          "base_uri": "https://localhost:8080/"
        },
        "id": "-S2wrLteOv8S",
        "outputId": "cd8af503-0f53-4382-c00e-e2c979cf90fc"
      },
      "execution_count": 323,
      "outputs": [
        {
          "output_type": "stream",
          "name": "stdout",
          "text": [
            "Overwriting stress_tests_hundredcases_sort_cpp.cpp\n"
          ]
        }
      ]
    },
    {
      "cell_type": "code",
      "source": [
        "%%time\n",
        "!g++ stress_tests_hundredcases_sort_cpp.cpp -o hundred_sort_cpp\n",
        "!./hundred_sort_cpp"
      ],
      "metadata": {
        "colab": {
          "base_uri": "https://localhost:8080/"
        },
        "id": "UjHs4xtxPaQT",
        "outputId": "f0fc550f-eb82-4f58-8bc3-97385ccecdd0"
      },
      "execution_count": 325,
      "outputs": [
        {
          "output_type": "stream",
          "name": "stdout",
          "text": [
            "Input: 1 n: 34 Resultado: 374382070\n",
            "Input: 2 n: 62 Resultado: 390614868\n",
            "Input: 3 n: 52 Resultado: 394631284\n",
            "Input: 4 n: 96 Resultado: 396208856\n",
            "Input: 5 n: 46 Resultado: 389862816\n",
            "Input: 6 n: 3 Resultado: 250264984\n",
            "Input: 7 n: 50 Resultado: 377893950\n",
            "Input: 8 n: 40 Resultado: 359552115\n",
            "Input: 9 n: 98 Resultado: 391089729\n",
            "Input: 10 n: 85 Resultado: 395134595\n",
            "Input: 11 n: 37 Resultado: 378470880\n",
            "Input: 12 n: 72 Resultado: 393211739\n",
            "Input: 13 n: 62 Resultado: 388740330\n",
            "Input: 14 n: 97 Resultado: 382456368\n",
            "Input: 15 n: 9 Resultado: 369273729\n",
            "Input: 16 n: 94 Resultado: 399240312\n",
            "Input: 17 n: 7 Resultado: 365133650\n",
            "Input: 18 n: 56 Resultado: 395491473\n",
            "Input: 19 n: 82 Resultado: 396106644\n",
            "Input: 20 n: 69 Resultado: 381242798\n",
            "Input: 21 n: 73 Resultado: 373987020\n",
            "Input: 22 n: 55 Resultado: 387460104\n",
            "Input: 23 n: 76 Resultado: 392890932\n",
            "Input: 24 n: 8 Resultado: 145589715\n",
            "Input: 25 n: 31 Resultado: 391739864\n",
            "Input: 26 n: 71 Resultado: 362319360\n",
            "Input: 27 n: 80 Resultado: 386077425\n",
            "Input: 28 n: 36 Resultado: 374339012\n",
            "Input: 29 n: 59 Resultado: 381439630\n",
            "Input: 30 n: 43 Resultado: 391266200\n",
            "Input: 31 n: 33 Resultado: 384958618\n",
            "Input: 32 n: 65 Resultado: 390167320\n",
            "Input: 33 n: 82 Resultado: 395966601\n",
            "Input: 34 n: 65 Resultado: 391635834\n",
            "Input: 35 n: 38 Resultado: 378318644\n",
            "Input: 36 n: 86 Resultado: 392971080\n",
            "Input: 37 n: 60 Resultado: 370448640\n",
            "Input: 38 n: 47 Resultado: 396109164\n",
            "Input: 39 n: 68 Resultado: 385745165\n",
            "Input: 40 n: 7 Resultado: 257913457\n",
            "Input: 41 n: 43 Resultado: 398421488\n",
            "Input: 42 n: 41 Resultado: 396168127\n",
            "Input: 43 n: 25 Resultado: 367442461\n",
            "Input: 44 n: 7 Resultado: 190639890\n",
            "Input: 45 n: 19 Resultado: 349117356\n",
            "Input: 46 n: 72 Resultado: 397044992\n",
            "Input: 47 n: 33 Resultado: 356480640\n",
            "Input: 48 n: 50 Resultado: 374033770\n",
            "Input: 49 n: 47 Resultado: 358198240\n",
            "Input: 50 n: 76 Resultado: 383491488\n",
            "Input: 51 n: 64 Resultado: 393030456\n",
            "Input: 52 n: 56 Resultado: 372245211\n",
            "Input: 53 n: 81 Resultado: 395090640\n",
            "Input: 54 n: 62 Resultado: 380965530\n",
            "Input: 55 n: 36 Resultado: 353534313\n",
            "Input: 56 n: 45 Resultado: 397502976\n",
            "Input: 57 n: 78 Resultado: 374536633\n",
            "Input: 58 n: 25 Resultado: 341426240\n",
            "Input: 59 n: 10 Resultado: 179298472\n",
            "Input: 60 n: 32 Resultado: 369630427\n",
            "Input: 61 n: 97 Resultado: 388142940\n",
            "Input: 62 n: 12 Resultado: 328826844\n",
            "Input: 63 n: 41 Resultado: 388197440\n",
            "Input: 64 n: 39 Resultado: 390991030\n",
            "Input: 65 n: 79 Resultado: 392110614\n",
            "Input: 66 n: 98 Resultado: 388200522\n",
            "Input: 67 n: 44 Resultado: 395631970\n",
            "Input: 68 n: 71 Resultado: 367637751\n",
            "Input: 69 n: 81 Resultado: 380193352\n",
            "Input: 70 n: 42 Resultado: 368650755\n",
            "Input: 71 n: 11 Resultado: 322405200\n",
            "Input: 72 n: 73 Resultado: 360224775\n",
            "Input: 73 n: 71 Resultado: 380162595\n",
            "Input: 74 n: 97 Resultado: 390326728\n",
            "Input: 75 n: 18 Resultado: 340861312\n",
            "Input: 76 n: 34 Resultado: 363741042\n",
            "Input: 77 n: 29 Resultado: 366983356\n",
            "Input: 78 n: 95 Resultado: 399620070\n",
            "Input: 79 n: 74 Resultado: 383544001\n",
            "Input: 80 n: 13 Resultado: 385507110\n",
            "Input: 81 n: 37 Resultado: 346125440\n",
            "Input: 82 n: 100 Resultado: 399640032\n",
            "Input: 83 n: 17 Resultado: 307848944\n",
            "Input: 84 n: 54 Resultado: 390027531\n",
            "Input: 85 n: 5 Resultado: 356454100\n",
            "Input: 86 n: 65 Resultado: 385917189\n",
            "Input: 87 n: 90 Resultado: 370098243\n",
            "Input: 88 n: 54 Resultado: 383140252\n",
            "Input: 89 n: 29 Resultado: 333709312\n",
            "Input: 90 n: 88 Resultado: 395290788\n",
            "Input: 91 n: 40 Resultado: 358582572\n",
            "Input: 92 n: 50 Resultado: 388168779\n",
            "Input: 93 n: 76 Resultado: 375365508\n",
            "Input: 94 n: 74 Resultado: 396762961\n",
            "Input: 95 n: 87 Resultado: 371000552\n",
            "Input: 96 n: 40 Resultado: 351379506\n",
            "Input: 97 n: 97 Resultado: 398301596\n",
            "Input: 98 n: 74 Resultado: 382478516\n",
            "Input: 99 n: 21 Resultado: 379708225\n",
            "Input: 100 n: 34 Resultado: 398960352\n",
            "CPU times: user 20.3 ms, sys: 7.15 ms, total: 27.5 ms\n",
            "Wall time: 1.02 s\n"
          ]
        }
      ]
    },
    {
      "cell_type": "code",
      "source": [
        "%%writefile gen_input_sort_cpp.sh\n",
        "#!/bin/bash\n",
        "\n",
        "numero_conjuntos=100\n",
        "\n",
        "for ((j=1; j<=$numero_conjuntos; j++)); do\n",
        "  numero_aleatorio=$((RANDOM % 100 + 1))\n",
        "  numeros_aleatorios=\"\"\n",
        "  for ((i=1; i<=$numero_aleatorio; i++)); do\n",
        "    numeros_aleatorios=\"$numeros_aleatorios $((RANDOM % 100 + 1))\"\n",
        "  done\n",
        "\n",
        "  archivo_salida=\"input_$j.txt\"\n",
        "  echo \"$numero_aleatorio\" > \"$archivo_salida\"\n",
        "  echo \"$numeros_aleatorios\" >> \"$archivo_salida\"\n",
        "\n",
        "  echo \"Archivo '$archivo_salida' generado con éxito.\"\n",
        "done"
      ],
      "metadata": {
        "colab": {
          "base_uri": "https://localhost:8080/"
        },
        "id": "tKwwrfbpPq8M",
        "outputId": "055f3558-64ae-4ea0-d58d-19e3e0337b01"
      },
      "execution_count": 326,
      "outputs": [
        {
          "output_type": "stream",
          "name": "stdout",
          "text": [
            "Overwriting gen_input_sort_cpp.sh\n"
          ]
        }
      ]
    },
    {
      "cell_type": "code",
      "source": [
        "!bash gen_input_sort_cpp.sh"
      ],
      "metadata": {
        "colab": {
          "base_uri": "https://localhost:8080/"
        },
        "id": "D31bUHG9Pw-t",
        "outputId": "6170e103-ef4d-451e-a5f5-f2e0b6fd4ac1"
      },
      "execution_count": 327,
      "outputs": [
        {
          "output_type": "stream",
          "name": "stdout",
          "text": [
            "Archivo 'input_1.txt' generado con éxito.\n",
            "Archivo 'input_2.txt' generado con éxito.\n",
            "Archivo 'input_3.txt' generado con éxito.\n",
            "Archivo 'input_4.txt' generado con éxito.\n",
            "Archivo 'input_5.txt' generado con éxito.\n",
            "Archivo 'input_6.txt' generado con éxito.\n",
            "Archivo 'input_7.txt' generado con éxito.\n",
            "Archivo 'input_8.txt' generado con éxito.\n",
            "Archivo 'input_9.txt' generado con éxito.\n",
            "Archivo 'input_10.txt' generado con éxito.\n",
            "Archivo 'input_11.txt' generado con éxito.\n",
            "Archivo 'input_12.txt' generado con éxito.\n",
            "Archivo 'input_13.txt' generado con éxito.\n",
            "Archivo 'input_14.txt' generado con éxito.\n",
            "Archivo 'input_15.txt' generado con éxito.\n",
            "Archivo 'input_16.txt' generado con éxito.\n",
            "Archivo 'input_17.txt' generado con éxito.\n",
            "Archivo 'input_18.txt' generado con éxito.\n",
            "Archivo 'input_19.txt' generado con éxito.\n",
            "Archivo 'input_20.txt' generado con éxito.\n",
            "Archivo 'input_21.txt' generado con éxito.\n",
            "Archivo 'input_22.txt' generado con éxito.\n",
            "Archivo 'input_23.txt' generado con éxito.\n",
            "Archivo 'input_24.txt' generado con éxito.\n",
            "Archivo 'input_25.txt' generado con éxito.\n",
            "Archivo 'input_26.txt' generado con éxito.\n",
            "Archivo 'input_27.txt' generado con éxito.\n",
            "Archivo 'input_28.txt' generado con éxito.\n",
            "Archivo 'input_29.txt' generado con éxito.\n",
            "Archivo 'input_30.txt' generado con éxito.\n",
            "Archivo 'input_31.txt' generado con éxito.\n",
            "Archivo 'input_32.txt' generado con éxito.\n",
            "Archivo 'input_33.txt' generado con éxito.\n",
            "Archivo 'input_34.txt' generado con éxito.\n",
            "Archivo 'input_35.txt' generado con éxito.\n",
            "Archivo 'input_36.txt' generado con éxito.\n",
            "Archivo 'input_37.txt' generado con éxito.\n",
            "Archivo 'input_38.txt' generado con éxito.\n",
            "Archivo 'input_39.txt' generado con éxito.\n",
            "Archivo 'input_40.txt' generado con éxito.\n",
            "Archivo 'input_41.txt' generado con éxito.\n",
            "Archivo 'input_42.txt' generado con éxito.\n",
            "Archivo 'input_43.txt' generado con éxito.\n",
            "Archivo 'input_44.txt' generado con éxito.\n",
            "Archivo 'input_45.txt' generado con éxito.\n",
            "Archivo 'input_46.txt' generado con éxito.\n",
            "Archivo 'input_47.txt' generado con éxito.\n",
            "Archivo 'input_48.txt' generado con éxito.\n",
            "Archivo 'input_49.txt' generado con éxito.\n",
            "Archivo 'input_50.txt' generado con éxito.\n",
            "Archivo 'input_51.txt' generado con éxito.\n",
            "Archivo 'input_52.txt' generado con éxito.\n",
            "Archivo 'input_53.txt' generado con éxito.\n",
            "Archivo 'input_54.txt' generado con éxito.\n",
            "Archivo 'input_55.txt' generado con éxito.\n",
            "Archivo 'input_56.txt' generado con éxito.\n",
            "Archivo 'input_57.txt' generado con éxito.\n",
            "Archivo 'input_58.txt' generado con éxito.\n",
            "Archivo 'input_59.txt' generado con éxito.\n",
            "Archivo 'input_60.txt' generado con éxito.\n",
            "Archivo 'input_61.txt' generado con éxito.\n",
            "Archivo 'input_62.txt' generado con éxito.\n",
            "Archivo 'input_63.txt' generado con éxito.\n",
            "Archivo 'input_64.txt' generado con éxito.\n",
            "Archivo 'input_65.txt' generado con éxito.\n",
            "Archivo 'input_66.txt' generado con éxito.\n",
            "Archivo 'input_67.txt' generado con éxito.\n",
            "Archivo 'input_68.txt' generado con éxito.\n",
            "Archivo 'input_69.txt' generado con éxito.\n",
            "Archivo 'input_70.txt' generado con éxito.\n",
            "Archivo 'input_71.txt' generado con éxito.\n",
            "Archivo 'input_72.txt' generado con éxito.\n",
            "Archivo 'input_73.txt' generado con éxito.\n",
            "Archivo 'input_74.txt' generado con éxito.\n",
            "Archivo 'input_75.txt' generado con éxito.\n",
            "Archivo 'input_76.txt' generado con éxito.\n",
            "Archivo 'input_77.txt' generado con éxito.\n",
            "Archivo 'input_78.txt' generado con éxito.\n",
            "Archivo 'input_79.txt' generado con éxito.\n",
            "Archivo 'input_80.txt' generado con éxito.\n",
            "Archivo 'input_81.txt' generado con éxito.\n",
            "Archivo 'input_82.txt' generado con éxito.\n",
            "Archivo 'input_83.txt' generado con éxito.\n",
            "Archivo 'input_84.txt' generado con éxito.\n",
            "Archivo 'input_85.txt' generado con éxito.\n",
            "Archivo 'input_86.txt' generado con éxito.\n",
            "Archivo 'input_87.txt' generado con éxito.\n",
            "Archivo 'input_88.txt' generado con éxito.\n",
            "Archivo 'input_89.txt' generado con éxito.\n",
            "Archivo 'input_90.txt' generado con éxito.\n",
            "Archivo 'input_91.txt' generado con éxito.\n",
            "Archivo 'input_92.txt' generado con éxito.\n",
            "Archivo 'input_93.txt' generado con éxito.\n",
            "Archivo 'input_94.txt' generado con éxito.\n",
            "Archivo 'input_95.txt' generado con éxito.\n",
            "Archivo 'input_96.txt' generado con éxito.\n",
            "Archivo 'input_97.txt' generado con éxito.\n",
            "Archivo 'input_98.txt' generado con éxito.\n",
            "Archivo 'input_99.txt' generado con éxito.\n",
            "Archivo 'input_100.txt' generado con éxito.\n"
          ]
        }
      ]
    },
    {
      "cell_type": "code",
      "source": [
        "%%writefile torture_max_pairwise_sort_solution_cpp.sh\n",
        "#!/bin/bash\n",
        "\n",
        "for i in {1..100}\n",
        "do\n",
        "    echo \"-----------------------------------\"\n",
        "    echo \"Running with input$i.txt\"\n",
        "    ./hundred_sort_cpp < input_$i.txt\n",
        "\n",
        "done"
      ],
      "metadata": {
        "colab": {
          "base_uri": "https://localhost:8080/"
        },
        "id": "cnu0g9WxP3B3",
        "outputId": "e94358a7-7504-44e4-8a40-02782729bfaf"
      },
      "execution_count": 329,
      "outputs": [
        {
          "output_type": "stream",
          "name": "stdout",
          "text": [
            "Overwriting torture_max_pairwise_sort_solution_cpp.sh\n"
          ]
        }
      ]
    },
    {
      "cell_type": "code",
      "source": [
        "%%time\n",
        "!chmod u+x torture_max_pairwise_sort_solution_cpp.sh\n",
        "!./torture_max_pairwise_sort_solution_cpp.sh"
      ],
      "metadata": {
        "colab": {
          "base_uri": "https://localhost:8080/"
        },
        "id": "SoJhXVTSQHyw",
        "outputId": "c222a13c-7e0d-4112-ece3-b2e0f1f3f5f5"
      },
      "execution_count": 330,
      "outputs": [
        {
          "output_type": "stream",
          "name": "stdout",
          "text": [
            "\u001b[1;30;43mStreaming output truncated to the last 5000 lines.\u001b[0m\n",
            "-----------------------------------\n",
            "Running with input52.txt\n",
            "Input: 1 n: 97 Resultado: 387771143\n",
            "Input: 2 n: 15 Resultado: 321915825\n",
            "Input: 3 n: 17 Resultado: 350346304\n",
            "Input: 4 n: 49 Resultado: 368206830\n",
            "Input: 5 n: 87 Resultado: 393823925\n",
            "Input: 6 n: 31 Resultado: 389161374\n",
            "Input: 7 n: 31 Resultado: 368509433\n",
            "Input: 8 n: 91 Resultado: 391822218\n",
            "Input: 9 n: 99 Resultado: 395505000\n",
            "Input: 10 n: 74 Resultado: 392848188\n",
            "Input: 11 n: 89 Resultado: 391296899\n",
            "Input: 12 n: 84 Resultado: 396945546\n",
            "Input: 13 n: 73 Resultado: 386241972\n",
            "Input: 14 n: 64 Resultado: 399640077\n",
            "Input: 15 n: 10 Resultado: 299585152\n",
            "Input: 16 n: 85 Resultado: 373100287\n",
            "Input: 17 n: 8 Resultado: 355714902\n",
            "Input: 18 n: 60 Resultado: 381941586\n",
            "Input: 19 n: 87 Resultado: 385183408\n",
            "Input: 20 n: 99 Resultado: 390397632\n",
            "Input: 21 n: 76 Resultado: 354132862\n",
            "Input: 22 n: 37 Resultado: 339452178\n",
            "Input: 23 n: 18 Resultado: 319868703\n",
            "Input: 24 n: 97 Resultado: 396188700\n",
            "Input: 25 n: 88 Resultado: 394447872\n",
            "Input: 26 n: 61 Resultado: 369174058\n",
            "Input: 27 n: 14 Resultado: 336115152\n",
            "Input: 28 n: 38 Resultado: 343351491\n",
            "Input: 29 n: 38 Resultado: 375793280\n",
            "Input: 30 n: 61 Resultado: 397383690\n",
            "Input: 31 n: 98 Resultado: 391901256\n",
            "Input: 32 n: 89 Resultado: 394288128\n",
            "Input: 33 n: 25 Resultado: 346627161\n",
            "Input: 34 n: 41 Resultado: 330083336\n",
            "Input: 35 n: 45 Resultado: 395015576\n",
            "Input: 36 n: 15 Resultado: 352184463\n",
            "Input: 37 n: 17 Resultado: 325617335\n",
            "Input: 38 n: 23 Resultado: 330201251\n",
            "Input: 39 n: 55 Resultado: 396200189\n",
            "Input: 40 n: 22 Resultado: 375536232\n",
            "Input: 41 n: 38 Resultado: 368248884\n",
            "Input: 42 n: 96 Resultado: 387120643\n",
            "Input: 43 n: 29 Resultado: 336893058\n",
            "Input: 44 n: 43 Resultado: 394479126\n",
            "Input: 45 n: 31 Resultado: 370985592\n",
            "Input: 46 n: 17 Resultado: 321892730\n",
            "Input: 47 n: 83 Resultado: 392668672\n",
            "Input: 48 n: 83 Resultado: 397900594\n",
            "Input: 49 n: 18 Resultado: 391043010\n",
            "Input: 50 n: 57 Resultado: 393227939\n",
            "Input: 51 n: 36 Resultado: 363378444\n",
            "Input: 52 n: 10 Resultado: 298267508\n",
            "Input: 53 n: 93 Resultado: 365187875\n",
            "Input: 54 n: 88 Resultado: 392554645\n",
            "Input: 55 n: 9 Resultado: 249726770\n",
            "Input: 56 n: 68 Resultado: 390064958\n",
            "Input: 57 n: 83 Resultado: 387948820\n",
            "Input: 58 n: 41 Resultado: 340878888\n",
            "Input: 59 n: 72 Resultado: 359209809\n",
            "Input: 60 n: 38 Resultado: 376269222\n",
            "Input: 61 n: 19 Resultado: 270586008\n",
            "Input: 62 n: 50 Resultado: 381225184\n",
            "Input: 63 n: 47 Resultado: 361124602\n",
            "Input: 64 n: 64 Resultado: 380053058\n",
            "Input: 65 n: 61 Resultado: 368478222\n",
            "Input: 66 n: 26 Resultado: 387832950\n",
            "Input: 67 n: 98 Resultado: 386298720\n",
            "Input: 68 n: 26 Resultado: 352354896\n",
            "Input: 69 n: 4 Resultado: 163779000\n",
            "Input: 70 n: 47 Resultado: 393960972\n",
            "Input: 71 n: 11 Resultado: 357237280\n",
            "Input: 72 n: 77 Resultado: 392118579\n",
            "Input: 73 n: 69 Resultado: 363908825\n",
            "Input: 74 n: 15 Resultado: 338202993\n",
            "Input: 75 n: 20 Resultado: 354281228\n",
            "Input: 76 n: 68 Resultado: 306494793\n",
            "Input: 77 n: 42 Resultado: 387537969\n",
            "Input: 78 n: 45 Resultado: 397104444\n",
            "Input: 79 n: 50 Resultado: 374547152\n",
            "Input: 80 n: 66 Resultado: 384027280\n",
            "Input: 81 n: 97 Resultado: 394141584\n",
            "Input: 82 n: 85 Resultado: 389923072\n",
            "Input: 83 n: 31 Resultado: 383882049\n",
            "Input: 84 n: 99 Resultado: 385195720\n",
            "Input: 85 n: 22 Resultado: 369731048\n",
            "Input: 86 n: 41 Resultado: 363883782\n",
            "Input: 87 n: 1 Resultado: 0\n",
            "Input: 88 n: 2 Resultado: 16778164\n",
            "Input: 89 n: 82 Resultado: 387829920\n",
            "Input: 90 n: 48 Resultado: 381486555\n",
            "Input: 91 n: 56 Resultado: 368946364\n",
            "Input: 92 n: 83 Resultado: 386581087\n",
            "Input: 93 n: 55 Resultado: 389425715\n",
            "Input: 94 n: 52 Resultado: 332195402\n",
            "Input: 95 n: 59 Resultado: 373006095\n",
            "Input: 96 n: 30 Resultado: 373532880\n",
            "Input: 97 n: 31 Resultado: 382870260\n",
            "Input: 98 n: 97 Resultado: 391366560\n",
            "Input: 99 n: 26 Resultado: 351806005\n",
            "Input: 100 n: 15 Resultado: 385975046\n",
            "-----------------------------------\n",
            "Running with input53.txt\n",
            "Input: 1 n: 97 Resultado: 387771143\n",
            "Input: 2 n: 15 Resultado: 321915825\n",
            "Input: 3 n: 17 Resultado: 350346304\n",
            "Input: 4 n: 49 Resultado: 368206830\n",
            "Input: 5 n: 87 Resultado: 393823925\n",
            "Input: 6 n: 31 Resultado: 389161374\n",
            "Input: 7 n: 31 Resultado: 368509433\n",
            "Input: 8 n: 91 Resultado: 391822218\n",
            "Input: 9 n: 99 Resultado: 395505000\n",
            "Input: 10 n: 74 Resultado: 392848188\n",
            "Input: 11 n: 89 Resultado: 391296899\n",
            "Input: 12 n: 84 Resultado: 396945546\n",
            "Input: 13 n: 73 Resultado: 386241972\n",
            "Input: 14 n: 64 Resultado: 399640077\n",
            "Input: 15 n: 10 Resultado: 299585152\n",
            "Input: 16 n: 85 Resultado: 373100287\n",
            "Input: 17 n: 8 Resultado: 355714902\n",
            "Input: 18 n: 60 Resultado: 381941586\n",
            "Input: 19 n: 87 Resultado: 385183408\n",
            "Input: 20 n: 99 Resultado: 390397632\n",
            "Input: 21 n: 76 Resultado: 354132862\n",
            "Input: 22 n: 37 Resultado: 339452178\n",
            "Input: 23 n: 18 Resultado: 319868703\n",
            "Input: 24 n: 97 Resultado: 396188700\n",
            "Input: 25 n: 88 Resultado: 394447872\n",
            "Input: 26 n: 61 Resultado: 369174058\n",
            "Input: 27 n: 14 Resultado: 336115152\n",
            "Input: 28 n: 38 Resultado: 343351491\n",
            "Input: 29 n: 38 Resultado: 375793280\n",
            "Input: 30 n: 61 Resultado: 397383690\n",
            "Input: 31 n: 98 Resultado: 391901256\n",
            "Input: 32 n: 89 Resultado: 394288128\n",
            "Input: 33 n: 25 Resultado: 346627161\n",
            "Input: 34 n: 41 Resultado: 330083336\n",
            "Input: 35 n: 45 Resultado: 395015576\n",
            "Input: 36 n: 15 Resultado: 352184463\n",
            "Input: 37 n: 17 Resultado: 325617335\n",
            "Input: 38 n: 23 Resultado: 330201251\n",
            "Input: 39 n: 55 Resultado: 396200189\n",
            "Input: 40 n: 22 Resultado: 375536232\n",
            "Input: 41 n: 38 Resultado: 368248884\n",
            "Input: 42 n: 96 Resultado: 387120643\n",
            "Input: 43 n: 29 Resultado: 336893058\n",
            "Input: 44 n: 43 Resultado: 394479126\n",
            "Input: 45 n: 31 Resultado: 370985592\n",
            "Input: 46 n: 17 Resultado: 321892730\n",
            "Input: 47 n: 83 Resultado: 392668672\n",
            "Input: 48 n: 83 Resultado: 397900594\n",
            "Input: 49 n: 18 Resultado: 391043010\n",
            "Input: 50 n: 57 Resultado: 393227939\n",
            "Input: 51 n: 36 Resultado: 363378444\n",
            "Input: 52 n: 10 Resultado: 298267508\n",
            "Input: 53 n: 93 Resultado: 365187875\n",
            "Input: 54 n: 88 Resultado: 392554645\n",
            "Input: 55 n: 9 Resultado: 249726770\n",
            "Input: 56 n: 68 Resultado: 390064958\n",
            "Input: 57 n: 83 Resultado: 387948820\n",
            "Input: 58 n: 41 Resultado: 340878888\n",
            "Input: 59 n: 72 Resultado: 359209809\n",
            "Input: 60 n: 38 Resultado: 376269222\n",
            "Input: 61 n: 19 Resultado: 270586008\n",
            "Input: 62 n: 50 Resultado: 381225184\n",
            "Input: 63 n: 47 Resultado: 361124602\n",
            "Input: 64 n: 64 Resultado: 380053058\n",
            "Input: 65 n: 61 Resultado: 368478222\n",
            "Input: 66 n: 26 Resultado: 387832950\n",
            "Input: 67 n: 98 Resultado: 386298720\n",
            "Input: 68 n: 26 Resultado: 352354896\n",
            "Input: 69 n: 4 Resultado: 163779000\n",
            "Input: 70 n: 47 Resultado: 393960972\n",
            "Input: 71 n: 11 Resultado: 357237280\n",
            "Input: 72 n: 77 Resultado: 392118579\n",
            "Input: 73 n: 69 Resultado: 363908825\n",
            "Input: 74 n: 15 Resultado: 338202993\n",
            "Input: 75 n: 20 Resultado: 354281228\n",
            "Input: 76 n: 68 Resultado: 306494793\n",
            "Input: 77 n: 42 Resultado: 387537969\n",
            "Input: 78 n: 45 Resultado: 397104444\n",
            "Input: 79 n: 50 Resultado: 374547152\n",
            "Input: 80 n: 66 Resultado: 384027280\n",
            "Input: 81 n: 97 Resultado: 394141584\n",
            "Input: 82 n: 85 Resultado: 389923072\n",
            "Input: 83 n: 31 Resultado: 383882049\n",
            "Input: 84 n: 99 Resultado: 385195720\n",
            "Input: 85 n: 22 Resultado: 369731048\n",
            "Input: 86 n: 41 Resultado: 363883782\n",
            "Input: 87 n: 1 Resultado: 0\n",
            "Input: 88 n: 2 Resultado: 16778164\n",
            "Input: 89 n: 82 Resultado: 387829920\n",
            "Input: 90 n: 48 Resultado: 381486555\n",
            "Input: 91 n: 56 Resultado: 368946364\n",
            "Input: 92 n: 83 Resultado: 386581087\n",
            "Input: 93 n: 55 Resultado: 389425715\n",
            "Input: 94 n: 52 Resultado: 332195402\n",
            "Input: 95 n: 59 Resultado: 373006095\n",
            "Input: 96 n: 30 Resultado: 373532880\n",
            "Input: 97 n: 31 Resultado: 382870260\n",
            "Input: 98 n: 97 Resultado: 391366560\n",
            "Input: 99 n: 26 Resultado: 351806005\n",
            "Input: 100 n: 15 Resultado: 385975046\n",
            "-----------------------------------\n",
            "Running with input54.txt\n",
            "Input: 1 n: 97 Resultado: 387771143\n",
            "Input: 2 n: 15 Resultado: 321915825\n",
            "Input: 3 n: 17 Resultado: 350346304\n",
            "Input: 4 n: 49 Resultado: 368206830\n",
            "Input: 5 n: 87 Resultado: 393823925\n",
            "Input: 6 n: 31 Resultado: 389161374\n",
            "Input: 7 n: 31 Resultado: 368509433\n",
            "Input: 8 n: 91 Resultado: 391822218\n",
            "Input: 9 n: 99 Resultado: 395505000\n",
            "Input: 10 n: 74 Resultado: 392848188\n",
            "Input: 11 n: 89 Resultado: 391296899\n",
            "Input: 12 n: 84 Resultado: 396945546\n",
            "Input: 13 n: 73 Resultado: 386241972\n",
            "Input: 14 n: 64 Resultado: 399640077\n",
            "Input: 15 n: 10 Resultado: 299585152\n",
            "Input: 16 n: 85 Resultado: 373100287\n",
            "Input: 17 n: 8 Resultado: 355714902\n",
            "Input: 18 n: 60 Resultado: 381941586\n",
            "Input: 19 n: 87 Resultado: 385183408\n",
            "Input: 20 n: 99 Resultado: 390397632\n",
            "Input: 21 n: 76 Resultado: 354132862\n",
            "Input: 22 n: 37 Resultado: 339452178\n",
            "Input: 23 n: 18 Resultado: 319868703\n",
            "Input: 24 n: 97 Resultado: 396188700\n",
            "Input: 25 n: 88 Resultado: 394447872\n",
            "Input: 26 n: 61 Resultado: 369174058\n",
            "Input: 27 n: 14 Resultado: 336115152\n",
            "Input: 28 n: 38 Resultado: 343351491\n",
            "Input: 29 n: 38 Resultado: 375793280\n",
            "Input: 30 n: 61 Resultado: 397383690\n",
            "Input: 31 n: 98 Resultado: 391901256\n",
            "Input: 32 n: 89 Resultado: 394288128\n",
            "Input: 33 n: 25 Resultado: 346627161\n",
            "Input: 34 n: 41 Resultado: 330083336\n",
            "Input: 35 n: 45 Resultado: 395015576\n",
            "Input: 36 n: 15 Resultado: 352184463\n",
            "Input: 37 n: 17 Resultado: 325617335\n",
            "Input: 38 n: 23 Resultado: 330201251\n",
            "Input: 39 n: 55 Resultado: 396200189\n",
            "Input: 40 n: 22 Resultado: 375536232\n",
            "Input: 41 n: 38 Resultado: 368248884\n",
            "Input: 42 n: 96 Resultado: 387120643\n",
            "Input: 43 n: 29 Resultado: 336893058\n",
            "Input: 44 n: 43 Resultado: 394479126\n",
            "Input: 45 n: 31 Resultado: 370985592\n",
            "Input: 46 n: 17 Resultado: 321892730\n",
            "Input: 47 n: 83 Resultado: 392668672\n",
            "Input: 48 n: 83 Resultado: 397900594\n",
            "Input: 49 n: 18 Resultado: 391043010\n",
            "Input: 50 n: 57 Resultado: 393227939\n",
            "Input: 51 n: 36 Resultado: 363378444\n",
            "Input: 52 n: 10 Resultado: 298267508\n",
            "Input: 53 n: 93 Resultado: 365187875\n",
            "Input: 54 n: 88 Resultado: 392554645\n",
            "Input: 55 n: 9 Resultado: 249726770\n",
            "Input: 56 n: 68 Resultado: 390064958\n",
            "Input: 57 n: 83 Resultado: 387948820\n",
            "Input: 58 n: 41 Resultado: 340878888\n",
            "Input: 59 n: 72 Resultado: 359209809\n",
            "Input: 60 n: 38 Resultado: 376269222\n",
            "Input: 61 n: 19 Resultado: 270586008\n",
            "Input: 62 n: 50 Resultado: 381225184\n",
            "Input: 63 n: 47 Resultado: 361124602\n",
            "Input: 64 n: 64 Resultado: 380053058\n",
            "Input: 65 n: 61 Resultado: 368478222\n",
            "Input: 66 n: 26 Resultado: 387832950\n",
            "Input: 67 n: 98 Resultado: 386298720\n",
            "Input: 68 n: 26 Resultado: 352354896\n",
            "Input: 69 n: 4 Resultado: 163779000\n",
            "Input: 70 n: 47 Resultado: 393960972\n",
            "Input: 71 n: 11 Resultado: 357237280\n",
            "Input: 72 n: 77 Resultado: 392118579\n",
            "Input: 73 n: 69 Resultado: 363908825\n",
            "Input: 74 n: 15 Resultado: 338202993\n",
            "Input: 75 n: 20 Resultado: 354281228\n",
            "Input: 76 n: 68 Resultado: 306494793\n",
            "Input: 77 n: 42 Resultado: 387537969\n",
            "Input: 78 n: 45 Resultado: 397104444\n",
            "Input: 79 n: 50 Resultado: 374547152\n",
            "Input: 80 n: 66 Resultado: 384027280\n",
            "Input: 81 n: 97 Resultado: 394141584\n",
            "Input: 82 n: 85 Resultado: 389923072\n",
            "Input: 83 n: 31 Resultado: 383882049\n",
            "Input: 84 n: 99 Resultado: 385195720\n",
            "Input: 85 n: 22 Resultado: 369731048\n",
            "Input: 86 n: 41 Resultado: 363883782\n",
            "Input: 87 n: 1 Resultado: 0\n",
            "Input: 88 n: 2 Resultado: 16778164\n",
            "Input: 89 n: 82 Resultado: 387829920\n",
            "Input: 90 n: 48 Resultado: 381486555\n",
            "Input: 91 n: 56 Resultado: 368946364\n",
            "Input: 92 n: 83 Resultado: 386581087\n",
            "Input: 93 n: 55 Resultado: 389425715\n",
            "Input: 94 n: 52 Resultado: 332195402\n",
            "Input: 95 n: 59 Resultado: 373006095\n",
            "Input: 96 n: 30 Resultado: 373532880\n",
            "Input: 97 n: 31 Resultado: 382870260\n",
            "Input: 98 n: 97 Resultado: 391366560\n",
            "Input: 99 n: 26 Resultado: 351806005\n",
            "Input: 100 n: 15 Resultado: 385975046\n",
            "-----------------------------------\n",
            "Running with input55.txt\n",
            "Input: 1 n: 97 Resultado: 387771143\n",
            "Input: 2 n: 15 Resultado: 321915825\n",
            "Input: 3 n: 17 Resultado: 350346304\n",
            "Input: 4 n: 49 Resultado: 368206830\n",
            "Input: 5 n: 87 Resultado: 393823925\n",
            "Input: 6 n: 31 Resultado: 389161374\n",
            "Input: 7 n: 31 Resultado: 368509433\n",
            "Input: 8 n: 91 Resultado: 391822218\n",
            "Input: 9 n: 99 Resultado: 395505000\n",
            "Input: 10 n: 74 Resultado: 392848188\n",
            "Input: 11 n: 89 Resultado: 391296899\n",
            "Input: 12 n: 84 Resultado: 396945546\n",
            "Input: 13 n: 73 Resultado: 386241972\n",
            "Input: 14 n: 64 Resultado: 399640077\n",
            "Input: 15 n: 10 Resultado: 299585152\n",
            "Input: 16 n: 85 Resultado: 373100287\n",
            "Input: 17 n: 8 Resultado: 355714902\n",
            "Input: 18 n: 60 Resultado: 381941586\n",
            "Input: 19 n: 87 Resultado: 385183408\n",
            "Input: 20 n: 99 Resultado: 390397632\n",
            "Input: 21 n: 76 Resultado: 354132862\n",
            "Input: 22 n: 37 Resultado: 339452178\n",
            "Input: 23 n: 18 Resultado: 319868703\n",
            "Input: 24 n: 97 Resultado: 396188700\n",
            "Input: 25 n: 88 Resultado: 394447872\n",
            "Input: 26 n: 61 Resultado: 369174058\n",
            "Input: 27 n: 14 Resultado: 336115152\n",
            "Input: 28 n: 38 Resultado: 343351491\n",
            "Input: 29 n: 38 Resultado: 375793280\n",
            "Input: 30 n: 61 Resultado: 397383690\n",
            "Input: 31 n: 98 Resultado: 391901256\n",
            "Input: 32 n: 89 Resultado: 394288128\n",
            "Input: 33 n: 25 Resultado: 346627161\n",
            "Input: 34 n: 41 Resultado: 330083336\n",
            "Input: 35 n: 45 Resultado: 395015576\n",
            "Input: 36 n: 15 Resultado: 352184463\n",
            "Input: 37 n: 17 Resultado: 325617335\n",
            "Input: 38 n: 23 Resultado: 330201251\n",
            "Input: 39 n: 55 Resultado: 396200189\n",
            "Input: 40 n: 22 Resultado: 375536232\n",
            "Input: 41 n: 38 Resultado: 368248884\n",
            "Input: 42 n: 96 Resultado: 387120643\n",
            "Input: 43 n: 29 Resultado: 336893058\n",
            "Input: 44 n: 43 Resultado: 394479126\n",
            "Input: 45 n: 31 Resultado: 370985592\n",
            "Input: 46 n: 17 Resultado: 321892730\n",
            "Input: 47 n: 83 Resultado: 392668672\n",
            "Input: 48 n: 83 Resultado: 397900594\n",
            "Input: 49 n: 18 Resultado: 391043010\n",
            "Input: 50 n: 57 Resultado: 393227939\n",
            "Input: 51 n: 36 Resultado: 363378444\n",
            "Input: 52 n: 10 Resultado: 298267508\n",
            "Input: 53 n: 93 Resultado: 365187875\n",
            "Input: 54 n: 88 Resultado: 392554645\n",
            "Input: 55 n: 9 Resultado: 249726770\n",
            "Input: 56 n: 68 Resultado: 390064958\n",
            "Input: 57 n: 83 Resultado: 387948820\n",
            "Input: 58 n: 41 Resultado: 340878888\n",
            "Input: 59 n: 72 Resultado: 359209809\n",
            "Input: 60 n: 38 Resultado: 376269222\n",
            "Input: 61 n: 19 Resultado: 270586008\n",
            "Input: 62 n: 50 Resultado: 381225184\n",
            "Input: 63 n: 47 Resultado: 361124602\n",
            "Input: 64 n: 64 Resultado: 380053058\n",
            "Input: 65 n: 61 Resultado: 368478222\n",
            "Input: 66 n: 26 Resultado: 387832950\n",
            "Input: 67 n: 98 Resultado: 386298720\n",
            "Input: 68 n: 26 Resultado: 352354896\n",
            "Input: 69 n: 4 Resultado: 163779000\n",
            "Input: 70 n: 47 Resultado: 393960972\n",
            "Input: 71 n: 11 Resultado: 357237280\n",
            "Input: 72 n: 77 Resultado: 392118579\n",
            "Input: 73 n: 69 Resultado: 363908825\n",
            "Input: 74 n: 15 Resultado: 338202993\n",
            "Input: 75 n: 20 Resultado: 354281228\n",
            "Input: 76 n: 68 Resultado: 306494793\n",
            "Input: 77 n: 42 Resultado: 387537969\n",
            "Input: 78 n: 45 Resultado: 397104444\n",
            "Input: 79 n: 50 Resultado: 374547152\n",
            "Input: 80 n: 66 Resultado: 384027280\n",
            "Input: 81 n: 97 Resultado: 394141584\n",
            "Input: 82 n: 85 Resultado: 389923072\n",
            "Input: 83 n: 31 Resultado: 383882049\n",
            "Input: 84 n: 99 Resultado: 385195720\n",
            "Input: 85 n: 22 Resultado: 369731048\n",
            "Input: 86 n: 41 Resultado: 363883782\n",
            "Input: 87 n: 1 Resultado: 0\n",
            "Input: 88 n: 2 Resultado: 16778164\n",
            "Input: 89 n: 82 Resultado: 387829920\n",
            "Input: 90 n: 48 Resultado: 381486555\n",
            "Input: 91 n: 56 Resultado: 368946364\n",
            "Input: 92 n: 83 Resultado: 386581087\n",
            "Input: 93 n: 55 Resultado: 389425715\n",
            "Input: 94 n: 52 Resultado: 332195402\n",
            "Input: 95 n: 59 Resultado: 373006095\n",
            "Input: 96 n: 30 Resultado: 373532880\n",
            "Input: 97 n: 31 Resultado: 382870260\n",
            "Input: 98 n: 97 Resultado: 391366560\n",
            "Input: 99 n: 26 Resultado: 351806005\n",
            "Input: 100 n: 15 Resultado: 385975046\n",
            "-----------------------------------\n",
            "Running with input56.txt\n",
            "Input: 1 n: 97 Resultado: 387771143\n",
            "Input: 2 n: 15 Resultado: 321915825\n",
            "Input: 3 n: 17 Resultado: 350346304\n",
            "Input: 4 n: 49 Resultado: 368206830\n",
            "Input: 5 n: 87 Resultado: 393823925\n",
            "Input: 6 n: 31 Resultado: 389161374\n",
            "Input: 7 n: 31 Resultado: 368509433\n",
            "Input: 8 n: 91 Resultado: 391822218\n",
            "Input: 9 n: 99 Resultado: 395505000\n",
            "Input: 10 n: 74 Resultado: 392848188\n",
            "Input: 11 n: 89 Resultado: 391296899\n",
            "Input: 12 n: 84 Resultado: 396945546\n",
            "Input: 13 n: 73 Resultado: 386241972\n",
            "Input: 14 n: 64 Resultado: 399640077\n",
            "Input: 15 n: 10 Resultado: 299585152\n",
            "Input: 16 n: 85 Resultado: 373100287\n",
            "Input: 17 n: 8 Resultado: 355714902\n",
            "Input: 18 n: 60 Resultado: 381941586\n",
            "Input: 19 n: 87 Resultado: 385183408\n",
            "Input: 20 n: 99 Resultado: 390397632\n",
            "Input: 21 n: 76 Resultado: 354132862\n",
            "Input: 22 n: 37 Resultado: 339452178\n",
            "Input: 23 n: 18 Resultado: 319868703\n",
            "Input: 24 n: 97 Resultado: 396188700\n",
            "Input: 25 n: 88 Resultado: 394447872\n",
            "Input: 26 n: 61 Resultado: 369174058\n",
            "Input: 27 n: 14 Resultado: 336115152\n",
            "Input: 28 n: 38 Resultado: 343351491\n",
            "Input: 29 n: 38 Resultado: 375793280\n",
            "Input: 30 n: 61 Resultado: 397383690\n",
            "Input: 31 n: 98 Resultado: 391901256\n",
            "Input: 32 n: 89 Resultado: 394288128\n",
            "Input: 33 n: 25 Resultado: 346627161\n",
            "Input: 34 n: 41 Resultado: 330083336\n",
            "Input: 35 n: 45 Resultado: 395015576\n",
            "Input: 36 n: 15 Resultado: 352184463\n",
            "Input: 37 n: 17 Resultado: 325617335\n",
            "Input: 38 n: 23 Resultado: 330201251\n",
            "Input: 39 n: 55 Resultado: 396200189\n",
            "Input: 40 n: 22 Resultado: 375536232\n",
            "Input: 41 n: 38 Resultado: 368248884\n",
            "Input: 42 n: 96 Resultado: 387120643\n",
            "Input: 43 n: 29 Resultado: 336893058\n",
            "Input: 44 n: 43 Resultado: 394479126\n",
            "Input: 45 n: 31 Resultado: 370985592\n",
            "Input: 46 n: 17 Resultado: 321892730\n",
            "Input: 47 n: 83 Resultado: 392668672\n",
            "Input: 48 n: 83 Resultado: 397900594\n",
            "Input: 49 n: 18 Resultado: 391043010\n",
            "Input: 50 n: 57 Resultado: 393227939\n",
            "Input: 51 n: 36 Resultado: 363378444\n",
            "Input: 52 n: 10 Resultado: 298267508\n",
            "Input: 53 n: 93 Resultado: 365187875\n",
            "Input: 54 n: 88 Resultado: 392554645\n",
            "Input: 55 n: 9 Resultado: 249726770\n",
            "Input: 56 n: 68 Resultado: 390064958\n",
            "Input: 57 n: 83 Resultado: 387948820\n",
            "Input: 58 n: 41 Resultado: 340878888\n",
            "Input: 59 n: 72 Resultado: 359209809\n",
            "Input: 60 n: 38 Resultado: 376269222\n",
            "Input: 61 n: 19 Resultado: 270586008\n",
            "Input: 62 n: 50 Resultado: 381225184\n",
            "Input: 63 n: 47 Resultado: 361124602\n",
            "Input: 64 n: 64 Resultado: 380053058\n",
            "Input: 65 n: 61 Resultado: 368478222\n",
            "Input: 66 n: 26 Resultado: 387832950\n",
            "Input: 67 n: 98 Resultado: 386298720\n",
            "Input: 68 n: 26 Resultado: 352354896\n",
            "Input: 69 n: 4 Resultado: 163779000\n",
            "Input: 70 n: 47 Resultado: 393960972\n",
            "Input: 71 n: 11 Resultado: 357237280\n",
            "Input: 72 n: 77 Resultado: 392118579\n",
            "Input: 73 n: 69 Resultado: 363908825\n",
            "Input: 74 n: 15 Resultado: 338202993\n",
            "Input: 75 n: 20 Resultado: 354281228\n",
            "Input: 76 n: 68 Resultado: 306494793\n",
            "Input: 77 n: 42 Resultado: 387537969\n",
            "Input: 78 n: 45 Resultado: 397104444\n",
            "Input: 79 n: 50 Resultado: 374547152\n",
            "Input: 80 n: 66 Resultado: 384027280\n",
            "Input: 81 n: 97 Resultado: 394141584\n",
            "Input: 82 n: 85 Resultado: 389923072\n",
            "Input: 83 n: 31 Resultado: 383882049\n",
            "Input: 84 n: 99 Resultado: 385195720\n",
            "Input: 85 n: 22 Resultado: 369731048\n",
            "Input: 86 n: 41 Resultado: 363883782\n",
            "Input: 87 n: 1 Resultado: 0\n",
            "Input: 88 n: 2 Resultado: 16778164\n",
            "Input: 89 n: 82 Resultado: 387829920\n",
            "Input: 90 n: 48 Resultado: 381486555\n",
            "Input: 91 n: 56 Resultado: 368946364\n",
            "Input: 92 n: 83 Resultado: 386581087\n",
            "Input: 93 n: 55 Resultado: 389425715\n",
            "Input: 94 n: 52 Resultado: 332195402\n",
            "Input: 95 n: 59 Resultado: 373006095\n",
            "Input: 96 n: 30 Resultado: 373532880\n",
            "Input: 97 n: 31 Resultado: 382870260\n",
            "Input: 98 n: 97 Resultado: 391366560\n",
            "Input: 99 n: 26 Resultado: 351806005\n",
            "Input: 100 n: 15 Resultado: 385975046\n",
            "-----------------------------------\n",
            "Running with input57.txt\n",
            "Input: 1 n: 97 Resultado: 387771143\n",
            "Input: 2 n: 15 Resultado: 321915825\n",
            "Input: 3 n: 17 Resultado: 350346304\n",
            "Input: 4 n: 49 Resultado: 368206830\n",
            "Input: 5 n: 87 Resultado: 393823925\n",
            "Input: 6 n: 31 Resultado: 389161374\n",
            "Input: 7 n: 31 Resultado: 368509433\n",
            "Input: 8 n: 91 Resultado: 391822218\n",
            "Input: 9 n: 99 Resultado: 395505000\n",
            "Input: 10 n: 74 Resultado: 392848188\n",
            "Input: 11 n: 89 Resultado: 391296899\n",
            "Input: 12 n: 84 Resultado: 396945546\n",
            "Input: 13 n: 73 Resultado: 386241972\n",
            "Input: 14 n: 64 Resultado: 399640077\n",
            "Input: 15 n: 10 Resultado: 299585152\n",
            "Input: 16 n: 85 Resultado: 373100287\n",
            "Input: 17 n: 8 Resultado: 355714902\n",
            "Input: 18 n: 60 Resultado: 381941586\n",
            "Input: 19 n: 87 Resultado: 385183408\n",
            "Input: 20 n: 99 Resultado: 390397632\n",
            "Input: 21 n: 76 Resultado: 354132862\n",
            "Input: 22 n: 37 Resultado: 339452178\n",
            "Input: 23 n: 18 Resultado: 319868703\n",
            "Input: 24 n: 97 Resultado: 396188700\n",
            "Input: 25 n: 88 Resultado: 394447872\n",
            "Input: 26 n: 61 Resultado: 369174058\n",
            "Input: 27 n: 14 Resultado: 336115152\n",
            "Input: 28 n: 38 Resultado: 343351491\n",
            "Input: 29 n: 38 Resultado: 375793280\n",
            "Input: 30 n: 61 Resultado: 397383690\n",
            "Input: 31 n: 98 Resultado: 391901256\n",
            "Input: 32 n: 89 Resultado: 394288128\n",
            "Input: 33 n: 25 Resultado: 346627161\n",
            "Input: 34 n: 41 Resultado: 330083336\n",
            "Input: 35 n: 45 Resultado: 395015576\n",
            "Input: 36 n: 15 Resultado: 352184463\n",
            "Input: 37 n: 17 Resultado: 325617335\n",
            "Input: 38 n: 23 Resultado: 330201251\n",
            "Input: 39 n: 55 Resultado: 396200189\n",
            "Input: 40 n: 22 Resultado: 375536232\n",
            "Input: 41 n: 38 Resultado: 368248884\n",
            "Input: 42 n: 96 Resultado: 387120643\n",
            "Input: 43 n: 29 Resultado: 336893058\n",
            "Input: 44 n: 43 Resultado: 394479126\n",
            "Input: 45 n: 31 Resultado: 370985592\n",
            "Input: 46 n: 17 Resultado: 321892730\n",
            "Input: 47 n: 83 Resultado: 392668672\n",
            "Input: 48 n: 83 Resultado: 397900594\n",
            "Input: 49 n: 18 Resultado: 391043010\n",
            "Input: 50 n: 57 Resultado: 393227939\n",
            "Input: 51 n: 36 Resultado: 363378444\n",
            "Input: 52 n: 10 Resultado: 298267508\n",
            "Input: 53 n: 93 Resultado: 365187875\n",
            "Input: 54 n: 88 Resultado: 392554645\n",
            "Input: 55 n: 9 Resultado: 249726770\n",
            "Input: 56 n: 68 Resultado: 390064958\n",
            "Input: 57 n: 83 Resultado: 387948820\n",
            "Input: 58 n: 41 Resultado: 340878888\n",
            "Input: 59 n: 72 Resultado: 359209809\n",
            "Input: 60 n: 38 Resultado: 376269222\n",
            "Input: 61 n: 19 Resultado: 270586008\n",
            "Input: 62 n: 50 Resultado: 381225184\n",
            "Input: 63 n: 47 Resultado: 361124602\n",
            "Input: 64 n: 64 Resultado: 380053058\n",
            "Input: 65 n: 61 Resultado: 368478222\n",
            "Input: 66 n: 26 Resultado: 387832950\n",
            "Input: 67 n: 98 Resultado: 386298720\n",
            "Input: 68 n: 26 Resultado: 352354896\n",
            "Input: 69 n: 4 Resultado: 163779000\n",
            "Input: 70 n: 47 Resultado: 393960972\n",
            "Input: 71 n: 11 Resultado: 357237280\n",
            "Input: 72 n: 77 Resultado: 392118579\n",
            "Input: 73 n: 69 Resultado: 363908825\n",
            "Input: 74 n: 15 Resultado: 338202993\n",
            "Input: 75 n: 20 Resultado: 354281228\n",
            "Input: 76 n: 68 Resultado: 306494793\n",
            "Input: 77 n: 42 Resultado: 387537969\n",
            "Input: 78 n: 45 Resultado: 397104444\n",
            "Input: 79 n: 50 Resultado: 374547152\n",
            "Input: 80 n: 66 Resultado: 384027280\n",
            "Input: 81 n: 97 Resultado: 394141584\n",
            "Input: 82 n: 85 Resultado: 389923072\n",
            "Input: 83 n: 31 Resultado: 383882049\n",
            "Input: 84 n: 99 Resultado: 385195720\n",
            "Input: 85 n: 22 Resultado: 369731048\n",
            "Input: 86 n: 41 Resultado: 363883782\n",
            "Input: 87 n: 1 Resultado: 0\n",
            "Input: 88 n: 2 Resultado: 16778164\n",
            "Input: 89 n: 82 Resultado: 387829920\n",
            "Input: 90 n: 48 Resultado: 381486555\n",
            "Input: 91 n: 56 Resultado: 368946364\n",
            "Input: 92 n: 83 Resultado: 386581087\n",
            "Input: 93 n: 55 Resultado: 389425715\n",
            "Input: 94 n: 52 Resultado: 332195402\n",
            "Input: 95 n: 59 Resultado: 373006095\n",
            "Input: 96 n: 30 Resultado: 373532880\n",
            "Input: 97 n: 31 Resultado: 382870260\n",
            "Input: 98 n: 97 Resultado: 391366560\n",
            "Input: 99 n: 26 Resultado: 351806005\n",
            "Input: 100 n: 15 Resultado: 385975046\n",
            "-----------------------------------\n",
            "Running with input58.txt\n",
            "Input: 1 n: 97 Resultado: 387771143\n",
            "Input: 2 n: 15 Resultado: 321915825\n",
            "Input: 3 n: 17 Resultado: 350346304\n",
            "Input: 4 n: 49 Resultado: 368206830\n",
            "Input: 5 n: 87 Resultado: 393823925\n",
            "Input: 6 n: 31 Resultado: 389161374\n",
            "Input: 7 n: 31 Resultado: 368509433\n",
            "Input: 8 n: 91 Resultado: 391822218\n",
            "Input: 9 n: 99 Resultado: 395505000\n",
            "Input: 10 n: 74 Resultado: 392848188\n",
            "Input: 11 n: 89 Resultado: 391296899\n",
            "Input: 12 n: 84 Resultado: 396945546\n",
            "Input: 13 n: 73 Resultado: 386241972\n",
            "Input: 14 n: 64 Resultado: 399640077\n",
            "Input: 15 n: 10 Resultado: 299585152\n",
            "Input: 16 n: 85 Resultado: 373100287\n",
            "Input: 17 n: 8 Resultado: 355714902\n",
            "Input: 18 n: 60 Resultado: 381941586\n",
            "Input: 19 n: 87 Resultado: 385183408\n",
            "Input: 20 n: 99 Resultado: 390397632\n",
            "Input: 21 n: 76 Resultado: 354132862\n",
            "Input: 22 n: 37 Resultado: 339452178\n",
            "Input: 23 n: 18 Resultado: 319868703\n",
            "Input: 24 n: 97 Resultado: 396188700\n",
            "Input: 25 n: 88 Resultado: 394447872\n",
            "Input: 26 n: 61 Resultado: 369174058\n",
            "Input: 27 n: 14 Resultado: 336115152\n",
            "Input: 28 n: 38 Resultado: 343351491\n",
            "Input: 29 n: 38 Resultado: 375793280\n",
            "Input: 30 n: 61 Resultado: 397383690\n",
            "Input: 31 n: 98 Resultado: 391901256\n",
            "Input: 32 n: 89 Resultado: 394288128\n",
            "Input: 33 n: 25 Resultado: 346627161\n",
            "Input: 34 n: 41 Resultado: 330083336\n",
            "Input: 35 n: 45 Resultado: 395015576\n",
            "Input: 36 n: 15 Resultado: 352184463\n",
            "Input: 37 n: 17 Resultado: 325617335\n",
            "Input: 38 n: 23 Resultado: 330201251\n",
            "Input: 39 n: 55 Resultado: 396200189\n",
            "Input: 40 n: 22 Resultado: 375536232\n",
            "Input: 41 n: 38 Resultado: 368248884\n",
            "Input: 42 n: 96 Resultado: 387120643\n",
            "Input: 43 n: 29 Resultado: 336893058\n",
            "Input: 44 n: 43 Resultado: 394479126\n",
            "Input: 45 n: 31 Resultado: 370985592\n",
            "Input: 46 n: 17 Resultado: 321892730\n",
            "Input: 47 n: 83 Resultado: 392668672\n",
            "Input: 48 n: 83 Resultado: 397900594\n",
            "Input: 49 n: 18 Resultado: 391043010\n",
            "Input: 50 n: 57 Resultado: 393227939\n",
            "Input: 51 n: 36 Resultado: 363378444\n",
            "Input: 52 n: 10 Resultado: 298267508\n",
            "Input: 53 n: 93 Resultado: 365187875\n",
            "Input: 54 n: 88 Resultado: 392554645\n",
            "Input: 55 n: 9 Resultado: 249726770\n",
            "Input: 56 n: 68 Resultado: 390064958\n",
            "Input: 57 n: 83 Resultado: 387948820\n",
            "Input: 58 n: 41 Resultado: 340878888\n",
            "Input: 59 n: 72 Resultado: 359209809\n",
            "Input: 60 n: 38 Resultado: 376269222\n",
            "Input: 61 n: 19 Resultado: 270586008\n",
            "Input: 62 n: 50 Resultado: 381225184\n",
            "Input: 63 n: 47 Resultado: 361124602\n",
            "Input: 64 n: 64 Resultado: 380053058\n",
            "Input: 65 n: 61 Resultado: 368478222\n",
            "Input: 66 n: 26 Resultado: 387832950\n",
            "Input: 67 n: 98 Resultado: 386298720\n",
            "Input: 68 n: 26 Resultado: 352354896\n",
            "Input: 69 n: 4 Resultado: 163779000\n",
            "Input: 70 n: 47 Resultado: 393960972\n",
            "Input: 71 n: 11 Resultado: 357237280\n",
            "Input: 72 n: 77 Resultado: 392118579\n",
            "Input: 73 n: 69 Resultado: 363908825\n",
            "Input: 74 n: 15 Resultado: 338202993\n",
            "Input: 75 n: 20 Resultado: 354281228\n",
            "Input: 76 n: 68 Resultado: 306494793\n",
            "Input: 77 n: 42 Resultado: 387537969\n",
            "Input: 78 n: 45 Resultado: 397104444\n",
            "Input: 79 n: 50 Resultado: 374547152\n",
            "Input: 80 n: 66 Resultado: 384027280\n",
            "Input: 81 n: 97 Resultado: 394141584\n",
            "Input: 82 n: 85 Resultado: 389923072\n",
            "Input: 83 n: 31 Resultado: 383882049\n",
            "Input: 84 n: 99 Resultado: 385195720\n",
            "Input: 85 n: 22 Resultado: 369731048\n",
            "Input: 86 n: 41 Resultado: 363883782\n",
            "Input: 87 n: 1 Resultado: 0\n",
            "Input: 88 n: 2 Resultado: 16778164\n",
            "Input: 89 n: 82 Resultado: 387829920\n",
            "Input: 90 n: 48 Resultado: 381486555\n",
            "Input: 91 n: 56 Resultado: 368946364\n",
            "Input: 92 n: 83 Resultado: 386581087\n",
            "Input: 93 n: 55 Resultado: 389425715\n",
            "Input: 94 n: 52 Resultado: 332195402\n",
            "Input: 95 n: 59 Resultado: 373006095\n",
            "Input: 96 n: 30 Resultado: 373532880\n",
            "Input: 97 n: 31 Resultado: 382870260\n",
            "Input: 98 n: 97 Resultado: 391366560\n",
            "Input: 99 n: 26 Resultado: 351806005\n",
            "Input: 100 n: 15 Resultado: 385975046\n",
            "-----------------------------------\n",
            "Running with input59.txt\n",
            "Input: 1 n: 97 Resultado: 387771143\n",
            "Input: 2 n: 15 Resultado: 321915825\n",
            "Input: 3 n: 17 Resultado: 350346304\n",
            "Input: 4 n: 49 Resultado: 368206830\n",
            "Input: 5 n: 87 Resultado: 393823925\n",
            "Input: 6 n: 31 Resultado: 389161374\n",
            "Input: 7 n: 31 Resultado: 368509433\n",
            "Input: 8 n: 91 Resultado: 391822218\n",
            "Input: 9 n: 99 Resultado: 395505000\n",
            "Input: 10 n: 74 Resultado: 392848188\n",
            "Input: 11 n: 89 Resultado: 391296899\n",
            "Input: 12 n: 84 Resultado: 396945546\n",
            "Input: 13 n: 73 Resultado: 386241972\n",
            "Input: 14 n: 64 Resultado: 399640077\n",
            "Input: 15 n: 10 Resultado: 299585152\n",
            "Input: 16 n: 85 Resultado: 373100287\n",
            "Input: 17 n: 8 Resultado: 355714902\n",
            "Input: 18 n: 60 Resultado: 381941586\n",
            "Input: 19 n: 87 Resultado: 385183408\n",
            "Input: 20 n: 99 Resultado: 390397632\n",
            "Input: 21 n: 76 Resultado: 354132862\n",
            "Input: 22 n: 37 Resultado: 339452178\n",
            "Input: 23 n: 18 Resultado: 319868703\n",
            "Input: 24 n: 97 Resultado: 396188700\n",
            "Input: 25 n: 88 Resultado: 394447872\n",
            "Input: 26 n: 61 Resultado: 369174058\n",
            "Input: 27 n: 14 Resultado: 336115152\n",
            "Input: 28 n: 38 Resultado: 343351491\n",
            "Input: 29 n: 38 Resultado: 375793280\n",
            "Input: 30 n: 61 Resultado: 397383690\n",
            "Input: 31 n: 98 Resultado: 391901256\n",
            "Input: 32 n: 89 Resultado: 394288128\n",
            "Input: 33 n: 25 Resultado: 346627161\n",
            "Input: 34 n: 41 Resultado: 330083336\n",
            "Input: 35 n: 45 Resultado: 395015576\n",
            "Input: 36 n: 15 Resultado: 352184463\n",
            "Input: 37 n: 17 Resultado: 325617335\n",
            "Input: 38 n: 23 Resultado: 330201251\n",
            "Input: 39 n: 55 Resultado: 396200189\n",
            "Input: 40 n: 22 Resultado: 375536232\n",
            "Input: 41 n: 38 Resultado: 368248884\n",
            "Input: 42 n: 96 Resultado: 387120643\n",
            "Input: 43 n: 29 Resultado: 336893058\n",
            "Input: 44 n: 43 Resultado: 394479126\n",
            "Input: 45 n: 31 Resultado: 370985592\n",
            "Input: 46 n: 17 Resultado: 321892730\n",
            "Input: 47 n: 83 Resultado: 392668672\n",
            "Input: 48 n: 83 Resultado: 397900594\n",
            "Input: 49 n: 18 Resultado: 391043010\n",
            "Input: 50 n: 57 Resultado: 393227939\n",
            "Input: 51 n: 36 Resultado: 363378444\n",
            "Input: 52 n: 10 Resultado: 298267508\n",
            "Input: 53 n: 93 Resultado: 365187875\n",
            "Input: 54 n: 88 Resultado: 392554645\n",
            "Input: 55 n: 9 Resultado: 249726770\n",
            "Input: 56 n: 68 Resultado: 390064958\n",
            "Input: 57 n: 83 Resultado: 387948820\n",
            "Input: 58 n: 41 Resultado: 340878888\n",
            "Input: 59 n: 72 Resultado: 359209809\n",
            "Input: 60 n: 38 Resultado: 376269222\n",
            "Input: 61 n: 19 Resultado: 270586008\n",
            "Input: 62 n: 50 Resultado: 381225184\n",
            "Input: 63 n: 47 Resultado: 361124602\n",
            "Input: 64 n: 64 Resultado: 380053058\n",
            "Input: 65 n: 61 Resultado: 368478222\n",
            "Input: 66 n: 26 Resultado: 387832950\n",
            "Input: 67 n: 98 Resultado: 386298720\n",
            "Input: 68 n: 26 Resultado: 352354896\n",
            "Input: 69 n: 4 Resultado: 163779000\n",
            "Input: 70 n: 47 Resultado: 393960972\n",
            "Input: 71 n: 11 Resultado: 357237280\n",
            "Input: 72 n: 77 Resultado: 392118579\n",
            "Input: 73 n: 69 Resultado: 363908825\n",
            "Input: 74 n: 15 Resultado: 338202993\n",
            "Input: 75 n: 20 Resultado: 354281228\n",
            "Input: 76 n: 68 Resultado: 306494793\n",
            "Input: 77 n: 42 Resultado: 387537969\n",
            "Input: 78 n: 45 Resultado: 397104444\n",
            "Input: 79 n: 50 Resultado: 374547152\n",
            "Input: 80 n: 66 Resultado: 384027280\n",
            "Input: 81 n: 97 Resultado: 394141584\n",
            "Input: 82 n: 85 Resultado: 389923072\n",
            "Input: 83 n: 31 Resultado: 383882049\n",
            "Input: 84 n: 99 Resultado: 385195720\n",
            "Input: 85 n: 22 Resultado: 369731048\n",
            "Input: 86 n: 41 Resultado: 363883782\n",
            "Input: 87 n: 1 Resultado: 0\n",
            "Input: 88 n: 2 Resultado: 16778164\n",
            "Input: 89 n: 82 Resultado: 387829920\n",
            "Input: 90 n: 48 Resultado: 381486555\n",
            "Input: 91 n: 56 Resultado: 368946364\n",
            "Input: 92 n: 83 Resultado: 386581087\n",
            "Input: 93 n: 55 Resultado: 389425715\n",
            "Input: 94 n: 52 Resultado: 332195402\n",
            "Input: 95 n: 59 Resultado: 373006095\n",
            "Input: 96 n: 30 Resultado: 373532880\n",
            "Input: 97 n: 31 Resultado: 382870260\n",
            "Input: 98 n: 97 Resultado: 391366560\n",
            "Input: 99 n: 26 Resultado: 351806005\n",
            "Input: 100 n: 15 Resultado: 385975046\n",
            "-----------------------------------\n",
            "Running with input60.txt\n",
            "Input: 1 n: 97 Resultado: 387771143\n",
            "Input: 2 n: 15 Resultado: 321915825\n",
            "Input: 3 n: 17 Resultado: 350346304\n",
            "Input: 4 n: 49 Resultado: 368206830\n",
            "Input: 5 n: 87 Resultado: 393823925\n",
            "Input: 6 n: 31 Resultado: 389161374\n",
            "Input: 7 n: 31 Resultado: 368509433\n",
            "Input: 8 n: 91 Resultado: 391822218\n",
            "Input: 9 n: 99 Resultado: 395505000\n",
            "Input: 10 n: 74 Resultado: 392848188\n",
            "Input: 11 n: 89 Resultado: 391296899\n",
            "Input: 12 n: 84 Resultado: 396945546\n",
            "Input: 13 n: 73 Resultado: 386241972\n",
            "Input: 14 n: 64 Resultado: 399640077\n",
            "Input: 15 n: 10 Resultado: 299585152\n",
            "Input: 16 n: 85 Resultado: 373100287\n",
            "Input: 17 n: 8 Resultado: 355714902\n",
            "Input: 18 n: 60 Resultado: 381941586\n",
            "Input: 19 n: 87 Resultado: 385183408\n",
            "Input: 20 n: 99 Resultado: 390397632\n",
            "Input: 21 n: 76 Resultado: 354132862\n",
            "Input: 22 n: 37 Resultado: 339452178\n",
            "Input: 23 n: 18 Resultado: 319868703\n",
            "Input: 24 n: 97 Resultado: 396188700\n",
            "Input: 25 n: 88 Resultado: 394447872\n",
            "Input: 26 n: 61 Resultado: 369174058\n",
            "Input: 27 n: 14 Resultado: 336115152\n",
            "Input: 28 n: 38 Resultado: 343351491\n",
            "Input: 29 n: 38 Resultado: 375793280\n",
            "Input: 30 n: 61 Resultado: 397383690\n",
            "Input: 31 n: 98 Resultado: 391901256\n",
            "Input: 32 n: 89 Resultado: 394288128\n",
            "Input: 33 n: 25 Resultado: 346627161\n",
            "Input: 34 n: 41 Resultado: 330083336\n",
            "Input: 35 n: 45 Resultado: 395015576\n",
            "Input: 36 n: 15 Resultado: 352184463\n",
            "Input: 37 n: 17 Resultado: 325617335\n",
            "Input: 38 n: 23 Resultado: 330201251\n",
            "Input: 39 n: 55 Resultado: 396200189\n",
            "Input: 40 n: 22 Resultado: 375536232\n",
            "Input: 41 n: 38 Resultado: 368248884\n",
            "Input: 42 n: 96 Resultado: 387120643\n",
            "Input: 43 n: 29 Resultado: 336893058\n",
            "Input: 44 n: 43 Resultado: 394479126\n",
            "Input: 45 n: 31 Resultado: 370985592\n",
            "Input: 46 n: 17 Resultado: 321892730\n",
            "Input: 47 n: 83 Resultado: 392668672\n",
            "Input: 48 n: 83 Resultado: 397900594\n",
            "Input: 49 n: 18 Resultado: 391043010\n",
            "Input: 50 n: 57 Resultado: 393227939\n",
            "Input: 51 n: 36 Resultado: 363378444\n",
            "Input: 52 n: 10 Resultado: 298267508\n",
            "Input: 53 n: 93 Resultado: 365187875\n",
            "Input: 54 n: 88 Resultado: 392554645\n",
            "Input: 55 n: 9 Resultado: 249726770\n",
            "Input: 56 n: 68 Resultado: 390064958\n",
            "Input: 57 n: 83 Resultado: 387948820\n",
            "Input: 58 n: 41 Resultado: 340878888\n",
            "Input: 59 n: 72 Resultado: 359209809\n",
            "Input: 60 n: 38 Resultado: 376269222\n",
            "Input: 61 n: 19 Resultado: 270586008\n",
            "Input: 62 n: 50 Resultado: 381225184\n",
            "Input: 63 n: 47 Resultado: 361124602\n",
            "Input: 64 n: 64 Resultado: 380053058\n",
            "Input: 65 n: 61 Resultado: 368478222\n",
            "Input: 66 n: 26 Resultado: 387832950\n",
            "Input: 67 n: 98 Resultado: 386298720\n",
            "Input: 68 n: 26 Resultado: 352354896\n",
            "Input: 69 n: 4 Resultado: 163779000\n",
            "Input: 70 n: 47 Resultado: 393960972\n",
            "Input: 71 n: 11 Resultado: 357237280\n",
            "Input: 72 n: 77 Resultado: 392118579\n",
            "Input: 73 n: 69 Resultado: 363908825\n",
            "Input: 74 n: 15 Resultado: 338202993\n",
            "Input: 75 n: 20 Resultado: 354281228\n",
            "Input: 76 n: 68 Resultado: 306494793\n",
            "Input: 77 n: 42 Resultado: 387537969\n",
            "Input: 78 n: 45 Resultado: 397104444\n",
            "Input: 79 n: 50 Resultado: 374547152\n",
            "Input: 80 n: 66 Resultado: 384027280\n",
            "Input: 81 n: 97 Resultado: 394141584\n",
            "Input: 82 n: 85 Resultado: 389923072\n",
            "Input: 83 n: 31 Resultado: 383882049\n",
            "Input: 84 n: 99 Resultado: 385195720\n",
            "Input: 85 n: 22 Resultado: 369731048\n",
            "Input: 86 n: 41 Resultado: 363883782\n",
            "Input: 87 n: 1 Resultado: 0\n",
            "Input: 88 n: 2 Resultado: 16778164\n",
            "Input: 89 n: 82 Resultado: 387829920\n",
            "Input: 90 n: 48 Resultado: 381486555\n",
            "Input: 91 n: 56 Resultado: 368946364\n",
            "Input: 92 n: 83 Resultado: 386581087\n",
            "Input: 93 n: 55 Resultado: 389425715\n",
            "Input: 94 n: 52 Resultado: 332195402\n",
            "Input: 95 n: 59 Resultado: 373006095\n",
            "Input: 96 n: 30 Resultado: 373532880\n",
            "Input: 97 n: 31 Resultado: 382870260\n",
            "Input: 98 n: 97 Resultado: 391366560\n",
            "Input: 99 n: 26 Resultado: 351806005\n",
            "Input: 100 n: 15 Resultado: 385975046\n",
            "-----------------------------------\n",
            "Running with input61.txt\n",
            "Input: 1 n: 97 Resultado: 387771143\n",
            "Input: 2 n: 15 Resultado: 321915825\n",
            "Input: 3 n: 17 Resultado: 350346304\n",
            "Input: 4 n: 49 Resultado: 368206830\n",
            "Input: 5 n: 87 Resultado: 393823925\n",
            "Input: 6 n: 31 Resultado: 389161374\n",
            "Input: 7 n: 31 Resultado: 368509433\n",
            "Input: 8 n: 91 Resultado: 391822218\n",
            "Input: 9 n: 99 Resultado: 395505000\n",
            "Input: 10 n: 74 Resultado: 392848188\n",
            "Input: 11 n: 89 Resultado: 391296899\n",
            "Input: 12 n: 84 Resultado: 396945546\n",
            "Input: 13 n: 73 Resultado: 386241972\n",
            "Input: 14 n: 64 Resultado: 399640077\n",
            "Input: 15 n: 10 Resultado: 299585152\n",
            "Input: 16 n: 85 Resultado: 373100287\n",
            "Input: 17 n: 8 Resultado: 355714902\n",
            "Input: 18 n: 60 Resultado: 381941586\n",
            "Input: 19 n: 87 Resultado: 385183408\n",
            "Input: 20 n: 99 Resultado: 390397632\n",
            "Input: 21 n: 76 Resultado: 354132862\n",
            "Input: 22 n: 37 Resultado: 339452178\n",
            "Input: 23 n: 18 Resultado: 319868703\n",
            "Input: 24 n: 97 Resultado: 396188700\n",
            "Input: 25 n: 88 Resultado: 394447872\n",
            "Input: 26 n: 61 Resultado: 369174058\n",
            "Input: 27 n: 14 Resultado: 336115152\n",
            "Input: 28 n: 38 Resultado: 343351491\n",
            "Input: 29 n: 38 Resultado: 375793280\n",
            "Input: 30 n: 61 Resultado: 397383690\n",
            "Input: 31 n: 98 Resultado: 391901256\n",
            "Input: 32 n: 89 Resultado: 394288128\n",
            "Input: 33 n: 25 Resultado: 346627161\n",
            "Input: 34 n: 41 Resultado: 330083336\n",
            "Input: 35 n: 45 Resultado: 395015576\n",
            "Input: 36 n: 15 Resultado: 352184463\n",
            "Input: 37 n: 17 Resultado: 325617335\n",
            "Input: 38 n: 23 Resultado: 330201251\n",
            "Input: 39 n: 55 Resultado: 396200189\n",
            "Input: 40 n: 22 Resultado: 375536232\n",
            "Input: 41 n: 38 Resultado: 368248884\n",
            "Input: 42 n: 96 Resultado: 387120643\n",
            "Input: 43 n: 29 Resultado: 336893058\n",
            "Input: 44 n: 43 Resultado: 394479126\n",
            "Input: 45 n: 31 Resultado: 370985592\n",
            "Input: 46 n: 17 Resultado: 321892730\n",
            "Input: 47 n: 83 Resultado: 392668672\n",
            "Input: 48 n: 83 Resultado: 397900594\n",
            "Input: 49 n: 18 Resultado: 391043010\n",
            "Input: 50 n: 57 Resultado: 393227939\n",
            "Input: 51 n: 36 Resultado: 363378444\n",
            "Input: 52 n: 10 Resultado: 298267508\n",
            "Input: 53 n: 93 Resultado: 365187875\n",
            "Input: 54 n: 88 Resultado: 392554645\n",
            "Input: 55 n: 9 Resultado: 249726770\n",
            "Input: 56 n: 68 Resultado: 390064958\n",
            "Input: 57 n: 83 Resultado: 387948820\n",
            "Input: 58 n: 41 Resultado: 340878888\n",
            "Input: 59 n: 72 Resultado: 359209809\n",
            "Input: 60 n: 38 Resultado: 376269222\n",
            "Input: 61 n: 19 Resultado: 270586008\n",
            "Input: 62 n: 50 Resultado: 381225184\n",
            "Input: 63 n: 47 Resultado: 361124602\n",
            "Input: 64 n: 64 Resultado: 380053058\n",
            "Input: 65 n: 61 Resultado: 368478222\n",
            "Input: 66 n: 26 Resultado: 387832950\n",
            "Input: 67 n: 98 Resultado: 386298720\n",
            "Input: 68 n: 26 Resultado: 352354896\n",
            "Input: 69 n: 4 Resultado: 163779000\n",
            "Input: 70 n: 47 Resultado: 393960972\n",
            "Input: 71 n: 11 Resultado: 357237280\n",
            "Input: 72 n: 77 Resultado: 392118579\n",
            "Input: 73 n: 69 Resultado: 363908825\n",
            "Input: 74 n: 15 Resultado: 338202993\n",
            "Input: 75 n: 20 Resultado: 354281228\n",
            "Input: 76 n: 68 Resultado: 306494793\n",
            "Input: 77 n: 42 Resultado: 387537969\n",
            "Input: 78 n: 45 Resultado: 397104444\n",
            "Input: 79 n: 50 Resultado: 374547152\n",
            "Input: 80 n: 66 Resultado: 384027280\n",
            "Input: 81 n: 97 Resultado: 394141584\n",
            "Input: 82 n: 85 Resultado: 389923072\n",
            "Input: 83 n: 31 Resultado: 383882049\n",
            "Input: 84 n: 99 Resultado: 385195720\n",
            "Input: 85 n: 22 Resultado: 369731048\n",
            "Input: 86 n: 41 Resultado: 363883782\n",
            "Input: 87 n: 1 Resultado: 0\n",
            "Input: 88 n: 2 Resultado: 16778164\n",
            "Input: 89 n: 82 Resultado: 387829920\n",
            "Input: 90 n: 48 Resultado: 381486555\n",
            "Input: 91 n: 56 Resultado: 368946364\n",
            "Input: 92 n: 83 Resultado: 386581087\n",
            "Input: 93 n: 55 Resultado: 389425715\n",
            "Input: 94 n: 52 Resultado: 332195402\n",
            "Input: 95 n: 59 Resultado: 373006095\n",
            "Input: 96 n: 30 Resultado: 373532880\n",
            "Input: 97 n: 31 Resultado: 382870260\n",
            "Input: 98 n: 97 Resultado: 391366560\n",
            "Input: 99 n: 26 Resultado: 351806005\n",
            "Input: 100 n: 15 Resultado: 385975046\n",
            "-----------------------------------\n",
            "Running with input62.txt\n",
            "Input: 1 n: 97 Resultado: 387771143\n",
            "Input: 2 n: 15 Resultado: 321915825\n",
            "Input: 3 n: 17 Resultado: 350346304\n",
            "Input: 4 n: 49 Resultado: 368206830\n",
            "Input: 5 n: 87 Resultado: 393823925\n",
            "Input: 6 n: 31 Resultado: 389161374\n",
            "Input: 7 n: 31 Resultado: 368509433\n",
            "Input: 8 n: 91 Resultado: 391822218\n",
            "Input: 9 n: 99 Resultado: 395505000\n",
            "Input: 10 n: 74 Resultado: 392848188\n",
            "Input: 11 n: 89 Resultado: 391296899\n",
            "Input: 12 n: 84 Resultado: 396945546\n",
            "Input: 13 n: 73 Resultado: 386241972\n",
            "Input: 14 n: 64 Resultado: 399640077\n",
            "Input: 15 n: 10 Resultado: 299585152\n",
            "Input: 16 n: 85 Resultado: 373100287\n",
            "Input: 17 n: 8 Resultado: 355714902\n",
            "Input: 18 n: 60 Resultado: 381941586\n",
            "Input: 19 n: 87 Resultado: 385183408\n",
            "Input: 20 n: 99 Resultado: 390397632\n",
            "Input: 21 n: 76 Resultado: 354132862\n",
            "Input: 22 n: 37 Resultado: 339452178\n",
            "Input: 23 n: 18 Resultado: 319868703\n",
            "Input: 24 n: 97 Resultado: 396188700\n",
            "Input: 25 n: 88 Resultado: 394447872\n",
            "Input: 26 n: 61 Resultado: 369174058\n",
            "Input: 27 n: 14 Resultado: 336115152\n",
            "Input: 28 n: 38 Resultado: 343351491\n",
            "Input: 29 n: 38 Resultado: 375793280\n",
            "Input: 30 n: 61 Resultado: 397383690\n",
            "Input: 31 n: 98 Resultado: 391901256\n",
            "Input: 32 n: 89 Resultado: 394288128\n",
            "Input: 33 n: 25 Resultado: 346627161\n",
            "Input: 34 n: 41 Resultado: 330083336\n",
            "Input: 35 n: 45 Resultado: 395015576\n",
            "Input: 36 n: 15 Resultado: 352184463\n",
            "Input: 37 n: 17 Resultado: 325617335\n",
            "Input: 38 n: 23 Resultado: 330201251\n",
            "Input: 39 n: 55 Resultado: 396200189\n",
            "Input: 40 n: 22 Resultado: 375536232\n",
            "Input: 41 n: 38 Resultado: 368248884\n",
            "Input: 42 n: 96 Resultado: 387120643\n",
            "Input: 43 n: 29 Resultado: 336893058\n",
            "Input: 44 n: 43 Resultado: 394479126\n",
            "Input: 45 n: 31 Resultado: 370985592\n",
            "Input: 46 n: 17 Resultado: 321892730\n",
            "Input: 47 n: 83 Resultado: 392668672\n",
            "Input: 48 n: 83 Resultado: 397900594\n",
            "Input: 49 n: 18 Resultado: 391043010\n",
            "Input: 50 n: 57 Resultado: 393227939\n",
            "Input: 51 n: 36 Resultado: 363378444\n",
            "Input: 52 n: 10 Resultado: 298267508\n",
            "Input: 53 n: 93 Resultado: 365187875\n",
            "Input: 54 n: 88 Resultado: 392554645\n",
            "Input: 55 n: 9 Resultado: 249726770\n",
            "Input: 56 n: 68 Resultado: 390064958\n",
            "Input: 57 n: 83 Resultado: 387948820\n",
            "Input: 58 n: 41 Resultado: 340878888\n",
            "Input: 59 n: 72 Resultado: 359209809\n",
            "Input: 60 n: 38 Resultado: 376269222\n",
            "Input: 61 n: 19 Resultado: 270586008\n",
            "Input: 62 n: 50 Resultado: 381225184\n",
            "Input: 63 n: 47 Resultado: 361124602\n",
            "Input: 64 n: 64 Resultado: 380053058\n",
            "Input: 65 n: 61 Resultado: 368478222\n",
            "Input: 66 n: 26 Resultado: 387832950\n",
            "Input: 67 n: 98 Resultado: 386298720\n",
            "Input: 68 n: 26 Resultado: 352354896\n",
            "Input: 69 n: 4 Resultado: 163779000\n",
            "Input: 70 n: 47 Resultado: 393960972\n",
            "Input: 71 n: 11 Resultado: 357237280\n",
            "Input: 72 n: 77 Resultado: 392118579\n",
            "Input: 73 n: 69 Resultado: 363908825\n",
            "Input: 74 n: 15 Resultado: 338202993\n",
            "Input: 75 n: 20 Resultado: 354281228\n",
            "Input: 76 n: 68 Resultado: 306494793\n",
            "Input: 77 n: 42 Resultado: 387537969\n",
            "Input: 78 n: 45 Resultado: 397104444\n",
            "Input: 79 n: 50 Resultado: 374547152\n",
            "Input: 80 n: 66 Resultado: 384027280\n",
            "Input: 81 n: 97 Resultado: 394141584\n",
            "Input: 82 n: 85 Resultado: 389923072\n",
            "Input: 83 n: 31 Resultado: 383882049\n",
            "Input: 84 n: 99 Resultado: 385195720\n",
            "Input: 85 n: 22 Resultado: 369731048\n",
            "Input: 86 n: 41 Resultado: 363883782\n",
            "Input: 87 n: 1 Resultado: 0\n",
            "Input: 88 n: 2 Resultado: 16778164\n",
            "Input: 89 n: 82 Resultado: 387829920\n",
            "Input: 90 n: 48 Resultado: 381486555\n",
            "Input: 91 n: 56 Resultado: 368946364\n",
            "Input: 92 n: 83 Resultado: 386581087\n",
            "Input: 93 n: 55 Resultado: 389425715\n",
            "Input: 94 n: 52 Resultado: 332195402\n",
            "Input: 95 n: 59 Resultado: 373006095\n",
            "Input: 96 n: 30 Resultado: 373532880\n",
            "Input: 97 n: 31 Resultado: 382870260\n",
            "Input: 98 n: 97 Resultado: 391366560\n",
            "Input: 99 n: 26 Resultado: 351806005\n",
            "Input: 100 n: 15 Resultado: 385975046\n",
            "-----------------------------------\n",
            "Running with input63.txt\n",
            "Input: 1 n: 97 Resultado: 387771143\n",
            "Input: 2 n: 15 Resultado: 321915825\n",
            "Input: 3 n: 17 Resultado: 350346304\n",
            "Input: 4 n: 49 Resultado: 368206830\n",
            "Input: 5 n: 87 Resultado: 393823925\n",
            "Input: 6 n: 31 Resultado: 389161374\n",
            "Input: 7 n: 31 Resultado: 368509433\n",
            "Input: 8 n: 91 Resultado: 391822218\n",
            "Input: 9 n: 99 Resultado: 395505000\n",
            "Input: 10 n: 74 Resultado: 392848188\n",
            "Input: 11 n: 89 Resultado: 391296899\n",
            "Input: 12 n: 84 Resultado: 396945546\n",
            "Input: 13 n: 73 Resultado: 386241972\n",
            "Input: 14 n: 64 Resultado: 399640077\n",
            "Input: 15 n: 10 Resultado: 299585152\n",
            "Input: 16 n: 85 Resultado: 373100287\n",
            "Input: 17 n: 8 Resultado: 355714902\n",
            "Input: 18 n: 60 Resultado: 381941586\n",
            "Input: 19 n: 87 Resultado: 385183408\n",
            "Input: 20 n: 99 Resultado: 390397632\n",
            "Input: 21 n: 76 Resultado: 354132862\n",
            "Input: 22 n: 37 Resultado: 339452178\n",
            "Input: 23 n: 18 Resultado: 319868703\n",
            "Input: 24 n: 97 Resultado: 396188700\n",
            "Input: 25 n: 88 Resultado: 394447872\n",
            "Input: 26 n: 61 Resultado: 369174058\n",
            "Input: 27 n: 14 Resultado: 336115152\n",
            "Input: 28 n: 38 Resultado: 343351491\n",
            "Input: 29 n: 38 Resultado: 375793280\n",
            "Input: 30 n: 61 Resultado: 397383690\n",
            "Input: 31 n: 98 Resultado: 391901256\n",
            "Input: 32 n: 89 Resultado: 394288128\n",
            "Input: 33 n: 25 Resultado: 346627161\n",
            "Input: 34 n: 41 Resultado: 330083336\n",
            "Input: 35 n: 45 Resultado: 395015576\n",
            "Input: 36 n: 15 Resultado: 352184463\n",
            "Input: 37 n: 17 Resultado: 325617335\n",
            "Input: 38 n: 23 Resultado: 330201251\n",
            "Input: 39 n: 55 Resultado: 396200189\n",
            "Input: 40 n: 22 Resultado: 375536232\n",
            "Input: 41 n: 38 Resultado: 368248884\n",
            "Input: 42 n: 96 Resultado: 387120643\n",
            "Input: 43 n: 29 Resultado: 336893058\n",
            "Input: 44 n: 43 Resultado: 394479126\n",
            "Input: 45 n: 31 Resultado: 370985592\n",
            "Input: 46 n: 17 Resultado: 321892730\n",
            "Input: 47 n: 83 Resultado: 392668672\n",
            "Input: 48 n: 83 Resultado: 397900594\n",
            "Input: 49 n: 18 Resultado: 391043010\n",
            "Input: 50 n: 57 Resultado: 393227939\n",
            "Input: 51 n: 36 Resultado: 363378444\n",
            "Input: 52 n: 10 Resultado: 298267508\n",
            "Input: 53 n: 93 Resultado: 365187875\n",
            "Input: 54 n: 88 Resultado: 392554645\n",
            "Input: 55 n: 9 Resultado: 249726770\n",
            "Input: 56 n: 68 Resultado: 390064958\n",
            "Input: 57 n: 83 Resultado: 387948820\n",
            "Input: 58 n: 41 Resultado: 340878888\n",
            "Input: 59 n: 72 Resultado: 359209809\n",
            "Input: 60 n: 38 Resultado: 376269222\n",
            "Input: 61 n: 19 Resultado: 270586008\n",
            "Input: 62 n: 50 Resultado: 381225184\n",
            "Input: 63 n: 47 Resultado: 361124602\n",
            "Input: 64 n: 64 Resultado: 380053058\n",
            "Input: 65 n: 61 Resultado: 368478222\n",
            "Input: 66 n: 26 Resultado: 387832950\n",
            "Input: 67 n: 98 Resultado: 386298720\n",
            "Input: 68 n: 26 Resultado: 352354896\n",
            "Input: 69 n: 4 Resultado: 163779000\n",
            "Input: 70 n: 47 Resultado: 393960972\n",
            "Input: 71 n: 11 Resultado: 357237280\n",
            "Input: 72 n: 77 Resultado: 392118579\n",
            "Input: 73 n: 69 Resultado: 363908825\n",
            "Input: 74 n: 15 Resultado: 338202993\n",
            "Input: 75 n: 20 Resultado: 354281228\n",
            "Input: 76 n: 68 Resultado: 306494793\n",
            "Input: 77 n: 42 Resultado: 387537969\n",
            "Input: 78 n: 45 Resultado: 397104444\n",
            "Input: 79 n: 50 Resultado: 374547152\n",
            "Input: 80 n: 66 Resultado: 384027280\n",
            "Input: 81 n: 97 Resultado: 394141584\n",
            "Input: 82 n: 85 Resultado: 389923072\n",
            "Input: 83 n: 31 Resultado: 383882049\n",
            "Input: 84 n: 99 Resultado: 385195720\n",
            "Input: 85 n: 22 Resultado: 369731048\n",
            "Input: 86 n: 41 Resultado: 363883782\n",
            "Input: 87 n: 1 Resultado: 0\n",
            "Input: 88 n: 2 Resultado: 16778164\n",
            "Input: 89 n: 82 Resultado: 387829920\n",
            "Input: 90 n: 48 Resultado: 381486555\n",
            "Input: 91 n: 56 Resultado: 368946364\n",
            "Input: 92 n: 83 Resultado: 386581087\n",
            "Input: 93 n: 55 Resultado: 389425715\n",
            "Input: 94 n: 52 Resultado: 332195402\n",
            "Input: 95 n: 59 Resultado: 373006095\n",
            "Input: 96 n: 30 Resultado: 373532880\n",
            "Input: 97 n: 31 Resultado: 382870260\n",
            "Input: 98 n: 97 Resultado: 391366560\n",
            "Input: 99 n: 26 Resultado: 351806005\n",
            "Input: 100 n: 15 Resultado: 385975046\n",
            "-----------------------------------\n",
            "Running with input64.txt\n",
            "Input: 1 n: 97 Resultado: 387771143\n",
            "Input: 2 n: 15 Resultado: 321915825\n",
            "Input: 3 n: 17 Resultado: 350346304\n",
            "Input: 4 n: 49 Resultado: 368206830\n",
            "Input: 5 n: 87 Resultado: 393823925\n",
            "Input: 6 n: 31 Resultado: 389161374\n",
            "Input: 7 n: 31 Resultado: 368509433\n",
            "Input: 8 n: 91 Resultado: 391822218\n",
            "Input: 9 n: 99 Resultado: 395505000\n",
            "Input: 10 n: 74 Resultado: 392848188\n",
            "Input: 11 n: 89 Resultado: 391296899\n",
            "Input: 12 n: 84 Resultado: 396945546\n",
            "Input: 13 n: 73 Resultado: 386241972\n",
            "Input: 14 n: 64 Resultado: 399640077\n",
            "Input: 15 n: 10 Resultado: 299585152\n",
            "Input: 16 n: 85 Resultado: 373100287\n",
            "Input: 17 n: 8 Resultado: 355714902\n",
            "Input: 18 n: 60 Resultado: 381941586\n",
            "Input: 19 n: 87 Resultado: 385183408\n",
            "Input: 20 n: 99 Resultado: 390397632\n",
            "Input: 21 n: 76 Resultado: 354132862\n",
            "Input: 22 n: 37 Resultado: 339452178\n",
            "Input: 23 n: 18 Resultado: 319868703\n",
            "Input: 24 n: 97 Resultado: 396188700\n",
            "Input: 25 n: 88 Resultado: 394447872\n",
            "Input: 26 n: 61 Resultado: 369174058\n",
            "Input: 27 n: 14 Resultado: 336115152\n",
            "Input: 28 n: 38 Resultado: 343351491\n",
            "Input: 29 n: 38 Resultado: 375793280\n",
            "Input: 30 n: 61 Resultado: 397383690\n",
            "Input: 31 n: 98 Resultado: 391901256\n",
            "Input: 32 n: 89 Resultado: 394288128\n",
            "Input: 33 n: 25 Resultado: 346627161\n",
            "Input: 34 n: 41 Resultado: 330083336\n",
            "Input: 35 n: 45 Resultado: 395015576\n",
            "Input: 36 n: 15 Resultado: 352184463\n",
            "Input: 37 n: 17 Resultado: 325617335\n",
            "Input: 38 n: 23 Resultado: 330201251\n",
            "Input: 39 n: 55 Resultado: 396200189\n",
            "Input: 40 n: 22 Resultado: 375536232\n",
            "Input: 41 n: 38 Resultado: 368248884\n",
            "Input: 42 n: 96 Resultado: 387120643\n",
            "Input: 43 n: 29 Resultado: 336893058\n",
            "Input: 44 n: 43 Resultado: 394479126\n",
            "Input: 45 n: 31 Resultado: 370985592\n",
            "Input: 46 n: 17 Resultado: 321892730\n",
            "Input: 47 n: 83 Resultado: 392668672\n",
            "Input: 48 n: 83 Resultado: 397900594\n",
            "Input: 49 n: 18 Resultado: 391043010\n",
            "Input: 50 n: 57 Resultado: 393227939\n",
            "Input: 51 n: 36 Resultado: 363378444\n",
            "Input: 52 n: 10 Resultado: 298267508\n",
            "Input: 53 n: 93 Resultado: 365187875\n",
            "Input: 54 n: 88 Resultado: 392554645\n",
            "Input: 55 n: 9 Resultado: 249726770\n",
            "Input: 56 n: 68 Resultado: 390064958\n",
            "Input: 57 n: 83 Resultado: 387948820\n",
            "Input: 58 n: 41 Resultado: 340878888\n",
            "Input: 59 n: 72 Resultado: 359209809\n",
            "Input: 60 n: 38 Resultado: 376269222\n",
            "Input: 61 n: 19 Resultado: 270586008\n",
            "Input: 62 n: 50 Resultado: 381225184\n",
            "Input: 63 n: 47 Resultado: 361124602\n",
            "Input: 64 n: 64 Resultado: 380053058\n",
            "Input: 65 n: 61 Resultado: 368478222\n",
            "Input: 66 n: 26 Resultado: 387832950\n",
            "Input: 67 n: 98 Resultado: 386298720\n",
            "Input: 68 n: 26 Resultado: 352354896\n",
            "Input: 69 n: 4 Resultado: 163779000\n",
            "Input: 70 n: 47 Resultado: 393960972\n",
            "Input: 71 n: 11 Resultado: 357237280\n",
            "Input: 72 n: 77 Resultado: 392118579\n",
            "Input: 73 n: 69 Resultado: 363908825\n",
            "Input: 74 n: 15 Resultado: 338202993\n",
            "Input: 75 n: 20 Resultado: 354281228\n",
            "Input: 76 n: 68 Resultado: 306494793\n",
            "Input: 77 n: 42 Resultado: 387537969\n",
            "Input: 78 n: 45 Resultado: 397104444\n",
            "Input: 79 n: 50 Resultado: 374547152\n",
            "Input: 80 n: 66 Resultado: 384027280\n",
            "Input: 81 n: 97 Resultado: 394141584\n",
            "Input: 82 n: 85 Resultado: 389923072\n",
            "Input: 83 n: 31 Resultado: 383882049\n",
            "Input: 84 n: 99 Resultado: 385195720\n",
            "Input: 85 n: 22 Resultado: 369731048\n",
            "Input: 86 n: 41 Resultado: 363883782\n",
            "Input: 87 n: 1 Resultado: 0\n",
            "Input: 88 n: 2 Resultado: 16778164\n",
            "Input: 89 n: 82 Resultado: 387829920\n",
            "Input: 90 n: 48 Resultado: 381486555\n",
            "Input: 91 n: 56 Resultado: 368946364\n",
            "Input: 92 n: 83 Resultado: 386581087\n",
            "Input: 93 n: 55 Resultado: 389425715\n",
            "Input: 94 n: 52 Resultado: 332195402\n",
            "Input: 95 n: 59 Resultado: 373006095\n",
            "Input: 96 n: 30 Resultado: 373532880\n",
            "Input: 97 n: 31 Resultado: 382870260\n",
            "Input: 98 n: 97 Resultado: 391366560\n",
            "Input: 99 n: 26 Resultado: 351806005\n",
            "Input: 100 n: 15 Resultado: 385975046\n",
            "-----------------------------------\n",
            "Running with input65.txt\n",
            "Input: 1 n: 97 Resultado: 387771143\n",
            "Input: 2 n: 15 Resultado: 321915825\n",
            "Input: 3 n: 17 Resultado: 350346304\n",
            "Input: 4 n: 49 Resultado: 368206830\n",
            "Input: 5 n: 87 Resultado: 393823925\n",
            "Input: 6 n: 31 Resultado: 389161374\n",
            "Input: 7 n: 31 Resultado: 368509433\n",
            "Input: 8 n: 91 Resultado: 391822218\n",
            "Input: 9 n: 99 Resultado: 395505000\n",
            "Input: 10 n: 74 Resultado: 392848188\n",
            "Input: 11 n: 89 Resultado: 391296899\n",
            "Input: 12 n: 84 Resultado: 396945546\n",
            "Input: 13 n: 73 Resultado: 386241972\n",
            "Input: 14 n: 64 Resultado: 399640077\n",
            "Input: 15 n: 10 Resultado: 299585152\n",
            "Input: 16 n: 85 Resultado: 373100287\n",
            "Input: 17 n: 8 Resultado: 355714902\n",
            "Input: 18 n: 60 Resultado: 381941586\n",
            "Input: 19 n: 87 Resultado: 385183408\n",
            "Input: 20 n: 99 Resultado: 390397632\n",
            "Input: 21 n: 76 Resultado: 354132862\n",
            "Input: 22 n: 37 Resultado: 339452178\n",
            "Input: 23 n: 18 Resultado: 319868703\n",
            "Input: 24 n: 97 Resultado: 396188700\n",
            "Input: 25 n: 88 Resultado: 394447872\n",
            "Input: 26 n: 61 Resultado: 369174058\n",
            "Input: 27 n: 14 Resultado: 336115152\n",
            "Input: 28 n: 38 Resultado: 343351491\n",
            "Input: 29 n: 38 Resultado: 375793280\n",
            "Input: 30 n: 61 Resultado: 397383690\n",
            "Input: 31 n: 98 Resultado: 391901256\n",
            "Input: 32 n: 89 Resultado: 394288128\n",
            "Input: 33 n: 25 Resultado: 346627161\n",
            "Input: 34 n: 41 Resultado: 330083336\n",
            "Input: 35 n: 45 Resultado: 395015576\n",
            "Input: 36 n: 15 Resultado: 352184463\n",
            "Input: 37 n: 17 Resultado: 325617335\n",
            "Input: 38 n: 23 Resultado: 330201251\n",
            "Input: 39 n: 55 Resultado: 396200189\n",
            "Input: 40 n: 22 Resultado: 375536232\n",
            "Input: 41 n: 38 Resultado: 368248884\n",
            "Input: 42 n: 96 Resultado: 387120643\n",
            "Input: 43 n: 29 Resultado: 336893058\n",
            "Input: 44 n: 43 Resultado: 394479126\n",
            "Input: 45 n: 31 Resultado: 370985592\n",
            "Input: 46 n: 17 Resultado: 321892730\n",
            "Input: 47 n: 83 Resultado: 392668672\n",
            "Input: 48 n: 83 Resultado: 397900594\n",
            "Input: 49 n: 18 Resultado: 391043010\n",
            "Input: 50 n: 57 Resultado: 393227939\n",
            "Input: 51 n: 36 Resultado: 363378444\n",
            "Input: 52 n: 10 Resultado: 298267508\n",
            "Input: 53 n: 93 Resultado: 365187875\n",
            "Input: 54 n: 88 Resultado: 392554645\n",
            "Input: 55 n: 9 Resultado: 249726770\n",
            "Input: 56 n: 68 Resultado: 390064958\n",
            "Input: 57 n: 83 Resultado: 387948820\n",
            "Input: 58 n: 41 Resultado: 340878888\n",
            "Input: 59 n: 72 Resultado: 359209809\n",
            "Input: 60 n: 38 Resultado: 376269222\n",
            "Input: 61 n: 19 Resultado: 270586008\n",
            "Input: 62 n: 50 Resultado: 381225184\n",
            "Input: 63 n: 47 Resultado: 361124602\n",
            "Input: 64 n: 64 Resultado: 380053058\n",
            "Input: 65 n: 61 Resultado: 368478222\n",
            "Input: 66 n: 26 Resultado: 387832950\n",
            "Input: 67 n: 98 Resultado: 386298720\n",
            "Input: 68 n: 26 Resultado: 352354896\n",
            "Input: 69 n: 4 Resultado: 163779000\n",
            "Input: 70 n: 47 Resultado: 393960972\n",
            "Input: 71 n: 11 Resultado: 357237280\n",
            "Input: 72 n: 77 Resultado: 392118579\n",
            "Input: 73 n: 69 Resultado: 363908825\n",
            "Input: 74 n: 15 Resultado: 338202993\n",
            "Input: 75 n: 20 Resultado: 354281228\n",
            "Input: 76 n: 68 Resultado: 306494793\n",
            "Input: 77 n: 42 Resultado: 387537969\n",
            "Input: 78 n: 45 Resultado: 397104444\n",
            "Input: 79 n: 50 Resultado: 374547152\n",
            "Input: 80 n: 66 Resultado: 384027280\n",
            "Input: 81 n: 97 Resultado: 394141584\n",
            "Input: 82 n: 85 Resultado: 389923072\n",
            "Input: 83 n: 31 Resultado: 383882049\n",
            "Input: 84 n: 99 Resultado: 385195720\n",
            "Input: 85 n: 22 Resultado: 369731048\n",
            "Input: 86 n: 41 Resultado: 363883782\n",
            "Input: 87 n: 1 Resultado: 0\n",
            "Input: 88 n: 2 Resultado: 16778164\n",
            "Input: 89 n: 82 Resultado: 387829920\n",
            "Input: 90 n: 48 Resultado: 381486555\n",
            "Input: 91 n: 56 Resultado: 368946364\n",
            "Input: 92 n: 83 Resultado: 386581087\n",
            "Input: 93 n: 55 Resultado: 389425715\n",
            "Input: 94 n: 52 Resultado: 332195402\n",
            "Input: 95 n: 59 Resultado: 373006095\n",
            "Input: 96 n: 30 Resultado: 373532880\n",
            "Input: 97 n: 31 Resultado: 382870260\n",
            "Input: 98 n: 97 Resultado: 391366560\n",
            "Input: 99 n: 26 Resultado: 351806005\n",
            "Input: 100 n: 15 Resultado: 385975046\n",
            "-----------------------------------\n",
            "Running with input66.txt\n",
            "Input: 1 n: 97 Resultado: 387771143\n",
            "Input: 2 n: 15 Resultado: 321915825\n",
            "Input: 3 n: 17 Resultado: 350346304\n",
            "Input: 4 n: 49 Resultado: 368206830\n",
            "Input: 5 n: 87 Resultado: 393823925\n",
            "Input: 6 n: 31 Resultado: 389161374\n",
            "Input: 7 n: 31 Resultado: 368509433\n",
            "Input: 8 n: 91 Resultado: 391822218\n",
            "Input: 9 n: 99 Resultado: 395505000\n",
            "Input: 10 n: 74 Resultado: 392848188\n",
            "Input: 11 n: 89 Resultado: 391296899\n",
            "Input: 12 n: 84 Resultado: 396945546\n",
            "Input: 13 n: 73 Resultado: 386241972\n",
            "Input: 14 n: 64 Resultado: 399640077\n",
            "Input: 15 n: 10 Resultado: 299585152\n",
            "Input: 16 n: 85 Resultado: 373100287\n",
            "Input: 17 n: 8 Resultado: 355714902\n",
            "Input: 18 n: 60 Resultado: 381941586\n",
            "Input: 19 n: 87 Resultado: 385183408\n",
            "Input: 20 n: 99 Resultado: 390397632\n",
            "Input: 21 n: 76 Resultado: 354132862\n",
            "Input: 22 n: 37 Resultado: 339452178\n",
            "Input: 23 n: 18 Resultado: 319868703\n",
            "Input: 24 n: 97 Resultado: 396188700\n",
            "Input: 25 n: 88 Resultado: 394447872\n",
            "Input: 26 n: 61 Resultado: 369174058\n",
            "Input: 27 n: 14 Resultado: 336115152\n",
            "Input: 28 n: 38 Resultado: 343351491\n",
            "Input: 29 n: 38 Resultado: 375793280\n",
            "Input: 30 n: 61 Resultado: 397383690\n",
            "Input: 31 n: 98 Resultado: 391901256\n",
            "Input: 32 n: 89 Resultado: 394288128\n",
            "Input: 33 n: 25 Resultado: 346627161\n",
            "Input: 34 n: 41 Resultado: 330083336\n",
            "Input: 35 n: 45 Resultado: 395015576\n",
            "Input: 36 n: 15 Resultado: 352184463\n",
            "Input: 37 n: 17 Resultado: 325617335\n",
            "Input: 38 n: 23 Resultado: 330201251\n",
            "Input: 39 n: 55 Resultado: 396200189\n",
            "Input: 40 n: 22 Resultado: 375536232\n",
            "Input: 41 n: 38 Resultado: 368248884\n",
            "Input: 42 n: 96 Resultado: 387120643\n",
            "Input: 43 n: 29 Resultado: 336893058\n",
            "Input: 44 n: 43 Resultado: 394479126\n",
            "Input: 45 n: 31 Resultado: 370985592\n",
            "Input: 46 n: 17 Resultado: 321892730\n",
            "Input: 47 n: 83 Resultado: 392668672\n",
            "Input: 48 n: 83 Resultado: 397900594\n",
            "Input: 49 n: 18 Resultado: 391043010\n",
            "Input: 50 n: 57 Resultado: 393227939\n",
            "Input: 51 n: 36 Resultado: 363378444\n",
            "Input: 52 n: 10 Resultado: 298267508\n",
            "Input: 53 n: 93 Resultado: 365187875\n",
            "Input: 54 n: 88 Resultado: 392554645\n",
            "Input: 55 n: 9 Resultado: 249726770\n",
            "Input: 56 n: 68 Resultado: 390064958\n",
            "Input: 57 n: 83 Resultado: 387948820\n",
            "Input: 58 n: 41 Resultado: 340878888\n",
            "Input: 59 n: 72 Resultado: 359209809\n",
            "Input: 60 n: 38 Resultado: 376269222\n",
            "Input: 61 n: 19 Resultado: 270586008\n",
            "Input: 62 n: 50 Resultado: 381225184\n",
            "Input: 63 n: 47 Resultado: 361124602\n",
            "Input: 64 n: 64 Resultado: 380053058\n",
            "Input: 65 n: 61 Resultado: 368478222\n",
            "Input: 66 n: 26 Resultado: 387832950\n",
            "Input: 67 n: 98 Resultado: 386298720\n",
            "Input: 68 n: 26 Resultado: 352354896\n",
            "Input: 69 n: 4 Resultado: 163779000\n",
            "Input: 70 n: 47 Resultado: 393960972\n",
            "Input: 71 n: 11 Resultado: 357237280\n",
            "Input: 72 n: 77 Resultado: 392118579\n",
            "Input: 73 n: 69 Resultado: 363908825\n",
            "Input: 74 n: 15 Resultado: 338202993\n",
            "Input: 75 n: 20 Resultado: 354281228\n",
            "Input: 76 n: 68 Resultado: 306494793\n",
            "Input: 77 n: 42 Resultado: 387537969\n",
            "Input: 78 n: 45 Resultado: 397104444\n",
            "Input: 79 n: 50 Resultado: 374547152\n",
            "Input: 80 n: 66 Resultado: 384027280\n",
            "Input: 81 n: 97 Resultado: 394141584\n",
            "Input: 82 n: 85 Resultado: 389923072\n",
            "Input: 83 n: 31 Resultado: 383882049\n",
            "Input: 84 n: 99 Resultado: 385195720\n",
            "Input: 85 n: 22 Resultado: 369731048\n",
            "Input: 86 n: 41 Resultado: 363883782\n",
            "Input: 87 n: 1 Resultado: 0\n",
            "Input: 88 n: 2 Resultado: 16778164\n",
            "Input: 89 n: 82 Resultado: 387829920\n",
            "Input: 90 n: 48 Resultado: 381486555\n",
            "Input: 91 n: 56 Resultado: 368946364\n",
            "Input: 92 n: 83 Resultado: 386581087\n",
            "Input: 93 n: 55 Resultado: 389425715\n",
            "Input: 94 n: 52 Resultado: 332195402\n",
            "Input: 95 n: 59 Resultado: 373006095\n",
            "Input: 96 n: 30 Resultado: 373532880\n",
            "Input: 97 n: 31 Resultado: 382870260\n",
            "Input: 98 n: 97 Resultado: 391366560\n",
            "Input: 99 n: 26 Resultado: 351806005\n",
            "Input: 100 n: 15 Resultado: 385975046\n",
            "-----------------------------------\n",
            "Running with input67.txt\n",
            "Input: 1 n: 97 Resultado: 387771143\n",
            "Input: 2 n: 15 Resultado: 321915825\n",
            "Input: 3 n: 17 Resultado: 350346304\n",
            "Input: 4 n: 49 Resultado: 368206830\n",
            "Input: 5 n: 87 Resultado: 393823925\n",
            "Input: 6 n: 31 Resultado: 389161374\n",
            "Input: 7 n: 31 Resultado: 368509433\n",
            "Input: 8 n: 91 Resultado: 391822218\n",
            "Input: 9 n: 99 Resultado: 395505000\n",
            "Input: 10 n: 74 Resultado: 392848188\n",
            "Input: 11 n: 89 Resultado: 391296899\n",
            "Input: 12 n: 84 Resultado: 396945546\n",
            "Input: 13 n: 73 Resultado: 386241972\n",
            "Input: 14 n: 64 Resultado: 399640077\n",
            "Input: 15 n: 10 Resultado: 299585152\n",
            "Input: 16 n: 85 Resultado: 373100287\n",
            "Input: 17 n: 8 Resultado: 355714902\n",
            "Input: 18 n: 60 Resultado: 381941586\n",
            "Input: 19 n: 87 Resultado: 385183408\n",
            "Input: 20 n: 99 Resultado: 390397632\n",
            "Input: 21 n: 76 Resultado: 354132862\n",
            "Input: 22 n: 37 Resultado: 339452178\n",
            "Input: 23 n: 18 Resultado: 319868703\n",
            "Input: 24 n: 97 Resultado: 396188700\n",
            "Input: 25 n: 88 Resultado: 394447872\n",
            "Input: 26 n: 61 Resultado: 369174058\n",
            "Input: 27 n: 14 Resultado: 336115152\n",
            "Input: 28 n: 38 Resultado: 343351491\n",
            "Input: 29 n: 38 Resultado: 375793280\n",
            "Input: 30 n: 61 Resultado: 397383690\n",
            "Input: 31 n: 98 Resultado: 391901256\n",
            "Input: 32 n: 89 Resultado: 394288128\n",
            "Input: 33 n: 25 Resultado: 346627161\n",
            "Input: 34 n: 41 Resultado: 330083336\n",
            "Input: 35 n: 45 Resultado: 395015576\n",
            "Input: 36 n: 15 Resultado: 352184463\n",
            "Input: 37 n: 17 Resultado: 325617335\n",
            "Input: 38 n: 23 Resultado: 330201251\n",
            "Input: 39 n: 55 Resultado: 396200189\n",
            "Input: 40 n: 22 Resultado: 375536232\n",
            "Input: 41 n: 38 Resultado: 368248884\n",
            "Input: 42 n: 96 Resultado: 387120643\n",
            "Input: 43 n: 29 Resultado: 336893058\n",
            "Input: 44 n: 43 Resultado: 394479126\n",
            "Input: 45 n: 31 Resultado: 370985592\n",
            "Input: 46 n: 17 Resultado: 321892730\n",
            "Input: 47 n: 83 Resultado: 392668672\n",
            "Input: 48 n: 83 Resultado: 397900594\n",
            "Input: 49 n: 18 Resultado: 391043010\n",
            "Input: 50 n: 57 Resultado: 393227939\n",
            "Input: 51 n: 36 Resultado: 363378444\n",
            "Input: 52 n: 10 Resultado: 298267508\n",
            "Input: 53 n: 93 Resultado: 365187875\n",
            "Input: 54 n: 88 Resultado: 392554645\n",
            "Input: 55 n: 9 Resultado: 249726770\n",
            "Input: 56 n: 68 Resultado: 390064958\n",
            "Input: 57 n: 83 Resultado: 387948820\n",
            "Input: 58 n: 41 Resultado: 340878888\n",
            "Input: 59 n: 72 Resultado: 359209809\n",
            "Input: 60 n: 38 Resultado: 376269222\n",
            "Input: 61 n: 19 Resultado: 270586008\n",
            "Input: 62 n: 50 Resultado: 381225184\n",
            "Input: 63 n: 47 Resultado: 361124602\n",
            "Input: 64 n: 64 Resultado: 380053058\n",
            "Input: 65 n: 61 Resultado: 368478222\n",
            "Input: 66 n: 26 Resultado: 387832950\n",
            "Input: 67 n: 98 Resultado: 386298720\n",
            "Input: 68 n: 26 Resultado: 352354896\n",
            "Input: 69 n: 4 Resultado: 163779000\n",
            "Input: 70 n: 47 Resultado: 393960972\n",
            "Input: 71 n: 11 Resultado: 357237280\n",
            "Input: 72 n: 77 Resultado: 392118579\n",
            "Input: 73 n: 69 Resultado: 363908825\n",
            "Input: 74 n: 15 Resultado: 338202993\n",
            "Input: 75 n: 20 Resultado: 354281228\n",
            "Input: 76 n: 68 Resultado: 306494793\n",
            "Input: 77 n: 42 Resultado: 387537969\n",
            "Input: 78 n: 45 Resultado: 397104444\n",
            "Input: 79 n: 50 Resultado: 374547152\n",
            "Input: 80 n: 66 Resultado: 384027280\n",
            "Input: 81 n: 97 Resultado: 394141584\n",
            "Input: 82 n: 85 Resultado: 389923072\n",
            "Input: 83 n: 31 Resultado: 383882049\n",
            "Input: 84 n: 99 Resultado: 385195720\n",
            "Input: 85 n: 22 Resultado: 369731048\n",
            "Input: 86 n: 41 Resultado: 363883782\n",
            "Input: 87 n: 1 Resultado: 0\n",
            "Input: 88 n: 2 Resultado: 16778164\n",
            "Input: 89 n: 82 Resultado: 387829920\n",
            "Input: 90 n: 48 Resultado: 381486555\n",
            "Input: 91 n: 56 Resultado: 368946364\n",
            "Input: 92 n: 83 Resultado: 386581087\n",
            "Input: 93 n: 55 Resultado: 389425715\n",
            "Input: 94 n: 52 Resultado: 332195402\n",
            "Input: 95 n: 59 Resultado: 373006095\n",
            "Input: 96 n: 30 Resultado: 373532880\n",
            "Input: 97 n: 31 Resultado: 382870260\n",
            "Input: 98 n: 97 Resultado: 391366560\n",
            "Input: 99 n: 26 Resultado: 351806005\n",
            "Input: 100 n: 15 Resultado: 385975046\n",
            "-----------------------------------\n",
            "Running with input68.txt\n",
            "Input: 1 n: 97 Resultado: 387771143\n",
            "Input: 2 n: 15 Resultado: 321915825\n",
            "Input: 3 n: 17 Resultado: 350346304\n",
            "Input: 4 n: 49 Resultado: 368206830\n",
            "Input: 5 n: 87 Resultado: 393823925\n",
            "Input: 6 n: 31 Resultado: 389161374\n",
            "Input: 7 n: 31 Resultado: 368509433\n",
            "Input: 8 n: 91 Resultado: 391822218\n",
            "Input: 9 n: 99 Resultado: 395505000\n",
            "Input: 10 n: 74 Resultado: 392848188\n",
            "Input: 11 n: 89 Resultado: 391296899\n",
            "Input: 12 n: 84 Resultado: 396945546\n",
            "Input: 13 n: 73 Resultado: 386241972\n",
            "Input: 14 n: 64 Resultado: 399640077\n",
            "Input: 15 n: 10 Resultado: 299585152\n",
            "Input: 16 n: 85 Resultado: 373100287\n",
            "Input: 17 n: 8 Resultado: 355714902\n",
            "Input: 18 n: 60 Resultado: 381941586\n",
            "Input: 19 n: 87 Resultado: 385183408\n",
            "Input: 20 n: 99 Resultado: 390397632\n",
            "Input: 21 n: 76 Resultado: 354132862\n",
            "Input: 22 n: 37 Resultado: 339452178\n",
            "Input: 23 n: 18 Resultado: 319868703\n",
            "Input: 24 n: 97 Resultado: 396188700\n",
            "Input: 25 n: 88 Resultado: 394447872\n",
            "Input: 26 n: 61 Resultado: 369174058\n",
            "Input: 27 n: 14 Resultado: 336115152\n",
            "Input: 28 n: 38 Resultado: 343351491\n",
            "Input: 29 n: 38 Resultado: 375793280\n",
            "Input: 30 n: 61 Resultado: 397383690\n",
            "Input: 31 n: 98 Resultado: 391901256\n",
            "Input: 32 n: 89 Resultado: 394288128\n",
            "Input: 33 n: 25 Resultado: 346627161\n",
            "Input: 34 n: 41 Resultado: 330083336\n",
            "Input: 35 n: 45 Resultado: 395015576\n",
            "Input: 36 n: 15 Resultado: 352184463\n",
            "Input: 37 n: 17 Resultado: 325617335\n",
            "Input: 38 n: 23 Resultado: 330201251\n",
            "Input: 39 n: 55 Resultado: 396200189\n",
            "Input: 40 n: 22 Resultado: 375536232\n",
            "Input: 41 n: 38 Resultado: 368248884\n",
            "Input: 42 n: 96 Resultado: 387120643\n",
            "Input: 43 n: 29 Resultado: 336893058\n",
            "Input: 44 n: 43 Resultado: 394479126\n",
            "Input: 45 n: 31 Resultado: 370985592\n",
            "Input: 46 n: 17 Resultado: 321892730\n",
            "Input: 47 n: 83 Resultado: 392668672\n",
            "Input: 48 n: 83 Resultado: 397900594\n",
            "Input: 49 n: 18 Resultado: 391043010\n",
            "Input: 50 n: 57 Resultado: 393227939\n",
            "Input: 51 n: 36 Resultado: 363378444\n",
            "Input: 52 n: 10 Resultado: 298267508\n",
            "Input: 53 n: 93 Resultado: 365187875\n",
            "Input: 54 n: 88 Resultado: 392554645\n",
            "Input: 55 n: 9 Resultado: 249726770\n",
            "Input: 56 n: 68 Resultado: 390064958\n",
            "Input: 57 n: 83 Resultado: 387948820\n",
            "Input: 58 n: 41 Resultado: 340878888\n",
            "Input: 59 n: 72 Resultado: 359209809\n",
            "Input: 60 n: 38 Resultado: 376269222\n",
            "Input: 61 n: 19 Resultado: 270586008\n",
            "Input: 62 n: 50 Resultado: 381225184\n",
            "Input: 63 n: 47 Resultado: 361124602\n",
            "Input: 64 n: 64 Resultado: 380053058\n",
            "Input: 65 n: 61 Resultado: 368478222\n",
            "Input: 66 n: 26 Resultado: 387832950\n",
            "Input: 67 n: 98 Resultado: 386298720\n",
            "Input: 68 n: 26 Resultado: 352354896\n",
            "Input: 69 n: 4 Resultado: 163779000\n",
            "Input: 70 n: 47 Resultado: 393960972\n",
            "Input: 71 n: 11 Resultado: 357237280\n",
            "Input: 72 n: 77 Resultado: 392118579\n",
            "Input: 73 n: 69 Resultado: 363908825\n",
            "Input: 74 n: 15 Resultado: 338202993\n",
            "Input: 75 n: 20 Resultado: 354281228\n",
            "Input: 76 n: 68 Resultado: 306494793\n",
            "Input: 77 n: 42 Resultado: 387537969\n",
            "Input: 78 n: 45 Resultado: 397104444\n",
            "Input: 79 n: 50 Resultado: 374547152\n",
            "Input: 80 n: 66 Resultado: 384027280\n",
            "Input: 81 n: 97 Resultado: 394141584\n",
            "Input: 82 n: 85 Resultado: 389923072\n",
            "Input: 83 n: 31 Resultado: 383882049\n",
            "Input: 84 n: 99 Resultado: 385195720\n",
            "Input: 85 n: 22 Resultado: 369731048\n",
            "Input: 86 n: 41 Resultado: 363883782\n",
            "Input: 87 n: 1 Resultado: 0\n",
            "Input: 88 n: 2 Resultado: 16778164\n",
            "Input: 89 n: 82 Resultado: 387829920\n",
            "Input: 90 n: 48 Resultado: 381486555\n",
            "Input: 91 n: 56 Resultado: 368946364\n",
            "Input: 92 n: 83 Resultado: 386581087\n",
            "Input: 93 n: 55 Resultado: 389425715\n",
            "Input: 94 n: 52 Resultado: 332195402\n",
            "Input: 95 n: 59 Resultado: 373006095\n",
            "Input: 96 n: 30 Resultado: 373532880\n",
            "Input: 97 n: 31 Resultado: 382870260\n",
            "Input: 98 n: 97 Resultado: 391366560\n",
            "Input: 99 n: 26 Resultado: 351806005\n",
            "Input: 100 n: 15 Resultado: 385975046\n",
            "-----------------------------------\n",
            "Running with input69.txt\n",
            "Input: 1 n: 97 Resultado: 387771143\n",
            "Input: 2 n: 15 Resultado: 321915825\n",
            "Input: 3 n: 17 Resultado: 350346304\n",
            "Input: 4 n: 49 Resultado: 368206830\n",
            "Input: 5 n: 87 Resultado: 393823925\n",
            "Input: 6 n: 31 Resultado: 389161374\n",
            "Input: 7 n: 31 Resultado: 368509433\n",
            "Input: 8 n: 91 Resultado: 391822218\n",
            "Input: 9 n: 99 Resultado: 395505000\n",
            "Input: 10 n: 74 Resultado: 392848188\n",
            "Input: 11 n: 89 Resultado: 391296899\n",
            "Input: 12 n: 84 Resultado: 396945546\n",
            "Input: 13 n: 73 Resultado: 386241972\n",
            "Input: 14 n: 64 Resultado: 399640077\n",
            "Input: 15 n: 10 Resultado: 299585152\n",
            "Input: 16 n: 85 Resultado: 373100287\n",
            "Input: 17 n: 8 Resultado: 355714902\n",
            "Input: 18 n: 60 Resultado: 381941586\n",
            "Input: 19 n: 87 Resultado: 385183408\n",
            "Input: 20 n: 99 Resultado: 390397632\n",
            "Input: 21 n: 76 Resultado: 354132862\n",
            "Input: 22 n: 37 Resultado: 339452178\n",
            "Input: 23 n: 18 Resultado: 319868703\n",
            "Input: 24 n: 97 Resultado: 396188700\n",
            "Input: 25 n: 88 Resultado: 394447872\n",
            "Input: 26 n: 61 Resultado: 369174058\n",
            "Input: 27 n: 14 Resultado: 336115152\n",
            "Input: 28 n: 38 Resultado: 343351491\n",
            "Input: 29 n: 38 Resultado: 375793280\n",
            "Input: 30 n: 61 Resultado: 397383690\n",
            "Input: 31 n: 98 Resultado: 391901256\n",
            "Input: 32 n: 89 Resultado: 394288128\n",
            "Input: 33 n: 25 Resultado: 346627161\n",
            "Input: 34 n: 41 Resultado: 330083336\n",
            "Input: 35 n: 45 Resultado: 395015576\n",
            "Input: 36 n: 15 Resultado: 352184463\n",
            "Input: 37 n: 17 Resultado: 325617335\n",
            "Input: 38 n: 23 Resultado: 330201251\n",
            "Input: 39 n: 55 Resultado: 396200189\n",
            "Input: 40 n: 22 Resultado: 375536232\n",
            "Input: 41 n: 38 Resultado: 368248884\n",
            "Input: 42 n: 96 Resultado: 387120643\n",
            "Input: 43 n: 29 Resultado: 336893058\n",
            "Input: 44 n: 43 Resultado: 394479126\n",
            "Input: 45 n: 31 Resultado: 370985592\n",
            "Input: 46 n: 17 Resultado: 321892730\n",
            "Input: 47 n: 83 Resultado: 392668672\n",
            "Input: 48 n: 83 Resultado: 397900594\n",
            "Input: 49 n: 18 Resultado: 391043010\n",
            "Input: 50 n: 57 Resultado: 393227939\n",
            "Input: 51 n: 36 Resultado: 363378444\n",
            "Input: 52 n: 10 Resultado: 298267508\n",
            "Input: 53 n: 93 Resultado: 365187875\n",
            "Input: 54 n: 88 Resultado: 392554645\n",
            "Input: 55 n: 9 Resultado: 249726770\n",
            "Input: 56 n: 68 Resultado: 390064958\n",
            "Input: 57 n: 83 Resultado: 387948820\n",
            "Input: 58 n: 41 Resultado: 340878888\n",
            "Input: 59 n: 72 Resultado: 359209809\n",
            "Input: 60 n: 38 Resultado: 376269222\n",
            "Input: 61 n: 19 Resultado: 270586008\n",
            "Input: 62 n: 50 Resultado: 381225184\n",
            "Input: 63 n: 47 Resultado: 361124602\n",
            "Input: 64 n: 64 Resultado: 380053058\n",
            "Input: 65 n: 61 Resultado: 368478222\n",
            "Input: 66 n: 26 Resultado: 387832950\n",
            "Input: 67 n: 98 Resultado: 386298720\n",
            "Input: 68 n: 26 Resultado: 352354896\n",
            "Input: 69 n: 4 Resultado: 163779000\n",
            "Input: 70 n: 47 Resultado: 393960972\n",
            "Input: 71 n: 11 Resultado: 357237280\n",
            "Input: 72 n: 77 Resultado: 392118579\n",
            "Input: 73 n: 69 Resultado: 363908825\n",
            "Input: 74 n: 15 Resultado: 338202993\n",
            "Input: 75 n: 20 Resultado: 354281228\n",
            "Input: 76 n: 68 Resultado: 306494793\n",
            "Input: 77 n: 42 Resultado: 387537969\n",
            "Input: 78 n: 45 Resultado: 397104444\n",
            "Input: 79 n: 50 Resultado: 374547152\n",
            "Input: 80 n: 66 Resultado: 384027280\n",
            "Input: 81 n: 97 Resultado: 394141584\n",
            "Input: 82 n: 85 Resultado: 389923072\n",
            "Input: 83 n: 31 Resultado: 383882049\n",
            "Input: 84 n: 99 Resultado: 385195720\n",
            "Input: 85 n: 22 Resultado: 369731048\n",
            "Input: 86 n: 41 Resultado: 363883782\n",
            "Input: 87 n: 1 Resultado: 0\n",
            "Input: 88 n: 2 Resultado: 16778164\n",
            "Input: 89 n: 82 Resultado: 387829920\n",
            "Input: 90 n: 48 Resultado: 381486555\n",
            "Input: 91 n: 56 Resultado: 368946364\n",
            "Input: 92 n: 83 Resultado: 386581087\n",
            "Input: 93 n: 55 Resultado: 389425715\n",
            "Input: 94 n: 52 Resultado: 332195402\n",
            "Input: 95 n: 59 Resultado: 373006095\n",
            "Input: 96 n: 30 Resultado: 373532880\n",
            "Input: 97 n: 31 Resultado: 382870260\n",
            "Input: 98 n: 97 Resultado: 391366560\n",
            "Input: 99 n: 26 Resultado: 351806005\n",
            "Input: 100 n: 15 Resultado: 385975046\n",
            "-----------------------------------\n",
            "Running with input70.txt\n",
            "Input: 1 n: 97 Resultado: 387771143\n",
            "Input: 2 n: 15 Resultado: 321915825\n",
            "Input: 3 n: 17 Resultado: 350346304\n",
            "Input: 4 n: 49 Resultado: 368206830\n",
            "Input: 5 n: 87 Resultado: 393823925\n",
            "Input: 6 n: 31 Resultado: 389161374\n",
            "Input: 7 n: 31 Resultado: 368509433\n",
            "Input: 8 n: 91 Resultado: 391822218\n",
            "Input: 9 n: 99 Resultado: 395505000\n",
            "Input: 10 n: 74 Resultado: 392848188\n",
            "Input: 11 n: 89 Resultado: 391296899\n",
            "Input: 12 n: 84 Resultado: 396945546\n",
            "Input: 13 n: 73 Resultado: 386241972\n",
            "Input: 14 n: 64 Resultado: 399640077\n",
            "Input: 15 n: 10 Resultado: 299585152\n",
            "Input: 16 n: 85 Resultado: 373100287\n",
            "Input: 17 n: 8 Resultado: 355714902\n",
            "Input: 18 n: 60 Resultado: 381941586\n",
            "Input: 19 n: 87 Resultado: 385183408\n",
            "Input: 20 n: 99 Resultado: 390397632\n",
            "Input: 21 n: 76 Resultado: 354132862\n",
            "Input: 22 n: 37 Resultado: 339452178\n",
            "Input: 23 n: 18 Resultado: 319868703\n",
            "Input: 24 n: 97 Resultado: 396188700\n",
            "Input: 25 n: 88 Resultado: 394447872\n",
            "Input: 26 n: 61 Resultado: 369174058\n",
            "Input: 27 n: 14 Resultado: 336115152\n",
            "Input: 28 n: 38 Resultado: 343351491\n",
            "Input: 29 n: 38 Resultado: 375793280\n",
            "Input: 30 n: 61 Resultado: 397383690\n",
            "Input: 31 n: 98 Resultado: 391901256\n",
            "Input: 32 n: 89 Resultado: 394288128\n",
            "Input: 33 n: 25 Resultado: 346627161\n",
            "Input: 34 n: 41 Resultado: 330083336\n",
            "Input: 35 n: 45 Resultado: 395015576\n",
            "Input: 36 n: 15 Resultado: 352184463\n",
            "Input: 37 n: 17 Resultado: 325617335\n",
            "Input: 38 n: 23 Resultado: 330201251\n",
            "Input: 39 n: 55 Resultado: 396200189\n",
            "Input: 40 n: 22 Resultado: 375536232\n",
            "Input: 41 n: 38 Resultado: 368248884\n",
            "Input: 42 n: 96 Resultado: 387120643\n",
            "Input: 43 n: 29 Resultado: 336893058\n",
            "Input: 44 n: 43 Resultado: 394479126\n",
            "Input: 45 n: 31 Resultado: 370985592\n",
            "Input: 46 n: 17 Resultado: 321892730\n",
            "Input: 47 n: 83 Resultado: 392668672\n",
            "Input: 48 n: 83 Resultado: 397900594\n",
            "Input: 49 n: 18 Resultado: 391043010\n",
            "Input: 50 n: 57 Resultado: 393227939\n",
            "Input: 51 n: 36 Resultado: 363378444\n",
            "Input: 52 n: 10 Resultado: 298267508\n",
            "Input: 53 n: 93 Resultado: 365187875\n",
            "Input: 54 n: 88 Resultado: 392554645\n",
            "Input: 55 n: 9 Resultado: 249726770\n",
            "Input: 56 n: 68 Resultado: 390064958\n",
            "Input: 57 n: 83 Resultado: 387948820\n",
            "Input: 58 n: 41 Resultado: 340878888\n",
            "Input: 59 n: 72 Resultado: 359209809\n",
            "Input: 60 n: 38 Resultado: 376269222\n",
            "Input: 61 n: 19 Resultado: 270586008\n",
            "Input: 62 n: 50 Resultado: 381225184\n",
            "Input: 63 n: 47 Resultado: 361124602\n",
            "Input: 64 n: 64 Resultado: 380053058\n",
            "Input: 65 n: 61 Resultado: 368478222\n",
            "Input: 66 n: 26 Resultado: 387832950\n",
            "Input: 67 n: 98 Resultado: 386298720\n",
            "Input: 68 n: 26 Resultado: 352354896\n",
            "Input: 69 n: 4 Resultado: 163779000\n",
            "Input: 70 n: 47 Resultado: 393960972\n",
            "Input: 71 n: 11 Resultado: 357237280\n",
            "Input: 72 n: 77 Resultado: 392118579\n",
            "Input: 73 n: 69 Resultado: 363908825\n",
            "Input: 74 n: 15 Resultado: 338202993\n",
            "Input: 75 n: 20 Resultado: 354281228\n",
            "Input: 76 n: 68 Resultado: 306494793\n",
            "Input: 77 n: 42 Resultado: 387537969\n",
            "Input: 78 n: 45 Resultado: 397104444\n",
            "Input: 79 n: 50 Resultado: 374547152\n",
            "Input: 80 n: 66 Resultado: 384027280\n",
            "Input: 81 n: 97 Resultado: 394141584\n",
            "Input: 82 n: 85 Resultado: 389923072\n",
            "Input: 83 n: 31 Resultado: 383882049\n",
            "Input: 84 n: 99 Resultado: 385195720\n",
            "Input: 85 n: 22 Resultado: 369731048\n",
            "Input: 86 n: 41 Resultado: 363883782\n",
            "Input: 87 n: 1 Resultado: 0\n",
            "Input: 88 n: 2 Resultado: 16778164\n",
            "Input: 89 n: 82 Resultado: 387829920\n",
            "Input: 90 n: 48 Resultado: 381486555\n",
            "Input: 91 n: 56 Resultado: 368946364\n",
            "Input: 92 n: 83 Resultado: 386581087\n",
            "Input: 93 n: 55 Resultado: 389425715\n",
            "Input: 94 n: 52 Resultado: 332195402\n",
            "Input: 95 n: 59 Resultado: 373006095\n",
            "Input: 96 n: 30 Resultado: 373532880\n",
            "Input: 97 n: 31 Resultado: 382870260\n",
            "Input: 98 n: 97 Resultado: 391366560\n",
            "Input: 99 n: 26 Resultado: 351806005\n",
            "Input: 100 n: 15 Resultado: 385975046\n",
            "-----------------------------------\n",
            "Running with input71.txt\n",
            "Input: 1 n: 97 Resultado: 387771143\n",
            "Input: 2 n: 15 Resultado: 321915825\n",
            "Input: 3 n: 17 Resultado: 350346304\n",
            "Input: 4 n: 49 Resultado: 368206830\n",
            "Input: 5 n: 87 Resultado: 393823925\n",
            "Input: 6 n: 31 Resultado: 389161374\n",
            "Input: 7 n: 31 Resultado: 368509433\n",
            "Input: 8 n: 91 Resultado: 391822218\n",
            "Input: 9 n: 99 Resultado: 395505000\n",
            "Input: 10 n: 74 Resultado: 392848188\n",
            "Input: 11 n: 89 Resultado: 391296899\n",
            "Input: 12 n: 84 Resultado: 396945546\n",
            "Input: 13 n: 73 Resultado: 386241972\n",
            "Input: 14 n: 64 Resultado: 399640077\n",
            "Input: 15 n: 10 Resultado: 299585152\n",
            "Input: 16 n: 85 Resultado: 373100287\n",
            "Input: 17 n: 8 Resultado: 355714902\n",
            "Input: 18 n: 60 Resultado: 381941586\n",
            "Input: 19 n: 87 Resultado: 385183408\n",
            "Input: 20 n: 99 Resultado: 390397632\n",
            "Input: 21 n: 76 Resultado: 354132862\n",
            "Input: 22 n: 37 Resultado: 339452178\n",
            "Input: 23 n: 18 Resultado: 319868703\n",
            "Input: 24 n: 97 Resultado: 396188700\n",
            "Input: 25 n: 88 Resultado: 394447872\n",
            "Input: 26 n: 61 Resultado: 369174058\n",
            "Input: 27 n: 14 Resultado: 336115152\n",
            "Input: 28 n: 38 Resultado: 343351491\n",
            "Input: 29 n: 38 Resultado: 375793280\n",
            "Input: 30 n: 61 Resultado: 397383690\n",
            "Input: 31 n: 98 Resultado: 391901256\n",
            "Input: 32 n: 89 Resultado: 394288128\n",
            "Input: 33 n: 25 Resultado: 346627161\n",
            "Input: 34 n: 41 Resultado: 330083336\n",
            "Input: 35 n: 45 Resultado: 395015576\n",
            "Input: 36 n: 15 Resultado: 352184463\n",
            "Input: 37 n: 17 Resultado: 325617335\n",
            "Input: 38 n: 23 Resultado: 330201251\n",
            "Input: 39 n: 55 Resultado: 396200189\n",
            "Input: 40 n: 22 Resultado: 375536232\n",
            "Input: 41 n: 38 Resultado: 368248884\n",
            "Input: 42 n: 96 Resultado: 387120643\n",
            "Input: 43 n: 29 Resultado: 336893058\n",
            "Input: 44 n: 43 Resultado: 394479126\n",
            "Input: 45 n: 31 Resultado: 370985592\n",
            "Input: 46 n: 17 Resultado: 321892730\n",
            "Input: 47 n: 83 Resultado: 392668672\n",
            "Input: 48 n: 83 Resultado: 397900594\n",
            "Input: 49 n: 18 Resultado: 391043010\n",
            "Input: 50 n: 57 Resultado: 393227939\n",
            "Input: 51 n: 36 Resultado: 363378444\n",
            "Input: 52 n: 10 Resultado: 298267508\n",
            "Input: 53 n: 93 Resultado: 365187875\n",
            "Input: 54 n: 88 Resultado: 392554645\n",
            "Input: 55 n: 9 Resultado: 249726770\n",
            "Input: 56 n: 68 Resultado: 390064958\n",
            "Input: 57 n: 83 Resultado: 387948820\n",
            "Input: 58 n: 41 Resultado: 340878888\n",
            "Input: 59 n: 72 Resultado: 359209809\n",
            "Input: 60 n: 38 Resultado: 376269222\n",
            "Input: 61 n: 19 Resultado: 270586008\n",
            "Input: 62 n: 50 Resultado: 381225184\n",
            "Input: 63 n: 47 Resultado: 361124602\n",
            "Input: 64 n: 64 Resultado: 380053058\n",
            "Input: 65 n: 61 Resultado: 368478222\n",
            "Input: 66 n: 26 Resultado: 387832950\n",
            "Input: 67 n: 98 Resultado: 386298720\n",
            "Input: 68 n: 26 Resultado: 352354896\n",
            "Input: 69 n: 4 Resultado: 163779000\n",
            "Input: 70 n: 47 Resultado: 393960972\n",
            "Input: 71 n: 11 Resultado: 357237280\n",
            "Input: 72 n: 77 Resultado: 392118579\n",
            "Input: 73 n: 69 Resultado: 363908825\n",
            "Input: 74 n: 15 Resultado: 338202993\n",
            "Input: 75 n: 20 Resultado: 354281228\n",
            "Input: 76 n: 68 Resultado: 306494793\n",
            "Input: 77 n: 42 Resultado: 387537969\n",
            "Input: 78 n: 45 Resultado: 397104444\n",
            "Input: 79 n: 50 Resultado: 374547152\n",
            "Input: 80 n: 66 Resultado: 384027280\n",
            "Input: 81 n: 97 Resultado: 394141584\n",
            "Input: 82 n: 85 Resultado: 389923072\n",
            "Input: 83 n: 31 Resultado: 383882049\n",
            "Input: 84 n: 99 Resultado: 385195720\n",
            "Input: 85 n: 22 Resultado: 369731048\n",
            "Input: 86 n: 41 Resultado: 363883782\n",
            "Input: 87 n: 1 Resultado: 0\n",
            "Input: 88 n: 2 Resultado: 16778164\n",
            "Input: 89 n: 82 Resultado: 387829920\n",
            "Input: 90 n: 48 Resultado: 381486555\n",
            "Input: 91 n: 56 Resultado: 368946364\n",
            "Input: 92 n: 83 Resultado: 386581087\n",
            "Input: 93 n: 55 Resultado: 389425715\n",
            "Input: 94 n: 52 Resultado: 332195402\n",
            "Input: 95 n: 59 Resultado: 373006095\n",
            "Input: 96 n: 30 Resultado: 373532880\n",
            "Input: 97 n: 31 Resultado: 382870260\n",
            "Input: 98 n: 97 Resultado: 391366560\n",
            "Input: 99 n: 26 Resultado: 351806005\n",
            "Input: 100 n: 15 Resultado: 385975046\n",
            "-----------------------------------\n",
            "Running with input72.txt\n",
            "Input: 1 n: 97 Resultado: 387771143\n",
            "Input: 2 n: 15 Resultado: 321915825\n",
            "Input: 3 n: 17 Resultado: 350346304\n",
            "Input: 4 n: 49 Resultado: 368206830\n",
            "Input: 5 n: 87 Resultado: 393823925\n",
            "Input: 6 n: 31 Resultado: 389161374\n",
            "Input: 7 n: 31 Resultado: 368509433\n",
            "Input: 8 n: 91 Resultado: 391822218\n",
            "Input: 9 n: 99 Resultado: 395505000\n",
            "Input: 10 n: 74 Resultado: 392848188\n",
            "Input: 11 n: 89 Resultado: 391296899\n",
            "Input: 12 n: 84 Resultado: 396945546\n",
            "Input: 13 n: 73 Resultado: 386241972\n",
            "Input: 14 n: 64 Resultado: 399640077\n",
            "Input: 15 n: 10 Resultado: 299585152\n",
            "Input: 16 n: 85 Resultado: 373100287\n",
            "Input: 17 n: 8 Resultado: 355714902\n",
            "Input: 18 n: 60 Resultado: 381941586\n",
            "Input: 19 n: 87 Resultado: 385183408\n",
            "Input: 20 n: 99 Resultado: 390397632\n",
            "Input: 21 n: 76 Resultado: 354132862\n",
            "Input: 22 n: 37 Resultado: 339452178\n",
            "Input: 23 n: 18 Resultado: 319868703\n",
            "Input: 24 n: 97 Resultado: 396188700\n",
            "Input: 25 n: 88 Resultado: 394447872\n",
            "Input: 26 n: 61 Resultado: 369174058\n",
            "Input: 27 n: 14 Resultado: 336115152\n",
            "Input: 28 n: 38 Resultado: 343351491\n",
            "Input: 29 n: 38 Resultado: 375793280\n",
            "Input: 30 n: 61 Resultado: 397383690\n",
            "Input: 31 n: 98 Resultado: 391901256\n",
            "Input: 32 n: 89 Resultado: 394288128\n",
            "Input: 33 n: 25 Resultado: 346627161\n",
            "Input: 34 n: 41 Resultado: 330083336\n",
            "Input: 35 n: 45 Resultado: 395015576\n",
            "Input: 36 n: 15 Resultado: 352184463\n",
            "Input: 37 n: 17 Resultado: 325617335\n",
            "Input: 38 n: 23 Resultado: 330201251\n",
            "Input: 39 n: 55 Resultado: 396200189\n",
            "Input: 40 n: 22 Resultado: 375536232\n",
            "Input: 41 n: 38 Resultado: 368248884\n",
            "Input: 42 n: 96 Resultado: 387120643\n",
            "Input: 43 n: 29 Resultado: 336893058\n",
            "Input: 44 n: 43 Resultado: 394479126\n",
            "Input: 45 n: 31 Resultado: 370985592\n",
            "Input: 46 n: 17 Resultado: 321892730\n",
            "Input: 47 n: 83 Resultado: 392668672\n",
            "Input: 48 n: 83 Resultado: 397900594\n",
            "Input: 49 n: 18 Resultado: 391043010\n",
            "Input: 50 n: 57 Resultado: 393227939\n",
            "Input: 51 n: 36 Resultado: 363378444\n",
            "Input: 52 n: 10 Resultado: 298267508\n",
            "Input: 53 n: 93 Resultado: 365187875\n",
            "Input: 54 n: 88 Resultado: 392554645\n",
            "Input: 55 n: 9 Resultado: 249726770\n",
            "Input: 56 n: 68 Resultado: 390064958\n",
            "Input: 57 n: 83 Resultado: 387948820\n",
            "Input: 58 n: 41 Resultado: 340878888\n",
            "Input: 59 n: 72 Resultado: 359209809\n",
            "Input: 60 n: 38 Resultado: 376269222\n",
            "Input: 61 n: 19 Resultado: 270586008\n",
            "Input: 62 n: 50 Resultado: 381225184\n",
            "Input: 63 n: 47 Resultado: 361124602\n",
            "Input: 64 n: 64 Resultado: 380053058\n",
            "Input: 65 n: 61 Resultado: 368478222\n",
            "Input: 66 n: 26 Resultado: 387832950\n",
            "Input: 67 n: 98 Resultado: 386298720\n",
            "Input: 68 n: 26 Resultado: 352354896\n",
            "Input: 69 n: 4 Resultado: 163779000\n",
            "Input: 70 n: 47 Resultado: 393960972\n",
            "Input: 71 n: 11 Resultado: 357237280\n",
            "Input: 72 n: 77 Resultado: 392118579\n",
            "Input: 73 n: 69 Resultado: 363908825\n",
            "Input: 74 n: 15 Resultado: 338202993\n",
            "Input: 75 n: 20 Resultado: 354281228\n",
            "Input: 76 n: 68 Resultado: 306494793\n",
            "Input: 77 n: 42 Resultado: 387537969\n",
            "Input: 78 n: 45 Resultado: 397104444\n",
            "Input: 79 n: 50 Resultado: 374547152\n",
            "Input: 80 n: 66 Resultado: 384027280\n",
            "Input: 81 n: 97 Resultado: 394141584\n",
            "Input: 82 n: 85 Resultado: 389923072\n",
            "Input: 83 n: 31 Resultado: 383882049\n",
            "Input: 84 n: 99 Resultado: 385195720\n",
            "Input: 85 n: 22 Resultado: 369731048\n",
            "Input: 86 n: 41 Resultado: 363883782\n",
            "Input: 87 n: 1 Resultado: 0\n",
            "Input: 88 n: 2 Resultado: 16778164\n",
            "Input: 89 n: 82 Resultado: 387829920\n",
            "Input: 90 n: 48 Resultado: 381486555\n",
            "Input: 91 n: 56 Resultado: 368946364\n",
            "Input: 92 n: 83 Resultado: 386581087\n",
            "Input: 93 n: 55 Resultado: 389425715\n",
            "Input: 94 n: 52 Resultado: 332195402\n",
            "Input: 95 n: 59 Resultado: 373006095\n",
            "Input: 96 n: 30 Resultado: 373532880\n",
            "Input: 97 n: 31 Resultado: 382870260\n",
            "Input: 98 n: 97 Resultado: 391366560\n",
            "Input: 99 n: 26 Resultado: 351806005\n",
            "Input: 100 n: 15 Resultado: 385975046\n",
            "-----------------------------------\n",
            "Running with input73.txt\n",
            "Input: 1 n: 97 Resultado: 387771143\n",
            "Input: 2 n: 15 Resultado: 321915825\n",
            "Input: 3 n: 17 Resultado: 350346304\n",
            "Input: 4 n: 49 Resultado: 368206830\n",
            "Input: 5 n: 87 Resultado: 393823925\n",
            "Input: 6 n: 31 Resultado: 389161374\n",
            "Input: 7 n: 31 Resultado: 368509433\n",
            "Input: 8 n: 91 Resultado: 391822218\n",
            "Input: 9 n: 99 Resultado: 395505000\n",
            "Input: 10 n: 74 Resultado: 392848188\n",
            "Input: 11 n: 89 Resultado: 391296899\n",
            "Input: 12 n: 84 Resultado: 396945546\n",
            "Input: 13 n: 73 Resultado: 386241972\n",
            "Input: 14 n: 64 Resultado: 399640077\n",
            "Input: 15 n: 10 Resultado: 299585152\n",
            "Input: 16 n: 85 Resultado: 373100287\n",
            "Input: 17 n: 8 Resultado: 355714902\n",
            "Input: 18 n: 60 Resultado: 381941586\n",
            "Input: 19 n: 87 Resultado: 385183408\n",
            "Input: 20 n: 99 Resultado: 390397632\n",
            "Input: 21 n: 76 Resultado: 354132862\n",
            "Input: 22 n: 37 Resultado: 339452178\n",
            "Input: 23 n: 18 Resultado: 319868703\n",
            "Input: 24 n: 97 Resultado: 396188700\n",
            "Input: 25 n: 88 Resultado: 394447872\n",
            "Input: 26 n: 61 Resultado: 369174058\n",
            "Input: 27 n: 14 Resultado: 336115152\n",
            "Input: 28 n: 38 Resultado: 343351491\n",
            "Input: 29 n: 38 Resultado: 375793280\n",
            "Input: 30 n: 61 Resultado: 397383690\n",
            "Input: 31 n: 98 Resultado: 391901256\n",
            "Input: 32 n: 89 Resultado: 394288128\n",
            "Input: 33 n: 25 Resultado: 346627161\n",
            "Input: 34 n: 41 Resultado: 330083336\n",
            "Input: 35 n: 45 Resultado: 395015576\n",
            "Input: 36 n: 15 Resultado: 352184463\n",
            "Input: 37 n: 17 Resultado: 325617335\n",
            "Input: 38 n: 23 Resultado: 330201251\n",
            "Input: 39 n: 55 Resultado: 396200189\n",
            "Input: 40 n: 22 Resultado: 375536232\n",
            "Input: 41 n: 38 Resultado: 368248884\n",
            "Input: 42 n: 96 Resultado: 387120643\n",
            "Input: 43 n: 29 Resultado: 336893058\n",
            "Input: 44 n: 43 Resultado: 394479126\n",
            "Input: 45 n: 31 Resultado: 370985592\n",
            "Input: 46 n: 17 Resultado: 321892730\n",
            "Input: 47 n: 83 Resultado: 392668672\n",
            "Input: 48 n: 83 Resultado: 397900594\n",
            "Input: 49 n: 18 Resultado: 391043010\n",
            "Input: 50 n: 57 Resultado: 393227939\n",
            "Input: 51 n: 36 Resultado: 363378444\n",
            "Input: 52 n: 10 Resultado: 298267508\n",
            "Input: 53 n: 93 Resultado: 365187875\n",
            "Input: 54 n: 88 Resultado: 392554645\n",
            "Input: 55 n: 9 Resultado: 249726770\n",
            "Input: 56 n: 68 Resultado: 390064958\n",
            "Input: 57 n: 83 Resultado: 387948820\n",
            "Input: 58 n: 41 Resultado: 340878888\n",
            "Input: 59 n: 72 Resultado: 359209809\n",
            "Input: 60 n: 38 Resultado: 376269222\n",
            "Input: 61 n: 19 Resultado: 270586008\n",
            "Input: 62 n: 50 Resultado: 381225184\n",
            "Input: 63 n: 47 Resultado: 361124602\n",
            "Input: 64 n: 64 Resultado: 380053058\n",
            "Input: 65 n: 61 Resultado: 368478222\n",
            "Input: 66 n: 26 Resultado: 387832950\n",
            "Input: 67 n: 98 Resultado: 386298720\n",
            "Input: 68 n: 26 Resultado: 352354896\n",
            "Input: 69 n: 4 Resultado: 163779000\n",
            "Input: 70 n: 47 Resultado: 393960972\n",
            "Input: 71 n: 11 Resultado: 357237280\n",
            "Input: 72 n: 77 Resultado: 392118579\n",
            "Input: 73 n: 69 Resultado: 363908825\n",
            "Input: 74 n: 15 Resultado: 338202993\n",
            "Input: 75 n: 20 Resultado: 354281228\n",
            "Input: 76 n: 68 Resultado: 306494793\n",
            "Input: 77 n: 42 Resultado: 387537969\n",
            "Input: 78 n: 45 Resultado: 397104444\n",
            "Input: 79 n: 50 Resultado: 374547152\n",
            "Input: 80 n: 66 Resultado: 384027280\n",
            "Input: 81 n: 97 Resultado: 394141584\n",
            "Input: 82 n: 85 Resultado: 389923072\n",
            "Input: 83 n: 31 Resultado: 383882049\n",
            "Input: 84 n: 99 Resultado: 385195720\n",
            "Input: 85 n: 22 Resultado: 369731048\n",
            "Input: 86 n: 41 Resultado: 363883782\n",
            "Input: 87 n: 1 Resultado: 0\n",
            "Input: 88 n: 2 Resultado: 16778164\n",
            "Input: 89 n: 82 Resultado: 387829920\n",
            "Input: 90 n: 48 Resultado: 381486555\n",
            "Input: 91 n: 56 Resultado: 368946364\n",
            "Input: 92 n: 83 Resultado: 386581087\n",
            "Input: 93 n: 55 Resultado: 389425715\n",
            "Input: 94 n: 52 Resultado: 332195402\n",
            "Input: 95 n: 59 Resultado: 373006095\n",
            "Input: 96 n: 30 Resultado: 373532880\n",
            "Input: 97 n: 31 Resultado: 382870260\n",
            "Input: 98 n: 97 Resultado: 391366560\n",
            "Input: 99 n: 26 Resultado: 351806005\n",
            "Input: 100 n: 15 Resultado: 385975046\n",
            "-----------------------------------\n",
            "Running with input74.txt\n",
            "Input: 1 n: 97 Resultado: 387771143\n",
            "Input: 2 n: 15 Resultado: 321915825\n",
            "Input: 3 n: 17 Resultado: 350346304\n",
            "Input: 4 n: 49 Resultado: 368206830\n",
            "Input: 5 n: 87 Resultado: 393823925\n",
            "Input: 6 n: 31 Resultado: 389161374\n",
            "Input: 7 n: 31 Resultado: 368509433\n",
            "Input: 8 n: 91 Resultado: 391822218\n",
            "Input: 9 n: 99 Resultado: 395505000\n",
            "Input: 10 n: 74 Resultado: 392848188\n",
            "Input: 11 n: 89 Resultado: 391296899\n",
            "Input: 12 n: 84 Resultado: 396945546\n",
            "Input: 13 n: 73 Resultado: 386241972\n",
            "Input: 14 n: 64 Resultado: 399640077\n",
            "Input: 15 n: 10 Resultado: 299585152\n",
            "Input: 16 n: 85 Resultado: 373100287\n",
            "Input: 17 n: 8 Resultado: 355714902\n",
            "Input: 18 n: 60 Resultado: 381941586\n",
            "Input: 19 n: 87 Resultado: 385183408\n",
            "Input: 20 n: 99 Resultado: 390397632\n",
            "Input: 21 n: 76 Resultado: 354132862\n",
            "Input: 22 n: 37 Resultado: 339452178\n",
            "Input: 23 n: 18 Resultado: 319868703\n",
            "Input: 24 n: 97 Resultado: 396188700\n",
            "Input: 25 n: 88 Resultado: 394447872\n",
            "Input: 26 n: 61 Resultado: 369174058\n",
            "Input: 27 n: 14 Resultado: 336115152\n",
            "Input: 28 n: 38 Resultado: 343351491\n",
            "Input: 29 n: 38 Resultado: 375793280\n",
            "Input: 30 n: 61 Resultado: 397383690\n",
            "Input: 31 n: 98 Resultado: 391901256\n",
            "Input: 32 n: 89 Resultado: 394288128\n",
            "Input: 33 n: 25 Resultado: 346627161\n",
            "Input: 34 n: 41 Resultado: 330083336\n",
            "Input: 35 n: 45 Resultado: 395015576\n",
            "Input: 36 n: 15 Resultado: 352184463\n",
            "Input: 37 n: 17 Resultado: 325617335\n",
            "Input: 38 n: 23 Resultado: 330201251\n",
            "Input: 39 n: 55 Resultado: 396200189\n",
            "Input: 40 n: 22 Resultado: 375536232\n",
            "Input: 41 n: 38 Resultado: 368248884\n",
            "Input: 42 n: 96 Resultado: 387120643\n",
            "Input: 43 n: 29 Resultado: 336893058\n",
            "Input: 44 n: 43 Resultado: 394479126\n",
            "Input: 45 n: 31 Resultado: 370985592\n",
            "Input: 46 n: 17 Resultado: 321892730\n",
            "Input: 47 n: 83 Resultado: 392668672\n",
            "Input: 48 n: 83 Resultado: 397900594\n",
            "Input: 49 n: 18 Resultado: 391043010\n",
            "Input: 50 n: 57 Resultado: 393227939\n",
            "Input: 51 n: 36 Resultado: 363378444\n",
            "Input: 52 n: 10 Resultado: 298267508\n",
            "Input: 53 n: 93 Resultado: 365187875\n",
            "Input: 54 n: 88 Resultado: 392554645\n",
            "Input: 55 n: 9 Resultado: 249726770\n",
            "Input: 56 n: 68 Resultado: 390064958\n",
            "Input: 57 n: 83 Resultado: 387948820\n",
            "Input: 58 n: 41 Resultado: 340878888\n",
            "Input: 59 n: 72 Resultado: 359209809\n",
            "Input: 60 n: 38 Resultado: 376269222\n",
            "Input: 61 n: 19 Resultado: 270586008\n",
            "Input: 62 n: 50 Resultado: 381225184\n",
            "Input: 63 n: 47 Resultado: 361124602\n",
            "Input: 64 n: 64 Resultado: 380053058\n",
            "Input: 65 n: 61 Resultado: 368478222\n",
            "Input: 66 n: 26 Resultado: 387832950\n",
            "Input: 67 n: 98 Resultado: 386298720\n",
            "Input: 68 n: 26 Resultado: 352354896\n",
            "Input: 69 n: 4 Resultado: 163779000\n",
            "Input: 70 n: 47 Resultado: 393960972\n",
            "Input: 71 n: 11 Resultado: 357237280\n",
            "Input: 72 n: 77 Resultado: 392118579\n",
            "Input: 73 n: 69 Resultado: 363908825\n",
            "Input: 74 n: 15 Resultado: 338202993\n",
            "Input: 75 n: 20 Resultado: 354281228\n",
            "Input: 76 n: 68 Resultado: 306494793\n",
            "Input: 77 n: 42 Resultado: 387537969\n",
            "Input: 78 n: 45 Resultado: 397104444\n",
            "Input: 79 n: 50 Resultado: 374547152\n",
            "Input: 80 n: 66 Resultado: 384027280\n",
            "Input: 81 n: 97 Resultado: 394141584\n",
            "Input: 82 n: 85 Resultado: 389923072\n",
            "Input: 83 n: 31 Resultado: 383882049\n",
            "Input: 84 n: 99 Resultado: 385195720\n",
            "Input: 85 n: 22 Resultado: 369731048\n",
            "Input: 86 n: 41 Resultado: 363883782\n",
            "Input: 87 n: 1 Resultado: 0\n",
            "Input: 88 n: 2 Resultado: 16778164\n",
            "Input: 89 n: 82 Resultado: 387829920\n",
            "Input: 90 n: 48 Resultado: 381486555\n",
            "Input: 91 n: 56 Resultado: 368946364\n",
            "Input: 92 n: 83 Resultado: 386581087\n",
            "Input: 93 n: 55 Resultado: 389425715\n",
            "Input: 94 n: 52 Resultado: 332195402\n",
            "Input: 95 n: 59 Resultado: 373006095\n",
            "Input: 96 n: 30 Resultado: 373532880\n",
            "Input: 97 n: 31 Resultado: 382870260\n",
            "Input: 98 n: 97 Resultado: 391366560\n",
            "Input: 99 n: 26 Resultado: 351806005\n",
            "Input: 100 n: 15 Resultado: 385975046\n",
            "-----------------------------------\n",
            "Running with input75.txt\n",
            "Input: 1 n: 97 Resultado: 387771143\n",
            "Input: 2 n: 15 Resultado: 321915825\n",
            "Input: 3 n: 17 Resultado: 350346304\n",
            "Input: 4 n: 49 Resultado: 368206830\n",
            "Input: 5 n: 87 Resultado: 393823925\n",
            "Input: 6 n: 31 Resultado: 389161374\n",
            "Input: 7 n: 31 Resultado: 368509433\n",
            "Input: 8 n: 91 Resultado: 391822218\n",
            "Input: 9 n: 99 Resultado: 395505000\n",
            "Input: 10 n: 74 Resultado: 392848188\n",
            "Input: 11 n: 89 Resultado: 391296899\n",
            "Input: 12 n: 84 Resultado: 396945546\n",
            "Input: 13 n: 73 Resultado: 386241972\n",
            "Input: 14 n: 64 Resultado: 399640077\n",
            "Input: 15 n: 10 Resultado: 299585152\n",
            "Input: 16 n: 85 Resultado: 373100287\n",
            "Input: 17 n: 8 Resultado: 355714902\n",
            "Input: 18 n: 60 Resultado: 381941586\n",
            "Input: 19 n: 87 Resultado: 385183408\n",
            "Input: 20 n: 99 Resultado: 390397632\n",
            "Input: 21 n: 76 Resultado: 354132862\n",
            "Input: 22 n: 37 Resultado: 339452178\n",
            "Input: 23 n: 18 Resultado: 319868703\n",
            "Input: 24 n: 97 Resultado: 396188700\n",
            "Input: 25 n: 88 Resultado: 394447872\n",
            "Input: 26 n: 61 Resultado: 369174058\n",
            "Input: 27 n: 14 Resultado: 336115152\n",
            "Input: 28 n: 38 Resultado: 343351491\n",
            "Input: 29 n: 38 Resultado: 375793280\n",
            "Input: 30 n: 61 Resultado: 397383690\n",
            "Input: 31 n: 98 Resultado: 391901256\n",
            "Input: 32 n: 89 Resultado: 394288128\n",
            "Input: 33 n: 25 Resultado: 346627161\n",
            "Input: 34 n: 41 Resultado: 330083336\n",
            "Input: 35 n: 45 Resultado: 395015576\n",
            "Input: 36 n: 15 Resultado: 352184463\n",
            "Input: 37 n: 17 Resultado: 325617335\n",
            "Input: 38 n: 23 Resultado: 330201251\n",
            "Input: 39 n: 55 Resultado: 396200189\n",
            "Input: 40 n: 22 Resultado: 375536232\n",
            "Input: 41 n: 38 Resultado: 368248884\n",
            "Input: 42 n: 96 Resultado: 387120643\n",
            "Input: 43 n: 29 Resultado: 336893058\n",
            "Input: 44 n: 43 Resultado: 394479126\n",
            "Input: 45 n: 31 Resultado: 370985592\n",
            "Input: 46 n: 17 Resultado: 321892730\n",
            "Input: 47 n: 83 Resultado: 392668672\n",
            "Input: 48 n: 83 Resultado: 397900594\n",
            "Input: 49 n: 18 Resultado: 391043010\n",
            "Input: 50 n: 57 Resultado: 393227939\n",
            "Input: 51 n: 36 Resultado: 363378444\n",
            "Input: 52 n: 10 Resultado: 298267508\n",
            "Input: 53 n: 93 Resultado: 365187875\n",
            "Input: 54 n: 88 Resultado: 392554645\n",
            "Input: 55 n: 9 Resultado: 249726770\n",
            "Input: 56 n: 68 Resultado: 390064958\n",
            "Input: 57 n: 83 Resultado: 387948820\n",
            "Input: 58 n: 41 Resultado: 340878888\n",
            "Input: 59 n: 72 Resultado: 359209809\n",
            "Input: 60 n: 38 Resultado: 376269222\n",
            "Input: 61 n: 19 Resultado: 270586008\n",
            "Input: 62 n: 50 Resultado: 381225184\n",
            "Input: 63 n: 47 Resultado: 361124602\n",
            "Input: 64 n: 64 Resultado: 380053058\n",
            "Input: 65 n: 61 Resultado: 368478222\n",
            "Input: 66 n: 26 Resultado: 387832950\n",
            "Input: 67 n: 98 Resultado: 386298720\n",
            "Input: 68 n: 26 Resultado: 352354896\n",
            "Input: 69 n: 4 Resultado: 163779000\n",
            "Input: 70 n: 47 Resultado: 393960972\n",
            "Input: 71 n: 11 Resultado: 357237280\n",
            "Input: 72 n: 77 Resultado: 392118579\n",
            "Input: 73 n: 69 Resultado: 363908825\n",
            "Input: 74 n: 15 Resultado: 338202993\n",
            "Input: 75 n: 20 Resultado: 354281228\n",
            "Input: 76 n: 68 Resultado: 306494793\n",
            "Input: 77 n: 42 Resultado: 387537969\n",
            "Input: 78 n: 45 Resultado: 397104444\n",
            "Input: 79 n: 50 Resultado: 374547152\n",
            "Input: 80 n: 66 Resultado: 384027280\n",
            "Input: 81 n: 97 Resultado: 394141584\n",
            "Input: 82 n: 85 Resultado: 389923072\n",
            "Input: 83 n: 31 Resultado: 383882049\n",
            "Input: 84 n: 99 Resultado: 385195720\n",
            "Input: 85 n: 22 Resultado: 369731048\n",
            "Input: 86 n: 41 Resultado: 363883782\n",
            "Input: 87 n: 1 Resultado: 0\n",
            "Input: 88 n: 2 Resultado: 16778164\n",
            "Input: 89 n: 82 Resultado: 387829920\n",
            "Input: 90 n: 48 Resultado: 381486555\n",
            "Input: 91 n: 56 Resultado: 368946364\n",
            "Input: 92 n: 83 Resultado: 386581087\n",
            "Input: 93 n: 55 Resultado: 389425715\n",
            "Input: 94 n: 52 Resultado: 332195402\n",
            "Input: 95 n: 59 Resultado: 373006095\n",
            "Input: 96 n: 30 Resultado: 373532880\n",
            "Input: 97 n: 31 Resultado: 382870260\n",
            "Input: 98 n: 97 Resultado: 391366560\n",
            "Input: 99 n: 26 Resultado: 351806005\n",
            "Input: 100 n: 15 Resultado: 385975046\n",
            "-----------------------------------\n",
            "Running with input76.txt\n",
            "Input: 1 n: 97 Resultado: 387771143\n",
            "Input: 2 n: 15 Resultado: 321915825\n",
            "Input: 3 n: 17 Resultado: 350346304\n",
            "Input: 4 n: 49 Resultado: 368206830\n",
            "Input: 5 n: 87 Resultado: 393823925\n",
            "Input: 6 n: 31 Resultado: 389161374\n",
            "Input: 7 n: 31 Resultado: 368509433\n",
            "Input: 8 n: 91 Resultado: 391822218\n",
            "Input: 9 n: 99 Resultado: 395505000\n",
            "Input: 10 n: 74 Resultado: 392848188\n",
            "Input: 11 n: 89 Resultado: 391296899\n",
            "Input: 12 n: 84 Resultado: 396945546\n",
            "Input: 13 n: 73 Resultado: 386241972\n",
            "Input: 14 n: 64 Resultado: 399640077\n",
            "Input: 15 n: 10 Resultado: 299585152\n",
            "Input: 16 n: 85 Resultado: 373100287\n",
            "Input: 17 n: 8 Resultado: 355714902\n",
            "Input: 18 n: 60 Resultado: 381941586\n",
            "Input: 19 n: 87 Resultado: 385183408\n",
            "Input: 20 n: 99 Resultado: 390397632\n",
            "Input: 21 n: 76 Resultado: 354132862\n",
            "Input: 22 n: 37 Resultado: 339452178\n",
            "Input: 23 n: 18 Resultado: 319868703\n",
            "Input: 24 n: 97 Resultado: 396188700\n",
            "Input: 25 n: 88 Resultado: 394447872\n",
            "Input: 26 n: 61 Resultado: 369174058\n",
            "Input: 27 n: 14 Resultado: 336115152\n",
            "Input: 28 n: 38 Resultado: 343351491\n",
            "Input: 29 n: 38 Resultado: 375793280\n",
            "Input: 30 n: 61 Resultado: 397383690\n",
            "Input: 31 n: 98 Resultado: 391901256\n",
            "Input: 32 n: 89 Resultado: 394288128\n",
            "Input: 33 n: 25 Resultado: 346627161\n",
            "Input: 34 n: 41 Resultado: 330083336\n",
            "Input: 35 n: 45 Resultado: 395015576\n",
            "Input: 36 n: 15 Resultado: 352184463\n",
            "Input: 37 n: 17 Resultado: 325617335\n",
            "Input: 38 n: 23 Resultado: 330201251\n",
            "Input: 39 n: 55 Resultado: 396200189\n",
            "Input: 40 n: 22 Resultado: 375536232\n",
            "Input: 41 n: 38 Resultado: 368248884\n",
            "Input: 42 n: 96 Resultado: 387120643\n",
            "Input: 43 n: 29 Resultado: 336893058\n",
            "Input: 44 n: 43 Resultado: 394479126\n",
            "Input: 45 n: 31 Resultado: 370985592\n",
            "Input: 46 n: 17 Resultado: 321892730\n",
            "Input: 47 n: 83 Resultado: 392668672\n",
            "Input: 48 n: 83 Resultado: 397900594\n",
            "Input: 49 n: 18 Resultado: 391043010\n",
            "Input: 50 n: 57 Resultado: 393227939\n",
            "Input: 51 n: 36 Resultado: 363378444\n",
            "Input: 52 n: 10 Resultado: 298267508\n",
            "Input: 53 n: 93 Resultado: 365187875\n",
            "Input: 54 n: 88 Resultado: 392554645\n",
            "Input: 55 n: 9 Resultado: 249726770\n",
            "Input: 56 n: 68 Resultado: 390064958\n",
            "Input: 57 n: 83 Resultado: 387948820\n",
            "Input: 58 n: 41 Resultado: 340878888\n",
            "Input: 59 n: 72 Resultado: 359209809\n",
            "Input: 60 n: 38 Resultado: 376269222\n",
            "Input: 61 n: 19 Resultado: 270586008\n",
            "Input: 62 n: 50 Resultado: 381225184\n",
            "Input: 63 n: 47 Resultado: 361124602\n",
            "Input: 64 n: 64 Resultado: 380053058\n",
            "Input: 65 n: 61 Resultado: 368478222\n",
            "Input: 66 n: 26 Resultado: 387832950\n",
            "Input: 67 n: 98 Resultado: 386298720\n",
            "Input: 68 n: 26 Resultado: 352354896\n",
            "Input: 69 n: 4 Resultado: 163779000\n",
            "Input: 70 n: 47 Resultado: 393960972\n",
            "Input: 71 n: 11 Resultado: 357237280\n",
            "Input: 72 n: 77 Resultado: 392118579\n",
            "Input: 73 n: 69 Resultado: 363908825\n",
            "Input: 74 n: 15 Resultado: 338202993\n",
            "Input: 75 n: 20 Resultado: 354281228\n",
            "Input: 76 n: 68 Resultado: 306494793\n",
            "Input: 77 n: 42 Resultado: 387537969\n",
            "Input: 78 n: 45 Resultado: 397104444\n",
            "Input: 79 n: 50 Resultado: 374547152\n",
            "Input: 80 n: 66 Resultado: 384027280\n",
            "Input: 81 n: 97 Resultado: 394141584\n",
            "Input: 82 n: 85 Resultado: 389923072\n",
            "Input: 83 n: 31 Resultado: 383882049\n",
            "Input: 84 n: 99 Resultado: 385195720\n",
            "Input: 85 n: 22 Resultado: 369731048\n",
            "Input: 86 n: 41 Resultado: 363883782\n",
            "Input: 87 n: 1 Resultado: 0\n",
            "Input: 88 n: 2 Resultado: 16778164\n",
            "Input: 89 n: 82 Resultado: 387829920\n",
            "Input: 90 n: 48 Resultado: 381486555\n",
            "Input: 91 n: 56 Resultado: 368946364\n",
            "Input: 92 n: 83 Resultado: 386581087\n",
            "Input: 93 n: 55 Resultado: 389425715\n",
            "Input: 94 n: 52 Resultado: 332195402\n",
            "Input: 95 n: 59 Resultado: 373006095\n",
            "Input: 96 n: 30 Resultado: 373532880\n",
            "Input: 97 n: 31 Resultado: 382870260\n",
            "Input: 98 n: 97 Resultado: 391366560\n",
            "Input: 99 n: 26 Resultado: 351806005\n",
            "Input: 100 n: 15 Resultado: 385975046\n",
            "-----------------------------------\n",
            "Running with input77.txt\n",
            "Input: 1 n: 97 Resultado: 387771143\n",
            "Input: 2 n: 15 Resultado: 321915825\n",
            "Input: 3 n: 17 Resultado: 350346304\n",
            "Input: 4 n: 49 Resultado: 368206830\n",
            "Input: 5 n: 87 Resultado: 393823925\n",
            "Input: 6 n: 31 Resultado: 389161374\n",
            "Input: 7 n: 31 Resultado: 368509433\n",
            "Input: 8 n: 91 Resultado: 391822218\n",
            "Input: 9 n: 99 Resultado: 395505000\n",
            "Input: 10 n: 74 Resultado: 392848188\n",
            "Input: 11 n: 89 Resultado: 391296899\n",
            "Input: 12 n: 84 Resultado: 396945546\n",
            "Input: 13 n: 73 Resultado: 386241972\n",
            "Input: 14 n: 64 Resultado: 399640077\n",
            "Input: 15 n: 10 Resultado: 299585152\n",
            "Input: 16 n: 85 Resultado: 373100287\n",
            "Input: 17 n: 8 Resultado: 355714902\n",
            "Input: 18 n: 60 Resultado: 381941586\n",
            "Input: 19 n: 87 Resultado: 385183408\n",
            "Input: 20 n: 99 Resultado: 390397632\n",
            "Input: 21 n: 76 Resultado: 354132862\n",
            "Input: 22 n: 37 Resultado: 339452178\n",
            "Input: 23 n: 18 Resultado: 319868703\n",
            "Input: 24 n: 97 Resultado: 396188700\n",
            "Input: 25 n: 88 Resultado: 394447872\n",
            "Input: 26 n: 61 Resultado: 369174058\n",
            "Input: 27 n: 14 Resultado: 336115152\n",
            "Input: 28 n: 38 Resultado: 343351491\n",
            "Input: 29 n: 38 Resultado: 375793280\n",
            "Input: 30 n: 61 Resultado: 397383690\n",
            "Input: 31 n: 98 Resultado: 391901256\n",
            "Input: 32 n: 89 Resultado: 394288128\n",
            "Input: 33 n: 25 Resultado: 346627161\n",
            "Input: 34 n: 41 Resultado: 330083336\n",
            "Input: 35 n: 45 Resultado: 395015576\n",
            "Input: 36 n: 15 Resultado: 352184463\n",
            "Input: 37 n: 17 Resultado: 325617335\n",
            "Input: 38 n: 23 Resultado: 330201251\n",
            "Input: 39 n: 55 Resultado: 396200189\n",
            "Input: 40 n: 22 Resultado: 375536232\n",
            "Input: 41 n: 38 Resultado: 368248884\n",
            "Input: 42 n: 96 Resultado: 387120643\n",
            "Input: 43 n: 29 Resultado: 336893058\n",
            "Input: 44 n: 43 Resultado: 394479126\n",
            "Input: 45 n: 31 Resultado: 370985592\n",
            "Input: 46 n: 17 Resultado: 321892730\n",
            "Input: 47 n: 83 Resultado: 392668672\n",
            "Input: 48 n: 83 Resultado: 397900594\n",
            "Input: 49 n: 18 Resultado: 391043010\n",
            "Input: 50 n: 57 Resultado: 393227939\n",
            "Input: 51 n: 36 Resultado: 363378444\n",
            "Input: 52 n: 10 Resultado: 298267508\n",
            "Input: 53 n: 93 Resultado: 365187875\n",
            "Input: 54 n: 88 Resultado: 392554645\n",
            "Input: 55 n: 9 Resultado: 249726770\n",
            "Input: 56 n: 68 Resultado: 390064958\n",
            "Input: 57 n: 83 Resultado: 387948820\n",
            "Input: 58 n: 41 Resultado: 340878888\n",
            "Input: 59 n: 72 Resultado: 359209809\n",
            "Input: 60 n: 38 Resultado: 376269222\n",
            "Input: 61 n: 19 Resultado: 270586008\n",
            "Input: 62 n: 50 Resultado: 381225184\n",
            "Input: 63 n: 47 Resultado: 361124602\n",
            "Input: 64 n: 64 Resultado: 380053058\n",
            "Input: 65 n: 61 Resultado: 368478222\n",
            "Input: 66 n: 26 Resultado: 387832950\n",
            "Input: 67 n: 98 Resultado: 386298720\n",
            "Input: 68 n: 26 Resultado: 352354896\n",
            "Input: 69 n: 4 Resultado: 163779000\n",
            "Input: 70 n: 47 Resultado: 393960972\n",
            "Input: 71 n: 11 Resultado: 357237280\n",
            "Input: 72 n: 77 Resultado: 392118579\n",
            "Input: 73 n: 69 Resultado: 363908825\n",
            "Input: 74 n: 15 Resultado: 338202993\n",
            "Input: 75 n: 20 Resultado: 354281228\n",
            "Input: 76 n: 68 Resultado: 306494793\n",
            "Input: 77 n: 42 Resultado: 387537969\n",
            "Input: 78 n: 45 Resultado: 397104444\n",
            "Input: 79 n: 50 Resultado: 374547152\n",
            "Input: 80 n: 66 Resultado: 384027280\n",
            "Input: 81 n: 97 Resultado: 394141584\n",
            "Input: 82 n: 85 Resultado: 389923072\n",
            "Input: 83 n: 31 Resultado: 383882049\n",
            "Input: 84 n: 99 Resultado: 385195720\n",
            "Input: 85 n: 22 Resultado: 369731048\n",
            "Input: 86 n: 41 Resultado: 363883782\n",
            "Input: 87 n: 1 Resultado: 0\n",
            "Input: 88 n: 2 Resultado: 16778164\n",
            "Input: 89 n: 82 Resultado: 387829920\n",
            "Input: 90 n: 48 Resultado: 381486555\n",
            "Input: 91 n: 56 Resultado: 368946364\n",
            "Input: 92 n: 83 Resultado: 386581087\n",
            "Input: 93 n: 55 Resultado: 389425715\n",
            "Input: 94 n: 52 Resultado: 332195402\n",
            "Input: 95 n: 59 Resultado: 373006095\n",
            "Input: 96 n: 30 Resultado: 373532880\n",
            "Input: 97 n: 31 Resultado: 382870260\n",
            "Input: 98 n: 97 Resultado: 391366560\n",
            "Input: 99 n: 26 Resultado: 351806005\n",
            "Input: 100 n: 15 Resultado: 385975046\n",
            "-----------------------------------\n",
            "Running with input78.txt\n",
            "Input: 1 n: 97 Resultado: 387771143\n",
            "Input: 2 n: 15 Resultado: 321915825\n",
            "Input: 3 n: 17 Resultado: 350346304\n",
            "Input: 4 n: 49 Resultado: 368206830\n",
            "Input: 5 n: 87 Resultado: 393823925\n",
            "Input: 6 n: 31 Resultado: 389161374\n",
            "Input: 7 n: 31 Resultado: 368509433\n",
            "Input: 8 n: 91 Resultado: 391822218\n",
            "Input: 9 n: 99 Resultado: 395505000\n",
            "Input: 10 n: 74 Resultado: 392848188\n",
            "Input: 11 n: 89 Resultado: 391296899\n",
            "Input: 12 n: 84 Resultado: 396945546\n",
            "Input: 13 n: 73 Resultado: 386241972\n",
            "Input: 14 n: 64 Resultado: 399640077\n",
            "Input: 15 n: 10 Resultado: 299585152\n",
            "Input: 16 n: 85 Resultado: 373100287\n",
            "Input: 17 n: 8 Resultado: 355714902\n",
            "Input: 18 n: 60 Resultado: 381941586\n",
            "Input: 19 n: 87 Resultado: 385183408\n",
            "Input: 20 n: 99 Resultado: 390397632\n",
            "Input: 21 n: 76 Resultado: 354132862\n",
            "Input: 22 n: 37 Resultado: 339452178\n",
            "Input: 23 n: 18 Resultado: 319868703\n",
            "Input: 24 n: 97 Resultado: 396188700\n",
            "Input: 25 n: 88 Resultado: 394447872\n",
            "Input: 26 n: 61 Resultado: 369174058\n",
            "Input: 27 n: 14 Resultado: 336115152\n",
            "Input: 28 n: 38 Resultado: 343351491\n",
            "Input: 29 n: 38 Resultado: 375793280\n",
            "Input: 30 n: 61 Resultado: 397383690\n",
            "Input: 31 n: 98 Resultado: 391901256\n",
            "Input: 32 n: 89 Resultado: 394288128\n",
            "Input: 33 n: 25 Resultado: 346627161\n",
            "Input: 34 n: 41 Resultado: 330083336\n",
            "Input: 35 n: 45 Resultado: 395015576\n",
            "Input: 36 n: 15 Resultado: 352184463\n",
            "Input: 37 n: 17 Resultado: 325617335\n",
            "Input: 38 n: 23 Resultado: 330201251\n",
            "Input: 39 n: 55 Resultado: 396200189\n",
            "Input: 40 n: 22 Resultado: 375536232\n",
            "Input: 41 n: 38 Resultado: 368248884\n",
            "Input: 42 n: 96 Resultado: 387120643\n",
            "Input: 43 n: 29 Resultado: 336893058\n",
            "Input: 44 n: 43 Resultado: 394479126\n",
            "Input: 45 n: 31 Resultado: 370985592\n",
            "Input: 46 n: 17 Resultado: 321892730\n",
            "Input: 47 n: 83 Resultado: 392668672\n",
            "Input: 48 n: 83 Resultado: 397900594\n",
            "Input: 49 n: 18 Resultado: 391043010\n",
            "Input: 50 n: 57 Resultado: 393227939\n",
            "Input: 51 n: 36 Resultado: 363378444\n",
            "Input: 52 n: 10 Resultado: 298267508\n",
            "Input: 53 n: 93 Resultado: 365187875\n",
            "Input: 54 n: 88 Resultado: 392554645\n",
            "Input: 55 n: 9 Resultado: 249726770\n",
            "Input: 56 n: 68 Resultado: 390064958\n",
            "Input: 57 n: 83 Resultado: 387948820\n",
            "Input: 58 n: 41 Resultado: 340878888\n",
            "Input: 59 n: 72 Resultado: 359209809\n",
            "Input: 60 n: 38 Resultado: 376269222\n",
            "Input: 61 n: 19 Resultado: 270586008\n",
            "Input: 62 n: 50 Resultado: 381225184\n",
            "Input: 63 n: 47 Resultado: 361124602\n",
            "Input: 64 n: 64 Resultado: 380053058\n",
            "Input: 65 n: 61 Resultado: 368478222\n",
            "Input: 66 n: 26 Resultado: 387832950\n",
            "Input: 67 n: 98 Resultado: 386298720\n",
            "Input: 68 n: 26 Resultado: 352354896\n",
            "Input: 69 n: 4 Resultado: 163779000\n",
            "Input: 70 n: 47 Resultado: 393960972\n",
            "Input: 71 n: 11 Resultado: 357237280\n",
            "Input: 72 n: 77 Resultado: 392118579\n",
            "Input: 73 n: 69 Resultado: 363908825\n",
            "Input: 74 n: 15 Resultado: 338202993\n",
            "Input: 75 n: 20 Resultado: 354281228\n",
            "Input: 76 n: 68 Resultado: 306494793\n",
            "Input: 77 n: 42 Resultado: 387537969\n",
            "Input: 78 n: 45 Resultado: 397104444\n",
            "Input: 79 n: 50 Resultado: 374547152\n",
            "Input: 80 n: 66 Resultado: 384027280\n",
            "Input: 81 n: 97 Resultado: 394141584\n",
            "Input: 82 n: 85 Resultado: 389923072\n",
            "Input: 83 n: 31 Resultado: 383882049\n",
            "Input: 84 n: 99 Resultado: 385195720\n",
            "Input: 85 n: 22 Resultado: 369731048\n",
            "Input: 86 n: 41 Resultado: 363883782\n",
            "Input: 87 n: 1 Resultado: 0\n",
            "Input: 88 n: 2 Resultado: 16778164\n",
            "Input: 89 n: 82 Resultado: 387829920\n",
            "Input: 90 n: 48 Resultado: 381486555\n",
            "Input: 91 n: 56 Resultado: 368946364\n",
            "Input: 92 n: 83 Resultado: 386581087\n",
            "Input: 93 n: 55 Resultado: 389425715\n",
            "Input: 94 n: 52 Resultado: 332195402\n",
            "Input: 95 n: 59 Resultado: 373006095\n",
            "Input: 96 n: 30 Resultado: 373532880\n",
            "Input: 97 n: 31 Resultado: 382870260\n",
            "Input: 98 n: 97 Resultado: 391366560\n",
            "Input: 99 n: 26 Resultado: 351806005\n",
            "Input: 100 n: 15 Resultado: 385975046\n",
            "-----------------------------------\n",
            "Running with input79.txt\n",
            "Input: 1 n: 97 Resultado: 387771143\n",
            "Input: 2 n: 15 Resultado: 321915825\n",
            "Input: 3 n: 17 Resultado: 350346304\n",
            "Input: 4 n: 49 Resultado: 368206830\n",
            "Input: 5 n: 87 Resultado: 393823925\n",
            "Input: 6 n: 31 Resultado: 389161374\n",
            "Input: 7 n: 31 Resultado: 368509433\n",
            "Input: 8 n: 91 Resultado: 391822218\n",
            "Input: 9 n: 99 Resultado: 395505000\n",
            "Input: 10 n: 74 Resultado: 392848188\n",
            "Input: 11 n: 89 Resultado: 391296899\n",
            "Input: 12 n: 84 Resultado: 396945546\n",
            "Input: 13 n: 73 Resultado: 386241972\n",
            "Input: 14 n: 64 Resultado: 399640077\n",
            "Input: 15 n: 10 Resultado: 299585152\n",
            "Input: 16 n: 85 Resultado: 373100287\n",
            "Input: 17 n: 8 Resultado: 355714902\n",
            "Input: 18 n: 60 Resultado: 381941586\n",
            "Input: 19 n: 87 Resultado: 385183408\n",
            "Input: 20 n: 99 Resultado: 390397632\n",
            "Input: 21 n: 76 Resultado: 354132862\n",
            "Input: 22 n: 37 Resultado: 339452178\n",
            "Input: 23 n: 18 Resultado: 319868703\n",
            "Input: 24 n: 97 Resultado: 396188700\n",
            "Input: 25 n: 88 Resultado: 394447872\n",
            "Input: 26 n: 61 Resultado: 369174058\n",
            "Input: 27 n: 14 Resultado: 336115152\n",
            "Input: 28 n: 38 Resultado: 343351491\n",
            "Input: 29 n: 38 Resultado: 375793280\n",
            "Input: 30 n: 61 Resultado: 397383690\n",
            "Input: 31 n: 98 Resultado: 391901256\n",
            "Input: 32 n: 89 Resultado: 394288128\n",
            "Input: 33 n: 25 Resultado: 346627161\n",
            "Input: 34 n: 41 Resultado: 330083336\n",
            "Input: 35 n: 45 Resultado: 395015576\n",
            "Input: 36 n: 15 Resultado: 352184463\n",
            "Input: 37 n: 17 Resultado: 325617335\n",
            "Input: 38 n: 23 Resultado: 330201251\n",
            "Input: 39 n: 55 Resultado: 396200189\n",
            "Input: 40 n: 22 Resultado: 375536232\n",
            "Input: 41 n: 38 Resultado: 368248884\n",
            "Input: 42 n: 96 Resultado: 387120643\n",
            "Input: 43 n: 29 Resultado: 336893058\n",
            "Input: 44 n: 43 Resultado: 394479126\n",
            "Input: 45 n: 31 Resultado: 370985592\n",
            "Input: 46 n: 17 Resultado: 321892730\n",
            "Input: 47 n: 83 Resultado: 392668672\n",
            "Input: 48 n: 83 Resultado: 397900594\n",
            "Input: 49 n: 18 Resultado: 391043010\n",
            "Input: 50 n: 57 Resultado: 393227939\n",
            "Input: 51 n: 36 Resultado: 363378444\n",
            "Input: 52 n: 10 Resultado: 298267508\n",
            "Input: 53 n: 93 Resultado: 365187875\n",
            "Input: 54 n: 88 Resultado: 392554645\n",
            "Input: 55 n: 9 Resultado: 249726770\n",
            "Input: 56 n: 68 Resultado: 390064958\n",
            "Input: 57 n: 83 Resultado: 387948820\n",
            "Input: 58 n: 41 Resultado: 340878888\n",
            "Input: 59 n: 72 Resultado: 359209809\n",
            "Input: 60 n: 38 Resultado: 376269222\n",
            "Input: 61 n: 19 Resultado: 270586008\n",
            "Input: 62 n: 50 Resultado: 381225184\n",
            "Input: 63 n: 47 Resultado: 361124602\n",
            "Input: 64 n: 64 Resultado: 380053058\n",
            "Input: 65 n: 61 Resultado: 368478222\n",
            "Input: 66 n: 26 Resultado: 387832950\n",
            "Input: 67 n: 98 Resultado: 386298720\n",
            "Input: 68 n: 26 Resultado: 352354896\n",
            "Input: 69 n: 4 Resultado: 163779000\n",
            "Input: 70 n: 47 Resultado: 393960972\n",
            "Input: 71 n: 11 Resultado: 357237280\n",
            "Input: 72 n: 77 Resultado: 392118579\n",
            "Input: 73 n: 69 Resultado: 363908825\n",
            "Input: 74 n: 15 Resultado: 338202993\n",
            "Input: 75 n: 20 Resultado: 354281228\n",
            "Input: 76 n: 68 Resultado: 306494793\n",
            "Input: 77 n: 42 Resultado: 387537969\n",
            "Input: 78 n: 45 Resultado: 397104444\n",
            "Input: 79 n: 50 Resultado: 374547152\n",
            "Input: 80 n: 66 Resultado: 384027280\n",
            "Input: 81 n: 97 Resultado: 394141584\n",
            "Input: 82 n: 85 Resultado: 389923072\n",
            "Input: 83 n: 31 Resultado: 383882049\n",
            "Input: 84 n: 99 Resultado: 385195720\n",
            "Input: 85 n: 22 Resultado: 369731048\n",
            "Input: 86 n: 41 Resultado: 363883782\n",
            "Input: 87 n: 1 Resultado: 0\n",
            "Input: 88 n: 2 Resultado: 16778164\n",
            "Input: 89 n: 82 Resultado: 387829920\n",
            "Input: 90 n: 48 Resultado: 381486555\n",
            "Input: 91 n: 56 Resultado: 368946364\n",
            "Input: 92 n: 83 Resultado: 386581087\n",
            "Input: 93 n: 55 Resultado: 389425715\n",
            "Input: 94 n: 52 Resultado: 332195402\n",
            "Input: 95 n: 59 Resultado: 373006095\n",
            "Input: 96 n: 30 Resultado: 373532880\n",
            "Input: 97 n: 31 Resultado: 382870260\n",
            "Input: 98 n: 97 Resultado: 391366560\n",
            "Input: 99 n: 26 Resultado: 351806005\n",
            "Input: 100 n: 15 Resultado: 385975046\n",
            "-----------------------------------\n",
            "Running with input80.txt\n",
            "Input: 1 n: 97 Resultado: 387771143\n",
            "Input: 2 n: 15 Resultado: 321915825\n",
            "Input: 3 n: 17 Resultado: 350346304\n",
            "Input: 4 n: 49 Resultado: 368206830\n",
            "Input: 5 n: 87 Resultado: 393823925\n",
            "Input: 6 n: 31 Resultado: 389161374\n",
            "Input: 7 n: 31 Resultado: 368509433\n",
            "Input: 8 n: 91 Resultado: 391822218\n",
            "Input: 9 n: 99 Resultado: 395505000\n",
            "Input: 10 n: 74 Resultado: 392848188\n",
            "Input: 11 n: 89 Resultado: 391296899\n",
            "Input: 12 n: 84 Resultado: 396945546\n",
            "Input: 13 n: 73 Resultado: 386241972\n",
            "Input: 14 n: 64 Resultado: 399640077\n",
            "Input: 15 n: 10 Resultado: 299585152\n",
            "Input: 16 n: 85 Resultado: 373100287\n",
            "Input: 17 n: 8 Resultado: 355714902\n",
            "Input: 18 n: 60 Resultado: 381941586\n",
            "Input: 19 n: 87 Resultado: 385183408\n",
            "Input: 20 n: 99 Resultado: 390397632\n",
            "Input: 21 n: 76 Resultado: 354132862\n",
            "Input: 22 n: 37 Resultado: 339452178\n",
            "Input: 23 n: 18 Resultado: 319868703\n",
            "Input: 24 n: 97 Resultado: 396188700\n",
            "Input: 25 n: 88 Resultado: 394447872\n",
            "Input: 26 n: 61 Resultado: 369174058\n",
            "Input: 27 n: 14 Resultado: 336115152\n",
            "Input: 28 n: 38 Resultado: 343351491\n",
            "Input: 29 n: 38 Resultado: 375793280\n",
            "Input: 30 n: 61 Resultado: 397383690\n",
            "Input: 31 n: 98 Resultado: 391901256\n",
            "Input: 32 n: 89 Resultado: 394288128\n",
            "Input: 33 n: 25 Resultado: 346627161\n",
            "Input: 34 n: 41 Resultado: 330083336\n",
            "Input: 35 n: 45 Resultado: 395015576\n",
            "Input: 36 n: 15 Resultado: 352184463\n",
            "Input: 37 n: 17 Resultado: 325617335\n",
            "Input: 38 n: 23 Resultado: 330201251\n",
            "Input: 39 n: 55 Resultado: 396200189\n",
            "Input: 40 n: 22 Resultado: 375536232\n",
            "Input: 41 n: 38 Resultado: 368248884\n",
            "Input: 42 n: 96 Resultado: 387120643\n",
            "Input: 43 n: 29 Resultado: 336893058\n",
            "Input: 44 n: 43 Resultado: 394479126\n",
            "Input: 45 n: 31 Resultado: 370985592\n",
            "Input: 46 n: 17 Resultado: 321892730\n",
            "Input: 47 n: 83 Resultado: 392668672\n",
            "Input: 48 n: 83 Resultado: 397900594\n",
            "Input: 49 n: 18 Resultado: 391043010\n",
            "Input: 50 n: 57 Resultado: 393227939\n",
            "Input: 51 n: 36 Resultado: 363378444\n",
            "Input: 52 n: 10 Resultado: 298267508\n",
            "Input: 53 n: 93 Resultado: 365187875\n",
            "Input: 54 n: 88 Resultado: 392554645\n",
            "Input: 55 n: 9 Resultado: 249726770\n",
            "Input: 56 n: 68 Resultado: 390064958\n",
            "Input: 57 n: 83 Resultado: 387948820\n",
            "Input: 58 n: 41 Resultado: 340878888\n",
            "Input: 59 n: 72 Resultado: 359209809\n",
            "Input: 60 n: 38 Resultado: 376269222\n",
            "Input: 61 n: 19 Resultado: 270586008\n",
            "Input: 62 n: 50 Resultado: 381225184\n",
            "Input: 63 n: 47 Resultado: 361124602\n",
            "Input: 64 n: 64 Resultado: 380053058\n",
            "Input: 65 n: 61 Resultado: 368478222\n",
            "Input: 66 n: 26 Resultado: 387832950\n",
            "Input: 67 n: 98 Resultado: 386298720\n",
            "Input: 68 n: 26 Resultado: 352354896\n",
            "Input: 69 n: 4 Resultado: 163779000\n",
            "Input: 70 n: 47 Resultado: 393960972\n",
            "Input: 71 n: 11 Resultado: 357237280\n",
            "Input: 72 n: 77 Resultado: 392118579\n",
            "Input: 73 n: 69 Resultado: 363908825\n",
            "Input: 74 n: 15 Resultado: 338202993\n",
            "Input: 75 n: 20 Resultado: 354281228\n",
            "Input: 76 n: 68 Resultado: 306494793\n",
            "Input: 77 n: 42 Resultado: 387537969\n",
            "Input: 78 n: 45 Resultado: 397104444\n",
            "Input: 79 n: 50 Resultado: 374547152\n",
            "Input: 80 n: 66 Resultado: 384027280\n",
            "Input: 81 n: 97 Resultado: 394141584\n",
            "Input: 82 n: 85 Resultado: 389923072\n",
            "Input: 83 n: 31 Resultado: 383882049\n",
            "Input: 84 n: 99 Resultado: 385195720\n",
            "Input: 85 n: 22 Resultado: 369731048\n",
            "Input: 86 n: 41 Resultado: 363883782\n",
            "Input: 87 n: 1 Resultado: 0\n",
            "Input: 88 n: 2 Resultado: 16778164\n",
            "Input: 89 n: 82 Resultado: 387829920\n",
            "Input: 90 n: 48 Resultado: 381486555\n",
            "Input: 91 n: 56 Resultado: 368946364\n",
            "Input: 92 n: 83 Resultado: 386581087\n",
            "Input: 93 n: 55 Resultado: 389425715\n",
            "Input: 94 n: 52 Resultado: 332195402\n",
            "Input: 95 n: 59 Resultado: 373006095\n",
            "Input: 96 n: 30 Resultado: 373532880\n",
            "Input: 97 n: 31 Resultado: 382870260\n",
            "Input: 98 n: 97 Resultado: 391366560\n",
            "Input: 99 n: 26 Resultado: 351806005\n",
            "Input: 100 n: 15 Resultado: 385975046\n",
            "-----------------------------------\n",
            "Running with input81.txt\n",
            "Input: 1 n: 97 Resultado: 387771143\n",
            "Input: 2 n: 15 Resultado: 321915825\n",
            "Input: 3 n: 17 Resultado: 350346304\n",
            "Input: 4 n: 49 Resultado: 368206830\n",
            "Input: 5 n: 87 Resultado: 393823925\n",
            "Input: 6 n: 31 Resultado: 389161374\n",
            "Input: 7 n: 31 Resultado: 368509433\n",
            "Input: 8 n: 91 Resultado: 391822218\n",
            "Input: 9 n: 99 Resultado: 395505000\n",
            "Input: 10 n: 74 Resultado: 392848188\n",
            "Input: 11 n: 89 Resultado: 391296899\n",
            "Input: 12 n: 84 Resultado: 396945546\n",
            "Input: 13 n: 73 Resultado: 386241972\n",
            "Input: 14 n: 64 Resultado: 399640077\n",
            "Input: 15 n: 10 Resultado: 299585152\n",
            "Input: 16 n: 85 Resultado: 373100287\n",
            "Input: 17 n: 8 Resultado: 355714902\n",
            "Input: 18 n: 60 Resultado: 381941586\n",
            "Input: 19 n: 87 Resultado: 385183408\n",
            "Input: 20 n: 99 Resultado: 390397632\n",
            "Input: 21 n: 76 Resultado: 354132862\n",
            "Input: 22 n: 37 Resultado: 339452178\n",
            "Input: 23 n: 18 Resultado: 319868703\n",
            "Input: 24 n: 97 Resultado: 396188700\n",
            "Input: 25 n: 88 Resultado: 394447872\n",
            "Input: 26 n: 61 Resultado: 369174058\n",
            "Input: 27 n: 14 Resultado: 336115152\n",
            "Input: 28 n: 38 Resultado: 343351491\n",
            "Input: 29 n: 38 Resultado: 375793280\n",
            "Input: 30 n: 61 Resultado: 397383690\n",
            "Input: 31 n: 98 Resultado: 391901256\n",
            "Input: 32 n: 89 Resultado: 394288128\n",
            "Input: 33 n: 25 Resultado: 346627161\n",
            "Input: 34 n: 41 Resultado: 330083336\n",
            "Input: 35 n: 45 Resultado: 395015576\n",
            "Input: 36 n: 15 Resultado: 352184463\n",
            "Input: 37 n: 17 Resultado: 325617335\n",
            "Input: 38 n: 23 Resultado: 330201251\n",
            "Input: 39 n: 55 Resultado: 396200189\n",
            "Input: 40 n: 22 Resultado: 375536232\n",
            "Input: 41 n: 38 Resultado: 368248884\n",
            "Input: 42 n: 96 Resultado: 387120643\n",
            "Input: 43 n: 29 Resultado: 336893058\n",
            "Input: 44 n: 43 Resultado: 394479126\n",
            "Input: 45 n: 31 Resultado: 370985592\n",
            "Input: 46 n: 17 Resultado: 321892730\n",
            "Input: 47 n: 83 Resultado: 392668672\n",
            "Input: 48 n: 83 Resultado: 397900594\n",
            "Input: 49 n: 18 Resultado: 391043010\n",
            "Input: 50 n: 57 Resultado: 393227939\n",
            "Input: 51 n: 36 Resultado: 363378444\n",
            "Input: 52 n: 10 Resultado: 298267508\n",
            "Input: 53 n: 93 Resultado: 365187875\n",
            "Input: 54 n: 88 Resultado: 392554645\n",
            "Input: 55 n: 9 Resultado: 249726770\n",
            "Input: 56 n: 68 Resultado: 390064958\n",
            "Input: 57 n: 83 Resultado: 387948820\n",
            "Input: 58 n: 41 Resultado: 340878888\n",
            "Input: 59 n: 72 Resultado: 359209809\n",
            "Input: 60 n: 38 Resultado: 376269222\n",
            "Input: 61 n: 19 Resultado: 270586008\n",
            "Input: 62 n: 50 Resultado: 381225184\n",
            "Input: 63 n: 47 Resultado: 361124602\n",
            "Input: 64 n: 64 Resultado: 380053058\n",
            "Input: 65 n: 61 Resultado: 368478222\n",
            "Input: 66 n: 26 Resultado: 387832950\n",
            "Input: 67 n: 98 Resultado: 386298720\n",
            "Input: 68 n: 26 Resultado: 352354896\n",
            "Input: 69 n: 4 Resultado: 163779000\n",
            "Input: 70 n: 47 Resultado: 393960972\n",
            "Input: 71 n: 11 Resultado: 357237280\n",
            "Input: 72 n: 77 Resultado: 392118579\n",
            "Input: 73 n: 69 Resultado: 363908825\n",
            "Input: 74 n: 15 Resultado: 338202993\n",
            "Input: 75 n: 20 Resultado: 354281228\n",
            "Input: 76 n: 68 Resultado: 306494793\n",
            "Input: 77 n: 42 Resultado: 387537969\n",
            "Input: 78 n: 45 Resultado: 397104444\n",
            "Input: 79 n: 50 Resultado: 374547152\n",
            "Input: 80 n: 66 Resultado: 384027280\n",
            "Input: 81 n: 97 Resultado: 394141584\n",
            "Input: 82 n: 85 Resultado: 389923072\n",
            "Input: 83 n: 31 Resultado: 383882049\n",
            "Input: 84 n: 99 Resultado: 385195720\n",
            "Input: 85 n: 22 Resultado: 369731048\n",
            "Input: 86 n: 41 Resultado: 363883782\n",
            "Input: 87 n: 1 Resultado: 0\n",
            "Input: 88 n: 2 Resultado: 16778164\n",
            "Input: 89 n: 82 Resultado: 387829920\n",
            "Input: 90 n: 48 Resultado: 381486555\n",
            "Input: 91 n: 56 Resultado: 368946364\n",
            "Input: 92 n: 83 Resultado: 386581087\n",
            "Input: 93 n: 55 Resultado: 389425715\n",
            "Input: 94 n: 52 Resultado: 332195402\n",
            "Input: 95 n: 59 Resultado: 373006095\n",
            "Input: 96 n: 30 Resultado: 373532880\n",
            "Input: 97 n: 31 Resultado: 382870260\n",
            "Input: 98 n: 97 Resultado: 391366560\n",
            "Input: 99 n: 26 Resultado: 351806005\n",
            "Input: 100 n: 15 Resultado: 385975046\n",
            "-----------------------------------\n",
            "Running with input82.txt\n",
            "Input: 1 n: 97 Resultado: 387771143\n",
            "Input: 2 n: 15 Resultado: 321915825\n",
            "Input: 3 n: 17 Resultado: 350346304\n",
            "Input: 4 n: 49 Resultado: 368206830\n",
            "Input: 5 n: 87 Resultado: 393823925\n",
            "Input: 6 n: 31 Resultado: 389161374\n",
            "Input: 7 n: 31 Resultado: 368509433\n",
            "Input: 8 n: 91 Resultado: 391822218\n",
            "Input: 9 n: 99 Resultado: 395505000\n",
            "Input: 10 n: 74 Resultado: 392848188\n",
            "Input: 11 n: 89 Resultado: 391296899\n",
            "Input: 12 n: 84 Resultado: 396945546\n",
            "Input: 13 n: 73 Resultado: 386241972\n",
            "Input: 14 n: 64 Resultado: 399640077\n",
            "Input: 15 n: 10 Resultado: 299585152\n",
            "Input: 16 n: 85 Resultado: 373100287\n",
            "Input: 17 n: 8 Resultado: 355714902\n",
            "Input: 18 n: 60 Resultado: 381941586\n",
            "Input: 19 n: 87 Resultado: 385183408\n",
            "Input: 20 n: 99 Resultado: 390397632\n",
            "Input: 21 n: 76 Resultado: 354132862\n",
            "Input: 22 n: 37 Resultado: 339452178\n",
            "Input: 23 n: 18 Resultado: 319868703\n",
            "Input: 24 n: 97 Resultado: 396188700\n",
            "Input: 25 n: 88 Resultado: 394447872\n",
            "Input: 26 n: 61 Resultado: 369174058\n",
            "Input: 27 n: 14 Resultado: 336115152\n",
            "Input: 28 n: 38 Resultado: 343351491\n",
            "Input: 29 n: 38 Resultado: 375793280\n",
            "Input: 30 n: 61 Resultado: 397383690\n",
            "Input: 31 n: 98 Resultado: 391901256\n",
            "Input: 32 n: 89 Resultado: 394288128\n",
            "Input: 33 n: 25 Resultado: 346627161\n",
            "Input: 34 n: 41 Resultado: 330083336\n",
            "Input: 35 n: 45 Resultado: 395015576\n",
            "Input: 36 n: 15 Resultado: 352184463\n",
            "Input: 37 n: 17 Resultado: 325617335\n",
            "Input: 38 n: 23 Resultado: 330201251\n",
            "Input: 39 n: 55 Resultado: 396200189\n",
            "Input: 40 n: 22 Resultado: 375536232\n",
            "Input: 41 n: 38 Resultado: 368248884\n",
            "Input: 42 n: 96 Resultado: 387120643\n",
            "Input: 43 n: 29 Resultado: 336893058\n",
            "Input: 44 n: 43 Resultado: 394479126\n",
            "Input: 45 n: 31 Resultado: 370985592\n",
            "Input: 46 n: 17 Resultado: 321892730\n",
            "Input: 47 n: 83 Resultado: 392668672\n",
            "Input: 48 n: 83 Resultado: 397900594\n",
            "Input: 49 n: 18 Resultado: 391043010\n",
            "Input: 50 n: 57 Resultado: 393227939\n",
            "Input: 51 n: 36 Resultado: 363378444\n",
            "Input: 52 n: 10 Resultado: 298267508\n",
            "Input: 53 n: 93 Resultado: 365187875\n",
            "Input: 54 n: 88 Resultado: 392554645\n",
            "Input: 55 n: 9 Resultado: 249726770\n",
            "Input: 56 n: 68 Resultado: 390064958\n",
            "Input: 57 n: 83 Resultado: 387948820\n",
            "Input: 58 n: 41 Resultado: 340878888\n",
            "Input: 59 n: 72 Resultado: 359209809\n",
            "Input: 60 n: 38 Resultado: 376269222\n",
            "Input: 61 n: 19 Resultado: 270586008\n",
            "Input: 62 n: 50 Resultado: 381225184\n",
            "Input: 63 n: 47 Resultado: 361124602\n",
            "Input: 64 n: 64 Resultado: 380053058\n",
            "Input: 65 n: 61 Resultado: 368478222\n",
            "Input: 66 n: 26 Resultado: 387832950\n",
            "Input: 67 n: 98 Resultado: 386298720\n",
            "Input: 68 n: 26 Resultado: 352354896\n",
            "Input: 69 n: 4 Resultado: 163779000\n",
            "Input: 70 n: 47 Resultado: 393960972\n",
            "Input: 71 n: 11 Resultado: 357237280\n",
            "Input: 72 n: 77 Resultado: 392118579\n",
            "Input: 73 n: 69 Resultado: 363908825\n",
            "Input: 74 n: 15 Resultado: 338202993\n",
            "Input: 75 n: 20 Resultado: 354281228\n",
            "Input: 76 n: 68 Resultado: 306494793\n",
            "Input: 77 n: 42 Resultado: 387537969\n",
            "Input: 78 n: 45 Resultado: 397104444\n",
            "Input: 79 n: 50 Resultado: 374547152\n",
            "Input: 80 n: 66 Resultado: 384027280\n",
            "Input: 81 n: 97 Resultado: 394141584\n",
            "Input: 82 n: 85 Resultado: 389923072\n",
            "Input: 83 n: 31 Resultado: 383882049\n",
            "Input: 84 n: 99 Resultado: 385195720\n",
            "Input: 85 n: 22 Resultado: 369731048\n",
            "Input: 86 n: 41 Resultado: 363883782\n",
            "Input: 87 n: 1 Resultado: 0\n",
            "Input: 88 n: 2 Resultado: 16778164\n",
            "Input: 89 n: 82 Resultado: 387829920\n",
            "Input: 90 n: 48 Resultado: 381486555\n",
            "Input: 91 n: 56 Resultado: 368946364\n",
            "Input: 92 n: 83 Resultado: 386581087\n",
            "Input: 93 n: 55 Resultado: 389425715\n",
            "Input: 94 n: 52 Resultado: 332195402\n",
            "Input: 95 n: 59 Resultado: 373006095\n",
            "Input: 96 n: 30 Resultado: 373532880\n",
            "Input: 97 n: 31 Resultado: 382870260\n",
            "Input: 98 n: 97 Resultado: 391366560\n",
            "Input: 99 n: 26 Resultado: 351806005\n",
            "Input: 100 n: 15 Resultado: 385975046\n",
            "-----------------------------------\n",
            "Running with input83.txt\n",
            "Input: 1 n: 97 Resultado: 387771143\n",
            "Input: 2 n: 15 Resultado: 321915825\n",
            "Input: 3 n: 17 Resultado: 350346304\n",
            "Input: 4 n: 49 Resultado: 368206830\n",
            "Input: 5 n: 87 Resultado: 393823925\n",
            "Input: 6 n: 31 Resultado: 389161374\n",
            "Input: 7 n: 31 Resultado: 368509433\n",
            "Input: 8 n: 91 Resultado: 391822218\n",
            "Input: 9 n: 99 Resultado: 395505000\n",
            "Input: 10 n: 74 Resultado: 392848188\n",
            "Input: 11 n: 89 Resultado: 391296899\n",
            "Input: 12 n: 84 Resultado: 396945546\n",
            "Input: 13 n: 73 Resultado: 386241972\n",
            "Input: 14 n: 64 Resultado: 399640077\n",
            "Input: 15 n: 10 Resultado: 299585152\n",
            "Input: 16 n: 85 Resultado: 373100287\n",
            "Input: 17 n: 8 Resultado: 355714902\n",
            "Input: 18 n: 60 Resultado: 381941586\n",
            "Input: 19 n: 87 Resultado: 385183408\n",
            "Input: 20 n: 99 Resultado: 390397632\n",
            "Input: 21 n: 76 Resultado: 354132862\n",
            "Input: 22 n: 37 Resultado: 339452178\n",
            "Input: 23 n: 18 Resultado: 319868703\n",
            "Input: 24 n: 97 Resultado: 396188700\n",
            "Input: 25 n: 88 Resultado: 394447872\n",
            "Input: 26 n: 61 Resultado: 369174058\n",
            "Input: 27 n: 14 Resultado: 336115152\n",
            "Input: 28 n: 38 Resultado: 343351491\n",
            "Input: 29 n: 38 Resultado: 375793280\n",
            "Input: 30 n: 61 Resultado: 397383690\n",
            "Input: 31 n: 98 Resultado: 391901256\n",
            "Input: 32 n: 89 Resultado: 394288128\n",
            "Input: 33 n: 25 Resultado: 346627161\n",
            "Input: 34 n: 41 Resultado: 330083336\n",
            "Input: 35 n: 45 Resultado: 395015576\n",
            "Input: 36 n: 15 Resultado: 352184463\n",
            "Input: 37 n: 17 Resultado: 325617335\n",
            "Input: 38 n: 23 Resultado: 330201251\n",
            "Input: 39 n: 55 Resultado: 396200189\n",
            "Input: 40 n: 22 Resultado: 375536232\n",
            "Input: 41 n: 38 Resultado: 368248884\n",
            "Input: 42 n: 96 Resultado: 387120643\n",
            "Input: 43 n: 29 Resultado: 336893058\n",
            "Input: 44 n: 43 Resultado: 394479126\n",
            "Input: 45 n: 31 Resultado: 370985592\n",
            "Input: 46 n: 17 Resultado: 321892730\n",
            "Input: 47 n: 83 Resultado: 392668672\n",
            "Input: 48 n: 83 Resultado: 397900594\n",
            "Input: 49 n: 18 Resultado: 391043010\n",
            "Input: 50 n: 57 Resultado: 393227939\n",
            "Input: 51 n: 36 Resultado: 363378444\n",
            "Input: 52 n: 10 Resultado: 298267508\n",
            "Input: 53 n: 93 Resultado: 365187875\n",
            "Input: 54 n: 88 Resultado: 392554645\n",
            "Input: 55 n: 9 Resultado: 249726770\n",
            "Input: 56 n: 68 Resultado: 390064958\n",
            "Input: 57 n: 83 Resultado: 387948820\n",
            "Input: 58 n: 41 Resultado: 340878888\n",
            "Input: 59 n: 72 Resultado: 359209809\n",
            "Input: 60 n: 38 Resultado: 376269222\n",
            "Input: 61 n: 19 Resultado: 270586008\n",
            "Input: 62 n: 50 Resultado: 381225184\n",
            "Input: 63 n: 47 Resultado: 361124602\n",
            "Input: 64 n: 64 Resultado: 380053058\n",
            "Input: 65 n: 61 Resultado: 368478222\n",
            "Input: 66 n: 26 Resultado: 387832950\n",
            "Input: 67 n: 98 Resultado: 386298720\n",
            "Input: 68 n: 26 Resultado: 352354896\n",
            "Input: 69 n: 4 Resultado: 163779000\n",
            "Input: 70 n: 47 Resultado: 393960972\n",
            "Input: 71 n: 11 Resultado: 357237280\n",
            "Input: 72 n: 77 Resultado: 392118579\n",
            "Input: 73 n: 69 Resultado: 363908825\n",
            "Input: 74 n: 15 Resultado: 338202993\n",
            "Input: 75 n: 20 Resultado: 354281228\n",
            "Input: 76 n: 68 Resultado: 306494793\n",
            "Input: 77 n: 42 Resultado: 387537969\n",
            "Input: 78 n: 45 Resultado: 397104444\n",
            "Input: 79 n: 50 Resultado: 374547152\n",
            "Input: 80 n: 66 Resultado: 384027280\n",
            "Input: 81 n: 97 Resultado: 394141584\n",
            "Input: 82 n: 85 Resultado: 389923072\n",
            "Input: 83 n: 31 Resultado: 383882049\n",
            "Input: 84 n: 99 Resultado: 385195720\n",
            "Input: 85 n: 22 Resultado: 369731048\n",
            "Input: 86 n: 41 Resultado: 363883782\n",
            "Input: 87 n: 1 Resultado: 0\n",
            "Input: 88 n: 2 Resultado: 16778164\n",
            "Input: 89 n: 82 Resultado: 387829920\n",
            "Input: 90 n: 48 Resultado: 381486555\n",
            "Input: 91 n: 56 Resultado: 368946364\n",
            "Input: 92 n: 83 Resultado: 386581087\n",
            "Input: 93 n: 55 Resultado: 389425715\n",
            "Input: 94 n: 52 Resultado: 332195402\n",
            "Input: 95 n: 59 Resultado: 373006095\n",
            "Input: 96 n: 30 Resultado: 373532880\n",
            "Input: 97 n: 31 Resultado: 382870260\n",
            "Input: 98 n: 97 Resultado: 391366560\n",
            "Input: 99 n: 26 Resultado: 351806005\n",
            "Input: 100 n: 15 Resultado: 385975046\n",
            "-----------------------------------\n",
            "Running with input84.txt\n",
            "Input: 1 n: 97 Resultado: 387771143\n",
            "Input: 2 n: 15 Resultado: 321915825\n",
            "Input: 3 n: 17 Resultado: 350346304\n",
            "Input: 4 n: 49 Resultado: 368206830\n",
            "Input: 5 n: 87 Resultado: 393823925\n",
            "Input: 6 n: 31 Resultado: 389161374\n",
            "Input: 7 n: 31 Resultado: 368509433\n",
            "Input: 8 n: 91 Resultado: 391822218\n",
            "Input: 9 n: 99 Resultado: 395505000\n",
            "Input: 10 n: 74 Resultado: 392848188\n",
            "Input: 11 n: 89 Resultado: 391296899\n",
            "Input: 12 n: 84 Resultado: 396945546\n",
            "Input: 13 n: 73 Resultado: 386241972\n",
            "Input: 14 n: 64 Resultado: 399640077\n",
            "Input: 15 n: 10 Resultado: 299585152\n",
            "Input: 16 n: 85 Resultado: 373100287\n",
            "Input: 17 n: 8 Resultado: 355714902\n",
            "Input: 18 n: 60 Resultado: 381941586\n",
            "Input: 19 n: 87 Resultado: 385183408\n",
            "Input: 20 n: 99 Resultado: 390397632\n",
            "Input: 21 n: 76 Resultado: 354132862\n",
            "Input: 22 n: 37 Resultado: 339452178\n",
            "Input: 23 n: 18 Resultado: 319868703\n",
            "Input: 24 n: 97 Resultado: 396188700\n",
            "Input: 25 n: 88 Resultado: 394447872\n",
            "Input: 26 n: 61 Resultado: 369174058\n",
            "Input: 27 n: 14 Resultado: 336115152\n",
            "Input: 28 n: 38 Resultado: 343351491\n",
            "Input: 29 n: 38 Resultado: 375793280\n",
            "Input: 30 n: 61 Resultado: 397383690\n",
            "Input: 31 n: 98 Resultado: 391901256\n",
            "Input: 32 n: 89 Resultado: 394288128\n",
            "Input: 33 n: 25 Resultado: 346627161\n",
            "Input: 34 n: 41 Resultado: 330083336\n",
            "Input: 35 n: 45 Resultado: 395015576\n",
            "Input: 36 n: 15 Resultado: 352184463\n",
            "Input: 37 n: 17 Resultado: 325617335\n",
            "Input: 38 n: 23 Resultado: 330201251\n",
            "Input: 39 n: 55 Resultado: 396200189\n",
            "Input: 40 n: 22 Resultado: 375536232\n",
            "Input: 41 n: 38 Resultado: 368248884\n",
            "Input: 42 n: 96 Resultado: 387120643\n",
            "Input: 43 n: 29 Resultado: 336893058\n",
            "Input: 44 n: 43 Resultado: 394479126\n",
            "Input: 45 n: 31 Resultado: 370985592\n",
            "Input: 46 n: 17 Resultado: 321892730\n",
            "Input: 47 n: 83 Resultado: 392668672\n",
            "Input: 48 n: 83 Resultado: 397900594\n",
            "Input: 49 n: 18 Resultado: 391043010\n",
            "Input: 50 n: 57 Resultado: 393227939\n",
            "Input: 51 n: 36 Resultado: 363378444\n",
            "Input: 52 n: 10 Resultado: 298267508\n",
            "Input: 53 n: 93 Resultado: 365187875\n",
            "Input: 54 n: 88 Resultado: 392554645\n",
            "Input: 55 n: 9 Resultado: 249726770\n",
            "Input: 56 n: 68 Resultado: 390064958\n",
            "Input: 57 n: 83 Resultado: 387948820\n",
            "Input: 58 n: 41 Resultado: 340878888\n",
            "Input: 59 n: 72 Resultado: 359209809\n",
            "Input: 60 n: 38 Resultado: 376269222\n",
            "Input: 61 n: 19 Resultado: 270586008\n",
            "Input: 62 n: 50 Resultado: 381225184\n",
            "Input: 63 n: 47 Resultado: 361124602\n",
            "Input: 64 n: 64 Resultado: 380053058\n",
            "Input: 65 n: 61 Resultado: 368478222\n",
            "Input: 66 n: 26 Resultado: 387832950\n",
            "Input: 67 n: 98 Resultado: 386298720\n",
            "Input: 68 n: 26 Resultado: 352354896\n",
            "Input: 69 n: 4 Resultado: 163779000\n",
            "Input: 70 n: 47 Resultado: 393960972\n",
            "Input: 71 n: 11 Resultado: 357237280\n",
            "Input: 72 n: 77 Resultado: 392118579\n",
            "Input: 73 n: 69 Resultado: 363908825\n",
            "Input: 74 n: 15 Resultado: 338202993\n",
            "Input: 75 n: 20 Resultado: 354281228\n",
            "Input: 76 n: 68 Resultado: 306494793\n",
            "Input: 77 n: 42 Resultado: 387537969\n",
            "Input: 78 n: 45 Resultado: 397104444\n",
            "Input: 79 n: 50 Resultado: 374547152\n",
            "Input: 80 n: 66 Resultado: 384027280\n",
            "Input: 81 n: 97 Resultado: 394141584\n",
            "Input: 82 n: 85 Resultado: 389923072\n",
            "Input: 83 n: 31 Resultado: 383882049\n",
            "Input: 84 n: 99 Resultado: 385195720\n",
            "Input: 85 n: 22 Resultado: 369731048\n",
            "Input: 86 n: 41 Resultado: 363883782\n",
            "Input: 87 n: 1 Resultado: 0\n",
            "Input: 88 n: 2 Resultado: 16778164\n",
            "Input: 89 n: 82 Resultado: 387829920\n",
            "Input: 90 n: 48 Resultado: 381486555\n",
            "Input: 91 n: 56 Resultado: 368946364\n",
            "Input: 92 n: 83 Resultado: 386581087\n",
            "Input: 93 n: 55 Resultado: 389425715\n",
            "Input: 94 n: 52 Resultado: 332195402\n",
            "Input: 95 n: 59 Resultado: 373006095\n",
            "Input: 96 n: 30 Resultado: 373532880\n",
            "Input: 97 n: 31 Resultado: 382870260\n",
            "Input: 98 n: 97 Resultado: 391366560\n",
            "Input: 99 n: 26 Resultado: 351806005\n",
            "Input: 100 n: 15 Resultado: 385975046\n",
            "-----------------------------------\n",
            "Running with input85.txt\n",
            "Input: 1 n: 97 Resultado: 387771143\n",
            "Input: 2 n: 15 Resultado: 321915825\n",
            "Input: 3 n: 17 Resultado: 350346304\n",
            "Input: 4 n: 49 Resultado: 368206830\n",
            "Input: 5 n: 87 Resultado: 393823925\n",
            "Input: 6 n: 31 Resultado: 389161374\n",
            "Input: 7 n: 31 Resultado: 368509433\n",
            "Input: 8 n: 91 Resultado: 391822218\n",
            "Input: 9 n: 99 Resultado: 395505000\n",
            "Input: 10 n: 74 Resultado: 392848188\n",
            "Input: 11 n: 89 Resultado: 391296899\n",
            "Input: 12 n: 84 Resultado: 396945546\n",
            "Input: 13 n: 73 Resultado: 386241972\n",
            "Input: 14 n: 64 Resultado: 399640077\n",
            "Input: 15 n: 10 Resultado: 299585152\n",
            "Input: 16 n: 85 Resultado: 373100287\n",
            "Input: 17 n: 8 Resultado: 355714902\n",
            "Input: 18 n: 60 Resultado: 381941586\n",
            "Input: 19 n: 87 Resultado: 385183408\n",
            "Input: 20 n: 99 Resultado: 390397632\n",
            "Input: 21 n: 76 Resultado: 354132862\n",
            "Input: 22 n: 37 Resultado: 339452178\n",
            "Input: 23 n: 18 Resultado: 319868703\n",
            "Input: 24 n: 97 Resultado: 396188700\n",
            "Input: 25 n: 88 Resultado: 394447872\n",
            "Input: 26 n: 61 Resultado: 369174058\n",
            "Input: 27 n: 14 Resultado: 336115152\n",
            "Input: 28 n: 38 Resultado: 343351491\n",
            "Input: 29 n: 38 Resultado: 375793280\n",
            "Input: 30 n: 61 Resultado: 397383690\n",
            "Input: 31 n: 98 Resultado: 391901256\n",
            "Input: 32 n: 89 Resultado: 394288128\n",
            "Input: 33 n: 25 Resultado: 346627161\n",
            "Input: 34 n: 41 Resultado: 330083336\n",
            "Input: 35 n: 45 Resultado: 395015576\n",
            "Input: 36 n: 15 Resultado: 352184463\n",
            "Input: 37 n: 17 Resultado: 325617335\n",
            "Input: 38 n: 23 Resultado: 330201251\n",
            "Input: 39 n: 55 Resultado: 396200189\n",
            "Input: 40 n: 22 Resultado: 375536232\n",
            "Input: 41 n: 38 Resultado: 368248884\n",
            "Input: 42 n: 96 Resultado: 387120643\n",
            "Input: 43 n: 29 Resultado: 336893058\n",
            "Input: 44 n: 43 Resultado: 394479126\n",
            "Input: 45 n: 31 Resultado: 370985592\n",
            "Input: 46 n: 17 Resultado: 321892730\n",
            "Input: 47 n: 83 Resultado: 392668672\n",
            "Input: 48 n: 83 Resultado: 397900594\n",
            "Input: 49 n: 18 Resultado: 391043010\n",
            "Input: 50 n: 57 Resultado: 393227939\n",
            "Input: 51 n: 36 Resultado: 363378444\n",
            "Input: 52 n: 10 Resultado: 298267508\n",
            "Input: 53 n: 93 Resultado: 365187875\n",
            "Input: 54 n: 88 Resultado: 392554645\n",
            "Input: 55 n: 9 Resultado: 249726770\n",
            "Input: 56 n: 68 Resultado: 390064958\n",
            "Input: 57 n: 83 Resultado: 387948820\n",
            "Input: 58 n: 41 Resultado: 340878888\n",
            "Input: 59 n: 72 Resultado: 359209809\n",
            "Input: 60 n: 38 Resultado: 376269222\n",
            "Input: 61 n: 19 Resultado: 270586008\n",
            "Input: 62 n: 50 Resultado: 381225184\n",
            "Input: 63 n: 47 Resultado: 361124602\n",
            "Input: 64 n: 64 Resultado: 380053058\n",
            "Input: 65 n: 61 Resultado: 368478222\n",
            "Input: 66 n: 26 Resultado: 387832950\n",
            "Input: 67 n: 98 Resultado: 386298720\n",
            "Input: 68 n: 26 Resultado: 352354896\n",
            "Input: 69 n: 4 Resultado: 163779000\n",
            "Input: 70 n: 47 Resultado: 393960972\n",
            "Input: 71 n: 11 Resultado: 357237280\n",
            "Input: 72 n: 77 Resultado: 392118579\n",
            "Input: 73 n: 69 Resultado: 363908825\n",
            "Input: 74 n: 15 Resultado: 338202993\n",
            "Input: 75 n: 20 Resultado: 354281228\n",
            "Input: 76 n: 68 Resultado: 306494793\n",
            "Input: 77 n: 42 Resultado: 387537969\n",
            "Input: 78 n: 45 Resultado: 397104444\n",
            "Input: 79 n: 50 Resultado: 374547152\n",
            "Input: 80 n: 66 Resultado: 384027280\n",
            "Input: 81 n: 97 Resultado: 394141584\n",
            "Input: 82 n: 85 Resultado: 389923072\n",
            "Input: 83 n: 31 Resultado: 383882049\n",
            "Input: 84 n: 99 Resultado: 385195720\n",
            "Input: 85 n: 22 Resultado: 369731048\n",
            "Input: 86 n: 41 Resultado: 363883782\n",
            "Input: 87 n: 1 Resultado: 0\n",
            "Input: 88 n: 2 Resultado: 16778164\n",
            "Input: 89 n: 82 Resultado: 387829920\n",
            "Input: 90 n: 48 Resultado: 381486555\n",
            "Input: 91 n: 56 Resultado: 368946364\n",
            "Input: 92 n: 83 Resultado: 386581087\n",
            "Input: 93 n: 55 Resultado: 389425715\n",
            "Input: 94 n: 52 Resultado: 332195402\n",
            "Input: 95 n: 59 Resultado: 373006095\n",
            "Input: 96 n: 30 Resultado: 373532880\n",
            "Input: 97 n: 31 Resultado: 382870260\n",
            "Input: 98 n: 97 Resultado: 391366560\n",
            "Input: 99 n: 26 Resultado: 351806005\n",
            "Input: 100 n: 15 Resultado: 385975046\n",
            "-----------------------------------\n",
            "Running with input86.txt\n",
            "Input: 1 n: 97 Resultado: 387771143\n",
            "Input: 2 n: 15 Resultado: 321915825\n",
            "Input: 3 n: 17 Resultado: 350346304\n",
            "Input: 4 n: 49 Resultado: 368206830\n",
            "Input: 5 n: 87 Resultado: 393823925\n",
            "Input: 6 n: 31 Resultado: 389161374\n",
            "Input: 7 n: 31 Resultado: 368509433\n",
            "Input: 8 n: 91 Resultado: 391822218\n",
            "Input: 9 n: 99 Resultado: 395505000\n",
            "Input: 10 n: 74 Resultado: 392848188\n",
            "Input: 11 n: 89 Resultado: 391296899\n",
            "Input: 12 n: 84 Resultado: 396945546\n",
            "Input: 13 n: 73 Resultado: 386241972\n",
            "Input: 14 n: 64 Resultado: 399640077\n",
            "Input: 15 n: 10 Resultado: 299585152\n",
            "Input: 16 n: 85 Resultado: 373100287\n",
            "Input: 17 n: 8 Resultado: 355714902\n",
            "Input: 18 n: 60 Resultado: 381941586\n",
            "Input: 19 n: 87 Resultado: 385183408\n",
            "Input: 20 n: 99 Resultado: 390397632\n",
            "Input: 21 n: 76 Resultado: 354132862\n",
            "Input: 22 n: 37 Resultado: 339452178\n",
            "Input: 23 n: 18 Resultado: 319868703\n",
            "Input: 24 n: 97 Resultado: 396188700\n",
            "Input: 25 n: 88 Resultado: 394447872\n",
            "Input: 26 n: 61 Resultado: 369174058\n",
            "Input: 27 n: 14 Resultado: 336115152\n",
            "Input: 28 n: 38 Resultado: 343351491\n",
            "Input: 29 n: 38 Resultado: 375793280\n",
            "Input: 30 n: 61 Resultado: 397383690\n",
            "Input: 31 n: 98 Resultado: 391901256\n",
            "Input: 32 n: 89 Resultado: 394288128\n",
            "Input: 33 n: 25 Resultado: 346627161\n",
            "Input: 34 n: 41 Resultado: 330083336\n",
            "Input: 35 n: 45 Resultado: 395015576\n",
            "Input: 36 n: 15 Resultado: 352184463\n",
            "Input: 37 n: 17 Resultado: 325617335\n",
            "Input: 38 n: 23 Resultado: 330201251\n",
            "Input: 39 n: 55 Resultado: 396200189\n",
            "Input: 40 n: 22 Resultado: 375536232\n",
            "Input: 41 n: 38 Resultado: 368248884\n",
            "Input: 42 n: 96 Resultado: 387120643\n",
            "Input: 43 n: 29 Resultado: 336893058\n",
            "Input: 44 n: 43 Resultado: 394479126\n",
            "Input: 45 n: 31 Resultado: 370985592\n",
            "Input: 46 n: 17 Resultado: 321892730\n",
            "Input: 47 n: 83 Resultado: 392668672\n",
            "Input: 48 n: 83 Resultado: 397900594\n",
            "Input: 49 n: 18 Resultado: 391043010\n",
            "Input: 50 n: 57 Resultado: 393227939\n",
            "Input: 51 n: 36 Resultado: 363378444\n",
            "Input: 52 n: 10 Resultado: 298267508\n",
            "Input: 53 n: 93 Resultado: 365187875\n",
            "Input: 54 n: 88 Resultado: 392554645\n",
            "Input: 55 n: 9 Resultado: 249726770\n",
            "Input: 56 n: 68 Resultado: 390064958\n",
            "Input: 57 n: 83 Resultado: 387948820\n",
            "Input: 58 n: 41 Resultado: 340878888\n",
            "Input: 59 n: 72 Resultado: 359209809\n",
            "Input: 60 n: 38 Resultado: 376269222\n",
            "Input: 61 n: 19 Resultado: 270586008\n",
            "Input: 62 n: 50 Resultado: 381225184\n",
            "Input: 63 n: 47 Resultado: 361124602\n",
            "Input: 64 n: 64 Resultado: 380053058\n",
            "Input: 65 n: 61 Resultado: 368478222\n",
            "Input: 66 n: 26 Resultado: 387832950\n",
            "Input: 67 n: 98 Resultado: 386298720\n",
            "Input: 68 n: 26 Resultado: 352354896\n",
            "Input: 69 n: 4 Resultado: 163779000\n",
            "Input: 70 n: 47 Resultado: 393960972\n",
            "Input: 71 n: 11 Resultado: 357237280\n",
            "Input: 72 n: 77 Resultado: 392118579\n",
            "Input: 73 n: 69 Resultado: 363908825\n",
            "Input: 74 n: 15 Resultado: 338202993\n",
            "Input: 75 n: 20 Resultado: 354281228\n",
            "Input: 76 n: 68 Resultado: 306494793\n",
            "Input: 77 n: 42 Resultado: 387537969\n",
            "Input: 78 n: 45 Resultado: 397104444\n",
            "Input: 79 n: 50 Resultado: 374547152\n",
            "Input: 80 n: 66 Resultado: 384027280\n",
            "Input: 81 n: 97 Resultado: 394141584\n",
            "Input: 82 n: 85 Resultado: 389923072\n",
            "Input: 83 n: 31 Resultado: 383882049\n",
            "Input: 84 n: 99 Resultado: 385195720\n",
            "Input: 85 n: 22 Resultado: 369731048\n",
            "Input: 86 n: 41 Resultado: 363883782\n",
            "Input: 87 n: 1 Resultado: 0\n",
            "Input: 88 n: 2 Resultado: 16778164\n",
            "Input: 89 n: 82 Resultado: 387829920\n",
            "Input: 90 n: 48 Resultado: 381486555\n",
            "Input: 91 n: 56 Resultado: 368946364\n",
            "Input: 92 n: 83 Resultado: 386581087\n",
            "Input: 93 n: 55 Resultado: 389425715\n",
            "Input: 94 n: 52 Resultado: 332195402\n",
            "Input: 95 n: 59 Resultado: 373006095\n",
            "Input: 96 n: 30 Resultado: 373532880\n",
            "Input: 97 n: 31 Resultado: 382870260\n",
            "Input: 98 n: 97 Resultado: 391366560\n",
            "Input: 99 n: 26 Resultado: 351806005\n",
            "Input: 100 n: 15 Resultado: 385975046\n",
            "-----------------------------------\n",
            "Running with input87.txt\n",
            "Input: 1 n: 97 Resultado: 387771143\n",
            "Input: 2 n: 15 Resultado: 321915825\n",
            "Input: 3 n: 17 Resultado: 350346304\n",
            "Input: 4 n: 49 Resultado: 368206830\n",
            "Input: 5 n: 87 Resultado: 393823925\n",
            "Input: 6 n: 31 Resultado: 389161374\n",
            "Input: 7 n: 31 Resultado: 368509433\n",
            "Input: 8 n: 91 Resultado: 391822218\n",
            "Input: 9 n: 99 Resultado: 395505000\n",
            "Input: 10 n: 74 Resultado: 392848188\n",
            "Input: 11 n: 89 Resultado: 391296899\n",
            "Input: 12 n: 84 Resultado: 396945546\n",
            "Input: 13 n: 73 Resultado: 386241972\n",
            "Input: 14 n: 64 Resultado: 399640077\n",
            "Input: 15 n: 10 Resultado: 299585152\n",
            "Input: 16 n: 85 Resultado: 373100287\n",
            "Input: 17 n: 8 Resultado: 355714902\n",
            "Input: 18 n: 60 Resultado: 381941586\n",
            "Input: 19 n: 87 Resultado: 385183408\n",
            "Input: 20 n: 99 Resultado: 390397632\n",
            "Input: 21 n: 76 Resultado: 354132862\n",
            "Input: 22 n: 37 Resultado: 339452178\n",
            "Input: 23 n: 18 Resultado: 319868703\n",
            "Input: 24 n: 97 Resultado: 396188700\n",
            "Input: 25 n: 88 Resultado: 394447872\n",
            "Input: 26 n: 61 Resultado: 369174058\n",
            "Input: 27 n: 14 Resultado: 336115152\n",
            "Input: 28 n: 38 Resultado: 343351491\n",
            "Input: 29 n: 38 Resultado: 375793280\n",
            "Input: 30 n: 61 Resultado: 397383690\n",
            "Input: 31 n: 98 Resultado: 391901256\n",
            "Input: 32 n: 89 Resultado: 394288128\n",
            "Input: 33 n: 25 Resultado: 346627161\n",
            "Input: 34 n: 41 Resultado: 330083336\n",
            "Input: 35 n: 45 Resultado: 395015576\n",
            "Input: 36 n: 15 Resultado: 352184463\n",
            "Input: 37 n: 17 Resultado: 325617335\n",
            "Input: 38 n: 23 Resultado: 330201251\n",
            "Input: 39 n: 55 Resultado: 396200189\n",
            "Input: 40 n: 22 Resultado: 375536232\n",
            "Input: 41 n: 38 Resultado: 368248884\n",
            "Input: 42 n: 96 Resultado: 387120643\n",
            "Input: 43 n: 29 Resultado: 336893058\n",
            "Input: 44 n: 43 Resultado: 394479126\n",
            "Input: 45 n: 31 Resultado: 370985592\n",
            "Input: 46 n: 17 Resultado: 321892730\n",
            "Input: 47 n: 83 Resultado: 392668672\n",
            "Input: 48 n: 83 Resultado: 397900594\n",
            "Input: 49 n: 18 Resultado: 391043010\n",
            "Input: 50 n: 57 Resultado: 393227939\n",
            "Input: 51 n: 36 Resultado: 363378444\n",
            "Input: 52 n: 10 Resultado: 298267508\n",
            "Input: 53 n: 93 Resultado: 365187875\n",
            "Input: 54 n: 88 Resultado: 392554645\n",
            "Input: 55 n: 9 Resultado: 249726770\n",
            "Input: 56 n: 68 Resultado: 390064958\n",
            "Input: 57 n: 83 Resultado: 387948820\n",
            "Input: 58 n: 41 Resultado: 340878888\n",
            "Input: 59 n: 72 Resultado: 359209809\n",
            "Input: 60 n: 38 Resultado: 376269222\n",
            "Input: 61 n: 19 Resultado: 270586008\n",
            "Input: 62 n: 50 Resultado: 381225184\n",
            "Input: 63 n: 47 Resultado: 361124602\n",
            "Input: 64 n: 64 Resultado: 380053058\n",
            "Input: 65 n: 61 Resultado: 368478222\n",
            "Input: 66 n: 26 Resultado: 387832950\n",
            "Input: 67 n: 98 Resultado: 386298720\n",
            "Input: 68 n: 26 Resultado: 352354896\n",
            "Input: 69 n: 4 Resultado: 163779000\n",
            "Input: 70 n: 47 Resultado: 393960972\n",
            "Input: 71 n: 11 Resultado: 357237280\n",
            "Input: 72 n: 77 Resultado: 392118579\n",
            "Input: 73 n: 69 Resultado: 363908825\n",
            "Input: 74 n: 15 Resultado: 338202993\n",
            "Input: 75 n: 20 Resultado: 354281228\n",
            "Input: 76 n: 68 Resultado: 306494793\n",
            "Input: 77 n: 42 Resultado: 387537969\n",
            "Input: 78 n: 45 Resultado: 397104444\n",
            "Input: 79 n: 50 Resultado: 374547152\n",
            "Input: 80 n: 66 Resultado: 384027280\n",
            "Input: 81 n: 97 Resultado: 394141584\n",
            "Input: 82 n: 85 Resultado: 389923072\n",
            "Input: 83 n: 31 Resultado: 383882049\n",
            "Input: 84 n: 99 Resultado: 385195720\n",
            "Input: 85 n: 22 Resultado: 369731048\n",
            "Input: 86 n: 41 Resultado: 363883782\n",
            "Input: 87 n: 1 Resultado: 0\n",
            "Input: 88 n: 2 Resultado: 16778164\n",
            "Input: 89 n: 82 Resultado: 387829920\n",
            "Input: 90 n: 48 Resultado: 381486555\n",
            "Input: 91 n: 56 Resultado: 368946364\n",
            "Input: 92 n: 83 Resultado: 386581087\n",
            "Input: 93 n: 55 Resultado: 389425715\n",
            "Input: 94 n: 52 Resultado: 332195402\n",
            "Input: 95 n: 59 Resultado: 373006095\n",
            "Input: 96 n: 30 Resultado: 373532880\n",
            "Input: 97 n: 31 Resultado: 382870260\n",
            "Input: 98 n: 97 Resultado: 391366560\n",
            "Input: 99 n: 26 Resultado: 351806005\n",
            "Input: 100 n: 15 Resultado: 385975046\n",
            "-----------------------------------\n",
            "Running with input88.txt\n",
            "Input: 1 n: 97 Resultado: 387771143\n",
            "Input: 2 n: 15 Resultado: 321915825\n",
            "Input: 3 n: 17 Resultado: 350346304\n",
            "Input: 4 n: 49 Resultado: 368206830\n",
            "Input: 5 n: 87 Resultado: 393823925\n",
            "Input: 6 n: 31 Resultado: 389161374\n",
            "Input: 7 n: 31 Resultado: 368509433\n",
            "Input: 8 n: 91 Resultado: 391822218\n",
            "Input: 9 n: 99 Resultado: 395505000\n",
            "Input: 10 n: 74 Resultado: 392848188\n",
            "Input: 11 n: 89 Resultado: 391296899\n",
            "Input: 12 n: 84 Resultado: 396945546\n",
            "Input: 13 n: 73 Resultado: 386241972\n",
            "Input: 14 n: 64 Resultado: 399640077\n",
            "Input: 15 n: 10 Resultado: 299585152\n",
            "Input: 16 n: 85 Resultado: 373100287\n",
            "Input: 17 n: 8 Resultado: 355714902\n",
            "Input: 18 n: 60 Resultado: 381941586\n",
            "Input: 19 n: 87 Resultado: 385183408\n",
            "Input: 20 n: 99 Resultado: 390397632\n",
            "Input: 21 n: 76 Resultado: 354132862\n",
            "Input: 22 n: 37 Resultado: 339452178\n",
            "Input: 23 n: 18 Resultado: 319868703\n",
            "Input: 24 n: 97 Resultado: 396188700\n",
            "Input: 25 n: 88 Resultado: 394447872\n",
            "Input: 26 n: 61 Resultado: 369174058\n",
            "Input: 27 n: 14 Resultado: 336115152\n",
            "Input: 28 n: 38 Resultado: 343351491\n",
            "Input: 29 n: 38 Resultado: 375793280\n",
            "Input: 30 n: 61 Resultado: 397383690\n",
            "Input: 31 n: 98 Resultado: 391901256\n",
            "Input: 32 n: 89 Resultado: 394288128\n",
            "Input: 33 n: 25 Resultado: 346627161\n",
            "Input: 34 n: 41 Resultado: 330083336\n",
            "Input: 35 n: 45 Resultado: 395015576\n",
            "Input: 36 n: 15 Resultado: 352184463\n",
            "Input: 37 n: 17 Resultado: 325617335\n",
            "Input: 38 n: 23 Resultado: 330201251\n",
            "Input: 39 n: 55 Resultado: 396200189\n",
            "Input: 40 n: 22 Resultado: 375536232\n",
            "Input: 41 n: 38 Resultado: 368248884\n",
            "Input: 42 n: 96 Resultado: 387120643\n",
            "Input: 43 n: 29 Resultado: 336893058\n",
            "Input: 44 n: 43 Resultado: 394479126\n",
            "Input: 45 n: 31 Resultado: 370985592\n",
            "Input: 46 n: 17 Resultado: 321892730\n",
            "Input: 47 n: 83 Resultado: 392668672\n",
            "Input: 48 n: 83 Resultado: 397900594\n",
            "Input: 49 n: 18 Resultado: 391043010\n",
            "Input: 50 n: 57 Resultado: 393227939\n",
            "Input: 51 n: 36 Resultado: 363378444\n",
            "Input: 52 n: 10 Resultado: 298267508\n",
            "Input: 53 n: 93 Resultado: 365187875\n",
            "Input: 54 n: 88 Resultado: 392554645\n",
            "Input: 55 n: 9 Resultado: 249726770\n",
            "Input: 56 n: 68 Resultado: 390064958\n",
            "Input: 57 n: 83 Resultado: 387948820\n",
            "Input: 58 n: 41 Resultado: 340878888\n",
            "Input: 59 n: 72 Resultado: 359209809\n",
            "Input: 60 n: 38 Resultado: 376269222\n",
            "Input: 61 n: 19 Resultado: 270586008\n",
            "Input: 62 n: 50 Resultado: 381225184\n",
            "Input: 63 n: 47 Resultado: 361124602\n",
            "Input: 64 n: 64 Resultado: 380053058\n",
            "Input: 65 n: 61 Resultado: 368478222\n",
            "Input: 66 n: 26 Resultado: 387832950\n",
            "Input: 67 n: 98 Resultado: 386298720\n",
            "Input: 68 n: 26 Resultado: 352354896\n",
            "Input: 69 n: 4 Resultado: 163779000\n",
            "Input: 70 n: 47 Resultado: 393960972\n",
            "Input: 71 n: 11 Resultado: 357237280\n",
            "Input: 72 n: 77 Resultado: 392118579\n",
            "Input: 73 n: 69 Resultado: 363908825\n",
            "Input: 74 n: 15 Resultado: 338202993\n",
            "Input: 75 n: 20 Resultado: 354281228\n",
            "Input: 76 n: 68 Resultado: 306494793\n",
            "Input: 77 n: 42 Resultado: 387537969\n",
            "Input: 78 n: 45 Resultado: 397104444\n",
            "Input: 79 n: 50 Resultado: 374547152\n",
            "Input: 80 n: 66 Resultado: 384027280\n",
            "Input: 81 n: 97 Resultado: 394141584\n",
            "Input: 82 n: 85 Resultado: 389923072\n",
            "Input: 83 n: 31 Resultado: 383882049\n",
            "Input: 84 n: 99 Resultado: 385195720\n",
            "Input: 85 n: 22 Resultado: 369731048\n",
            "Input: 86 n: 41 Resultado: 363883782\n",
            "Input: 87 n: 1 Resultado: 0\n",
            "Input: 88 n: 2 Resultado: 16778164\n",
            "Input: 89 n: 82 Resultado: 387829920\n",
            "Input: 90 n: 48 Resultado: 381486555\n",
            "Input: 91 n: 56 Resultado: 368946364\n",
            "Input: 92 n: 83 Resultado: 386581087\n",
            "Input: 93 n: 55 Resultado: 389425715\n",
            "Input: 94 n: 52 Resultado: 332195402\n",
            "Input: 95 n: 59 Resultado: 373006095\n",
            "Input: 96 n: 30 Resultado: 373532880\n",
            "Input: 97 n: 31 Resultado: 382870260\n",
            "Input: 98 n: 97 Resultado: 391366560\n",
            "Input: 99 n: 26 Resultado: 351806005\n",
            "Input: 100 n: 15 Resultado: 385975046\n",
            "-----------------------------------\n",
            "Running with input89.txt\n",
            "Input: 1 n: 97 Resultado: 387771143\n",
            "Input: 2 n: 15 Resultado: 321915825\n",
            "Input: 3 n: 17 Resultado: 350346304\n",
            "Input: 4 n: 49 Resultado: 368206830\n",
            "Input: 5 n: 87 Resultado: 393823925\n",
            "Input: 6 n: 31 Resultado: 389161374\n",
            "Input: 7 n: 31 Resultado: 368509433\n",
            "Input: 8 n: 91 Resultado: 391822218\n",
            "Input: 9 n: 99 Resultado: 395505000\n",
            "Input: 10 n: 74 Resultado: 392848188\n",
            "Input: 11 n: 89 Resultado: 391296899\n",
            "Input: 12 n: 84 Resultado: 396945546\n",
            "Input: 13 n: 73 Resultado: 386241972\n",
            "Input: 14 n: 64 Resultado: 399640077\n",
            "Input: 15 n: 10 Resultado: 299585152\n",
            "Input: 16 n: 85 Resultado: 373100287\n",
            "Input: 17 n: 8 Resultado: 355714902\n",
            "Input: 18 n: 60 Resultado: 381941586\n",
            "Input: 19 n: 87 Resultado: 385183408\n",
            "Input: 20 n: 99 Resultado: 390397632\n",
            "Input: 21 n: 76 Resultado: 354132862\n",
            "Input: 22 n: 37 Resultado: 339452178\n",
            "Input: 23 n: 18 Resultado: 319868703\n",
            "Input: 24 n: 97 Resultado: 396188700\n",
            "Input: 25 n: 88 Resultado: 394447872\n",
            "Input: 26 n: 61 Resultado: 369174058\n",
            "Input: 27 n: 14 Resultado: 336115152\n",
            "Input: 28 n: 38 Resultado: 343351491\n",
            "Input: 29 n: 38 Resultado: 375793280\n",
            "Input: 30 n: 61 Resultado: 397383690\n",
            "Input: 31 n: 98 Resultado: 391901256\n",
            "Input: 32 n: 89 Resultado: 394288128\n",
            "Input: 33 n: 25 Resultado: 346627161\n",
            "Input: 34 n: 41 Resultado: 330083336\n",
            "Input: 35 n: 45 Resultado: 395015576\n",
            "Input: 36 n: 15 Resultado: 352184463\n",
            "Input: 37 n: 17 Resultado: 325617335\n",
            "Input: 38 n: 23 Resultado: 330201251\n",
            "Input: 39 n: 55 Resultado: 396200189\n",
            "Input: 40 n: 22 Resultado: 375536232\n",
            "Input: 41 n: 38 Resultado: 368248884\n",
            "Input: 42 n: 96 Resultado: 387120643\n",
            "Input: 43 n: 29 Resultado: 336893058\n",
            "Input: 44 n: 43 Resultado: 394479126\n",
            "Input: 45 n: 31 Resultado: 370985592\n",
            "Input: 46 n: 17 Resultado: 321892730\n",
            "Input: 47 n: 83 Resultado: 392668672\n",
            "Input: 48 n: 83 Resultado: 397900594\n",
            "Input: 49 n: 18 Resultado: 391043010\n",
            "Input: 50 n: 57 Resultado: 393227939\n",
            "Input: 51 n: 36 Resultado: 363378444\n",
            "Input: 52 n: 10 Resultado: 298267508\n",
            "Input: 53 n: 93 Resultado: 365187875\n",
            "Input: 54 n: 88 Resultado: 392554645\n",
            "Input: 55 n: 9 Resultado: 249726770\n",
            "Input: 56 n: 68 Resultado: 390064958\n",
            "Input: 57 n: 83 Resultado: 387948820\n",
            "Input: 58 n: 41 Resultado: 340878888\n",
            "Input: 59 n: 72 Resultado: 359209809\n",
            "Input: 60 n: 38 Resultado: 376269222\n",
            "Input: 61 n: 19 Resultado: 270586008\n",
            "Input: 62 n: 50 Resultado: 381225184\n",
            "Input: 63 n: 47 Resultado: 361124602\n",
            "Input: 64 n: 64 Resultado: 380053058\n",
            "Input: 65 n: 61 Resultado: 368478222\n",
            "Input: 66 n: 26 Resultado: 387832950\n",
            "Input: 67 n: 98 Resultado: 386298720\n",
            "Input: 68 n: 26 Resultado: 352354896\n",
            "Input: 69 n: 4 Resultado: 163779000\n",
            "Input: 70 n: 47 Resultado: 393960972\n",
            "Input: 71 n: 11 Resultado: 357237280\n",
            "Input: 72 n: 77 Resultado: 392118579\n",
            "Input: 73 n: 69 Resultado: 363908825\n",
            "Input: 74 n: 15 Resultado: 338202993\n",
            "Input: 75 n: 20 Resultado: 354281228\n",
            "Input: 76 n: 68 Resultado: 306494793\n",
            "Input: 77 n: 42 Resultado: 387537969\n",
            "Input: 78 n: 45 Resultado: 397104444\n",
            "Input: 79 n: 50 Resultado: 374547152\n",
            "Input: 80 n: 66 Resultado: 384027280\n",
            "Input: 81 n: 97 Resultado: 394141584\n",
            "Input: 82 n: 85 Resultado: 389923072\n",
            "Input: 83 n: 31 Resultado: 383882049\n",
            "Input: 84 n: 99 Resultado: 385195720\n",
            "Input: 85 n: 22 Resultado: 369731048\n",
            "Input: 86 n: 41 Resultado: 363883782\n",
            "Input: 87 n: 1 Resultado: 0\n",
            "Input: 88 n: 2 Resultado: 16778164\n",
            "Input: 89 n: 82 Resultado: 387829920\n",
            "Input: 90 n: 48 Resultado: 381486555\n",
            "Input: 91 n: 56 Resultado: 368946364\n",
            "Input: 92 n: 83 Resultado: 386581087\n",
            "Input: 93 n: 55 Resultado: 389425715\n",
            "Input: 94 n: 52 Resultado: 332195402\n",
            "Input: 95 n: 59 Resultado: 373006095\n",
            "Input: 96 n: 30 Resultado: 373532880\n",
            "Input: 97 n: 31 Resultado: 382870260\n",
            "Input: 98 n: 97 Resultado: 391366560\n",
            "Input: 99 n: 26 Resultado: 351806005\n",
            "Input: 100 n: 15 Resultado: 385975046\n",
            "-----------------------------------\n",
            "Running with input90.txt\n",
            "Input: 1 n: 97 Resultado: 387771143\n",
            "Input: 2 n: 15 Resultado: 321915825\n",
            "Input: 3 n: 17 Resultado: 350346304\n",
            "Input: 4 n: 49 Resultado: 368206830\n",
            "Input: 5 n: 87 Resultado: 393823925\n",
            "Input: 6 n: 31 Resultado: 389161374\n",
            "Input: 7 n: 31 Resultado: 368509433\n",
            "Input: 8 n: 91 Resultado: 391822218\n",
            "Input: 9 n: 99 Resultado: 395505000\n",
            "Input: 10 n: 74 Resultado: 392848188\n",
            "Input: 11 n: 89 Resultado: 391296899\n",
            "Input: 12 n: 84 Resultado: 396945546\n",
            "Input: 13 n: 73 Resultado: 386241972\n",
            "Input: 14 n: 64 Resultado: 399640077\n",
            "Input: 15 n: 10 Resultado: 299585152\n",
            "Input: 16 n: 85 Resultado: 373100287\n",
            "Input: 17 n: 8 Resultado: 355714902\n",
            "Input: 18 n: 60 Resultado: 381941586\n",
            "Input: 19 n: 87 Resultado: 385183408\n",
            "Input: 20 n: 99 Resultado: 390397632\n",
            "Input: 21 n: 76 Resultado: 354132862\n",
            "Input: 22 n: 37 Resultado: 339452178\n",
            "Input: 23 n: 18 Resultado: 319868703\n",
            "Input: 24 n: 97 Resultado: 396188700\n",
            "Input: 25 n: 88 Resultado: 394447872\n",
            "Input: 26 n: 61 Resultado: 369174058\n",
            "Input: 27 n: 14 Resultado: 336115152\n",
            "Input: 28 n: 38 Resultado: 343351491\n",
            "Input: 29 n: 38 Resultado: 375793280\n",
            "Input: 30 n: 61 Resultado: 397383690\n",
            "Input: 31 n: 98 Resultado: 391901256\n",
            "Input: 32 n: 89 Resultado: 394288128\n",
            "Input: 33 n: 25 Resultado: 346627161\n",
            "Input: 34 n: 41 Resultado: 330083336\n",
            "Input: 35 n: 45 Resultado: 395015576\n",
            "Input: 36 n: 15 Resultado: 352184463\n",
            "Input: 37 n: 17 Resultado: 325617335\n",
            "Input: 38 n: 23 Resultado: 330201251\n",
            "Input: 39 n: 55 Resultado: 396200189\n",
            "Input: 40 n: 22 Resultado: 375536232\n",
            "Input: 41 n: 38 Resultado: 368248884\n",
            "Input: 42 n: 96 Resultado: 387120643\n",
            "Input: 43 n: 29 Resultado: 336893058\n",
            "Input: 44 n: 43 Resultado: 394479126\n",
            "Input: 45 n: 31 Resultado: 370985592\n",
            "Input: 46 n: 17 Resultado: 321892730\n",
            "Input: 47 n: 83 Resultado: 392668672\n",
            "Input: 48 n: 83 Resultado: 397900594\n",
            "Input: 49 n: 18 Resultado: 391043010\n",
            "Input: 50 n: 57 Resultado: 393227939\n",
            "Input: 51 n: 36 Resultado: 363378444\n",
            "Input: 52 n: 10 Resultado: 298267508\n",
            "Input: 53 n: 93 Resultado: 365187875\n",
            "Input: 54 n: 88 Resultado: 392554645\n",
            "Input: 55 n: 9 Resultado: 249726770\n",
            "Input: 56 n: 68 Resultado: 390064958\n",
            "Input: 57 n: 83 Resultado: 387948820\n",
            "Input: 58 n: 41 Resultado: 340878888\n",
            "Input: 59 n: 72 Resultado: 359209809\n",
            "Input: 60 n: 38 Resultado: 376269222\n",
            "Input: 61 n: 19 Resultado: 270586008\n",
            "Input: 62 n: 50 Resultado: 381225184\n",
            "Input: 63 n: 47 Resultado: 361124602\n",
            "Input: 64 n: 64 Resultado: 380053058\n",
            "Input: 65 n: 61 Resultado: 368478222\n",
            "Input: 66 n: 26 Resultado: 387832950\n",
            "Input: 67 n: 98 Resultado: 386298720\n",
            "Input: 68 n: 26 Resultado: 352354896\n",
            "Input: 69 n: 4 Resultado: 163779000\n",
            "Input: 70 n: 47 Resultado: 393960972\n",
            "Input: 71 n: 11 Resultado: 357237280\n",
            "Input: 72 n: 77 Resultado: 392118579\n",
            "Input: 73 n: 69 Resultado: 363908825\n",
            "Input: 74 n: 15 Resultado: 338202993\n",
            "Input: 75 n: 20 Resultado: 354281228\n",
            "Input: 76 n: 68 Resultado: 306494793\n",
            "Input: 77 n: 42 Resultado: 387537969\n",
            "Input: 78 n: 45 Resultado: 397104444\n",
            "Input: 79 n: 50 Resultado: 374547152\n",
            "Input: 80 n: 66 Resultado: 384027280\n",
            "Input: 81 n: 97 Resultado: 394141584\n",
            "Input: 82 n: 85 Resultado: 389923072\n",
            "Input: 83 n: 31 Resultado: 383882049\n",
            "Input: 84 n: 99 Resultado: 385195720\n",
            "Input: 85 n: 22 Resultado: 369731048\n",
            "Input: 86 n: 41 Resultado: 363883782\n",
            "Input: 87 n: 1 Resultado: 0\n",
            "Input: 88 n: 2 Resultado: 16778164\n",
            "Input: 89 n: 82 Resultado: 387829920\n",
            "Input: 90 n: 48 Resultado: 381486555\n",
            "Input: 91 n: 56 Resultado: 368946364\n",
            "Input: 92 n: 83 Resultado: 386581087\n",
            "Input: 93 n: 55 Resultado: 389425715\n",
            "Input: 94 n: 52 Resultado: 332195402\n",
            "Input: 95 n: 59 Resultado: 373006095\n",
            "Input: 96 n: 30 Resultado: 373532880\n",
            "Input: 97 n: 31 Resultado: 382870260\n",
            "Input: 98 n: 97 Resultado: 391366560\n",
            "Input: 99 n: 26 Resultado: 351806005\n",
            "Input: 100 n: 15 Resultado: 385975046\n",
            "-----------------------------------\n",
            "Running with input91.txt\n",
            "Input: 1 n: 97 Resultado: 387771143\n",
            "Input: 2 n: 15 Resultado: 321915825\n",
            "Input: 3 n: 17 Resultado: 350346304\n",
            "Input: 4 n: 49 Resultado: 368206830\n",
            "Input: 5 n: 87 Resultado: 393823925\n",
            "Input: 6 n: 31 Resultado: 389161374\n",
            "Input: 7 n: 31 Resultado: 368509433\n",
            "Input: 8 n: 91 Resultado: 391822218\n",
            "Input: 9 n: 99 Resultado: 395505000\n",
            "Input: 10 n: 74 Resultado: 392848188\n",
            "Input: 11 n: 89 Resultado: 391296899\n",
            "Input: 12 n: 84 Resultado: 396945546\n",
            "Input: 13 n: 73 Resultado: 386241972\n",
            "Input: 14 n: 64 Resultado: 399640077\n",
            "Input: 15 n: 10 Resultado: 299585152\n",
            "Input: 16 n: 85 Resultado: 373100287\n",
            "Input: 17 n: 8 Resultado: 355714902\n",
            "Input: 18 n: 60 Resultado: 381941586\n",
            "Input: 19 n: 87 Resultado: 385183408\n",
            "Input: 20 n: 99 Resultado: 390397632\n",
            "Input: 21 n: 76 Resultado: 354132862\n",
            "Input: 22 n: 37 Resultado: 339452178\n",
            "Input: 23 n: 18 Resultado: 319868703\n",
            "Input: 24 n: 97 Resultado: 396188700\n",
            "Input: 25 n: 88 Resultado: 394447872\n",
            "Input: 26 n: 61 Resultado: 369174058\n",
            "Input: 27 n: 14 Resultado: 336115152\n",
            "Input: 28 n: 38 Resultado: 343351491\n",
            "Input: 29 n: 38 Resultado: 375793280\n",
            "Input: 30 n: 61 Resultado: 397383690\n",
            "Input: 31 n: 98 Resultado: 391901256\n",
            "Input: 32 n: 89 Resultado: 394288128\n",
            "Input: 33 n: 25 Resultado: 346627161\n",
            "Input: 34 n: 41 Resultado: 330083336\n",
            "Input: 35 n: 45 Resultado: 395015576\n",
            "Input: 36 n: 15 Resultado: 352184463\n",
            "Input: 37 n: 17 Resultado: 325617335\n",
            "Input: 38 n: 23 Resultado: 330201251\n",
            "Input: 39 n: 55 Resultado: 396200189\n",
            "Input: 40 n: 22 Resultado: 375536232\n",
            "Input: 41 n: 38 Resultado: 368248884\n",
            "Input: 42 n: 96 Resultado: 387120643\n",
            "Input: 43 n: 29 Resultado: 336893058\n",
            "Input: 44 n: 43 Resultado: 394479126\n",
            "Input: 45 n: 31 Resultado: 370985592\n",
            "Input: 46 n: 17 Resultado: 321892730\n",
            "Input: 47 n: 83 Resultado: 392668672\n",
            "Input: 48 n: 83 Resultado: 397900594\n",
            "Input: 49 n: 18 Resultado: 391043010\n",
            "Input: 50 n: 57 Resultado: 393227939\n",
            "Input: 51 n: 36 Resultado: 363378444\n",
            "Input: 52 n: 10 Resultado: 298267508\n",
            "Input: 53 n: 93 Resultado: 365187875\n",
            "Input: 54 n: 88 Resultado: 392554645\n",
            "Input: 55 n: 9 Resultado: 249726770\n",
            "Input: 56 n: 68 Resultado: 390064958\n",
            "Input: 57 n: 83 Resultado: 387948820\n",
            "Input: 58 n: 41 Resultado: 340878888\n",
            "Input: 59 n: 72 Resultado: 359209809\n",
            "Input: 60 n: 38 Resultado: 376269222\n",
            "Input: 61 n: 19 Resultado: 270586008\n",
            "Input: 62 n: 50 Resultado: 381225184\n",
            "Input: 63 n: 47 Resultado: 361124602\n",
            "Input: 64 n: 64 Resultado: 380053058\n",
            "Input: 65 n: 61 Resultado: 368478222\n",
            "Input: 66 n: 26 Resultado: 387832950\n",
            "Input: 67 n: 98 Resultado: 386298720\n",
            "Input: 68 n: 26 Resultado: 352354896\n",
            "Input: 69 n: 4 Resultado: 163779000\n",
            "Input: 70 n: 47 Resultado: 393960972\n",
            "Input: 71 n: 11 Resultado: 357237280\n",
            "Input: 72 n: 77 Resultado: 392118579\n",
            "Input: 73 n: 69 Resultado: 363908825\n",
            "Input: 74 n: 15 Resultado: 338202993\n",
            "Input: 75 n: 20 Resultado: 354281228\n",
            "Input: 76 n: 68 Resultado: 306494793\n",
            "Input: 77 n: 42 Resultado: 387537969\n",
            "Input: 78 n: 45 Resultado: 397104444\n",
            "Input: 79 n: 50 Resultado: 374547152\n",
            "Input: 80 n: 66 Resultado: 384027280\n",
            "Input: 81 n: 97 Resultado: 394141584\n",
            "Input: 82 n: 85 Resultado: 389923072\n",
            "Input: 83 n: 31 Resultado: 383882049\n",
            "Input: 84 n: 99 Resultado: 385195720\n",
            "Input: 85 n: 22 Resultado: 369731048\n",
            "Input: 86 n: 41 Resultado: 363883782\n",
            "Input: 87 n: 1 Resultado: 0\n",
            "Input: 88 n: 2 Resultado: 16778164\n",
            "Input: 89 n: 82 Resultado: 387829920\n",
            "Input: 90 n: 48 Resultado: 381486555\n",
            "Input: 91 n: 56 Resultado: 368946364\n",
            "Input: 92 n: 83 Resultado: 386581087\n",
            "Input: 93 n: 55 Resultado: 389425715\n",
            "Input: 94 n: 52 Resultado: 332195402\n",
            "Input: 95 n: 59 Resultado: 373006095\n",
            "Input: 96 n: 30 Resultado: 373532880\n",
            "Input: 97 n: 31 Resultado: 382870260\n",
            "Input: 98 n: 97 Resultado: 391366560\n",
            "Input: 99 n: 26 Resultado: 351806005\n",
            "Input: 100 n: 15 Resultado: 385975046\n",
            "-----------------------------------\n",
            "Running with input92.txt\n",
            "Input: 1 n: 97 Resultado: 387771143\n",
            "Input: 2 n: 15 Resultado: 321915825\n",
            "Input: 3 n: 17 Resultado: 350346304\n",
            "Input: 4 n: 49 Resultado: 368206830\n",
            "Input: 5 n: 87 Resultado: 393823925\n",
            "Input: 6 n: 31 Resultado: 389161374\n",
            "Input: 7 n: 31 Resultado: 368509433\n",
            "Input: 8 n: 91 Resultado: 391822218\n",
            "Input: 9 n: 99 Resultado: 395505000\n",
            "Input: 10 n: 74 Resultado: 392848188\n",
            "Input: 11 n: 89 Resultado: 391296899\n",
            "Input: 12 n: 84 Resultado: 396945546\n",
            "Input: 13 n: 73 Resultado: 386241972\n",
            "Input: 14 n: 64 Resultado: 399640077\n",
            "Input: 15 n: 10 Resultado: 299585152\n",
            "Input: 16 n: 85 Resultado: 373100287\n",
            "Input: 17 n: 8 Resultado: 355714902\n",
            "Input: 18 n: 60 Resultado: 381941586\n",
            "Input: 19 n: 87 Resultado: 385183408\n",
            "Input: 20 n: 99 Resultado: 390397632\n",
            "Input: 21 n: 76 Resultado: 354132862\n",
            "Input: 22 n: 37 Resultado: 339452178\n",
            "Input: 23 n: 18 Resultado: 319868703\n",
            "Input: 24 n: 97 Resultado: 396188700\n",
            "Input: 25 n: 88 Resultado: 394447872\n",
            "Input: 26 n: 61 Resultado: 369174058\n",
            "Input: 27 n: 14 Resultado: 336115152\n",
            "Input: 28 n: 38 Resultado: 343351491\n",
            "Input: 29 n: 38 Resultado: 375793280\n",
            "Input: 30 n: 61 Resultado: 397383690\n",
            "Input: 31 n: 98 Resultado: 391901256\n",
            "Input: 32 n: 89 Resultado: 394288128\n",
            "Input: 33 n: 25 Resultado: 346627161\n",
            "Input: 34 n: 41 Resultado: 330083336\n",
            "Input: 35 n: 45 Resultado: 395015576\n",
            "Input: 36 n: 15 Resultado: 352184463\n",
            "Input: 37 n: 17 Resultado: 325617335\n",
            "Input: 38 n: 23 Resultado: 330201251\n",
            "Input: 39 n: 55 Resultado: 396200189\n",
            "Input: 40 n: 22 Resultado: 375536232\n",
            "Input: 41 n: 38 Resultado: 368248884\n",
            "Input: 42 n: 96 Resultado: 387120643\n",
            "Input: 43 n: 29 Resultado: 336893058\n",
            "Input: 44 n: 43 Resultado: 394479126\n",
            "Input: 45 n: 31 Resultado: 370985592\n",
            "Input: 46 n: 17 Resultado: 321892730\n",
            "Input: 47 n: 83 Resultado: 392668672\n",
            "Input: 48 n: 83 Resultado: 397900594\n",
            "Input: 49 n: 18 Resultado: 391043010\n",
            "Input: 50 n: 57 Resultado: 393227939\n",
            "Input: 51 n: 36 Resultado: 363378444\n",
            "Input: 52 n: 10 Resultado: 298267508\n",
            "Input: 53 n: 93 Resultado: 365187875\n",
            "Input: 54 n: 88 Resultado: 392554645\n",
            "Input: 55 n: 9 Resultado: 249726770\n",
            "Input: 56 n: 68 Resultado: 390064958\n",
            "Input: 57 n: 83 Resultado: 387948820\n",
            "Input: 58 n: 41 Resultado: 340878888\n",
            "Input: 59 n: 72 Resultado: 359209809\n",
            "Input: 60 n: 38 Resultado: 376269222\n",
            "Input: 61 n: 19 Resultado: 270586008\n",
            "Input: 62 n: 50 Resultado: 381225184\n",
            "Input: 63 n: 47 Resultado: 361124602\n",
            "Input: 64 n: 64 Resultado: 380053058\n",
            "Input: 65 n: 61 Resultado: 368478222\n",
            "Input: 66 n: 26 Resultado: 387832950\n",
            "Input: 67 n: 98 Resultado: 386298720\n",
            "Input: 68 n: 26 Resultado: 352354896\n",
            "Input: 69 n: 4 Resultado: 163779000\n",
            "Input: 70 n: 47 Resultado: 393960972\n",
            "Input: 71 n: 11 Resultado: 357237280\n",
            "Input: 72 n: 77 Resultado: 392118579\n",
            "Input: 73 n: 69 Resultado: 363908825\n",
            "Input: 74 n: 15 Resultado: 338202993\n",
            "Input: 75 n: 20 Resultado: 354281228\n",
            "Input: 76 n: 68 Resultado: 306494793\n",
            "Input: 77 n: 42 Resultado: 387537969\n",
            "Input: 78 n: 45 Resultado: 397104444\n",
            "Input: 79 n: 50 Resultado: 374547152\n",
            "Input: 80 n: 66 Resultado: 384027280\n",
            "Input: 81 n: 97 Resultado: 394141584\n",
            "Input: 82 n: 85 Resultado: 389923072\n",
            "Input: 83 n: 31 Resultado: 383882049\n",
            "Input: 84 n: 99 Resultado: 385195720\n",
            "Input: 85 n: 22 Resultado: 369731048\n",
            "Input: 86 n: 41 Resultado: 363883782\n",
            "Input: 87 n: 1 Resultado: 0\n",
            "Input: 88 n: 2 Resultado: 16778164\n",
            "Input: 89 n: 82 Resultado: 387829920\n",
            "Input: 90 n: 48 Resultado: 381486555\n",
            "Input: 91 n: 56 Resultado: 368946364\n",
            "Input: 92 n: 83 Resultado: 386581087\n",
            "Input: 93 n: 55 Resultado: 389425715\n",
            "Input: 94 n: 52 Resultado: 332195402\n",
            "Input: 95 n: 59 Resultado: 373006095\n",
            "Input: 96 n: 30 Resultado: 373532880\n",
            "Input: 97 n: 31 Resultado: 382870260\n",
            "Input: 98 n: 97 Resultado: 391366560\n",
            "Input: 99 n: 26 Resultado: 351806005\n",
            "Input: 100 n: 15 Resultado: 385975046\n",
            "-----------------------------------\n",
            "Running with input93.txt\n",
            "Input: 1 n: 97 Resultado: 387771143\n",
            "Input: 2 n: 15 Resultado: 321915825\n",
            "Input: 3 n: 17 Resultado: 350346304\n",
            "Input: 4 n: 49 Resultado: 368206830\n",
            "Input: 5 n: 87 Resultado: 393823925\n",
            "Input: 6 n: 31 Resultado: 389161374\n",
            "Input: 7 n: 31 Resultado: 368509433\n",
            "Input: 8 n: 91 Resultado: 391822218\n",
            "Input: 9 n: 99 Resultado: 395505000\n",
            "Input: 10 n: 74 Resultado: 392848188\n",
            "Input: 11 n: 89 Resultado: 391296899\n",
            "Input: 12 n: 84 Resultado: 396945546\n",
            "Input: 13 n: 73 Resultado: 386241972\n",
            "Input: 14 n: 64 Resultado: 399640077\n",
            "Input: 15 n: 10 Resultado: 299585152\n",
            "Input: 16 n: 85 Resultado: 373100287\n",
            "Input: 17 n: 8 Resultado: 355714902\n",
            "Input: 18 n: 60 Resultado: 381941586\n",
            "Input: 19 n: 87 Resultado: 385183408\n",
            "Input: 20 n: 99 Resultado: 390397632\n",
            "Input: 21 n: 76 Resultado: 354132862\n",
            "Input: 22 n: 37 Resultado: 339452178\n",
            "Input: 23 n: 18 Resultado: 319868703\n",
            "Input: 24 n: 97 Resultado: 396188700\n",
            "Input: 25 n: 88 Resultado: 394447872\n",
            "Input: 26 n: 61 Resultado: 369174058\n",
            "Input: 27 n: 14 Resultado: 336115152\n",
            "Input: 28 n: 38 Resultado: 343351491\n",
            "Input: 29 n: 38 Resultado: 375793280\n",
            "Input: 30 n: 61 Resultado: 397383690\n",
            "Input: 31 n: 98 Resultado: 391901256\n",
            "Input: 32 n: 89 Resultado: 394288128\n",
            "Input: 33 n: 25 Resultado: 346627161\n",
            "Input: 34 n: 41 Resultado: 330083336\n",
            "Input: 35 n: 45 Resultado: 395015576\n",
            "Input: 36 n: 15 Resultado: 352184463\n",
            "Input: 37 n: 17 Resultado: 325617335\n",
            "Input: 38 n: 23 Resultado: 330201251\n",
            "Input: 39 n: 55 Resultado: 396200189\n",
            "Input: 40 n: 22 Resultado: 375536232\n",
            "Input: 41 n: 38 Resultado: 368248884\n",
            "Input: 42 n: 96 Resultado: 387120643\n",
            "Input: 43 n: 29 Resultado: 336893058\n",
            "Input: 44 n: 43 Resultado: 394479126\n",
            "Input: 45 n: 31 Resultado: 370985592\n",
            "Input: 46 n: 17 Resultado: 321892730\n",
            "Input: 47 n: 83 Resultado: 392668672\n",
            "Input: 48 n: 83 Resultado: 397900594\n",
            "Input: 49 n: 18 Resultado: 391043010\n",
            "Input: 50 n: 57 Resultado: 393227939\n",
            "Input: 51 n: 36 Resultado: 363378444\n",
            "Input: 52 n: 10 Resultado: 298267508\n",
            "Input: 53 n: 93 Resultado: 365187875\n",
            "Input: 54 n: 88 Resultado: 392554645\n",
            "Input: 55 n: 9 Resultado: 249726770\n",
            "Input: 56 n: 68 Resultado: 390064958\n",
            "Input: 57 n: 83 Resultado: 387948820\n",
            "Input: 58 n: 41 Resultado: 340878888\n",
            "Input: 59 n: 72 Resultado: 359209809\n",
            "Input: 60 n: 38 Resultado: 376269222\n",
            "Input: 61 n: 19 Resultado: 270586008\n",
            "Input: 62 n: 50 Resultado: 381225184\n",
            "Input: 63 n: 47 Resultado: 361124602\n",
            "Input: 64 n: 64 Resultado: 380053058\n",
            "Input: 65 n: 61 Resultado: 368478222\n",
            "Input: 66 n: 26 Resultado: 387832950\n",
            "Input: 67 n: 98 Resultado: 386298720\n",
            "Input: 68 n: 26 Resultado: 352354896\n",
            "Input: 69 n: 4 Resultado: 163779000\n",
            "Input: 70 n: 47 Resultado: 393960972\n",
            "Input: 71 n: 11 Resultado: 357237280\n",
            "Input: 72 n: 77 Resultado: 392118579\n",
            "Input: 73 n: 69 Resultado: 363908825\n",
            "Input: 74 n: 15 Resultado: 338202993\n",
            "Input: 75 n: 20 Resultado: 354281228\n",
            "Input: 76 n: 68 Resultado: 306494793\n",
            "Input: 77 n: 42 Resultado: 387537969\n",
            "Input: 78 n: 45 Resultado: 397104444\n",
            "Input: 79 n: 50 Resultado: 374547152\n",
            "Input: 80 n: 66 Resultado: 384027280\n",
            "Input: 81 n: 97 Resultado: 394141584\n",
            "Input: 82 n: 85 Resultado: 389923072\n",
            "Input: 83 n: 31 Resultado: 383882049\n",
            "Input: 84 n: 99 Resultado: 385195720\n",
            "Input: 85 n: 22 Resultado: 369731048\n",
            "Input: 86 n: 41 Resultado: 363883782\n",
            "Input: 87 n: 1 Resultado: 0\n",
            "Input: 88 n: 2 Resultado: 16778164\n",
            "Input: 89 n: 82 Resultado: 387829920\n",
            "Input: 90 n: 48 Resultado: 381486555\n",
            "Input: 91 n: 56 Resultado: 368946364\n",
            "Input: 92 n: 83 Resultado: 386581087\n",
            "Input: 93 n: 55 Resultado: 389425715\n",
            "Input: 94 n: 52 Resultado: 332195402\n",
            "Input: 95 n: 59 Resultado: 373006095\n",
            "Input: 96 n: 30 Resultado: 373532880\n",
            "Input: 97 n: 31 Resultado: 382870260\n",
            "Input: 98 n: 97 Resultado: 391366560\n",
            "Input: 99 n: 26 Resultado: 351806005\n",
            "Input: 100 n: 15 Resultado: 385975046\n",
            "-----------------------------------\n",
            "Running with input94.txt\n",
            "Input: 1 n: 97 Resultado: 387771143\n",
            "Input: 2 n: 15 Resultado: 321915825\n",
            "Input: 3 n: 17 Resultado: 350346304\n",
            "Input: 4 n: 49 Resultado: 368206830\n",
            "Input: 5 n: 87 Resultado: 393823925\n",
            "Input: 6 n: 31 Resultado: 389161374\n",
            "Input: 7 n: 31 Resultado: 368509433\n",
            "Input: 8 n: 91 Resultado: 391822218\n",
            "Input: 9 n: 99 Resultado: 395505000\n",
            "Input: 10 n: 74 Resultado: 392848188\n",
            "Input: 11 n: 89 Resultado: 391296899\n",
            "Input: 12 n: 84 Resultado: 396945546\n",
            "Input: 13 n: 73 Resultado: 386241972\n",
            "Input: 14 n: 64 Resultado: 399640077\n",
            "Input: 15 n: 10 Resultado: 299585152\n",
            "Input: 16 n: 85 Resultado: 373100287\n",
            "Input: 17 n: 8 Resultado: 355714902\n",
            "Input: 18 n: 60 Resultado: 381941586\n",
            "Input: 19 n: 87 Resultado: 385183408\n",
            "Input: 20 n: 99 Resultado: 390397632\n",
            "Input: 21 n: 76 Resultado: 354132862\n",
            "Input: 22 n: 37 Resultado: 339452178\n",
            "Input: 23 n: 18 Resultado: 319868703\n",
            "Input: 24 n: 97 Resultado: 396188700\n",
            "Input: 25 n: 88 Resultado: 394447872\n",
            "Input: 26 n: 61 Resultado: 369174058\n",
            "Input: 27 n: 14 Resultado: 336115152\n",
            "Input: 28 n: 38 Resultado: 343351491\n",
            "Input: 29 n: 38 Resultado: 375793280\n",
            "Input: 30 n: 61 Resultado: 397383690\n",
            "Input: 31 n: 98 Resultado: 391901256\n",
            "Input: 32 n: 89 Resultado: 394288128\n",
            "Input: 33 n: 25 Resultado: 346627161\n",
            "Input: 34 n: 41 Resultado: 330083336\n",
            "Input: 35 n: 45 Resultado: 395015576\n",
            "Input: 36 n: 15 Resultado: 352184463\n",
            "Input: 37 n: 17 Resultado: 325617335\n",
            "Input: 38 n: 23 Resultado: 330201251\n",
            "Input: 39 n: 55 Resultado: 396200189\n",
            "Input: 40 n: 22 Resultado: 375536232\n",
            "Input: 41 n: 38 Resultado: 368248884\n",
            "Input: 42 n: 96 Resultado: 387120643\n",
            "Input: 43 n: 29 Resultado: 336893058\n",
            "Input: 44 n: 43 Resultado: 394479126\n",
            "Input: 45 n: 31 Resultado: 370985592\n",
            "Input: 46 n: 17 Resultado: 321892730\n",
            "Input: 47 n: 83 Resultado: 392668672\n",
            "Input: 48 n: 83 Resultado: 397900594\n",
            "Input: 49 n: 18 Resultado: 391043010\n",
            "Input: 50 n: 57 Resultado: 393227939\n",
            "Input: 51 n: 36 Resultado: 363378444\n",
            "Input: 52 n: 10 Resultado: 298267508\n",
            "Input: 53 n: 93 Resultado: 365187875\n",
            "Input: 54 n: 88 Resultado: 392554645\n",
            "Input: 55 n: 9 Resultado: 249726770\n",
            "Input: 56 n: 68 Resultado: 390064958\n",
            "Input: 57 n: 83 Resultado: 387948820\n",
            "Input: 58 n: 41 Resultado: 340878888\n",
            "Input: 59 n: 72 Resultado: 359209809\n",
            "Input: 60 n: 38 Resultado: 376269222\n",
            "Input: 61 n: 19 Resultado: 270586008\n",
            "Input: 62 n: 50 Resultado: 381225184\n",
            "Input: 63 n: 47 Resultado: 361124602\n",
            "Input: 64 n: 64 Resultado: 380053058\n",
            "Input: 65 n: 61 Resultado: 368478222\n",
            "Input: 66 n: 26 Resultado: 387832950\n",
            "Input: 67 n: 98 Resultado: 386298720\n",
            "Input: 68 n: 26 Resultado: 352354896\n",
            "Input: 69 n: 4 Resultado: 163779000\n",
            "Input: 70 n: 47 Resultado: 393960972\n",
            "Input: 71 n: 11 Resultado: 357237280\n",
            "Input: 72 n: 77 Resultado: 392118579\n",
            "Input: 73 n: 69 Resultado: 363908825\n",
            "Input: 74 n: 15 Resultado: 338202993\n",
            "Input: 75 n: 20 Resultado: 354281228\n",
            "Input: 76 n: 68 Resultado: 306494793\n",
            "Input: 77 n: 42 Resultado: 387537969\n",
            "Input: 78 n: 45 Resultado: 397104444\n",
            "Input: 79 n: 50 Resultado: 374547152\n",
            "Input: 80 n: 66 Resultado: 384027280\n",
            "Input: 81 n: 97 Resultado: 394141584\n",
            "Input: 82 n: 85 Resultado: 389923072\n",
            "Input: 83 n: 31 Resultado: 383882049\n",
            "Input: 84 n: 99 Resultado: 385195720\n",
            "Input: 85 n: 22 Resultado: 369731048\n",
            "Input: 86 n: 41 Resultado: 363883782\n",
            "Input: 87 n: 1 Resultado: 0\n",
            "Input: 88 n: 2 Resultado: 16778164\n",
            "Input: 89 n: 82 Resultado: 387829920\n",
            "Input: 90 n: 48 Resultado: 381486555\n",
            "Input: 91 n: 56 Resultado: 368946364\n",
            "Input: 92 n: 83 Resultado: 386581087\n",
            "Input: 93 n: 55 Resultado: 389425715\n",
            "Input: 94 n: 52 Resultado: 332195402\n",
            "Input: 95 n: 59 Resultado: 373006095\n",
            "Input: 96 n: 30 Resultado: 373532880\n",
            "Input: 97 n: 31 Resultado: 382870260\n",
            "Input: 98 n: 97 Resultado: 391366560\n",
            "Input: 99 n: 26 Resultado: 351806005\n",
            "Input: 100 n: 15 Resultado: 385975046\n",
            "-----------------------------------\n",
            "Running with input95.txt\n",
            "Input: 1 n: 97 Resultado: 387771143\n",
            "Input: 2 n: 15 Resultado: 321915825\n",
            "Input: 3 n: 17 Resultado: 350346304\n",
            "Input: 4 n: 49 Resultado: 368206830\n",
            "Input: 5 n: 87 Resultado: 393823925\n",
            "Input: 6 n: 31 Resultado: 389161374\n",
            "Input: 7 n: 31 Resultado: 368509433\n",
            "Input: 8 n: 91 Resultado: 391822218\n",
            "Input: 9 n: 99 Resultado: 395505000\n",
            "Input: 10 n: 74 Resultado: 392848188\n",
            "Input: 11 n: 89 Resultado: 391296899\n",
            "Input: 12 n: 84 Resultado: 396945546\n",
            "Input: 13 n: 73 Resultado: 386241972\n",
            "Input: 14 n: 64 Resultado: 399640077\n",
            "Input: 15 n: 10 Resultado: 299585152\n",
            "Input: 16 n: 85 Resultado: 373100287\n",
            "Input: 17 n: 8 Resultado: 355714902\n",
            "Input: 18 n: 60 Resultado: 381941586\n",
            "Input: 19 n: 87 Resultado: 385183408\n",
            "Input: 20 n: 99 Resultado: 390397632\n",
            "Input: 21 n: 76 Resultado: 354132862\n",
            "Input: 22 n: 37 Resultado: 339452178\n",
            "Input: 23 n: 18 Resultado: 319868703\n",
            "Input: 24 n: 97 Resultado: 396188700\n",
            "Input: 25 n: 88 Resultado: 394447872\n",
            "Input: 26 n: 61 Resultado: 369174058\n",
            "Input: 27 n: 14 Resultado: 336115152\n",
            "Input: 28 n: 38 Resultado: 343351491\n",
            "Input: 29 n: 38 Resultado: 375793280\n",
            "Input: 30 n: 61 Resultado: 397383690\n",
            "Input: 31 n: 98 Resultado: 391901256\n",
            "Input: 32 n: 89 Resultado: 394288128\n",
            "Input: 33 n: 25 Resultado: 346627161\n",
            "Input: 34 n: 41 Resultado: 330083336\n",
            "Input: 35 n: 45 Resultado: 395015576\n",
            "Input: 36 n: 15 Resultado: 352184463\n",
            "Input: 37 n: 17 Resultado: 325617335\n",
            "Input: 38 n: 23 Resultado: 330201251\n",
            "Input: 39 n: 55 Resultado: 396200189\n",
            "Input: 40 n: 22 Resultado: 375536232\n",
            "Input: 41 n: 38 Resultado: 368248884\n",
            "Input: 42 n: 96 Resultado: 387120643\n",
            "Input: 43 n: 29 Resultado: 336893058\n",
            "Input: 44 n: 43 Resultado: 394479126\n",
            "Input: 45 n: 31 Resultado: 370985592\n",
            "Input: 46 n: 17 Resultado: 321892730\n",
            "Input: 47 n: 83 Resultado: 392668672\n",
            "Input: 48 n: 83 Resultado: 397900594\n",
            "Input: 49 n: 18 Resultado: 391043010\n",
            "Input: 50 n: 57 Resultado: 393227939\n",
            "Input: 51 n: 36 Resultado: 363378444\n",
            "Input: 52 n: 10 Resultado: 298267508\n",
            "Input: 53 n: 93 Resultado: 365187875\n",
            "Input: 54 n: 88 Resultado: 392554645\n",
            "Input: 55 n: 9 Resultado: 249726770\n",
            "Input: 56 n: 68 Resultado: 390064958\n",
            "Input: 57 n: 83 Resultado: 387948820\n",
            "Input: 58 n: 41 Resultado: 340878888\n",
            "Input: 59 n: 72 Resultado: 359209809\n",
            "Input: 60 n: 38 Resultado: 376269222\n",
            "Input: 61 n: 19 Resultado: 270586008\n",
            "Input: 62 n: 50 Resultado: 381225184\n",
            "Input: 63 n: 47 Resultado: 361124602\n",
            "Input: 64 n: 64 Resultado: 380053058\n",
            "Input: 65 n: 61 Resultado: 368478222\n",
            "Input: 66 n: 26 Resultado: 387832950\n",
            "Input: 67 n: 98 Resultado: 386298720\n",
            "Input: 68 n: 26 Resultado: 352354896\n",
            "Input: 69 n: 4 Resultado: 163779000\n",
            "Input: 70 n: 47 Resultado: 393960972\n",
            "Input: 71 n: 11 Resultado: 357237280\n",
            "Input: 72 n: 77 Resultado: 392118579\n",
            "Input: 73 n: 69 Resultado: 363908825\n",
            "Input: 74 n: 15 Resultado: 338202993\n",
            "Input: 75 n: 20 Resultado: 354281228\n",
            "Input: 76 n: 68 Resultado: 306494793\n",
            "Input: 77 n: 42 Resultado: 387537969\n",
            "Input: 78 n: 45 Resultado: 397104444\n",
            "Input: 79 n: 50 Resultado: 374547152\n",
            "Input: 80 n: 66 Resultado: 384027280\n",
            "Input: 81 n: 97 Resultado: 394141584\n",
            "Input: 82 n: 85 Resultado: 389923072\n",
            "Input: 83 n: 31 Resultado: 383882049\n",
            "Input: 84 n: 99 Resultado: 385195720\n",
            "Input: 85 n: 22 Resultado: 369731048\n",
            "Input: 86 n: 41 Resultado: 363883782\n",
            "Input: 87 n: 1 Resultado: 0\n",
            "Input: 88 n: 2 Resultado: 16778164\n",
            "Input: 89 n: 82 Resultado: 387829920\n",
            "Input: 90 n: 48 Resultado: 381486555\n",
            "Input: 91 n: 56 Resultado: 368946364\n",
            "Input: 92 n: 83 Resultado: 386581087\n",
            "Input: 93 n: 55 Resultado: 389425715\n",
            "Input: 94 n: 52 Resultado: 332195402\n",
            "Input: 95 n: 59 Resultado: 373006095\n",
            "Input: 96 n: 30 Resultado: 373532880\n",
            "Input: 97 n: 31 Resultado: 382870260\n",
            "Input: 98 n: 97 Resultado: 391366560\n",
            "Input: 99 n: 26 Resultado: 351806005\n",
            "Input: 100 n: 15 Resultado: 385975046\n",
            "-----------------------------------\n",
            "Running with input96.txt\n",
            "Input: 1 n: 97 Resultado: 387771143\n",
            "Input: 2 n: 15 Resultado: 321915825\n",
            "Input: 3 n: 17 Resultado: 350346304\n",
            "Input: 4 n: 49 Resultado: 368206830\n",
            "Input: 5 n: 87 Resultado: 393823925\n",
            "Input: 6 n: 31 Resultado: 389161374\n",
            "Input: 7 n: 31 Resultado: 368509433\n",
            "Input: 8 n: 91 Resultado: 391822218\n",
            "Input: 9 n: 99 Resultado: 395505000\n",
            "Input: 10 n: 74 Resultado: 392848188\n",
            "Input: 11 n: 89 Resultado: 391296899\n",
            "Input: 12 n: 84 Resultado: 396945546\n",
            "Input: 13 n: 73 Resultado: 386241972\n",
            "Input: 14 n: 64 Resultado: 399640077\n",
            "Input: 15 n: 10 Resultado: 299585152\n",
            "Input: 16 n: 85 Resultado: 373100287\n",
            "Input: 17 n: 8 Resultado: 355714902\n",
            "Input: 18 n: 60 Resultado: 381941586\n",
            "Input: 19 n: 87 Resultado: 385183408\n",
            "Input: 20 n: 99 Resultado: 390397632\n",
            "Input: 21 n: 76 Resultado: 354132862\n",
            "Input: 22 n: 37 Resultado: 339452178\n",
            "Input: 23 n: 18 Resultado: 319868703\n",
            "Input: 24 n: 97 Resultado: 396188700\n",
            "Input: 25 n: 88 Resultado: 394447872\n",
            "Input: 26 n: 61 Resultado: 369174058\n",
            "Input: 27 n: 14 Resultado: 336115152\n",
            "Input: 28 n: 38 Resultado: 343351491\n",
            "Input: 29 n: 38 Resultado: 375793280\n",
            "Input: 30 n: 61 Resultado: 397383690\n",
            "Input: 31 n: 98 Resultado: 391901256\n",
            "Input: 32 n: 89 Resultado: 394288128\n",
            "Input: 33 n: 25 Resultado: 346627161\n",
            "Input: 34 n: 41 Resultado: 330083336\n",
            "Input: 35 n: 45 Resultado: 395015576\n",
            "Input: 36 n: 15 Resultado: 352184463\n",
            "Input: 37 n: 17 Resultado: 325617335\n",
            "Input: 38 n: 23 Resultado: 330201251\n",
            "Input: 39 n: 55 Resultado: 396200189\n",
            "Input: 40 n: 22 Resultado: 375536232\n",
            "Input: 41 n: 38 Resultado: 368248884\n",
            "Input: 42 n: 96 Resultado: 387120643\n",
            "Input: 43 n: 29 Resultado: 336893058\n",
            "Input: 44 n: 43 Resultado: 394479126\n",
            "Input: 45 n: 31 Resultado: 370985592\n",
            "Input: 46 n: 17 Resultado: 321892730\n",
            "Input: 47 n: 83 Resultado: 392668672\n",
            "Input: 48 n: 83 Resultado: 397900594\n",
            "Input: 49 n: 18 Resultado: 391043010\n",
            "Input: 50 n: 57 Resultado: 393227939\n",
            "Input: 51 n: 36 Resultado: 363378444\n",
            "Input: 52 n: 10 Resultado: 298267508\n",
            "Input: 53 n: 93 Resultado: 365187875\n",
            "Input: 54 n: 88 Resultado: 392554645\n",
            "Input: 55 n: 9 Resultado: 249726770\n",
            "Input: 56 n: 68 Resultado: 390064958\n",
            "Input: 57 n: 83 Resultado: 387948820\n",
            "Input: 58 n: 41 Resultado: 340878888\n",
            "Input: 59 n: 72 Resultado: 359209809\n",
            "Input: 60 n: 38 Resultado: 376269222\n",
            "Input: 61 n: 19 Resultado: 270586008\n",
            "Input: 62 n: 50 Resultado: 381225184\n",
            "Input: 63 n: 47 Resultado: 361124602\n",
            "Input: 64 n: 64 Resultado: 380053058\n",
            "Input: 65 n: 61 Resultado: 368478222\n",
            "Input: 66 n: 26 Resultado: 387832950\n",
            "Input: 67 n: 98 Resultado: 386298720\n",
            "Input: 68 n: 26 Resultado: 352354896\n",
            "Input: 69 n: 4 Resultado: 163779000\n",
            "Input: 70 n: 47 Resultado: 393960972\n",
            "Input: 71 n: 11 Resultado: 357237280\n",
            "Input: 72 n: 77 Resultado: 392118579\n",
            "Input: 73 n: 69 Resultado: 363908825\n",
            "Input: 74 n: 15 Resultado: 338202993\n",
            "Input: 75 n: 20 Resultado: 354281228\n",
            "Input: 76 n: 68 Resultado: 306494793\n",
            "Input: 77 n: 42 Resultado: 387537969\n",
            "Input: 78 n: 45 Resultado: 397104444\n",
            "Input: 79 n: 50 Resultado: 374547152\n",
            "Input: 80 n: 66 Resultado: 384027280\n",
            "Input: 81 n: 97 Resultado: 394141584\n",
            "Input: 82 n: 85 Resultado: 389923072\n",
            "Input: 83 n: 31 Resultado: 383882049\n",
            "Input: 84 n: 99 Resultado: 385195720\n",
            "Input: 85 n: 22 Resultado: 369731048\n",
            "Input: 86 n: 41 Resultado: 363883782\n",
            "Input: 87 n: 1 Resultado: 0\n",
            "Input: 88 n: 2 Resultado: 16778164\n",
            "Input: 89 n: 82 Resultado: 387829920\n",
            "Input: 90 n: 48 Resultado: 381486555\n",
            "Input: 91 n: 56 Resultado: 368946364\n",
            "Input: 92 n: 83 Resultado: 386581087\n",
            "Input: 93 n: 55 Resultado: 389425715\n",
            "Input: 94 n: 52 Resultado: 332195402\n",
            "Input: 95 n: 59 Resultado: 373006095\n",
            "Input: 96 n: 30 Resultado: 373532880\n",
            "Input: 97 n: 31 Resultado: 382870260\n",
            "Input: 98 n: 97 Resultado: 391366560\n",
            "Input: 99 n: 26 Resultado: 351806005\n",
            "Input: 100 n: 15 Resultado: 385975046\n",
            "-----------------------------------\n",
            "Running with input97.txt\n",
            "Input: 1 n: 97 Resultado: 387771143\n",
            "Input: 2 n: 15 Resultado: 321915825\n",
            "Input: 3 n: 17 Resultado: 350346304\n",
            "Input: 4 n: 49 Resultado: 368206830\n",
            "Input: 5 n: 87 Resultado: 393823925\n",
            "Input: 6 n: 31 Resultado: 389161374\n",
            "Input: 7 n: 31 Resultado: 368509433\n",
            "Input: 8 n: 91 Resultado: 391822218\n",
            "Input: 9 n: 99 Resultado: 395505000\n",
            "Input: 10 n: 74 Resultado: 392848188\n",
            "Input: 11 n: 89 Resultado: 391296899\n",
            "Input: 12 n: 84 Resultado: 396945546\n",
            "Input: 13 n: 73 Resultado: 386241972\n",
            "Input: 14 n: 64 Resultado: 399640077\n",
            "Input: 15 n: 10 Resultado: 299585152\n",
            "Input: 16 n: 85 Resultado: 373100287\n",
            "Input: 17 n: 8 Resultado: 355714902\n",
            "Input: 18 n: 60 Resultado: 381941586\n",
            "Input: 19 n: 87 Resultado: 385183408\n",
            "Input: 20 n: 99 Resultado: 390397632\n",
            "Input: 21 n: 76 Resultado: 354132862\n",
            "Input: 22 n: 37 Resultado: 339452178\n",
            "Input: 23 n: 18 Resultado: 319868703\n",
            "Input: 24 n: 97 Resultado: 396188700\n",
            "Input: 25 n: 88 Resultado: 394447872\n",
            "Input: 26 n: 61 Resultado: 369174058\n",
            "Input: 27 n: 14 Resultado: 336115152\n",
            "Input: 28 n: 38 Resultado: 343351491\n",
            "Input: 29 n: 38 Resultado: 375793280\n",
            "Input: 30 n: 61 Resultado: 397383690\n",
            "Input: 31 n: 98 Resultado: 391901256\n",
            "Input: 32 n: 89 Resultado: 394288128\n",
            "Input: 33 n: 25 Resultado: 346627161\n",
            "Input: 34 n: 41 Resultado: 330083336\n",
            "Input: 35 n: 45 Resultado: 395015576\n",
            "Input: 36 n: 15 Resultado: 352184463\n",
            "Input: 37 n: 17 Resultado: 325617335\n",
            "Input: 38 n: 23 Resultado: 330201251\n",
            "Input: 39 n: 55 Resultado: 396200189\n",
            "Input: 40 n: 22 Resultado: 375536232\n",
            "Input: 41 n: 38 Resultado: 368248884\n",
            "Input: 42 n: 96 Resultado: 387120643\n",
            "Input: 43 n: 29 Resultado: 336893058\n",
            "Input: 44 n: 43 Resultado: 394479126\n",
            "Input: 45 n: 31 Resultado: 370985592\n",
            "Input: 46 n: 17 Resultado: 321892730\n",
            "Input: 47 n: 83 Resultado: 392668672\n",
            "Input: 48 n: 83 Resultado: 397900594\n",
            "Input: 49 n: 18 Resultado: 391043010\n",
            "Input: 50 n: 57 Resultado: 393227939\n",
            "Input: 51 n: 36 Resultado: 363378444\n",
            "Input: 52 n: 10 Resultado: 298267508\n",
            "Input: 53 n: 93 Resultado: 365187875\n",
            "Input: 54 n: 88 Resultado: 392554645\n",
            "Input: 55 n: 9 Resultado: 249726770\n",
            "Input: 56 n: 68 Resultado: 390064958\n",
            "Input: 57 n: 83 Resultado: 387948820\n",
            "Input: 58 n: 41 Resultado: 340878888\n",
            "Input: 59 n: 72 Resultado: 359209809\n",
            "Input: 60 n: 38 Resultado: 376269222\n",
            "Input: 61 n: 19 Resultado: 270586008\n",
            "Input: 62 n: 50 Resultado: 381225184\n",
            "Input: 63 n: 47 Resultado: 361124602\n",
            "Input: 64 n: 64 Resultado: 380053058\n",
            "Input: 65 n: 61 Resultado: 368478222\n",
            "Input: 66 n: 26 Resultado: 387832950\n",
            "Input: 67 n: 98 Resultado: 386298720\n",
            "Input: 68 n: 26 Resultado: 352354896\n",
            "Input: 69 n: 4 Resultado: 163779000\n",
            "Input: 70 n: 47 Resultado: 393960972\n",
            "Input: 71 n: 11 Resultado: 357237280\n",
            "Input: 72 n: 77 Resultado: 392118579\n",
            "Input: 73 n: 69 Resultado: 363908825\n",
            "Input: 74 n: 15 Resultado: 338202993\n",
            "Input: 75 n: 20 Resultado: 354281228\n",
            "Input: 76 n: 68 Resultado: 306494793\n",
            "Input: 77 n: 42 Resultado: 387537969\n",
            "Input: 78 n: 45 Resultado: 397104444\n",
            "Input: 79 n: 50 Resultado: 374547152\n",
            "Input: 80 n: 66 Resultado: 384027280\n",
            "Input: 81 n: 97 Resultado: 394141584\n",
            "Input: 82 n: 85 Resultado: 389923072\n",
            "Input: 83 n: 31 Resultado: 383882049\n",
            "Input: 84 n: 99 Resultado: 385195720\n",
            "Input: 85 n: 22 Resultado: 369731048\n",
            "Input: 86 n: 41 Resultado: 363883782\n",
            "Input: 87 n: 1 Resultado: 0\n",
            "Input: 88 n: 2 Resultado: 16778164\n",
            "Input: 89 n: 82 Resultado: 387829920\n",
            "Input: 90 n: 48 Resultado: 381486555\n",
            "Input: 91 n: 56 Resultado: 368946364\n",
            "Input: 92 n: 83 Resultado: 386581087\n",
            "Input: 93 n: 55 Resultado: 389425715\n",
            "Input: 94 n: 52 Resultado: 332195402\n",
            "Input: 95 n: 59 Resultado: 373006095\n",
            "Input: 96 n: 30 Resultado: 373532880\n",
            "Input: 97 n: 31 Resultado: 382870260\n",
            "Input: 98 n: 97 Resultado: 391366560\n",
            "Input: 99 n: 26 Resultado: 351806005\n",
            "Input: 100 n: 15 Resultado: 385975046\n",
            "-----------------------------------\n",
            "Running with input98.txt\n",
            "Input: 1 n: 71 Resultado: 355791030\n",
            "Input: 2 n: 37 Resultado: 371331811\n",
            "Input: 3 n: 43 Resultado: 384519834\n",
            "Input: 4 n: 57 Resultado: 387866190\n",
            "Input: 5 n: 91 Resultado: 379562106\n",
            "Input: 6 n: 69 Resultado: 355712672\n",
            "Input: 7 n: 40 Resultado: 350877328\n",
            "Input: 8 n: 69 Resultado: 395987550\n",
            "Input: 9 n: 96 Resultado: 393860235\n",
            "Input: 10 n: 40 Resultado: 368330445\n",
            "Input: 11 n: 21 Resultado: 352918280\n",
            "Input: 12 n: 100 Resultado: 391502514\n",
            "Input: 13 n: 44 Resultado: 393407180\n",
            "Input: 14 n: 52 Resultado: 386711441\n",
            "Input: 15 n: 92 Resultado: 397720113\n",
            "Input: 16 n: 77 Resultado: 398681064\n",
            "Input: 17 n: 45 Resultado: 362977208\n",
            "Input: 18 n: 6 Resultado: 213835840\n",
            "Input: 19 n: 89 Resultado: 373950192\n",
            "Input: 20 n: 81 Resultado: 386858745\n",
            "Input: 21 n: 36 Resultado: 392492982\n",
            "Input: 22 n: 49 Resultado: 379963360\n",
            "Input: 23 n: 84 Resultado: 376805142\n",
            "Input: 24 n: 86 Resultado: 388385250\n",
            "Input: 25 n: 16 Resultado: 312936760\n",
            "Input: 26 n: 96 Resultado: 384070995\n",
            "Input: 27 n: 79 Resultado: 382042635\n",
            "Input: 28 n: 82 Resultado: 397343666\n",
            "Input: 29 n: 5 Resultado: 281926384\n",
            "Input: 30 n: 40 Resultado: 395450292\n",
            "Input: 31 n: 59 Resultado: 395589660\n",
            "Input: 32 n: 22 Resultado: 381592796\n",
            "Input: 33 n: 30 Resultado: 378634608\n",
            "Input: 34 n: 8 Resultado: 268176384\n",
            "Input: 35 n: 31 Resultado: 392778600\n",
            "Input: 36 n: 17 Resultado: 388651878\n",
            "Input: 37 n: 65 Resultado: 393823241\n",
            "Input: 38 n: 56 Resultado: 392552160\n",
            "Input: 39 n: 11 Resultado: 308806088\n",
            "Input: 40 n: 54 Resultado: 372144946\n",
            "Input: 41 n: 66 Resultado: 378580734\n",
            "Input: 42 n: 3 Resultado: 95264535\n",
            "Input: 43 n: 33 Resultado: 379095000\n",
            "Input: 44 n: 13 Resultado: 317977748\n",
            "Input: 45 n: 62 Resultado: 392489052\n",
            "Input: 46 n: 8 Resultado: 186406600\n",
            "Input: 47 n: 11 Resultado: 249151184\n",
            "Input: 48 n: 59 Resultado: 399320064\n",
            "Input: 49 n: 62 Resultado: 375369768\n",
            "Input: 50 n: 70 Resultado: 389030070\n",
            "Input: 51 n: 81 Resultado: 375358620\n",
            "Input: 52 n: 70 Resultado: 385632000\n",
            "Input: 53 n: 46 Resultado: 384154524\n",
            "Input: 54 n: 45 Resultado: 381005436\n",
            "Input: 55 n: 44 Resultado: 370830200\n",
            "Input: 56 n: 49 Resultado: 391623440\n",
            "Input: 57 n: 22 Resultado: 367608195\n",
            "Input: 58 n: 33 Resultado: 348931940\n",
            "Input: 59 n: 85 Resultado: 397942650\n",
            "Input: 60 n: 56 Resultado: 390571813\n",
            "Input: 61 n: 2 Resultado: 72436760\n",
            "Input: 62 n: 16 Resultado: 298994332\n",
            "Input: 63 n: 35 Resultado: 390526644\n",
            "Input: 64 n: 24 Resultado: 357149936\n",
            "Input: 65 n: 96 Resultado: 385884972\n",
            "Input: 66 n: 5 Resultado: 27540660\n",
            "Input: 67 n: 27 Resultado: 366182388\n",
            "Input: 68 n: 97 Resultado: 385690220\n",
            "Input: 69 n: 87 Resultado: 396625950\n",
            "Input: 70 n: 9 Resultado: 306037600\n",
            "Input: 71 n: 77 Resultado: 392432379\n",
            "Input: 72 n: 57 Resultado: 395340690\n",
            "Input: 73 n: 48 Resultado: 396905700\n",
            "Input: 74 n: 90 Resultado: 386788288\n",
            "Input: 75 n: 94 Resultado: 384159804\n",
            "Input: 76 n: 73 Resultado: 390780918\n",
            "Input: 77 n: 73 Resultado: 384727798\n",
            "Input: 78 n: 55 Resultado: 384624615\n",
            "Input: 79 n: 94 Resultado: 383630850\n",
            "Input: 80 n: 6 Resultado: 122518736\n",
            "Input: 81 n: 31 Resultado: 330951410\n",
            "Input: 82 n: 31 Resultado: 394572567\n",
            "Input: 83 n: 58 Resultado: 398381598\n",
            "Input: 84 n: 94 Resultado: 391694730\n",
            "Input: 85 n: 48 Resultado: 372244125\n",
            "Input: 86 n: 32 Resultado: 388745205\n",
            "Input: 87 n: 16 Resultado: 286681808\n",
            "Input: 88 n: 93 Resultado: 382565039\n",
            "Input: 89 n: 11 Resultado: 330951180\n",
            "Input: 90 n: 74 Resultado: 396049176\n",
            "Input: 91 n: 64 Resultado: 361806120\n",
            "Input: 92 n: 69 Resultado: 396207176\n",
            "Input: 93 n: 82 Resultado: 387627979\n",
            "Input: 94 n: 43 Resultado: 376026490\n",
            "Input: 95 n: 47 Resultado: 374086624\n",
            "Input: 96 n: 71 Resultado: 387056784\n",
            "Input: 97 n: 54 Resultado: 381063202\n",
            "Input: 98 n: 49 Resultado: 372719136\n",
            "Input: 99 n: 67 Resultado: 395850791\n",
            "Input: 100 n: 28 Resultado: 359779800\n",
            "-----------------------------------\n",
            "Running with input99.txt\n",
            "Input: 1 n: 71 Resultado: 355791030\n",
            "Input: 2 n: 37 Resultado: 371331811\n",
            "Input: 3 n: 43 Resultado: 384519834\n",
            "Input: 4 n: 57 Resultado: 387866190\n",
            "Input: 5 n: 91 Resultado: 379562106\n",
            "Input: 6 n: 69 Resultado: 355712672\n",
            "Input: 7 n: 40 Resultado: 350877328\n",
            "Input: 8 n: 69 Resultado: 395987550\n",
            "Input: 9 n: 96 Resultado: 393860235\n",
            "Input: 10 n: 40 Resultado: 368330445\n",
            "Input: 11 n: 21 Resultado: 352918280\n",
            "Input: 12 n: 100 Resultado: 391502514\n",
            "Input: 13 n: 44 Resultado: 393407180\n",
            "Input: 14 n: 52 Resultado: 386711441\n",
            "Input: 15 n: 92 Resultado: 397720113\n",
            "Input: 16 n: 77 Resultado: 398681064\n",
            "Input: 17 n: 45 Resultado: 362977208\n",
            "Input: 18 n: 6 Resultado: 213835840\n",
            "Input: 19 n: 89 Resultado: 373950192\n",
            "Input: 20 n: 81 Resultado: 386858745\n",
            "Input: 21 n: 36 Resultado: 392492982\n",
            "Input: 22 n: 49 Resultado: 379963360\n",
            "Input: 23 n: 84 Resultado: 376805142\n",
            "Input: 24 n: 86 Resultado: 388385250\n",
            "Input: 25 n: 16 Resultado: 312936760\n",
            "Input: 26 n: 96 Resultado: 384070995\n",
            "Input: 27 n: 79 Resultado: 382042635\n",
            "Input: 28 n: 82 Resultado: 397343666\n",
            "Input: 29 n: 5 Resultado: 281926384\n",
            "Input: 30 n: 40 Resultado: 395450292\n",
            "Input: 31 n: 59 Resultado: 395589660\n",
            "Input: 32 n: 22 Resultado: 381592796\n",
            "Input: 33 n: 30 Resultado: 378634608\n",
            "Input: 34 n: 8 Resultado: 268176384\n",
            "Input: 35 n: 31 Resultado: 392778600\n",
            "Input: 36 n: 17 Resultado: 388651878\n",
            "Input: 37 n: 65 Resultado: 393823241\n",
            "Input: 38 n: 56 Resultado: 392552160\n",
            "Input: 39 n: 11 Resultado: 308806088\n",
            "Input: 40 n: 54 Resultado: 372144946\n",
            "Input: 41 n: 66 Resultado: 378580734\n",
            "Input: 42 n: 3 Resultado: 95264535\n",
            "Input: 43 n: 33 Resultado: 379095000\n",
            "Input: 44 n: 13 Resultado: 317977748\n",
            "Input: 45 n: 62 Resultado: 392489052\n",
            "Input: 46 n: 8 Resultado: 186406600\n",
            "Input: 47 n: 11 Resultado: 249151184\n",
            "Input: 48 n: 59 Resultado: 399320064\n",
            "Input: 49 n: 62 Resultado: 375369768\n",
            "Input: 50 n: 70 Resultado: 389030070\n",
            "Input: 51 n: 81 Resultado: 375358620\n",
            "Input: 52 n: 70 Resultado: 385632000\n",
            "Input: 53 n: 46 Resultado: 384154524\n",
            "Input: 54 n: 45 Resultado: 381005436\n",
            "Input: 55 n: 44 Resultado: 370830200\n",
            "Input: 56 n: 49 Resultado: 391623440\n",
            "Input: 57 n: 22 Resultado: 367608195\n",
            "Input: 58 n: 33 Resultado: 348931940\n",
            "Input: 59 n: 85 Resultado: 397942650\n",
            "Input: 60 n: 56 Resultado: 390571813\n",
            "Input: 61 n: 2 Resultado: 72436760\n",
            "Input: 62 n: 16 Resultado: 298994332\n",
            "Input: 63 n: 35 Resultado: 390526644\n",
            "Input: 64 n: 24 Resultado: 357149936\n",
            "Input: 65 n: 96 Resultado: 385884972\n",
            "Input: 66 n: 5 Resultado: 27540660\n",
            "Input: 67 n: 27 Resultado: 366182388\n",
            "Input: 68 n: 97 Resultado: 385690220\n",
            "Input: 69 n: 87 Resultado: 396625950\n",
            "Input: 70 n: 9 Resultado: 306037600\n",
            "Input: 71 n: 77 Resultado: 392432379\n",
            "Input: 72 n: 57 Resultado: 395340690\n",
            "Input: 73 n: 48 Resultado: 396905700\n",
            "Input: 74 n: 90 Resultado: 386788288\n",
            "Input: 75 n: 94 Resultado: 384159804\n",
            "Input: 76 n: 73 Resultado: 390780918\n",
            "Input: 77 n: 73 Resultado: 384727798\n",
            "Input: 78 n: 55 Resultado: 384624615\n",
            "Input: 79 n: 94 Resultado: 383630850\n",
            "Input: 80 n: 6 Resultado: 122518736\n",
            "Input: 81 n: 31 Resultado: 330951410\n",
            "Input: 82 n: 31 Resultado: 394572567\n",
            "Input: 83 n: 58 Resultado: 398381598\n",
            "Input: 84 n: 94 Resultado: 391694730\n",
            "Input: 85 n: 48 Resultado: 372244125\n",
            "Input: 86 n: 32 Resultado: 388745205\n",
            "Input: 87 n: 16 Resultado: 286681808\n",
            "Input: 88 n: 93 Resultado: 382565039\n",
            "Input: 89 n: 11 Resultado: 330951180\n",
            "Input: 90 n: 74 Resultado: 396049176\n",
            "Input: 91 n: 64 Resultado: 361806120\n",
            "Input: 92 n: 69 Resultado: 396207176\n",
            "Input: 93 n: 82 Resultado: 387627979\n",
            "Input: 94 n: 43 Resultado: 376026490\n",
            "Input: 95 n: 47 Resultado: 374086624\n",
            "Input: 96 n: 71 Resultado: 387056784\n",
            "Input: 97 n: 54 Resultado: 381063202\n",
            "Input: 98 n: 49 Resultado: 372719136\n",
            "Input: 99 n: 67 Resultado: 395850791\n",
            "Input: 100 n: 28 Resultado: 359779800\n",
            "-----------------------------------\n",
            "Running with input100.txt\n",
            "Input: 1 n: 71 Resultado: 355791030\n",
            "Input: 2 n: 37 Resultado: 371331811\n",
            "Input: 3 n: 43 Resultado: 384519834\n",
            "Input: 4 n: 57 Resultado: 387866190\n",
            "Input: 5 n: 91 Resultado: 379562106\n",
            "Input: 6 n: 69 Resultado: 355712672\n",
            "Input: 7 n: 40 Resultado: 350877328\n",
            "Input: 8 n: 69 Resultado: 395987550\n",
            "Input: 9 n: 96 Resultado: 393860235\n",
            "Input: 10 n: 40 Resultado: 368330445\n",
            "Input: 11 n: 21 Resultado: 352918280\n",
            "Input: 12 n: 100 Resultado: 391502514\n",
            "Input: 13 n: 44 Resultado: 393407180\n",
            "Input: 14 n: 52 Resultado: 386711441\n",
            "Input: 15 n: 92 Resultado: 397720113\n",
            "Input: 16 n: 77 Resultado: 398681064\n",
            "Input: 17 n: 45 Resultado: 362977208\n",
            "Input: 18 n: 6 Resultado: 213835840\n",
            "Input: 19 n: 89 Resultado: 373950192\n",
            "Input: 20 n: 81 Resultado: 386858745\n",
            "Input: 21 n: 36 Resultado: 392492982\n",
            "Input: 22 n: 49 Resultado: 379963360\n",
            "Input: 23 n: 84 Resultado: 376805142\n",
            "Input: 24 n: 86 Resultado: 388385250\n",
            "Input: 25 n: 16 Resultado: 312936760\n",
            "Input: 26 n: 96 Resultado: 384070995\n",
            "Input: 27 n: 79 Resultado: 382042635\n",
            "Input: 28 n: 82 Resultado: 397343666\n",
            "Input: 29 n: 5 Resultado: 281926384\n",
            "Input: 30 n: 40 Resultado: 395450292\n",
            "Input: 31 n: 59 Resultado: 395589660\n",
            "Input: 32 n: 22 Resultado: 381592796\n",
            "Input: 33 n: 30 Resultado: 378634608\n",
            "Input: 34 n: 8 Resultado: 268176384\n",
            "Input: 35 n: 31 Resultado: 392778600\n",
            "Input: 36 n: 17 Resultado: 388651878\n",
            "Input: 37 n: 65 Resultado: 393823241\n",
            "Input: 38 n: 56 Resultado: 392552160\n",
            "Input: 39 n: 11 Resultado: 308806088\n",
            "Input: 40 n: 54 Resultado: 372144946\n",
            "Input: 41 n: 66 Resultado: 378580734\n",
            "Input: 42 n: 3 Resultado: 95264535\n",
            "Input: 43 n: 33 Resultado: 379095000\n",
            "Input: 44 n: 13 Resultado: 317977748\n",
            "Input: 45 n: 62 Resultado: 392489052\n",
            "Input: 46 n: 8 Resultado: 186406600\n",
            "Input: 47 n: 11 Resultado: 249151184\n",
            "Input: 48 n: 59 Resultado: 399320064\n",
            "Input: 49 n: 62 Resultado: 375369768\n",
            "Input: 50 n: 70 Resultado: 389030070\n",
            "Input: 51 n: 81 Resultado: 375358620\n",
            "Input: 52 n: 70 Resultado: 385632000\n",
            "Input: 53 n: 46 Resultado: 384154524\n",
            "Input: 54 n: 45 Resultado: 381005436\n",
            "Input: 55 n: 44 Resultado: 370830200\n",
            "Input: 56 n: 49 Resultado: 391623440\n",
            "Input: 57 n: 22 Resultado: 367608195\n",
            "Input: 58 n: 33 Resultado: 348931940\n",
            "Input: 59 n: 85 Resultado: 397942650\n",
            "Input: 60 n: 56 Resultado: 390571813\n",
            "Input: 61 n: 2 Resultado: 72436760\n",
            "Input: 62 n: 16 Resultado: 298994332\n",
            "Input: 63 n: 35 Resultado: 390526644\n",
            "Input: 64 n: 24 Resultado: 357149936\n",
            "Input: 65 n: 96 Resultado: 385884972\n",
            "Input: 66 n: 5 Resultado: 27540660\n",
            "Input: 67 n: 27 Resultado: 366182388\n",
            "Input: 68 n: 97 Resultado: 385690220\n",
            "Input: 69 n: 87 Resultado: 396625950\n",
            "Input: 70 n: 9 Resultado: 306037600\n",
            "Input: 71 n: 77 Resultado: 392432379\n",
            "Input: 72 n: 57 Resultado: 395340690\n",
            "Input: 73 n: 48 Resultado: 396905700\n",
            "Input: 74 n: 90 Resultado: 386788288\n",
            "Input: 75 n: 94 Resultado: 384159804\n",
            "Input: 76 n: 73 Resultado: 390780918\n",
            "Input: 77 n: 73 Resultado: 384727798\n",
            "Input: 78 n: 55 Resultado: 384624615\n",
            "Input: 79 n: 94 Resultado: 383630850\n",
            "Input: 80 n: 6 Resultado: 122518736\n",
            "Input: 81 n: 31 Resultado: 330951410\n",
            "Input: 82 n: 31 Resultado: 394572567\n",
            "Input: 83 n: 58 Resultado: 398381598\n",
            "Input: 84 n: 94 Resultado: 391694730\n",
            "Input: 85 n: 48 Resultado: 372244125\n",
            "Input: 86 n: 32 Resultado: 388745205\n",
            "Input: 87 n: 16 Resultado: 286681808\n",
            "Input: 88 n: 93 Resultado: 382565039\n",
            "Input: 89 n: 11 Resultado: 330951180\n",
            "Input: 90 n: 74 Resultado: 396049176\n",
            "Input: 91 n: 64 Resultado: 361806120\n",
            "Input: 92 n: 69 Resultado: 396207176\n",
            "Input: 93 n: 82 Resultado: 387627979\n",
            "Input: 94 n: 43 Resultado: 376026490\n",
            "Input: 95 n: 47 Resultado: 374086624\n",
            "Input: 96 n: 71 Resultado: 387056784\n",
            "Input: 97 n: 54 Resultado: 381063202\n",
            "Input: 98 n: 49 Resultado: 372719136\n",
            "Input: 99 n: 67 Resultado: 395850791\n",
            "Input: 100 n: 28 Resultado: 359779800\n",
            "CPU times: user 107 ms, sys: 4.5 ms, total: 112 ms\n",
            "Wall time: 1.97 s\n"
          ]
        }
      ]
    },
    {
      "cell_type": "markdown",
      "source": [
        "#100 stress tests super efficient solution in C++ $$ (T(n)<10 n=O(n)) $$"
      ],
      "metadata": {
        "id": "OIhWbApoyZuO"
      }
    },
    {
      "cell_type": "code",
      "source": [
        "%%writefile stress_tests_hundredcases_cpp.cpp\n",
        "\n",
        "#include <iostream>\n",
        "#include <ctime>\n",
        "#include <cstdlib>\n",
        "#include <vector>\n",
        "#include <climits>\n",
        "\n",
        "int main() {\n",
        "\n",
        "    std::srand(static_cast<unsigned int>(std::time(nullptr)));\n",
        "\n",
        "    for (int i = 0; i < 100; i++) {\n",
        "        int n = std::rand() % 100 + 1;\n",
        "        int64_t a_max = INT_MIN;\n",
        "        int64_t b_max = INT_MIN;\n",
        "\n",
        "        for (int j = 0; j < n; j++) {\n",
        "            int64_t x = std::rand() % 20000 + 1;\n",
        "            if (x > a_max) {\n",
        "                b_max = a_max;\n",
        "                a_max = x;\n",
        "            } else if (x > b_max) {\n",
        "                b_max = x;\n",
        "            }\n",
        "        }\n",
        "\n",
        "        std::cout << \"Input: \" << i + 1 << \" n: \" << n << \" Resultado: \" << a_max * b_max << \"\\n\";\n",
        "    }\n",
        "\n",
        "    return 0;\n",
        "}\n",
        "\n"
      ],
      "metadata": {
        "colab": {
          "base_uri": "https://localhost:8080/"
        },
        "id": "4mGGlcMZzgc_",
        "outputId": "66e9bd90-ebc4-476b-80c6-38b4943ce0c2"
      },
      "execution_count": 317,
      "outputs": [
        {
          "output_type": "stream",
          "name": "stdout",
          "text": [
            "Overwriting stress_tests_hundredcases_cpp.cpp\n"
          ]
        }
      ]
    },
    {
      "cell_type": "code",
      "source": [
        "%%time\n",
        "!g++ stress_tests_hundredcases_cpp.cpp -o hundred_cpp\n",
        "!./hundred_cpp"
      ],
      "metadata": {
        "colab": {
          "base_uri": "https://localhost:8080/"
        },
        "id": "G7XLpeECIw4_",
        "outputId": "7a612ce6-a9ea-4e2f-88b5-09cdd552f46b"
      },
      "execution_count": 318,
      "outputs": [
        {
          "output_type": "stream",
          "name": "stdout",
          "text": [
            "Input: 1 n: 77 Resultado: 385371672\n",
            "Input: 2 n: 29 Resultado: 357199438\n",
            "Input: 3 n: 41 Resultado: 380192494\n",
            "Input: 4 n: 23 Resultado: 379558300\n",
            "Input: 5 n: 93 Resultado: 391584660\n",
            "Input: 6 n: 88 Resultado: 396325328\n",
            "Input: 7 n: 12 Resultado: 330532160\n",
            "Input: 8 n: 30 Resultado: 383937788\n",
            "Input: 9 n: 71 Resultado: 395030098\n",
            "Input: 10 n: 79 Resultado: 392930174\n",
            "Input: 11 n: 52 Resultado: 390636181\n",
            "Input: 12 n: 42 Resultado: 393861012\n",
            "Input: 13 n: 12 Resultado: 344002274\n",
            "Input: 14 n: 78 Resultado: 380904264\n",
            "Input: 15 n: 63 Resultado: 395680000\n",
            "Input: 16 n: 93 Resultado: 375628435\n",
            "Input: 17 n: 22 Resultado: 385824450\n",
            "Input: 18 n: 97 Resultado: 387157760\n",
            "Input: 19 n: 66 Resultado: 398241360\n",
            "Input: 20 n: 4 Resultado: 248041630\n",
            "Input: 21 n: 30 Resultado: 373933336\n",
            "Input: 22 n: 95 Resultado: 370341078\n",
            "Input: 23 n: 1 Resultado: -36077725286400\n",
            "Input: 24 n: 24 Resultado: 385726236\n",
            "Input: 25 n: 28 Resultado: 373378304\n",
            "Input: 26 n: 30 Resultado: 387903790\n",
            "Input: 27 n: 41 Resultado: 370160439\n",
            "Input: 28 n: 59 Resultado: 388658960\n",
            "Input: 29 n: 8 Resultado: 357737140\n",
            "Input: 30 n: 84 Resultado: 380987660\n",
            "Input: 31 n: 48 Resultado: 385042808\n",
            "Input: 32 n: 65 Resultado: 388817682\n",
            "Input: 33 n: 35 Resultado: 369388310\n",
            "Input: 34 n: 45 Resultado: 378138338\n",
            "Input: 35 n: 78 Resultado: 391729360\n",
            "Input: 36 n: 40 Resultado: 362185091\n",
            "Input: 37 n: 30 Resultado: 252932715\n",
            "Input: 38 n: 63 Resultado: 381814370\n",
            "Input: 39 n: 49 Resultado: 379801604\n",
            "Input: 40 n: 1 Resultado: -23016729739264\n",
            "Input: 41 n: 27 Resultado: 356449835\n",
            "Input: 42 n: 1 Resultado: -31177167601664\n",
            "Input: 43 n: 5 Resultado: 364325493\n",
            "Input: 44 n: 69 Resultado: 381166672\n",
            "Input: 45 n: 30 Resultado: 329325390\n",
            "Input: 46 n: 57 Resultado: 395143420\n",
            "Input: 47 n: 62 Resultado: 393404424\n",
            "Input: 48 n: 60 Resultado: 393824000\n",
            "Input: 49 n: 77 Resultado: 356658918\n",
            "Input: 50 n: 88 Resultado: 394642827\n",
            "Input: 51 n: 10 Resultado: 358409832\n",
            "Input: 52 n: 21 Resultado: 332345308\n",
            "Input: 53 n: 23 Resultado: 367840564\n",
            "Input: 54 n: 56 Resultado: 395811016\n",
            "Input: 55 n: 25 Resultado: 377694576\n",
            "Input: 56 n: 1 Resultado: -26280904884224\n",
            "Input: 57 n: 72 Resultado: 387853632\n",
            "Input: 58 n: 43 Resultado: 391446104\n",
            "Input: 59 n: 19 Resultado: 331144000\n",
            "Input: 60 n: 49 Resultado: 386647932\n",
            "Input: 61 n: 36 Resultado: 391189020\n",
            "Input: 62 n: 53 Resultado: 374811138\n",
            "Input: 63 n: 11 Resultado: 250762255\n",
            "Input: 64 n: 15 Resultado: 344504447\n",
            "Input: 65 n: 58 Resultado: 363223536\n",
            "Input: 66 n: 73 Resultado: 387595212\n",
            "Input: 67 n: 80 Resultado: 391503132\n",
            "Input: 68 n: 48 Resultado: 375612692\n",
            "Input: 69 n: 66 Resultado: 384532380\n",
            "Input: 70 n: 49 Resultado: 336092235\n",
            "Input: 71 n: 7 Resultado: 309706740\n",
            "Input: 72 n: 7 Resultado: 206675982\n",
            "Input: 73 n: 31 Resultado: 387780610\n",
            "Input: 74 n: 25 Resultado: 394054457\n",
            "Input: 75 n: 55 Resultado: 383883668\n",
            "Input: 76 n: 67 Resultado: 362396344\n",
            "Input: 77 n: 83 Resultado: 397782924\n",
            "Input: 78 n: 31 Resultado: 363366182\n",
            "Input: 79 n: 48 Resultado: 395282475\n",
            "Input: 80 n: 45 Resultado: 357111890\n",
            "Input: 81 n: 29 Resultado: 320678346\n",
            "Input: 82 n: 10 Resultado: 333838170\n",
            "Input: 83 n: 26 Resultado: 384817545\n",
            "Input: 84 n: 40 Resultado: 357865560\n",
            "Input: 85 n: 56 Resultado: 334301175\n",
            "Input: 86 n: 28 Resultado: 324253171\n",
            "Input: 87 n: 43 Resultado: 385551312\n",
            "Input: 88 n: 88 Resultado: 391333734\n",
            "Input: 89 n: 81 Resultado: 389020047\n",
            "Input: 90 n: 8 Resultado: 181529400\n",
            "Input: 91 n: 37 Resultado: 359647400\n",
            "Input: 92 n: 75 Resultado: 393882912\n",
            "Input: 93 n: 62 Resultado: 383294805\n",
            "Input: 94 n: 67 Resultado: 392292186\n",
            "Input: 95 n: 100 Resultado: 376434656\n",
            "Input: 96 n: 80 Resultado: 361724430\n",
            "Input: 97 n: 14 Resultado: 236860960\n",
            "Input: 98 n: 39 Resultado: 369928213\n",
            "Input: 99 n: 49 Resultado: 390595692\n",
            "Input: 100 n: 63 Resultado: 359553475\n",
            "CPU times: user 15.8 ms, sys: 1.16 ms, total: 17 ms\n",
            "Wall time: 612 ms\n"
          ]
        }
      ]
    },
    {
      "cell_type": "code",
      "source": [
        "%%writefile gen_input_cpp.sh\n",
        "#!/bin/bash\n",
        "\n",
        "numero_conjuntos=100\n",
        "\n",
        "for ((j=1; j<=$numero_conjuntos; j++)); do\n",
        "  numero_aleatorio=$((RANDOM % 100 + 1))\n",
        "  numeros_aleatorios=\"\"\n",
        "  for ((i=1; i<=$numero_aleatorio; i++)); do\n",
        "    numeros_aleatorios=\"$numeros_aleatorios $((RANDOM % 100 + 1))\"\n",
        "  done\n",
        "\n",
        "  archivo_salida=\"input_$j.txt\"\n",
        "  echo \"$numero_aleatorio\" > \"$archivo_salida\"\n",
        "  echo \"$numeros_aleatorios\" >> \"$archivo_salida\"\n",
        "\n",
        "  echo \"Archivo '$archivo_salida' generado con éxito.\"\n",
        "done"
      ],
      "metadata": {
        "colab": {
          "base_uri": "https://localhost:8080/"
        },
        "id": "R66Uuzvb_rwc",
        "outputId": "86ce1a0b-c82b-4f8a-c6e2-f73f6772f738"
      },
      "execution_count": 319,
      "outputs": [
        {
          "output_type": "stream",
          "name": "stdout",
          "text": [
            "Overwriting gen_input_cpp.sh\n"
          ]
        }
      ]
    },
    {
      "cell_type": "code",
      "source": [
        "!bash gen_input_cpp.sh"
      ],
      "metadata": {
        "colab": {
          "base_uri": "https://localhost:8080/"
        },
        "id": "Olguf5zmzsaI",
        "outputId": "177992e0-e14d-433f-f304-ce7cf75cd368"
      },
      "execution_count": 320,
      "outputs": [
        {
          "output_type": "stream",
          "name": "stdout",
          "text": [
            "Archivo 'input_1.txt' generado con éxito.\n",
            "Archivo 'input_2.txt' generado con éxito.\n",
            "Archivo 'input_3.txt' generado con éxito.\n",
            "Archivo 'input_4.txt' generado con éxito.\n",
            "Archivo 'input_5.txt' generado con éxito.\n",
            "Archivo 'input_6.txt' generado con éxito.\n",
            "Archivo 'input_7.txt' generado con éxito.\n",
            "Archivo 'input_8.txt' generado con éxito.\n",
            "Archivo 'input_9.txt' generado con éxito.\n",
            "Archivo 'input_10.txt' generado con éxito.\n",
            "Archivo 'input_11.txt' generado con éxito.\n",
            "Archivo 'input_12.txt' generado con éxito.\n",
            "Archivo 'input_13.txt' generado con éxito.\n",
            "Archivo 'input_14.txt' generado con éxito.\n",
            "Archivo 'input_15.txt' generado con éxito.\n",
            "Archivo 'input_16.txt' generado con éxito.\n",
            "Archivo 'input_17.txt' generado con éxito.\n",
            "Archivo 'input_18.txt' generado con éxito.\n",
            "Archivo 'input_19.txt' generado con éxito.\n",
            "Archivo 'input_20.txt' generado con éxito.\n",
            "Archivo 'input_21.txt' generado con éxito.\n",
            "Archivo 'input_22.txt' generado con éxito.\n",
            "Archivo 'input_23.txt' generado con éxito.\n",
            "Archivo 'input_24.txt' generado con éxito.\n",
            "Archivo 'input_25.txt' generado con éxito.\n",
            "Archivo 'input_26.txt' generado con éxito.\n",
            "Archivo 'input_27.txt' generado con éxito.\n",
            "Archivo 'input_28.txt' generado con éxito.\n",
            "Archivo 'input_29.txt' generado con éxito.\n",
            "Archivo 'input_30.txt' generado con éxito.\n",
            "Archivo 'input_31.txt' generado con éxito.\n",
            "Archivo 'input_32.txt' generado con éxito.\n",
            "Archivo 'input_33.txt' generado con éxito.\n",
            "Archivo 'input_34.txt' generado con éxito.\n",
            "Archivo 'input_35.txt' generado con éxito.\n",
            "Archivo 'input_36.txt' generado con éxito.\n",
            "Archivo 'input_37.txt' generado con éxito.\n",
            "Archivo 'input_38.txt' generado con éxito.\n",
            "Archivo 'input_39.txt' generado con éxito.\n",
            "Archivo 'input_40.txt' generado con éxito.\n",
            "Archivo 'input_41.txt' generado con éxito.\n",
            "Archivo 'input_42.txt' generado con éxito.\n",
            "Archivo 'input_43.txt' generado con éxito.\n",
            "Archivo 'input_44.txt' generado con éxito.\n",
            "Archivo 'input_45.txt' generado con éxito.\n",
            "Archivo 'input_46.txt' generado con éxito.\n",
            "Archivo 'input_47.txt' generado con éxito.\n",
            "Archivo 'input_48.txt' generado con éxito.\n",
            "Archivo 'input_49.txt' generado con éxito.\n",
            "Archivo 'input_50.txt' generado con éxito.\n",
            "Archivo 'input_51.txt' generado con éxito.\n",
            "Archivo 'input_52.txt' generado con éxito.\n",
            "Archivo 'input_53.txt' generado con éxito.\n",
            "Archivo 'input_54.txt' generado con éxito.\n",
            "Archivo 'input_55.txt' generado con éxito.\n",
            "Archivo 'input_56.txt' generado con éxito.\n",
            "Archivo 'input_57.txt' generado con éxito.\n",
            "Archivo 'input_58.txt' generado con éxito.\n",
            "Archivo 'input_59.txt' generado con éxito.\n",
            "Archivo 'input_60.txt' generado con éxito.\n",
            "Archivo 'input_61.txt' generado con éxito.\n",
            "Archivo 'input_62.txt' generado con éxito.\n",
            "Archivo 'input_63.txt' generado con éxito.\n",
            "Archivo 'input_64.txt' generado con éxito.\n",
            "Archivo 'input_65.txt' generado con éxito.\n",
            "Archivo 'input_66.txt' generado con éxito.\n",
            "Archivo 'input_67.txt' generado con éxito.\n",
            "Archivo 'input_68.txt' generado con éxito.\n",
            "Archivo 'input_69.txt' generado con éxito.\n",
            "Archivo 'input_70.txt' generado con éxito.\n",
            "Archivo 'input_71.txt' generado con éxito.\n",
            "Archivo 'input_72.txt' generado con éxito.\n",
            "Archivo 'input_73.txt' generado con éxito.\n",
            "Archivo 'input_74.txt' generado con éxito.\n",
            "Archivo 'input_75.txt' generado con éxito.\n",
            "Archivo 'input_76.txt' generado con éxito.\n",
            "Archivo 'input_77.txt' generado con éxito.\n",
            "Archivo 'input_78.txt' generado con éxito.\n",
            "Archivo 'input_79.txt' generado con éxito.\n",
            "Archivo 'input_80.txt' generado con éxito.\n",
            "Archivo 'input_81.txt' generado con éxito.\n",
            "Archivo 'input_82.txt' generado con éxito.\n",
            "Archivo 'input_83.txt' generado con éxito.\n",
            "Archivo 'input_84.txt' generado con éxito.\n",
            "Archivo 'input_85.txt' generado con éxito.\n",
            "Archivo 'input_86.txt' generado con éxito.\n",
            "Archivo 'input_87.txt' generado con éxito.\n",
            "Archivo 'input_88.txt' generado con éxito.\n",
            "Archivo 'input_89.txt' generado con éxito.\n",
            "Archivo 'input_90.txt' generado con éxito.\n",
            "Archivo 'input_91.txt' generado con éxito.\n",
            "Archivo 'input_92.txt' generado con éxito.\n",
            "Archivo 'input_93.txt' generado con éxito.\n",
            "Archivo 'input_94.txt' generado con éxito.\n",
            "Archivo 'input_95.txt' generado con éxito.\n",
            "Archivo 'input_96.txt' generado con éxito.\n",
            "Archivo 'input_97.txt' generado con éxito.\n",
            "Archivo 'input_98.txt' generado con éxito.\n",
            "Archivo 'input_99.txt' generado con éxito.\n",
            "Archivo 'input_100.txt' generado con éxito.\n"
          ]
        }
      ]
    },
    {
      "cell_type": "code",
      "source": [
        " %%writefile torture_max_pairwise_sort_super_efficient_cpp.sh\n",
        "#!/bin/bash\n",
        "\n",
        "\n",
        "for i in {1..100}\n",
        "do\n",
        "    echo \"-----------------------------------\"\n",
        "    echo \"Running with input$i.txt\"\n",
        "    ./stress_tests_hundredcases_cpp < input_$i.txt > input_$i.txt\n",
        "\n",
        "done"
      ],
      "metadata": {
        "colab": {
          "base_uri": "https://localhost:8080/"
        },
        "id": "Lv72lNAEAPtW",
        "outputId": "a5af29e5-7cce-4d68-fda2-9fd2c6024876"
      },
      "execution_count": 321,
      "outputs": [
        {
          "output_type": "stream",
          "name": "stdout",
          "text": [
            "Overwriting torture_max_pairwise_sort_super_efficient_cpp.sh\n"
          ]
        }
      ]
    },
    {
      "cell_type": "code",
      "source": [
        "%%time\n",
        "!chmod u+x torture_max_pairwise_sort_super_efficient_cpp.sh\n",
        "!./torture_max_pairwise_sort_super_efficient_cpp.sh"
      ],
      "metadata": {
        "colab": {
          "base_uri": "https://localhost:8080/"
        },
        "id": "rcW5fAJxAiDa",
        "outputId": "706f3036-33d2-46f6-988f-5cd9fcce0595"
      },
      "execution_count": 322,
      "outputs": [
        {
          "output_type": "stream",
          "name": "stdout",
          "text": [
            "-----------------------------------\n",
            "Running with input1.txt\n",
            "-----------------------------------\n",
            "Running with input2.txt\n",
            "-----------------------------------\n",
            "Running with input3.txt\n",
            "-----------------------------------\n",
            "Running with input4.txt\n",
            "-----------------------------------\n",
            "Running with input5.txt\n",
            "-----------------------------------\n",
            "Running with input6.txt\n",
            "-----------------------------------\n",
            "Running with input7.txt\n",
            "-----------------------------------\n",
            "Running with input8.txt\n",
            "-----------------------------------\n",
            "Running with input9.txt\n",
            "-----------------------------------\n",
            "Running with input10.txt\n",
            "-----------------------------------\n",
            "Running with input11.txt\n",
            "-----------------------------------\n",
            "Running with input12.txt\n",
            "-----------------------------------\n",
            "Running with input13.txt\n",
            "-----------------------------------\n",
            "Running with input14.txt\n",
            "-----------------------------------\n",
            "Running with input15.txt\n",
            "-----------------------------------\n",
            "Running with input16.txt\n",
            "-----------------------------------\n",
            "Running with input17.txt\n",
            "-----------------------------------\n",
            "Running with input18.txt\n",
            "-----------------------------------\n",
            "Running with input19.txt\n",
            "-----------------------------------\n",
            "Running with input20.txt\n",
            "-----------------------------------\n",
            "Running with input21.txt\n",
            "-----------------------------------\n",
            "Running with input22.txt\n",
            "-----------------------------------\n",
            "Running with input23.txt\n",
            "-----------------------------------\n",
            "Running with input24.txt\n",
            "-----------------------------------\n",
            "Running with input25.txt\n",
            "-----------------------------------\n",
            "Running with input26.txt\n",
            "-----------------------------------\n",
            "Running with input27.txt\n",
            "-----------------------------------\n",
            "Running with input28.txt\n",
            "-----------------------------------\n",
            "Running with input29.txt\n",
            "-----------------------------------\n",
            "Running with input30.txt\n",
            "-----------------------------------\n",
            "Running with input31.txt\n",
            "-----------------------------------\n",
            "Running with input32.txt\n",
            "-----------------------------------\n",
            "Running with input33.txt\n",
            "-----------------------------------\n",
            "Running with input34.txt\n",
            "-----------------------------------\n",
            "Running with input35.txt\n",
            "-----------------------------------\n",
            "Running with input36.txt\n",
            "-----------------------------------\n",
            "Running with input37.txt\n",
            "-----------------------------------\n",
            "Running with input38.txt\n",
            "-----------------------------------\n",
            "Running with input39.txt\n",
            "-----------------------------------\n",
            "Running with input40.txt\n",
            "-----------------------------------\n",
            "Running with input41.txt\n",
            "-----------------------------------\n",
            "Running with input42.txt\n",
            "-----------------------------------\n",
            "Running with input43.txt\n",
            "-----------------------------------\n",
            "Running with input44.txt\n",
            "-----------------------------------\n",
            "Running with input45.txt\n",
            "-----------------------------------\n",
            "Running with input46.txt\n",
            "-----------------------------------\n",
            "Running with input47.txt\n",
            "-----------------------------------\n",
            "Running with input48.txt\n",
            "-----------------------------------\n",
            "Running with input49.txt\n",
            "-----------------------------------\n",
            "Running with input50.txt\n",
            "-----------------------------------\n",
            "Running with input51.txt\n",
            "-----------------------------------\n",
            "Running with input52.txt\n",
            "-----------------------------------\n",
            "Running with input53.txt\n",
            "-----------------------------------\n",
            "Running with input54.txt\n",
            "-----------------------------------\n",
            "Running with input55.txt\n",
            "-----------------------------------\n",
            "Running with input56.txt\n",
            "-----------------------------------\n",
            "Running with input57.txt\n",
            "-----------------------------------\n",
            "Running with input58.txt\n",
            "-----------------------------------\n",
            "Running with input59.txt\n",
            "-----------------------------------\n",
            "Running with input60.txt\n",
            "-----------------------------------\n",
            "Running with input61.txt\n",
            "-----------------------------------\n",
            "Running with input62.txt\n",
            "-----------------------------------\n",
            "Running with input63.txt\n",
            "-----------------------------------\n",
            "Running with input64.txt\n",
            "-----------------------------------\n",
            "Running with input65.txt\n",
            "-----------------------------------\n",
            "Running with input66.txt\n",
            "-----------------------------------\n",
            "Running with input67.txt\n",
            "-----------------------------------\n",
            "Running with input68.txt\n",
            "-----------------------------------\n",
            "Running with input69.txt\n",
            "-----------------------------------\n",
            "Running with input70.txt\n",
            "-----------------------------------\n",
            "Running with input71.txt\n",
            "-----------------------------------\n",
            "Running with input72.txt\n",
            "-----------------------------------\n",
            "Running with input73.txt\n",
            "-----------------------------------\n",
            "Running with input74.txt\n",
            "-----------------------------------\n",
            "Running with input75.txt\n",
            "-----------------------------------\n",
            "Running with input76.txt\n",
            "-----------------------------------\n",
            "Running with input77.txt\n",
            "-----------------------------------\n",
            "Running with input78.txt\n",
            "-----------------------------------\n",
            "Running with input79.txt\n",
            "-----------------------------------\n",
            "Running with input80.txt\n",
            "-----------------------------------\n",
            "Running with input81.txt\n",
            "-----------------------------------\n",
            "Running with input82.txt\n",
            "-----------------------------------\n",
            "Running with input83.txt\n",
            "-----------------------------------\n",
            "Running with input84.txt\n",
            "-----------------------------------\n",
            "Running with input85.txt\n",
            "-----------------------------------\n",
            "Running with input86.txt\n",
            "-----------------------------------\n",
            "Running with input87.txt\n",
            "-----------------------------------\n",
            "Running with input88.txt\n",
            "-----------------------------------\n",
            "Running with input89.txt\n",
            "-----------------------------------\n",
            "Running with input90.txt\n",
            "-----------------------------------\n",
            "Running with input91.txt\n",
            "-----------------------------------\n",
            "Running with input92.txt\n",
            "-----------------------------------\n",
            "Running with input93.txt\n",
            "-----------------------------------\n",
            "Running with input94.txt\n",
            "-----------------------------------\n",
            "Running with input95.txt\n",
            "-----------------------------------\n",
            "Running with input96.txt\n",
            "-----------------------------------\n",
            "Running with input97.txt\n",
            "-----------------------------------\n",
            "Running with input98.txt\n",
            "-----------------------------------\n",
            "Running with input99.txt\n",
            "-----------------------------------\n",
            "Running with input100.txt\n",
            "CPU times: user 9.59 ms, sys: 3.19 ms, total: 12.8 ms\n",
            "Wall time: 410 ms\n"
          ]
        }
      ]
    }
  ],
  "metadata": {
    "colab": {
      "provenance": []
    },
    "kernelspec": {
      "display_name": "Python 3",
      "name": "python3"
    },
    "language_info": {
      "name": "python"
    }
  },
  "nbformat": 4,
  "nbformat_minor": 0
}